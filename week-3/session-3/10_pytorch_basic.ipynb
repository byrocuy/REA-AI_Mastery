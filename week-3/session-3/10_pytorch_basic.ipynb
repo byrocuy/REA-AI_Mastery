{
  "cells": [
    {
      "cell_type": "markdown",
      "metadata": {
        "id": "view-in-github",
        "colab_type": "text"
      },
      "source": [
        "<a href=\"https://colab.research.google.com/github/byrocuy/REA_AI_Bootcamp/blob/main/week-3/session-3/10_pytorch_basic.ipynb\" target=\"_parent\"><img src=\"https://colab.research.google.com/assets/colab-badge.svg\" alt=\"Open In Colab\"/></a>"
      ]
    },
    {
      "cell_type": "markdown",
      "metadata": {
        "id": "y9l9V0nl0EIr"
      },
      "source": [
        "# Pytorch Basic\n",
        "\n",
        "Pytorch is a python library for deep learning. It provides a high level abstraction which make it easy to train deep neural networks.\n",
        "\n",
        "Let's install pytorch first."
      ]
    },
    {
      "cell_type": "code",
      "execution_count": null,
      "metadata": {
        "id": "re_DFfQd0EIy"
      },
      "outputs": [],
      "source": [
        "!pip install torch"
      ]
    },
    {
      "cell_type": "markdown",
      "metadata": {
        "id": "cw2WAY010EI0"
      },
      "source": [
        "For this tutorial, we will use the following version:"
      ]
    },
    {
      "cell_type": "code",
      "execution_count": null,
      "metadata": {
        "id": "02FPJyFg0EI1",
        "outputId": "2f8b1a51-dfe8-4475-f680-0d6ae0efe666"
      },
      "outputs": [
        {
          "name": "stdout",
          "output_type": "stream",
          "text": [
            "2.0.0\n"
          ]
        }
      ],
      "source": [
        "# Check pytorch version\n",
        "import torch\n",
        "print(torch.__version__)"
      ]
    },
    {
      "cell_type": "markdown",
      "metadata": {
        "id": "8zwiLLdD0EI3"
      },
      "source": [
        "## Tensor\n",
        "\n",
        "Tensor is the basic data structure in pytorch. It is similar to numpy array, but it provides automatic differentiation and it can be run on GPU.\n",
        "\n",
        "If we look at the trend, it's current [the most popular deep learning library](https://paperswithcode.com/trends)\n",
        "\n",
        "The capability of running on GPU is very important for deep learning. It can speed up the training process by a lot by parallelizing the computation. Watch this demo: [GPU vs CPU Demonstration](https://www.youtube.com/watch?v=-P28LKWTzrI)"
      ]
    },
    {
      "cell_type": "markdown",
      "metadata": {
        "id": "TtNXUzu90EI4"
      },
      "source": [
        "Tensor is n-dimensional array. When n is 0, it is a scalar. When n is 1, it is a vector. When n is 2, it is a matrix. When n is 3, it is a cube. When n is 4, it is a 4-dimensional array. And so on."
      ]
    },
    {
      "cell_type": "code",
      "execution_count": null,
      "metadata": {
        "id": "cq0lSpPQ0EI5",
        "outputId": "86a04065-2bab-48e7-b48c-e89b55a8ead2"
      },
      "outputs": [
        {
          "name": "stdout",
          "output_type": "stream",
          "text": [
            "tensor(42)\n"
          ]
        }
      ],
      "source": [
        "# 0 dimension tensor\n",
        "import torch\n",
        "\n",
        "x = torch.tensor(42)\n",
        "print(x)"
      ]
    },
    {
      "cell_type": "code",
      "execution_count": null,
      "metadata": {
        "id": "ro7SgPU90EI6",
        "outputId": "95c1d977-b99e-4687-ac75-6a10e08d4a34"
      },
      "outputs": [
        {
          "name": "stdout",
          "output_type": "stream",
          "text": [
            "tensor([42, 43])\n"
          ]
        }
      ],
      "source": [
        "# 1 dimension tensor\n",
        "import torch\n",
        "\n",
        "x = torch.tensor([42, 43])\n",
        "print(x)"
      ]
    },
    {
      "cell_type": "code",
      "execution_count": null,
      "metadata": {
        "id": "JNSvgyvz0EI7",
        "outputId": "69dc66b5-ab50-44de-f63e-1ba25c85eee4"
      },
      "outputs": [
        {
          "name": "stdout",
          "output_type": "stream",
          "text": [
            "tensor([[42, 43],\n",
            "        [44, 45]])\n"
          ]
        }
      ],
      "source": [
        "# 2 dimension tensor\n",
        "import torch\n",
        "\n",
        "x = torch.tensor([[42, 43], [44, 45]])\n",
        "print(x)"
      ]
    },
    {
      "cell_type": "code",
      "execution_count": null,
      "metadata": {
        "id": "vDPyn1tq0EI8",
        "outputId": "2a019d07-5893-4e20-d811-a2b18f754b66"
      },
      "outputs": [
        {
          "name": "stdout",
          "output_type": "stream",
          "text": [
            "tensor([[[42, 43],\n",
            "         [44, 45]],\n",
            "\n",
            "        [[46, 47],\n",
            "         [48, 49]]])\n"
          ]
        }
      ],
      "source": [
        "# 3 dimension tensor\n",
        "import torch\n",
        "\n",
        "x = torch.tensor([[[42, 43], [44, 45]], [[46, 47], [48, 49]]])\n",
        "print(x)"
      ]
    },
    {
      "cell_type": "markdown",
      "metadata": {
        "id": "_5H0bS-n0EI9"
      },
      "source": [
        "To check the dimension of a tensor, we can use the `dim()` method."
      ]
    },
    {
      "cell_type": "code",
      "execution_count": null,
      "metadata": {
        "id": "q5Y7uk4K0EI9",
        "outputId": "a0c5d4b6-fbb1-4006-9e1c-03edc5793317"
      },
      "outputs": [
        {
          "name": "stdout",
          "output_type": "stream",
          "text": [
            "3\n",
            "0\n"
          ]
        }
      ],
      "source": [
        "x = torch.tensor([[[42, 43], [44, 45]], [[46, 47], [48, 49]]])\n",
        "print(x.dim())\n",
        "\n",
        "x = torch.tensor(42)\n",
        "print(x.dim())"
      ]
    },
    {
      "cell_type": "markdown",
      "metadata": {
        "id": "SJMIFkKn0EI-"
      },
      "source": [
        "## Constructing Tensor"
      ]
    },
    {
      "cell_type": "markdown",
      "metadata": {
        "id": "ozRZRx2Y0EI-"
      },
      "source": [
        "### Random Tensor"
      ]
    },
    {
      "cell_type": "code",
      "execution_count": null,
      "metadata": {
        "id": "bpqOVtXP0EI-",
        "outputId": "f15eae4f-2a42-420b-fb40-5a9a73de5b3e"
      },
      "outputs": [
        {
          "data": {
            "text/plain": [
              "tensor([[0.1525, 0.6666, 0.1917],\n",
              "        [0.2481, 0.2753, 0.5342],\n",
              "        [0.0914, 0.3634, 0.1529],\n",
              "        [0.1574, 0.5854, 0.1454],\n",
              "        [0.0309, 0.0197, 0.2013]])"
            ]
          },
          "execution_count": 24,
          "metadata": {},
          "output_type": "execute_result"
        }
      ],
      "source": [
        "import torch\n",
        "torch.rand(5, 3)"
      ]
    },
    {
      "cell_type": "markdown",
      "metadata": {
        "id": "6hLP-rEW0EI_"
      },
      "source": [
        "The parameters of the `rand()` method are the dimension of the tensor. For example, `torch.rand(2, 3)` will create a 2x3 tensor with random values."
      ]
    },
    {
      "cell_type": "code",
      "execution_count": null,
      "metadata": {
        "id": "5vZbZ_1H0EI_",
        "outputId": "54b05ed4-6e61-4682-a25e-948e236680e1"
      },
      "outputs": [
        {
          "data": {
            "text/plain": [
              "tensor([0.3616, 0.8951, 0.4249, 0.0801, 0.5676])"
            ]
          },
          "execution_count": 27,
          "metadata": {},
          "output_type": "execute_result"
        }
      ],
      "source": [
        "import torch\n",
        "# One dimensional tensor containing 5 random numbers\n",
        "torch.rand(5)"
      ]
    },
    {
      "cell_type": "markdown",
      "metadata": {
        "id": "iQjStlvw0EI_"
      },
      "source": [
        "### Ones Tensor\n",
        "\n",
        "Ones tensor is a tensor with all values equal to 1"
      ]
    },
    {
      "cell_type": "code",
      "execution_count": null,
      "metadata": {
        "id": "nRE5h4430EJA",
        "outputId": "c1c3c96f-8fa0-4bfc-c9e6-511f984d9c03"
      },
      "outputs": [
        {
          "data": {
            "text/plain": [
              "tensor([[1., 1., 1.],\n",
              "        [1., 1., 1.]])"
            ]
          },
          "execution_count": 32,
          "metadata": {},
          "output_type": "execute_result"
        }
      ],
      "source": [
        "import torch\n",
        "torch.ones(2, 3)"
      ]
    },
    {
      "cell_type": "markdown",
      "metadata": {
        "id": "kSzoAYWB0EJA"
      },
      "source": [
        "Quiz: what's the output of `torch.ones(1, 2)`?"
      ]
    },
    {
      "cell_type": "code",
      "execution_count": null,
      "metadata": {
        "id": "NWs59trM0EJB"
      },
      "outputs": [],
      "source": [
        "import torch\n",
        "torch.zeros(1, 2)"
      ]
    },
    {
      "cell_type": "markdown",
      "metadata": {
        "id": "0bFH0Ob60EJB"
      },
      "source": [
        "### Zeros Tensor\n",
        "\n",
        "Zeros tensor is a tensor with all values equal to 0"
      ]
    },
    {
      "cell_type": "code",
      "execution_count": null,
      "metadata": {
        "id": "ugKQn_P00EJB",
        "outputId": "82df4bd9-5cb7-4416-96b8-be38c29962e0"
      },
      "outputs": [
        {
          "data": {
            "text/plain": [
              "tensor([[[0., 0., 0.],\n",
              "         [0., 0., 0.]]])"
            ]
          },
          "execution_count": 30,
          "metadata": {},
          "output_type": "execute_result"
        }
      ],
      "source": [
        "import torch\n",
        "torch.zeros(1,2,3)"
      ]
    },
    {
      "cell_type": "markdown",
      "metadata": {
        "id": "Jy-9V0zF0EJC"
      },
      "source": [
        "### Range Tensor\n",
        "\n",
        "If we want to create a tensor with values from 0 to n-1, we can use the `torch.arange(n)` method."
      ]
    },
    {
      "cell_type": "code",
      "execution_count": null,
      "metadata": {
        "id": "OTuOAQjO0EJC",
        "outputId": "bbdc45b9-3810-423e-feb0-d60ae663d5ad"
      },
      "outputs": [
        {
          "data": {
            "text/plain": [
              "tensor([1, 2, 3, 4, 5, 6, 7, 8, 9])"
            ]
          },
          "execution_count": 35,
          "metadata": {},
          "output_type": "execute_result"
        }
      ],
      "source": [
        "import torch\n",
        "torch.arange(1, 10)"
      ]
    },
    {
      "cell_type": "code",
      "execution_count": null,
      "metadata": {
        "id": "44Q5MpQd0EJC",
        "outputId": "c7401f8a-f2dd-425c-e1c5-c414fbd34f7e"
      },
      "outputs": [
        {
          "data": {
            "text/plain": [
              "tensor([-3, -1,  1])"
            ]
          },
          "execution_count": 36,
          "metadata": {},
          "output_type": "execute_result"
        }
      ],
      "source": [
        "torch.arange(-3, 3, 2)"
      ]
    },
    {
      "cell_type": "markdown",
      "metadata": {
        "id": "X105VVkG0EJC"
      },
      "source": [
        "### Full\n",
        "\n",
        "If we want to create a tensor with all values equal to a constant, we can use the `torch.full()` method."
      ]
    },
    {
      "cell_type": "code",
      "execution_count": null,
      "metadata": {
        "id": "7kVmcNYy0EJD",
        "outputId": "db504e4b-2cd9-4a5f-fb3e-dfa41adbf699"
      },
      "outputs": [
        {
          "data": {
            "text/plain": [
              "tensor([42, 42])"
            ]
          },
          "execution_count": 51,
          "metadata": {},
          "output_type": "execute_result"
        }
      ],
      "source": [
        "import torch\n",
        "torch.full((2, ), 42)"
      ]
    },
    {
      "cell_type": "code",
      "execution_count": null,
      "metadata": {
        "id": "Wr0UKQhJ0EJD",
        "outputId": "cc411653-9318-4641-898a-be99282d5c9e"
      },
      "outputs": [
        {
          "data": {
            "text/plain": [
              "tensor([[42, 42, 42],\n",
              "        [42, 42, 42]])"
            ]
          },
          "execution_count": 52,
          "metadata": {},
          "output_type": "execute_result"
        }
      ],
      "source": [
        "import torch\n",
        "torch.full((2, 3), 42)"
      ]
    },
    {
      "cell_type": "markdown",
      "metadata": {
        "id": "J1R9ihgf0EJD"
      },
      "source": [
        "## Tensor Operations"
      ]
    },
    {
      "cell_type": "markdown",
      "metadata": {
        "id": "g7D_9WcE0EJD"
      },
      "source": [
        "We can do normal arithmetic operations on tensor:"
      ]
    },
    {
      "cell_type": "code",
      "execution_count": null,
      "metadata": {
        "id": "Eqlw9-at0EJE",
        "outputId": "86f66e18-bc09-4a1c-c66c-1910aa19df6e"
      },
      "outputs": [
        {
          "name": "stdout",
          "output_type": "stream",
          "text": [
            "tensor(44)\n",
            "tensor(126)\n",
            "tensor(1764)\n",
            "tensor(21.)\n"
          ]
        }
      ],
      "source": [
        "x = torch.tensor(42)\n",
        "print(x + 2)\n",
        "print(x * 3)\n",
        "print(x ** 2)\n",
        "print(x / 2)"
      ]
    },
    {
      "cell_type": "markdown",
      "metadata": {
        "id": "qo8tFE0Z0EJE"
      },
      "source": [
        "We can do similar operations on higher dimensional tensors:"
      ]
    },
    {
      "cell_type": "code",
      "execution_count": null,
      "metadata": {
        "id": "5vNzSP_30EJE",
        "outputId": "9f2015ca-3c6c-4e9a-f898-415986f3e872"
      },
      "outputs": [
        {
          "name": "stdout",
          "output_type": "stream",
          "text": [
            "tensor([2, 3])\n",
            "tensor([[2, 3],\n",
            "        [4, 5]])\n"
          ]
        }
      ],
      "source": [
        "x = torch.tensor([1, 2])\n",
        "print(x + 1)\n",
        "\n",
        "x = torch.tensor([[1, 2], [3, 4]])\n",
        "print(x + 1)"
      ]
    },
    {
      "cell_type": "markdown",
      "metadata": {
        "id": "DIdKKRWD0EJE"
      },
      "source": [
        "Wow from mathematic lesson, didn't we learn that addition operations are only defined for tensors with the same shape? How come we can add a scalar tensor (0 dim) with a 2 dim tensor?\n",
        "\n",
        "This is because of broadcasting. Pytorch will automatically broadcast the scalar tensor to match the shape of the other tensor.\n",
        "\n",
        "So,\n",
        "\n",
        "$$\n",
        "\\begin{bmatrix}\n",
        "1 & 2 & 3 \\\\\n",
        "4 & 5 & 6 \\\\\n",
        "\\end{bmatrix}\n",
        "+ 1\n",
        "$$\n",
        "\n",
        "would become\n",
        "\n",
        "$$\n",
        "\\begin{bmatrix}\n",
        "1 & 2 & 3 \\\\\n",
        "4 & 5 & 6 \\\\\n",
        "\\end{bmatrix}\n",
        "+\n",
        "\\begin{bmatrix}\n",
        "1 & 1 & 1 \\\\\n",
        "1 & 1 & 1 \\\\\n",
        "\\end{bmatrix}\n",
        "$$"
      ]
    },
    {
      "cell_type": "markdown",
      "metadata": {
        "id": "Uu-sDT2T0EJE"
      },
      "source": [
        "## Broadcasting"
      ]
    },
    {
      "cell_type": "markdown",
      "metadata": {
        "id": "bg8-0LBw0EJF"
      },
      "source": [
        "So how does broadcasting work?\n",
        "\n",
        "Taken from [Pytorch Docs](https://pytorch.org/docs/stable/notes/broadcasting.html):\n",
        "\n",
        "Two tensors are “broadcastable” if the following rules hold:\n",
        "\n",
        "- Each tensor has at least one dimension.\n",
        "- When iterating over the dimension sizes, starting at the trailing dimension, the dimension sizes must either be equal, one of them is 1, or one of them does not exist."
      ]
    },
    {
      "cell_type": "markdown",
      "metadata": {
        "id": "b_onSKZ80EJF"
      },
      "source": [
        "Broadcasting rules:\n",
        "\n",
        "- If the number of dimensions of x and y are not equal, prepend 1 to the dimensions of the tensor with fewer dimensions to make them equal length.\n",
        "- Then, for each dimension size, the resulting dimension size is the max of the sizes of x and y along that dimension."
      ]
    },
    {
      "cell_type": "code",
      "execution_count": null,
      "metadata": {
        "id": "qAgABA5f0EJG",
        "outputId": "80db8e30-9509-4006-e93b-42ce2c00566b"
      },
      "outputs": [
        {
          "data": {
            "text/plain": [
              "tensor([6., 6., 6.])"
            ]
          },
          "execution_count": 55,
          "metadata": {},
          "output_type": "execute_result"
        }
      ],
      "source": [
        "import torch\n",
        "torch.full((1,), 5) + torch.ones(3)\n"
      ]
    },
    {
      "cell_type": "markdown",
      "metadata": {
        "id": "2IqKoNwl0EJI"
      },
      "source": [
        "$$\n",
        "\\begin{bmatrix}\n",
        "5\n",
        "\\end{bmatrix}\n",
        "+\n",
        "\\begin{bmatrix}\n",
        "1 \\\\\n",
        "1 \\\\\n",
        "1\n",
        "\\end{bmatrix}\n",
        "=\n",
        "\\begin{bmatrix}\n",
        "5 \\\\\n",
        "5 \\\\\n",
        "5\n",
        "\\end{bmatrix}\n",
        "+\n",
        "\\begin{bmatrix}\n",
        "1 \\\\\n",
        "1 \\\\\n",
        "1\n",
        "\\end{bmatrix}\n",
        "$$"
      ]
    },
    {
      "cell_type": "code",
      "execution_count": null,
      "metadata": {
        "id": "t6azLXR40EJI"
      },
      "outputs": [],
      "source": [
        "import torch\n",
        "# Error\n",
        "torch.ones(3) + torch.ones(5)"
      ]
    },
    {
      "cell_type": "markdown",
      "metadata": {
        "id": "HQHwEP4P0EJJ"
      },
      "source": [
        "$$\n",
        "\\begin{bmatrix}\n",
        "1 \\\\\n",
        "1 \\\\\n",
        "1\n",
        "\\end{bmatrix}\n",
        "+\n",
        "\\begin{bmatrix}\n",
        "1 \\\\\n",
        "1 \\\\\n",
        "1 \\\\\n",
        "1 \\\\\n",
        "1\n",
        "\\end{bmatrix}\n",
        "=\n",
        "error\n",
        "$$"
      ]
    },
    {
      "cell_type": "markdown",
      "metadata": {
        "id": "XvWxJehF0EJJ"
      },
      "source": [
        "Why is it an error?\n",
        "\n",
        "Remember this rule:\n",
        "\n",
        "> When iterating over the dimension sizes, starting at the trailing dimension, the dimension sizes must either be equal, one of them is 1, or one of them does not exist.\n",
        "\n",
        "The trailing dimension of the first tensor is 3, while the trailing dimension of the second tensor is 5. They are not equal, one of them is not 1, and one of them does not exist. So it's an error."
      ]
    },
    {
      "cell_type": "markdown",
      "metadata": {
        "id": "K7WboUHQ0EJK"
      },
      "source": [
        "Let's try again"
      ]
    },
    {
      "cell_type": "code",
      "execution_count": null,
      "metadata": {
        "id": "EwVs_9E_0EJK",
        "outputId": "0c0c6e82-d92f-4dd1-e0a2-d7d40b30ada4"
      },
      "outputs": [
        {
          "data": {
            "text/plain": [
              "tensor([[8, 8],\n",
              "        [8, 8]])"
            ]
          },
          "execution_count": 58,
          "metadata": {},
          "output_type": "execute_result"
        }
      ],
      "source": [
        "import torch\n",
        "\n",
        "torch.full((2, 2), 5) + torch.full((1, 2), 3)"
      ]
    },
    {
      "cell_type": "markdown",
      "metadata": {
        "id": "kW5SwWHN0EJL"
      },
      "source": [
        "$$\n",
        "\\begin{bmatrix}\n",
        "5 && 5 \\\\\n",
        "5 && 5 \\\\\n",
        "\\end{bmatrix}\n",
        "+\n",
        "\\begin{bmatrix}\n",
        "3 && 3\n",
        "\\end{bmatrix}\n",
        "=\n",
        "\\begin{bmatrix}\n",
        "5 && 5 \\\\\n",
        "5 && 5 \\\\\n",
        "\\end{bmatrix}\n",
        "+\n",
        "\\begin{bmatrix}\n",
        "3 && 3 \\\\\n",
        "3 && 3 \\\\\n",
        "\\end{bmatrix}\n",
        "$$"
      ]
    },
    {
      "cell_type": "code",
      "execution_count": null,
      "metadata": {
        "id": "fPM9muTN0EJL",
        "outputId": "84828de5-1e78-4108-c789-a8109a17c2d2"
      },
      "outputs": [
        {
          "name": "stdout",
          "output_type": "stream",
          "text": [
            "x = tensor([[[5, 5],\n",
            "         [5, 5],\n",
            "         [5, 5],\n",
            "         [5, 5]],\n",
            "\n",
            "        [[5, 5],\n",
            "         [5, 5],\n",
            "         [5, 5],\n",
            "         [5, 5]],\n",
            "\n",
            "        [[5, 5],\n",
            "         [5, 5],\n",
            "         [5, 5],\n",
            "         [5, 5]]])\n",
            "y = tensor([3, 3])\n",
            "z =  tensor([[[8, 8],\n",
            "         [8, 8],\n",
            "         [8, 8],\n",
            "         [8, 8]],\n",
            "\n",
            "        [[8, 8],\n",
            "         [8, 8],\n",
            "         [8, 8],\n",
            "         [8, 8]],\n",
            "\n",
            "        [[8, 8],\n",
            "         [8, 8],\n",
            "         [8, 8],\n",
            "         [8, 8]]])\n"
          ]
        }
      ],
      "source": [
        "import torch\n",
        "\n",
        "x = torch.full((3, 4, 2), 5)\n",
        "y = torch.full((2,), 3)\n",
        "z = x + y\n",
        "print('x =', x)\n",
        "print('y =', y)\n",
        "print('z = ',z)"
      ]
    },
    {
      "cell_type": "markdown",
      "metadata": {
        "id": "PtBx01HU0EJM"
      },
      "source": [
        "## Matrix Operation\n",
        "\n",
        "Tensor can be multiplied with another tensor using the `matmul()` method or the `@` operator."
      ]
    },
    {
      "cell_type": "code",
      "execution_count": null,
      "metadata": {
        "id": "lOauyLLx0EJM",
        "outputId": "7bbff45b-0ca1-45aa-888f-d377419f1421"
      },
      "outputs": [
        {
          "name": "stdout",
          "output_type": "stream",
          "text": [
            "torch.Size([1, 2])\n",
            "torch.Size([2, 3])\n"
          ]
        },
        {
          "data": {
            "text/plain": [
              "tensor([[19, 26, 33]])"
            ]
          },
          "execution_count": 78,
          "metadata": {},
          "output_type": "execute_result"
        }
      ],
      "source": [
        "import torch\n",
        "\n",
        "x = torch.tensor([[3, 4]])\n",
        "print(x.shape)\n",
        "y = torch.tensor([[1, 2, 3], [4, 5, 6]])\n",
        "print(y.shape)\n",
        "x @ y\n"
      ]
    },
    {
      "cell_type": "markdown",
      "metadata": {
        "id": "fPTNqzjQ0EJN"
      },
      "source": [
        "$$\n",
        "\\begin{bmatrix}\n",
        "3 && 4\n",
        "\\end{bmatrix}\n",
        "\\times\n",
        "\\begin{bmatrix}\n",
        "1 && 2 && 3 \\\\\n",
        "4 && 5 && 6\n",
        "\\end{bmatrix}\n",
        "$$"
      ]
    },
    {
      "cell_type": "markdown",
      "metadata": {
        "id": "DrBgCim50EJN"
      },
      "source": [
        "Be careful not to be confused with the `*` operator. The `*` operator is element-wise multiplication."
      ]
    },
    {
      "cell_type": "code",
      "execution_count": null,
      "metadata": {
        "id": "oCs5_jsk0EJN",
        "outputId": "ebe08156-29f1-4b38-f894-ec0b34dfb448"
      },
      "outputs": [
        {
          "data": {
            "text/plain": [
              "tensor([[ 9, 16]])"
            ]
          },
          "execution_count": 80,
          "metadata": {},
          "output_type": "execute_result"
        }
      ],
      "source": [
        "import torch\n",
        "\n",
        "x = torch.tensor([[3, 4]])\n",
        "x * x\n"
      ]
    },
    {
      "cell_type": "markdown",
      "metadata": {
        "id": "-tHkwTq_0EJN"
      },
      "source": [
        "## Transpose\n",
        "\n",
        "We can transpose a tensor using the `t` method."
      ]
    },
    {
      "cell_type": "code",
      "execution_count": null,
      "metadata": {
        "id": "56kBufvs0EJO",
        "outputId": "35121c67-64e5-4611-99b3-cc2c2b704a1c"
      },
      "outputs": [
        {
          "name": "stdout",
          "output_type": "stream",
          "text": [
            "tensor([[3, 4]])\n",
            "torch.Size([1, 2])\n",
            "tensor([[3],\n",
            "        [4]])\n",
            "torch.Size([2, 1])\n"
          ]
        }
      ],
      "source": [
        "import torch\n",
        "\n",
        "x = torch.tensor([[3, 4]])\n",
        "print(x)\n",
        "print(x.shape)\n",
        "print(x.T)\n",
        "print(x.T.shape)\n"
      ]
    },
    {
      "cell_type": "markdown",
      "metadata": {
        "id": "bbmIIpIQ0EJO"
      },
      "source": [
        "## Neural Network with Pytorch\n",
        "\n",
        "Now we have learned the required knowledge to build a neural network with pytorch.\n"
      ]
    },
    {
      "cell_type": "code",
      "execution_count": null,
      "metadata": {
        "id": "O1LsiGjm0EJP",
        "outputId": "8ea8c12f-8479-44b7-e299-51c667364bbf"
      },
      "outputs": [
        {
          "data": {
            "image/svg+xml": [
              "<?xml version=\"1.0\" encoding=\"UTF-8\" standalone=\"no\"?>\n",
              "<!DOCTYPE svg PUBLIC \"-//W3C//DTD SVG 1.1//EN\"\n",
              " \"http://www.w3.org/Graphics/SVG/1.1/DTD/svg11.dtd\">\n",
              "<!-- Generated by graphviz version 8.1.0 (20230707.0739)\n",
              " -->\n",
              "<!-- Title: G Pages: 1 -->\n",
              "<svg width=\"470pt\" height=\"219pt\"\n",
              " viewBox=\"0.00 0.00 470.16 218.69\" xmlns=\"http://www.w3.org/2000/svg\" xmlns:xlink=\"http://www.w3.org/1999/xlink\">\n",
              "<g id=\"graph0\" class=\"graph\" transform=\"scale(1 1) rotate(0) translate(4 214.69)\">\n",
              "<title>G</title>\n",
              "<polygon fill=\"white\" stroke=\"none\" points=\"-4,4 -4,-214.69 466.16,-214.69 466.16,4 -4,4\"/>\n",
              "<!-- z -->\n",
              "<g id=\"node1\" class=\"node\">\n",
              "<title>z</title>\n",
              "<polygon fill=\"none\" stroke=\"black\" points=\"200.99,-122.2 132.99,-122.2 128.99,-118.2 128.99,-71.8 196.99,-71.8 200.99,-75.8 200.99,-122.2\"/>\n",
              "<polyline fill=\"none\" stroke=\"black\" points=\"196.99,-118.2 128.99,-118.2\"/>\n",
              "<polyline fill=\"none\" stroke=\"black\" points=\"196.99,-118.2 196.99,-71.8\"/>\n",
              "<polyline fill=\"none\" stroke=\"black\" points=\"196.99,-118.2 200.99,-122.2\"/>\n",
              "<text text-anchor=\"middle\" x=\"164.99\" y=\"-91.95\" font-family=\"Times,serif\" font-size=\"14.00\">z</text>\n",
              "</g>\n",
              "<!-- alignmentNode -->\n",
              "<!-- z&#45;&gt;alignmentNode -->\n",
              "<!-- a -->\n",
              "<g id=\"node6\" class=\"node\">\n",
              "<title>a</title>\n",
              "<ellipse fill=\"none\" stroke=\"black\" cx=\"297.23\" cy=\"-97\" rx=\"27\" ry=\"18\"/>\n",
              "<text text-anchor=\"middle\" x=\"297.23\" y=\"-91.95\" font-family=\"Times,serif\" font-size=\"14.00\">a</text>\n",
              "</g>\n",
              "<!-- z&#45;&gt;a -->\n",
              "<g id=\"edge6\" class=\"edge\">\n",
              "<title>z&#45;&gt;a</title>\n",
              "<path fill=\"none\" stroke=\"black\" d=\"M201.24,-97C219.2,-97 241.04,-97 259.25,-97\"/>\n",
              "<polygon fill=\"black\" stroke=\"black\" points=\"259.05,-100.5 269.05,-97 259.05,-93.5 259.05,-100.5\"/>\n",
              "</g>\n",
              "<!-- bias -->\n",
              "<g id=\"node2\" class=\"node\">\n",
              "<title>bias</title>\n",
              "<ellipse fill=\"none\" stroke=\"black\" cx=\"164.99\" cy=\"-184\" rx=\"26.69\" ry=\"26.69\"/>\n",
              "<text text-anchor=\"middle\" x=\"164.99\" y=\"-178.95\" font-family=\"Times,serif\" font-size=\"14.00\">bias</text>\n",
              "</g>\n",
              "<!-- bias&#45;&gt;z -->\n",
              "<g id=\"edge5\" class=\"edge\">\n",
              "<title>bias&#45;&gt;z</title>\n",
              "<path fill=\"none\" stroke=\"black\" d=\"M164.99,-157.04C164.99,-149.59 164.99,-141.37 164.99,-133.47\"/>\n",
              "<polygon fill=\"black\" stroke=\"black\" points=\"168.49,-133.63 164.99,-123.63 161.49,-133.63 168.49,-133.63\"/>\n",
              "<text text-anchor=\"middle\" x=\"153.74\" y=\"-134.7\" font-family=\"Times,serif\" font-size=\"14.00\">5</text>\n",
              "</g>\n",
              "<!-- bias&#45;&gt;alignmentNode -->\n",
              "<!-- x_0 -->\n",
              "<g id=\"node3\" class=\"node\">\n",
              "<title>x_0</title>\n",
              "<ellipse fill=\"none\" stroke=\"black\" cx=\"27\" cy=\"-124\" rx=\"27\" ry=\"18\"/>\n",
              "<text text-anchor=\"middle\" x=\"27\" y=\"-118.95\" font-family=\"Times,serif\" font-size=\"14.00\">1</text>\n",
              "</g>\n",
              "<!-- x_0&#45;&gt;z -->\n",
              "<g id=\"edge3\" class=\"edge\">\n",
              "<title>x_0&#45;&gt;z</title>\n",
              "<path fill=\"none\" stroke=\"black\" d=\"M53.26,-118.98C71.4,-115.38 96.35,-110.43 117.98,-106.13\"/>\n",
              "<polygon fill=\"black\" stroke=\"black\" points=\"118.49,-109.4 127.61,-104.02 117.12,-102.54 118.49,-109.4\"/>\n",
              "<text text-anchor=\"middle\" x=\"75.38\" y=\"-117.2\" font-family=\"Times,serif\" font-size=\"14.00\">3</text>\n",
              "</g>\n",
              "<!-- x_1 -->\n",
              "<g id=\"node4\" class=\"node\">\n",
              "<title>x_1</title>\n",
              "<ellipse fill=\"none\" stroke=\"black\" cx=\"27\" cy=\"-70\" rx=\"27\" ry=\"18\"/>\n",
              "<text text-anchor=\"middle\" x=\"27\" y=\"-64.95\" font-family=\"Times,serif\" font-size=\"14.00\">2</text>\n",
              "</g>\n",
              "<!-- x_1&#45;&gt;z -->\n",
              "<g id=\"edge4\" class=\"edge\">\n",
              "<title>x_1&#45;&gt;z</title>\n",
              "<path fill=\"none\" stroke=\"black\" d=\"M53.26,-75.02C71.4,-78.62 96.35,-83.57 117.98,-87.87\"/>\n",
              "<polygon fill=\"black\" stroke=\"black\" points=\"117.12,-91.46 127.61,-89.98 118.49,-84.6 117.12,-91.46\"/>\n",
              "<text text-anchor=\"middle\" x=\"75.38\" y=\"-83.2\" font-family=\"Times,serif\" font-size=\"14.00\">4</text>\n",
              "</g>\n",
              "<!-- output -->\n",
              "<g id=\"node7\" class=\"node\">\n",
              "<title>output</title>\n",
              "<ellipse fill=\"none\" stroke=\"black\" cx=\"427.69\" cy=\"-97\" rx=\"34.46\" ry=\"18\"/>\n",
              "<text text-anchor=\"middle\" x=\"427.69\" y=\"-91.95\" font-family=\"Times,serif\" font-size=\"14.00\">output</text>\n",
              "</g>\n",
              "<!-- a&#45;&gt;output -->\n",
              "<g id=\"edge7\" class=\"edge\">\n",
              "<title>a&#45;&gt;output</title>\n",
              "<path fill=\"none\" stroke=\"black\" d=\"M324.54,-97C341.11,-97 362.92,-97 382.13,-97\"/>\n",
              "<polygon fill=\"black\" stroke=\"black\" points=\"382.09,-100.5 392.08,-97 382.08,-93.5 382.09,-100.5\"/>\n",
              "<text text-anchor=\"middle\" x=\"358.73\" y=\"-100.2\" font-family=\"Times,serif\" font-size=\"14.00\">ReLU</text>\n",
              "</g>\n",
              "</g>\n",
              "</svg>\n"
            ],
            "text/plain": [
              "<graphviz.sources.Source at 0x17ecaf090>"
            ]
          },
          "execution_count": 97,
          "metadata": {},
          "output_type": "execute_result"
        }
      ],
      "source": [
        "from fastbook import *\n",
        "\n",
        "\n",
        "# Draw neurons with multiple inputs and weights\n",
        "gv('''\n",
        "z[shape=box3d width=1 height=0.7]\n",
        "bias[shape=circle width=0.3]\n",
        "x_0[label=1]\n",
        "x_1[label=2]\n",
        "// Subgraph to force alignment on x-axis\n",
        "subgraph {\n",
        "    rank=same;\n",
        "    z;\n",
        "    bias;\n",
        "    alignmentNode [style=invis, width=0]; // invisible node for alignment\n",
        "    bias -> alignmentNode [style=invis]; // invisible edge\n",
        "    z -> alignmentNode [style=invis]; // invisible edge\n",
        "}\n",
        "x_0->z [label=\"3\"]\n",
        "x_1->z [label=\"4\"]\n",
        "bias->z [label=\"5\" pos=\"0,1.2!\"]\n",
        "z->a\n",
        "a->output [label=\"ReLU\"]\n",
        "''')\n"
      ]
    },
    {
      "cell_type": "markdown",
      "metadata": {
        "id": "Sgv5mYyi0EJP"
      },
      "source": [
        "\n",
        "Remember the equation\n",
        "\n",
        "$$\n",
        "z = wx + b\\\\\n",
        "a = ReLU(z)\n",
        "$$\n",
        "\n",
        "Let's represent it in pytorch"
      ]
    },
    {
      "cell_type": "code",
      "execution_count": null,
      "metadata": {
        "id": "e827xLwX0EJQ",
        "outputId": "2ae19cf3-baf9-4432-a8ac-43fdfa7a6697"
      },
      "outputs": [
        {
          "data": {
            "text/plain": [
              "tensor([16])"
            ]
          },
          "execution_count": 95,
          "metadata": {},
          "output_type": "execute_result"
        }
      ],
      "source": [
        "x = torch.tensor([[1],[2]])\n",
        "\n",
        "w = torch.tensor([3, 4])\n",
        "b = torch.tensor(5)\n",
        "z = w @ x + b\n",
        "a = z.relu()\n",
        "a"
      ]
    },
    {
      "cell_type": "markdown",
      "metadata": {
        "id": "s0UVpMNB0EJQ"
      },
      "source": [
        "How about multiple layers? Easy!"
      ]
    },
    {
      "cell_type": "code",
      "execution_count": null,
      "metadata": {
        "id": "CCbMABZf0EJQ",
        "outputId": "e99d62c5-b9da-4397-e3d0-bed77553b602"
      },
      "outputs": [
        {
          "data": {
            "image/svg+xml": [
              "<?xml version=\"1.0\" encoding=\"UTF-8\" standalone=\"no\"?>\n",
              "<!DOCTYPE svg PUBLIC \"-//W3C//DTD SVG 1.1//EN\"\n",
              " \"http://www.w3.org/Graphics/SVG/1.1/DTD/svg11.dtd\">\n",
              "<!-- Generated by graphviz version 8.1.0 (20230707.0739)\n",
              " -->\n",
              "<!-- Title: G Pages: 1 -->\n",
              "<svg width=\"366pt\" height=\"122pt\"\n",
              " viewBox=\"0.00 0.00 365.92 122.46\" xmlns=\"http://www.w3.org/2000/svg\" xmlns:xlink=\"http://www.w3.org/1999/xlink\">\n",
              "<g id=\"graph0\" class=\"graph\" transform=\"scale(1 1) rotate(0) translate(4 118.46)\">\n",
              "<title>G</title>\n",
              "<polygon fill=\"white\" stroke=\"none\" points=\"-4,4 -4,-118.46 361.92,-118.46 361.92,4 -4,4\"/>\n",
              "<!-- x_0 -->\n",
              "<g id=\"node1\" class=\"node\">\n",
              "<title>x_0</title>\n",
              "<ellipse fill=\"none\" stroke=\"black\" cx=\"27\" cy=\"-92.96\" rx=\"27\" ry=\"18\"/>\n",
              "<text text-anchor=\"middle\" x=\"27\" y=\"-87.91\" font-family=\"Times,serif\" font-size=\"14.00\">1</text>\n",
              "</g>\n",
              "<!-- a_0_0 -->\n",
              "<g id=\"node3\" class=\"node\">\n",
              "<title>a_0_0</title>\n",
              "<ellipse fill=\"none\" stroke=\"black\" cx=\"128.25\" cy=\"-86.96\" rx=\"27\" ry=\"18\"/>\n",
              "<text text-anchor=\"middle\" x=\"128.25\" y=\"-81.91\" font-family=\"Times,serif\" font-size=\"14.00\">b=3</text>\n",
              "</g>\n",
              "<!-- x_0&#45;&gt;a_0_0 -->\n",
              "<g id=\"edge1\" class=\"edge\">\n",
              "<title>x_0&#45;&gt;a_0_0</title>\n",
              "<path fill=\"none\" stroke=\"black\" d=\"M53.62,-97.55C62.96,-98.62 73.6,-99.15 83.25,-97.96 86.33,-97.58 89.5,-97.06 92.66,-96.44\"/>\n",
              "<polygon fill=\"black\" stroke=\"black\" points=\"93.24,-99.68 102.24,-94.09 91.72,-92.85 93.24,-99.68\"/>\n",
              "<text text-anchor=\"middle\" x=\"77.62\" y=\"-101.16\" font-family=\"Times,serif\" font-size=\"14.00\">&#45;3</text>\n",
              "</g>\n",
              "<!-- a_0_1 -->\n",
              "<g id=\"node4\" class=\"node\">\n",
              "<title>a_0_1</title>\n",
              "<ellipse fill=\"none\" stroke=\"black\" cx=\"128.25\" cy=\"-32.96\" rx=\"27\" ry=\"18\"/>\n",
              "<text text-anchor=\"middle\" x=\"128.25\" y=\"-27.91\" font-family=\"Times,serif\" font-size=\"14.00\">b=2</text>\n",
              "</g>\n",
              "<!-- x_0&#45;&gt;a_0_1 -->\n",
              "<g id=\"edge2\" class=\"edge\">\n",
              "<title>x_0&#45;&gt;a_0_1</title>\n",
              "<path fill=\"none\" stroke=\"black\" d=\"M47.61,-81.11C62.15,-72.31 82.21,-60.19 98.56,-50.31\"/>\n",
              "<polygon fill=\"black\" stroke=\"black\" points=\"99.94,-52.96 106.68,-44.79 96.31,-46.97 99.94,-52.96\"/>\n",
              "<text text-anchor=\"middle\" x=\"77.62\" y=\"-67.16\" font-family=\"Times,serif\" font-size=\"14.00\">4</text>\n",
              "</g>\n",
              "<!-- x_1 -->\n",
              "<g id=\"node2\" class=\"node\">\n",
              "<title>x_1</title>\n",
              "<ellipse fill=\"none\" stroke=\"black\" cx=\"27\" cy=\"-25.96\" rx=\"27\" ry=\"18\"/>\n",
              "<text text-anchor=\"middle\" x=\"27\" y=\"-20.91\" font-family=\"Times,serif\" font-size=\"14.00\">2</text>\n",
              "</g>\n",
              "<!-- x_1&#45;&gt;a_0_0 -->\n",
              "<g id=\"edge3\" class=\"edge\">\n",
              "<title>x_1&#45;&gt;a_0_0</title>\n",
              "<path fill=\"none\" stroke=\"black\" d=\"M53.95,-29.61C63.63,-31.76 74.41,-35.15 83.25,-40.46 93.36,-46.53 93.16,-51.38 101.25,-59.96 102.51,-61.29 103.8,-62.66 105.12,-64.04\"/>\n",
              "<polygon fill=\"black\" stroke=\"black\" points=\"102.17,-66.07 111.62,-70.88 107.23,-61.23 102.17,-66.07\"/>\n",
              "<text text-anchor=\"middle\" x=\"77.62\" y=\"-43.16\" font-family=\"Times,serif\" font-size=\"14.00\">5</text>\n",
              "</g>\n",
              "<!-- x_1&#45;&gt;a_0_1 -->\n",
              "<g id=\"edge4\" class=\"edge\">\n",
              "<title>x_1&#45;&gt;a_0_1</title>\n",
              "<path fill=\"none\" stroke=\"black\" d=\"M44.08,-11.98C54.92,-4.28 69.66,2.9 83.25,-1.46 90.34,-3.74 97.26,-7.62 103.43,-11.91\"/>\n",
              "<polygon fill=\"black\" stroke=\"black\" points=\"100.8,-15.06 110.88,-18.32 105.03,-9.49 100.8,-15.06\"/>\n",
              "<text text-anchor=\"middle\" x=\"77.62\" y=\"-4.16\" font-family=\"Times,serif\" font-size=\"14.00\">&#45;6</text>\n",
              "</g>\n",
              "<!-- a_1_0 -->\n",
              "<g id=\"node5\" class=\"node\">\n",
              "<title>a_1_0</title>\n",
              "<ellipse fill=\"none\" stroke=\"black\" cx=\"225\" cy=\"-59.96\" rx=\"27\" ry=\"18\"/>\n",
              "<text text-anchor=\"middle\" x=\"225\" y=\"-54.91\" font-family=\"Times,serif\" font-size=\"14.00\">b=1</text>\n",
              "</g>\n",
              "<!-- a_0_0&#45;&gt;a_1_0 -->\n",
              "<g id=\"edge5\" class=\"edge\">\n",
              "<title>a_0_0&#45;&gt;a_1_0</title>\n",
              "<path fill=\"none\" stroke=\"black\" d=\"M153.65,-80.01C164.48,-76.92 177.43,-73.23 189.24,-69.86\"/>\n",
              "<polygon fill=\"black\" stroke=\"black\" points=\"190.02,-73 198.68,-66.89 188.11,-66.26 190.02,-73\"/>\n",
              "<text text-anchor=\"middle\" x=\"176.62\" y=\"-77.16\" font-family=\"Times,serif\" font-size=\"14.00\">7</text>\n",
              "</g>\n",
              "<!-- a_0_1&#45;&gt;a_1_0 -->\n",
              "<g id=\"edge6\" class=\"edge\">\n",
              "<title>a_0_1&#45;&gt;a_1_0</title>\n",
              "<path fill=\"none\" stroke=\"black\" d=\"M153.65,-39.91C164.48,-43 177.43,-46.69 189.24,-50.05\"/>\n",
              "<polygon fill=\"black\" stroke=\"black\" points=\"188.11,-53.66 198.68,-53.03 190.02,-46.92 188.11,-53.66\"/>\n",
              "<text text-anchor=\"middle\" x=\"176.62\" y=\"-50.16\" font-family=\"Times,serif\" font-size=\"14.00\">8</text>\n",
              "</g>\n",
              "<!-- output -->\n",
              "<g id=\"node6\" class=\"node\">\n",
              "<title>output</title>\n",
              "<ellipse fill=\"none\" stroke=\"black\" cx=\"323.46\" cy=\"-59.96\" rx=\"34.46\" ry=\"18\"/>\n",
              "<text text-anchor=\"middle\" x=\"323.46\" y=\"-54.91\" font-family=\"Times,serif\" font-size=\"14.00\">output</text>\n",
              "</g>\n",
              "<!-- a_1_0&#45;&gt;output -->\n",
              "<g id=\"edge7\" class=\"edge\">\n",
              "<title>a_1_0&#45;&gt;output</title>\n",
              "<path fill=\"none\" stroke=\"black\" d=\"M252.36,-59.96C260.2,-59.96 269.03,-59.96 277.7,-59.96\"/>\n",
              "<polygon fill=\"black\" stroke=\"black\" points=\"277.52,-63.46 287.52,-59.96 277.52,-56.46 277.52,-63.46\"/>\n",
              "</g>\n",
              "</g>\n",
              "</svg>\n"
            ],
            "text/plain": [
              "<graphviz.sources.Source at 0x17fa89290>"
            ]
          },
          "execution_count": 131,
          "metadata": {},
          "output_type": "execute_result"
        }
      ],
      "source": [
        "from fastbook import *\n",
        "\n",
        "gv('''\n",
        "   x_0[label=1]\n",
        "   x_1[label=2]\n",
        "   a_0_0[label=\"b=3\"]\n",
        "   a_0_1[label=\"b=2\"]\n",
        "   a_1_0[label=\"b=1\"]\n",
        "   x_0 -> a_0_0 [label=-3]\n",
        "   x_0 -> a_0_1 [label=4]\n",
        "   x_1 -> a_0_0 [label=5]\n",
        "   x_1 -> a_0_1 [label=-6]\n",
        "   a_0_0 -> a_1_0 [label=7]\n",
        "   a_0_1 -> a_1_0 [label=8]\n",
        "   a_1_0 -> output\n",
        "   ''')"
      ]
    },
    {
      "cell_type": "code",
      "execution_count": null,
      "metadata": {
        "id": "6lOMnH410EJR",
        "outputId": "d30357e6-31cf-4709-cf9c-81a9a5481b37"
      },
      "outputs": [
        {
          "data": {
            "text/plain": [
              "tensor([[71]])"
            ]
          },
          "execution_count": 133,
          "metadata": {},
          "output_type": "execute_result"
        }
      ],
      "source": [
        "x = torch.tensor([[1],[2]])\n",
        "\n",
        "w_0 = torch.tensor([[-3, 5], [4, -6]])\n",
        "b_0 = torch.tensor([[3], [2]])\n",
        "a_0 = torch.relu(w_0 @ x + b_0)\n",
        "\n",
        "w_1 = torch.tensor([[7, 8]])\n",
        "b_1 = torch.tensor([[1]])\n",
        "a_1 = torch.relu(w_1 @ a_0 + b_1)\n",
        "a_1"
      ]
    },
    {
      "cell_type": "markdown",
      "metadata": {
        "id": "HIVYWq4A0EJR"
      },
      "source": [
        "## Exercise"
      ]
    },
    {
      "cell_type": "code",
      "execution_count": null,
      "metadata": {
        "id": "8tz0qVdh0EJS"
      },
      "outputs": [],
      "source": [
        "!pip install rggrader"
      ]
    },
    {
      "cell_type": "code",
      "execution_count": null,
      "metadata": {
        "id": "_HU6zG5T0EJS"
      },
      "outputs": [],
      "source": [
        "# @title #### Student Identity\n",
        "student_id = \"your student id\" # @param {type:\"string\"}\n",
        "name = \"your name\" # @param {type:\"string\"}"
      ]
    },
    {
      "cell_type": "markdown",
      "metadata": {
        "id": "dURS7CfH0EJS"
      },
      "source": [
        "Implement the following neural network"
      ]
    },
    {
      "cell_type": "code",
      "execution_count": null,
      "metadata": {
        "id": "Nxxe0Lii0EJT",
        "outputId": "b5db00ad-f9a2-4ae3-f857-5311f18a8a5e"
      },
      "outputs": [
        {
          "data": {
            "image/svg+xml": [
              "<?xml version=\"1.0\" encoding=\"UTF-8\" standalone=\"no\"?>\n",
              "<!DOCTYPE svg PUBLIC \"-//W3C//DTD SVG 1.1//EN\"\n",
              " \"http://www.w3.org/Graphics/SVG/1.1/DTD/svg11.dtd\">\n",
              "<!-- Generated by graphviz version 8.1.0 (20230707.0739)\n",
              " -->\n",
              "<!-- Title: G Pages: 1 -->\n",
              "<svg width=\"478pt\" height=\"98pt\"\n",
              " viewBox=\"0.00 0.00 477.66 98.00\" xmlns=\"http://www.w3.org/2000/svg\" xmlns:xlink=\"http://www.w3.org/1999/xlink\">\n",
              "<g id=\"graph0\" class=\"graph\" transform=\"scale(1 1) rotate(0) translate(4 94)\">\n",
              "<title>G</title>\n",
              "<polygon fill=\"white\" stroke=\"none\" points=\"-4,4 -4,-94 473.66,-94 473.66,4 -4,4\"/>\n",
              "<!-- x_0 -->\n",
              "<g id=\"node1\" class=\"node\">\n",
              "<title>x_0</title>\n",
              "<ellipse fill=\"none\" stroke=\"black\" cx=\"27\" cy=\"-45\" rx=\"27\" ry=\"18\"/>\n",
              "<text text-anchor=\"middle\" x=\"27\" y=\"-39.95\" font-family=\"Times,serif\" font-size=\"14.00\">3</text>\n",
              "</g>\n",
              "<!-- a_0_0 -->\n",
              "<g id=\"node2\" class=\"node\">\n",
              "<title>a_0_0</title>\n",
              "<ellipse fill=\"none\" stroke=\"black\" cx=\"157.72\" cy=\"-72\" rx=\"56.47\" ry=\"18\"/>\n",
              "<text text-anchor=\"middle\" x=\"157.72\" y=\"-66.95\" font-family=\"Times,serif\" font-size=\"14.00\">b=&#45;2, ReLU</text>\n",
              "</g>\n",
              "<!-- x_0&#45;&gt;a_0_0 -->\n",
              "<g id=\"edge1\" class=\"edge\">\n",
              "<title>x_0&#45;&gt;a_0_0</title>\n",
              "<path fill=\"none\" stroke=\"black\" d=\"M53.12,-50.27C66.33,-53.04 83.09,-56.56 99.27,-59.95\"/>\n",
              "<polygon fill=\"black\" stroke=\"black\" points=\"98.27,-63.53 108.77,-62.15 99.71,-56.67 98.27,-63.53\"/>\n",
              "<text text-anchor=\"middle\" x=\"77.62\" y=\"-60.2\" font-family=\"Times,serif\" font-size=\"14.00\">&#45;2</text>\n",
              "</g>\n",
              "<!-- a_0_1 -->\n",
              "<g id=\"node3\" class=\"node\">\n",
              "<title>a_0_1</title>\n",
              "<ellipse fill=\"none\" stroke=\"black\" cx=\"157.72\" cy=\"-18\" rx=\"53.4\" ry=\"18\"/>\n",
              "<text text-anchor=\"middle\" x=\"157.72\" y=\"-12.95\" font-family=\"Times,serif\" font-size=\"14.00\">b=5, ReLU</text>\n",
              "</g>\n",
              "<!-- x_0&#45;&gt;a_0_1 -->\n",
              "<g id=\"edge2\" class=\"edge\">\n",
              "<title>x_0&#45;&gt;a_0_1</title>\n",
              "<path fill=\"none\" stroke=\"black\" d=\"M52.63,-38.93C58.93,-37.43 65.71,-35.86 72,-34.5 80.95,-32.56 90.45,-30.61 99.73,-28.76\"/>\n",
              "<polygon fill=\"black\" stroke=\"black\" points=\"100.35,-32.01 109.48,-26.64 98.99,-25.14 100.35,-32.01\"/>\n",
              "<text text-anchor=\"middle\" x=\"77.62\" y=\"-38.2\" font-family=\"Times,serif\" font-size=\"14.00\">5</text>\n",
              "</g>\n",
              "<!-- a_1_0 -->\n",
              "<g id=\"node4\" class=\"node\">\n",
              "<title>a_1_0</title>\n",
              "<ellipse fill=\"none\" stroke=\"black\" cx=\"310.34\" cy=\"-45\" rx=\"53.4\" ry=\"18\"/>\n",
              "<text text-anchor=\"middle\" x=\"310.34\" y=\"-39.95\" font-family=\"Times,serif\" font-size=\"14.00\">b=0, ReLU</text>\n",
              "</g>\n",
              "<!-- a_0_0&#45;&gt;a_1_0 -->\n",
              "<g id=\"edge3\" class=\"edge\">\n",
              "<title>a_0_0&#45;&gt;a_1_0</title>\n",
              "<path fill=\"none\" stroke=\"black\" d=\"M207.62,-63.23C221.79,-60.69 237.39,-57.9 252.02,-55.27\"/>\n",
              "<polygon fill=\"black\" stroke=\"black\" points=\"252.25,-58.61 261.48,-53.4 251.01,-51.72 252.25,-58.61\"/>\n",
              "<text text-anchor=\"middle\" x=\"235.56\" y=\"-61.2\" font-family=\"Times,serif\" font-size=\"14.00\">3</text>\n",
              "</g>\n",
              "<!-- a_0_1&#45;&gt;a_1_0 -->\n",
              "<g id=\"edge4\" class=\"edge\">\n",
              "<title>a_0_1&#45;&gt;a_1_0</title>\n",
              "<path fill=\"none\" stroke=\"black\" d=\"M205.55,-26.39C220.28,-29.04 236.73,-31.98 252.1,-34.74\"/>\n",
              "<polygon fill=\"black\" stroke=\"black\" points=\"251.08,-38.29 261.54,-36.61 252.31,-31.4 251.08,-38.29\"/>\n",
              "<text text-anchor=\"middle\" x=\"235.56\" y=\"-36.2\" font-family=\"Times,serif\" font-size=\"14.00\">2</text>\n",
              "</g>\n",
              "<!-- output -->\n",
              "<g id=\"node5\" class=\"node\">\n",
              "<title>output</title>\n",
              "<ellipse fill=\"none\" stroke=\"black\" cx=\"435.2\" cy=\"-45\" rx=\"34.46\" ry=\"18\"/>\n",
              "<text text-anchor=\"middle\" x=\"435.2\" y=\"-39.95\" font-family=\"Times,serif\" font-size=\"14.00\">output</text>\n",
              "</g>\n",
              "<!-- a_1_0&#45;&gt;output -->\n",
              "<g id=\"edge5\" class=\"edge\">\n",
              "<title>a_1_0&#45;&gt;output</title>\n",
              "<path fill=\"none\" stroke=\"black\" d=\"M364.15,-45C372.56,-45 381.19,-45 389.38,-45\"/>\n",
              "<polygon fill=\"black\" stroke=\"black\" points=\"389.24,-48.5 399.24,-45 389.24,-41.5 389.24,-48.5\"/>\n",
              "</g>\n",
              "</g>\n",
              "</svg>\n"
            ],
            "text/plain": [
              "<graphviz.sources.Source at 0x16a617f90>"
            ]
          },
          "execution_count": 145,
          "metadata": {},
          "output_type": "execute_result"
        }
      ],
      "source": [
        "from fastbook import *\n",
        "\n",
        "gv('''\n",
        "   x_0[label=3]\n",
        "   a_0_0[label=\"b=-2, ReLU\"]\n",
        "   a_0_1[label=\"b=5, ReLU\"]\n",
        "   a_1_0[label=\"b=0, ReLU\"]\n",
        "   x_0 -> a_0_0 [label=-2]\n",
        "   x_0 -> a_0_1 [label=5]\n",
        "   a_0_0 -> a_1_0 [label=3]\n",
        "   a_0_1 -> a_1_0 [label=2]\n",
        "\n",
        "   a_1_0 -> output\n",
        "   ''')"
      ]
    },
    {
      "cell_type": "code",
      "execution_count": null,
      "metadata": {
        "id": "2uVOp66n0EJT"
      },
      "outputs": [],
      "source": [
        "from rggrader import submit\n",
        "\n",
        "# Put your code here\n",
        "answer = 0\n",
        "\n",
        "assignment_id = \"10_pytorch-basic\"\n",
        "question_id = \"00_single-input-nn\"\n",
        "submit(student_id, name, assignment_id, str(answer), question_id)\n"
      ]
    },
    {
      "cell_type": "code",
      "execution_count": null,
      "metadata": {
        "id": "ISit9D1k0EJU",
        "outputId": "3ddfd1a9-2851-4d02-ce57-942c966f64b8"
      },
      "outputs": [
        {
          "data": {
            "image/svg+xml": [
              "<?xml version=\"1.0\" encoding=\"UTF-8\" standalone=\"no\"?>\n",
              "<!DOCTYPE svg PUBLIC \"-//W3C//DTD SVG 1.1//EN\"\n",
              " \"http://www.w3.org/Graphics/SVG/1.1/DTD/svg11.dtd\">\n",
              "<!-- Generated by graphviz version 8.1.0 (20230707.0739)\n",
              " -->\n",
              "<!-- Title: G Pages: 1 -->\n",
              "<svg width=\"478pt\" height=\"203pt\"\n",
              " viewBox=\"0.00 0.00 477.66 203.19\" xmlns=\"http://www.w3.org/2000/svg\" xmlns:xlink=\"http://www.w3.org/1999/xlink\">\n",
              "<g id=\"graph0\" class=\"graph\" transform=\"scale(1 1) rotate(0) translate(4 199.19)\">\n",
              "<title>G</title>\n",
              "<polygon fill=\"white\" stroke=\"none\" points=\"-4,4 -4,-199.19 473.66,-199.19 473.66,4 -4,4\"/>\n",
              "<!-- x_0 -->\n",
              "<g id=\"node1\" class=\"node\">\n",
              "<title>x_0</title>\n",
              "<ellipse fill=\"none\" stroke=\"black\" cx=\"27\" cy=\"-159.69\" rx=\"27\" ry=\"18\"/>\n",
              "<text text-anchor=\"middle\" x=\"27\" y=\"-154.64\" font-family=\"Times,serif\" font-size=\"14.00\">3</text>\n",
              "</g>\n",
              "<!-- a_0_0 -->\n",
              "<g id=\"node3\" class=\"node\">\n",
              "<title>a_0_0</title>\n",
              "<ellipse fill=\"none\" stroke=\"black\" cx=\"157.72\" cy=\"-99.69\" rx=\"53.4\" ry=\"18\"/>\n",
              "<text text-anchor=\"middle\" x=\"157.72\" y=\"-94.64\" font-family=\"Times,serif\" font-size=\"14.00\">b=8, ReLU</text>\n",
              "</g>\n",
              "<!-- x_0&#45;&gt;a_0_0 -->\n",
              "<g id=\"edge1\" class=\"edge\">\n",
              "<title>x_0&#45;&gt;a_0_0</title>\n",
              "<path fill=\"none\" stroke=\"black\" d=\"M51.5,-151.35C61.46,-147.55 73.09,-142.77 83.25,-137.69 91.64,-133.5 93.03,-131.2 101.25,-126.69 105.82,-124.19 110.67,-121.66 115.51,-119.21\"/>\n",
              "<polygon fill=\"black\" stroke=\"black\" points=\"116.96,-121.9 124.35,-114.32 113.84,-115.63 116.96,-121.9\"/>\n",
              "<text text-anchor=\"middle\" x=\"77.62\" y=\"-144.89\" font-family=\"Times,serif\" font-size=\"14.00\">&#45;2</text>\n",
              "</g>\n",
              "<!-- a_0_1 -->\n",
              "<g id=\"node4\" class=\"node\">\n",
              "<title>a_0_1</title>\n",
              "<ellipse fill=\"none\" stroke=\"black\" cx=\"157.72\" cy=\"-153.69\" rx=\"56.47\" ry=\"18\"/>\n",
              "<text text-anchor=\"middle\" x=\"157.72\" y=\"-148.64\" font-family=\"Times,serif\" font-size=\"14.00\">b=&#45;2, ReLU</text>\n",
              "</g>\n",
              "<!-- x_0&#45;&gt;a_0_1 -->\n",
              "<g id=\"edge2\" class=\"edge\">\n",
              "<title>x_0&#45;&gt;a_0_1</title>\n",
              "<path fill=\"none\" stroke=\"black\" d=\"M49.41,-170.4C56.43,-173.37 64.39,-176.2 72,-177.69 86.97,-180.64 103.14,-177.64 117.3,-172.89\"/>\n",
              "<polygon fill=\"black\" stroke=\"black\" points=\"118.07,-175.96 126.21,-169.17 115.62,-169.4 118.07,-175.96\"/>\n",
              "<text text-anchor=\"middle\" x=\"77.62\" y=\"-181.89\" font-family=\"Times,serif\" font-size=\"14.00\">5</text>\n",
              "</g>\n",
              "<!-- a_0_2 -->\n",
              "<g id=\"node5\" class=\"node\">\n",
              "<title>a_0_2</title>\n",
              "<ellipse fill=\"none\" stroke=\"black\" cx=\"157.72\" cy=\"-45.69\" rx=\"53.4\" ry=\"18\"/>\n",
              "<text text-anchor=\"middle\" x=\"157.72\" y=\"-40.64\" font-family=\"Times,serif\" font-size=\"14.00\">b=4, ReLU</text>\n",
              "</g>\n",
              "<!-- x_0&#45;&gt;a_0_2 -->\n",
              "<g id=\"edge3\" class=\"edge\">\n",
              "<title>x_0&#45;&gt;a_0_2</title>\n",
              "<path fill=\"none\" stroke=\"black\" d=\"M34.05,-141.88C40.82,-124.34 53.35,-97.83 72,-81.19 81.58,-72.65 93.5,-65.97 105.36,-60.83\"/>\n",
              "<polygon fill=\"black\" stroke=\"black\" points=\"106.27,-63.83 114.24,-56.86 103.66,-57.34 106.27,-63.83\"/>\n",
              "<text text-anchor=\"middle\" x=\"77.62\" y=\"-84.89\" font-family=\"Times,serif\" font-size=\"14.00\">3</text>\n",
              "</g>\n",
              "<!-- x_1 -->\n",
              "<g id=\"node2\" class=\"node\">\n",
              "<title>x_1</title>\n",
              "<ellipse fill=\"none\" stroke=\"black\" cx=\"27\" cy=\"-39.69\" rx=\"27\" ry=\"18\"/>\n",
              "<text text-anchor=\"middle\" x=\"27\" y=\"-34.64\" font-family=\"Times,serif\" font-size=\"14.00\">5</text>\n",
              "</g>\n",
              "<!-- x_1&#45;&gt;a_0_0 -->\n",
              "<g id=\"edge4\" class=\"edge\">\n",
              "<title>x_1&#45;&gt;a_0_0</title>\n",
              "<path fill=\"none\" stroke=\"black\" d=\"M53.69,-35.26C63.55,-34.82 74.52,-35.97 83.25,-41.19 97.09,-49.48 89.48,-61.68 101.25,-72.69 104.37,-75.62 107.87,-78.28 111.55,-80.7\"/>\n",
              "<polygon fill=\"black\" stroke=\"black\" points=\"109.56,-84.18 119.96,-86.22 113.1,-78.14 109.56,-84.18\"/>\n",
              "<text text-anchor=\"middle\" x=\"77.62\" y=\"-44.89\" font-family=\"Times,serif\" font-size=\"14.00\">8</text>\n",
              "</g>\n",
              "<!-- x_1&#45;&gt;a_0_1 -->\n",
              "<g id=\"edge5\" class=\"edge\">\n",
              "<title>x_1&#45;&gt;a_0_1</title>\n",
              "<path fill=\"none\" stroke=\"black\" d=\"M38.2,-56.32C50.83,-75.66 74.03,-107.39 101.25,-126.69 104.94,-129.31 108.91,-131.8 112.98,-134.12\"/>\n",
              "<polygon fill=\"black\" stroke=\"black\" points=\"111.1,-137.62 121.57,-139.26 114.41,-131.45 111.1,-137.62\"/>\n",
              "<text text-anchor=\"middle\" x=\"77.62\" y=\"-113.89\" font-family=\"Times,serif\" font-size=\"14.00\">&#45;2</text>\n",
              "</g>\n",
              "<!-- x_1&#45;&gt;a_0_2 -->\n",
              "<g id=\"edge6\" class=\"edge\">\n",
              "<title>x_1&#45;&gt;a_0_2</title>\n",
              "<path fill=\"none\" stroke=\"black\" d=\"M39.47,-23.43C49.87,-10.88 66.13,3.58 83.25,-1.19 98.85,-5.55 114.44,-14.22 127.22,-22.76\"/>\n",
              "<polygon fill=\"black\" stroke=\"black\" points=\"124.79,-26.03 134.99,-28.9 128.8,-20.3 124.79,-26.03\"/>\n",
              "<text text-anchor=\"middle\" x=\"77.62\" y=\"-4.89\" font-family=\"Times,serif\" font-size=\"14.00\">4</text>\n",
              "</g>\n",
              "<!-- a_1_0 -->\n",
              "<g id=\"node6\" class=\"node\">\n",
              "<title>a_1_0</title>\n",
              "<ellipse fill=\"none\" stroke=\"black\" cx=\"310.34\" cy=\"-99.69\" rx=\"53.4\" ry=\"18\"/>\n",
              "<text text-anchor=\"middle\" x=\"310.34\" y=\"-94.64\" font-family=\"Times,serif\" font-size=\"14.00\">b=3, ReLU</text>\n",
              "</g>\n",
              "<!-- a_0_0&#45;&gt;a_1_0 -->\n",
              "<g id=\"edge7\" class=\"edge\">\n",
              "<title>a_0_0&#45;&gt;a_1_0</title>\n",
              "<path fill=\"none\" stroke=\"black\" d=\"M211.4,-99.69C222.52,-99.69 234.37,-99.69 245.84,-99.69\"/>\n",
              "<polygon fill=\"black\" stroke=\"black\" points=\"245.69,-103.19 255.69,-99.69 245.69,-96.19 245.69,-103.19\"/>\n",
              "<text text-anchor=\"middle\" x=\"235.56\" y=\"-102.89\" font-family=\"Times,serif\" font-size=\"14.00\">3</text>\n",
              "</g>\n",
              "<!-- a_0_1&#45;&gt;a_1_0 -->\n",
              "<g id=\"edge8\" class=\"edge\">\n",
              "<title>a_0_1&#45;&gt;a_1_0</title>\n",
              "<path fill=\"none\" stroke=\"black\" d=\"M196.34,-140.21C216.41,-133.01 241.28,-124.09 262.59,-116.46\"/>\n",
              "<polygon fill=\"black\" stroke=\"black\" points=\"263.49,-119.49 271.72,-112.82 261.12,-112.9 263.49,-119.49\"/>\n",
              "<text text-anchor=\"middle\" x=\"235.56\" y=\"-129.89\" font-family=\"Times,serif\" font-size=\"14.00\">2</text>\n",
              "</g>\n",
              "<!-- a_0_2&#45;&gt;a_1_0 -->\n",
              "<g id=\"edge9\" class=\"edge\">\n",
              "<title>a_0_2&#45;&gt;a_1_0</title>\n",
              "<path fill=\"none\" stroke=\"black\" d=\"M195.18,-58.77C215.38,-66.01 240.72,-75.09 262.39,-82.86\"/>\n",
              "<polygon fill=\"black\" stroke=\"black\" points=\"261.1,-86.48 271.69,-86.56 263.46,-79.89 261.1,-86.48\"/>\n",
              "<text text-anchor=\"middle\" x=\"235.56\" y=\"-77.89\" font-family=\"Times,serif\" font-size=\"14.00\">8</text>\n",
              "</g>\n",
              "<!-- output -->\n",
              "<g id=\"node7\" class=\"node\">\n",
              "<title>output</title>\n",
              "<ellipse fill=\"none\" stroke=\"black\" cx=\"435.2\" cy=\"-99.69\" rx=\"34.46\" ry=\"18\"/>\n",
              "<text text-anchor=\"middle\" x=\"435.2\" y=\"-94.64\" font-family=\"Times,serif\" font-size=\"14.00\">output</text>\n",
              "</g>\n",
              "<!-- a_1_0&#45;&gt;output -->\n",
              "<g id=\"edge10\" class=\"edge\">\n",
              "<title>a_1_0&#45;&gt;output</title>\n",
              "<path fill=\"none\" stroke=\"black\" d=\"M364.15,-99.69C372.56,-99.69 381.19,-99.69 389.38,-99.69\"/>\n",
              "<polygon fill=\"black\" stroke=\"black\" points=\"389.24,-103.19 399.24,-99.69 389.24,-96.19 389.24,-103.19\"/>\n",
              "</g>\n",
              "</g>\n",
              "</svg>\n"
            ],
            "text/plain": [
              "<graphviz.sources.Source at 0x17fcbe910>"
            ]
          },
          "execution_count": 144,
          "metadata": {},
          "output_type": "execute_result"
        }
      ],
      "source": [
        "from fastbook import *\n",
        "\n",
        "gv('''\n",
        "   x_0[label=3]\n",
        "   x_1[label=5]\n",
        "   a_0_0[label=\"b=8, ReLU\"]\n",
        "   a_0_1[label=\"b=-2, ReLU\"]\n",
        "   a_0_2[label=\"b=4, ReLU\"]\n",
        "   a_1_0[label=\"b=3, ReLU\"]\n",
        "   x_0 -> a_0_0 [label=-2]\n",
        "   x_0 -> a_0_1 [label=5]\n",
        "   x_0 -> a_0_2 [label=3]\n",
        "   x_1 -> a_0_0 [label=8]\n",
        "   x_1 -> a_0_1 [label=-2]\n",
        "   x_1 -> a_0_2 [label=4]\n",
        "   a_0_0 -> a_1_0 [label=3]\n",
        "   a_0_1 -> a_1_0 [label=2]\n",
        "   a_0_2 -> a_1_0 [label=8]\n",
        "\n",
        "   a_1_0 -> output\n",
        "   ''')"
      ]
    },
    {
      "cell_type": "code",
      "execution_count": null,
      "metadata": {
        "id": "kc26thxM0EJU"
      },
      "outputs": [],
      "source": [
        "from rggrader import submit\n",
        "\n",
        "# Put your code here\n",
        "answer = 0\n",
        "\n",
        "assignment_id = \"10_pytorch-basic\"\n",
        "question_id = \"01_multi-input-nn\"\n",
        "submit(student_id, name, assignment_id, str(answer), question_id)\n"
      ]
    }
  ],
  "metadata": {
    "kernelspec": {
      "display_name": "Python 3",
      "language": "python",
      "name": "python3"
    },
    "language_info": {
      "codemirror_mode": {
        "name": "ipython",
        "version": 3
      },
      "file_extension": ".py",
      "mimetype": "text/x-python",
      "name": "python",
      "nbconvert_exporter": "python",
      "pygments_lexer": "ipython3",
      "version": "3.11.1"
    },
    "orig_nbformat": 4,
    "colab": {
      "provenance": [],
      "include_colab_link": true
    }
  },
  "nbformat": 4,
  "nbformat_minor": 0
}