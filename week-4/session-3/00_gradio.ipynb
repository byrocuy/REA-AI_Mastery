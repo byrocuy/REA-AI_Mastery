{
  "cells": [
    {
      "cell_type": "markdown",
      "metadata": {
        "id": "view-in-github",
        "colab_type": "text"
      },
      "source": [
        "<a href=\"https://colab.research.google.com/github/byrocuy/REA_AI_Bootcamp/blob/main/week-4/session-3/00_gradio.ipynb\" target=\"_parent\"><img src=\"https://colab.research.google.com/assets/colab-badge.svg\" alt=\"Open In Colab\"/></a>"
      ]
    },
    {
      "cell_type": "markdown",
      "metadata": {
        "id": "Ybl7SUzUAWZ1"
      },
      "source": [
        "# Gradio"
      ]
    },
    {
      "cell_type": "markdown",
      "metadata": {
        "id": "TJ9O8uXrAWZ6"
      },
      "source": [
        "Suppose you've just built a fantastic machine-learning model. It crunched the numbers, learned from the data, and made impressive predictions. You're excited and ready to harness its power, but there's one problem — how to share it so everyone can easily test and use it?\n",
        "\n",
        "This is where [**Gradio**](https://www.gradio.app/) comes to the rescue!"
      ]
    },
    {
      "cell_type": "markdown",
      "metadata": {
        "id": "QOY2JRCFAWZ7"
      },
      "source": [
        "## Light Up Your Models With Gradio!"
      ]
    },
    {
      "cell_type": "markdown",
      "metadata": {
        "id": "pvvzKnDMAWZ7"
      },
      "source": [
        "**Gradio** is an open-source Python library that lets you quickly whip up an efficient interface for your models. Yep, you heard it right! No more endless lines of code or complex setups. This library is all about simplicity and functionality, allowing you to interactively experiment with your models and share them effortlessly with others."
      ]
    },
    {
      "cell_type": "markdown",
      "metadata": {
        "id": "VVO_TWfpAWZ8"
      },
      "source": [
        "## Enough Talk, Let's Dive In!"
      ]
    },
    {
      "cell_type": "markdown",
      "metadata": {
        "id": "_XDZQvddAWZ8"
      },
      "source": [
        "Here's your step-by-step guide to mastering Gradio and exploring its amazing features:\n",
        "\n",
        "First, install Gradio using pip:"
      ]
    },
    {
      "cell_type": "code",
      "execution_count": null,
      "metadata": {
        "id": "7AVwXr2OKScH"
      },
      "outputs": [],
      "source": [
        "!pip install gradio\n",
        "!pip install rggrader\n",
        "!pip install transformers\n",
        "!pip install sentencepiece\n",
        "!pip install fastbook"
      ]
    },
    {
      "cell_type": "markdown",
      "metadata": {
        "id": "fVSK7SYBKScI"
      },
      "source": [
        "Let's kick things off with a simple function greet."
      ]
    },
    {
      "cell_type": "code",
      "execution_count": null,
      "metadata": {
        "id": "eMBQwVSSKScI"
      },
      "outputs": [],
      "source": [
        "def greet(name):\n",
        "    return \"Hello \" + name + \"!\""
      ]
    },
    {
      "cell_type": "markdown",
      "metadata": {
        "id": "qvMXCliSKScJ"
      },
      "source": [
        "Now, let's put Gradio to work:"
      ]
    },
    {
      "cell_type": "code",
      "execution_count": null,
      "metadata": {
        "id": "oGsRYc3TAWZ-",
        "colab": {
          "base_uri": "https://localhost:8080/",
          "height": 620
        },
        "outputId": "9c993e56-ab3f-4a2f-96e3-ba9855bf95db"
      },
      "outputs": [
        {
          "output_type": "stream",
          "name": "stdout",
          "text": [
            "Colab notebook detected. To show errors in colab notebook, set debug=True in launch()\n",
            "Note: opening Chrome Inspector may crash demo inside Colab notebooks.\n",
            "\n",
            "To create a public link, set `share=True` in `launch()`.\n"
          ]
        },
        {
          "output_type": "display_data",
          "data": {
            "text/plain": [
              "<IPython.core.display.Javascript object>"
            ],
            "application/javascript": [
              "(async (port, path, width, height, cache, element) => {\n",
              "                        if (!google.colab.kernel.accessAllowed && !cache) {\n",
              "                            return;\n",
              "                        }\n",
              "                        element.appendChild(document.createTextNode(''));\n",
              "                        const url = await google.colab.kernel.proxyPort(port, {cache});\n",
              "\n",
              "                        const external_link = document.createElement('div');\n",
              "                        external_link.innerHTML = `\n",
              "                            <div style=\"font-family: monospace; margin-bottom: 0.5rem\">\n",
              "                                Running on <a href=${new URL(path, url).toString()} target=\"_blank\">\n",
              "                                    https://localhost:${port}${path}\n",
              "                                </a>\n",
              "                            </div>\n",
              "                        `;\n",
              "                        element.appendChild(external_link);\n",
              "\n",
              "                        const iframe = document.createElement('iframe');\n",
              "                        iframe.src = new URL(path, url).toString();\n",
              "                        iframe.height = height;\n",
              "                        iframe.allow = \"autoplay; camera; microphone; clipboard-read; clipboard-write;\"\n",
              "                        iframe.width = width;\n",
              "                        iframe.style.border = 0;\n",
              "                        element.appendChild(iframe);\n",
              "                    })(7860, \"/\", \"100%\", 500, false, window.element)"
            ]
          },
          "metadata": {}
        },
        {
          "output_type": "execute_result",
          "data": {
            "text/plain": []
          },
          "metadata": {},
          "execution_count": 3
        }
      ],
      "source": [
        "import gradio as gr\n",
        "\n",
        "iface = gr.Interface(fn=greet, inputs=\"text\", outputs=\"text\")\n",
        "iface.launch()  # Let's launch the interface"
      ]
    },
    {
      "cell_type": "markdown",
      "metadata": {
        "id": "j6lFkMU7KScJ"
      },
      "source": [
        "Bam! You've just created an intuitive interface for your function. Users can provide their names in the interface and instantly see a personalized greeting message without coding chops!\n",
        "\n",
        "But we're just getting warmed up. Gradio is all about customization and versatility."
      ]
    },
    {
      "cell_type": "markdown",
      "metadata": {
        "id": "muFSKBdFKScJ"
      },
      "source": [
        "### Inputs _(required)_\n",
        "The `inputs` parameter defines the input type, Gradio has a lot of input types, let's try a few:"
      ]
    },
    {
      "cell_type": "code",
      "execution_count": null,
      "metadata": {
        "id": "cT70ostxKScK",
        "colab": {
          "base_uri": "https://localhost:8080/",
          "height": 620
        },
        "outputId": "56c30477-8cc6-4fd3-9e51-3f5a185ef607"
      },
      "outputs": [
        {
          "output_type": "stream",
          "name": "stdout",
          "text": [
            "Colab notebook detected. To show errors in colab notebook, set debug=True in launch()\n",
            "Note: opening Chrome Inspector may crash demo inside Colab notebooks.\n",
            "\n",
            "To create a public link, set `share=True` in `launch()`.\n"
          ]
        },
        {
          "output_type": "display_data",
          "data": {
            "text/plain": [
              "<IPython.core.display.Javascript object>"
            ],
            "application/javascript": [
              "(async (port, path, width, height, cache, element) => {\n",
              "                        if (!google.colab.kernel.accessAllowed && !cache) {\n",
              "                            return;\n",
              "                        }\n",
              "                        element.appendChild(document.createTextNode(''));\n",
              "                        const url = await google.colab.kernel.proxyPort(port, {cache});\n",
              "\n",
              "                        const external_link = document.createElement('div');\n",
              "                        external_link.innerHTML = `\n",
              "                            <div style=\"font-family: monospace; margin-bottom: 0.5rem\">\n",
              "                                Running on <a href=${new URL(path, url).toString()} target=\"_blank\">\n",
              "                                    https://localhost:${port}${path}\n",
              "                                </a>\n",
              "                            </div>\n",
              "                        `;\n",
              "                        element.appendChild(external_link);\n",
              "\n",
              "                        const iframe = document.createElement('iframe');\n",
              "                        iframe.src = new URL(path, url).toString();\n",
              "                        iframe.height = height;\n",
              "                        iframe.allow = \"autoplay; camera; microphone; clipboard-read; clipboard-write;\"\n",
              "                        iframe.width = width;\n",
              "                        iframe.style.border = 0;\n",
              "                        element.appendChild(iframe);\n",
              "                    })(7864, \"/\", \"100%\", 500, false, window.element)"
            ]
          },
          "metadata": {}
        },
        {
          "output_type": "execute_result",
          "data": {
            "text/plain": []
          },
          "metadata": {},
          "execution_count": 8
        }
      ],
      "source": [
        "import gradio as gr\n",
        "\n",
        "def plus_one(number):\n",
        "    return number + 1\n",
        "\n",
        "iface = gr.Interface(fn=plus_one, inputs=\"slider\", outputs=\"text\")\n",
        "iface.launch()"
      ]
    },
    {
      "cell_type": "markdown",
      "metadata": {
        "id": "y4GzlqITKScK"
      },
      "source": [
        "### Outputs _(required)_\n",
        "\n",
        "The `outputs` parameter defines the output type"
      ]
    },
    {
      "cell_type": "code",
      "execution_count": null,
      "metadata": {
        "id": "_O3NaTW-KScK",
        "colab": {
          "base_uri": "https://localhost:8080/",
          "height": 620
        },
        "outputId": "f5ccfdbf-f4f7-4f20-ad55-c5e2f58915b2"
      },
      "outputs": [
        {
          "output_type": "stream",
          "name": "stdout",
          "text": [
            "Colab notebook detected. To show errors in colab notebook, set debug=True in launch()\n",
            "Note: opening Chrome Inspector may crash demo inside Colab notebooks.\n",
            "\n",
            "To create a public link, set `share=True` in `launch()`.\n"
          ]
        },
        {
          "output_type": "display_data",
          "data": {
            "text/plain": [
              "<IPython.core.display.Javascript object>"
            ],
            "application/javascript": [
              "(async (port, path, width, height, cache, element) => {\n",
              "                        if (!google.colab.kernel.accessAllowed && !cache) {\n",
              "                            return;\n",
              "                        }\n",
              "                        element.appendChild(document.createTextNode(''));\n",
              "                        const url = await google.colab.kernel.proxyPort(port, {cache});\n",
              "\n",
              "                        const external_link = document.createElement('div');\n",
              "                        external_link.innerHTML = `\n",
              "                            <div style=\"font-family: monospace; margin-bottom: 0.5rem\">\n",
              "                                Running on <a href=${new URL(path, url).toString()} target=\"_blank\">\n",
              "                                    https://localhost:${port}${path}\n",
              "                                </a>\n",
              "                            </div>\n",
              "                        `;\n",
              "                        element.appendChild(external_link);\n",
              "\n",
              "                        const iframe = document.createElement('iframe');\n",
              "                        iframe.src = new URL(path, url).toString();\n",
              "                        iframe.height = height;\n",
              "                        iframe.allow = \"autoplay; camera; microphone; clipboard-read; clipboard-write;\"\n",
              "                        iframe.width = width;\n",
              "                        iframe.style.border = 0;\n",
              "                        element.appendChild(iframe);\n",
              "                    })(7865, \"/\", \"100%\", 500, false, window.element)"
            ]
          },
          "metadata": {}
        },
        {
          "output_type": "execute_result",
          "data": {
            "text/plain": []
          },
          "metadata": {},
          "execution_count": 9
        }
      ],
      "source": [
        "import gradio as gr\n",
        "\n",
        "def plus_one(number):\n",
        "    return number + 1\n",
        "\n",
        "iface = gr.Interface(fn=plus_one, inputs=\"slider\", outputs=\"label\")\n",
        "iface.launch()"
      ]
    },
    {
      "cell_type": "markdown",
      "metadata": {
        "id": "g8ynjYE_KScK"
      },
      "source": [
        "What if I want to change the input and it automatically changes the output? Unfortunately, Gradio does not support automatic output updates based on input changes without submission. This design ensures that resource-intensive functions are only called when the user is prepared to submit their input."
      ]
    },
    {
      "cell_type": "markdown",
      "metadata": {
        "id": "ZzPdmKY5KScK"
      },
      "source": [
        "Here are some selected parameters that can be used as input or output in Gradio:\n",
        "\n",
        "**Input:**\n",
        "\n",
        "- `'textbox'`: A simple textbox for free text input.\n",
        "- `'image'`: Used when the input to the interface is an image file.\n",
        "- `'slider'`: Used to choose a single value between a range of values with a slider.\n",
        "- and more\n",
        "\n",
        "**Output:**\n",
        "\n",
        "- `'text'`: Simple text output.\n",
        "- `'image'`: Used for output which is an image file.\n",
        "- `'label'`: A simple text label.\n",
        "- `'json'`: When the output should be displayed as structured JSON data.\n",
        "- and more\n",
        "\n",
        "These are just a few examples. For a full list, you can refer to the Gradio [Interface API documentation](https://gradio.app/docs/#interface_api).\n"
      ]
    },
    {
      "cell_type": "markdown",
      "metadata": {
        "id": "BxX7noyLKScL"
      },
      "source": [
        "### fn _(required)_\n",
        "The `fn` parameter maps the inputs to the outputs."
      ]
    },
    {
      "cell_type": "code",
      "execution_count": null,
      "metadata": {
        "id": "Ov4T-4ycKScL",
        "outputId": "b28a6438-578a-4c1c-9a72-4493fedc92ae",
        "colab": {
          "base_uri": "https://localhost:8080/",
          "height": 80
        }
      },
      "outputs": [
        {
          "output_type": "execute_result",
          "data": {
            "image/svg+xml": "<?xml version=\"1.0\" encoding=\"UTF-8\" standalone=\"no\"?>\n<!DOCTYPE svg PUBLIC \"-//W3C//DTD SVG 1.1//EN\"\n \"http://www.w3.org/Graphics/SVG/1.1/DTD/svg11.dtd\">\n<!-- Generated by graphviz version 2.43.0 (0)\n -->\n<!-- Title: G Pages: 1 -->\n<svg width=\"272pt\" height=\"44pt\"\n viewBox=\"0.00 0.00 271.79 44.00\" xmlns=\"http://www.w3.org/2000/svg\" xmlns:xlink=\"http://www.w3.org/1999/xlink\">\n<g id=\"graph0\" class=\"graph\" transform=\"scale(1 1) rotate(0) translate(4 40)\">\n<title>G</title>\n<polygon fill=\"white\" stroke=\"transparent\" points=\"-4,4 -4,-40 267.79,-40 267.79,4 -4,4\"/>\n<!-- inputs -->\n<g id=\"node1\" class=\"node\">\n<title>inputs</title>\n<ellipse fill=\"none\" stroke=\"black\" cx=\"32.5\" cy=\"-18\" rx=\"32.49\" ry=\"18\"/>\n<text text-anchor=\"middle\" x=\"32.5\" y=\"-14.3\" font-family=\"Times,serif\" font-size=\"14.00\">inputs</text>\n</g>\n<!-- fn -->\n<g id=\"node2\" class=\"node\">\n<title>fn</title>\n<ellipse fill=\"none\" stroke=\"black\" cx=\"127.99\" cy=\"-18\" rx=\"27\" ry=\"18\"/>\n<text text-anchor=\"middle\" x=\"127.99\" y=\"-14.3\" font-family=\"Times,serif\" font-size=\"14.00\">fn</text>\n</g>\n<!-- inputs&#45;&gt;fn -->\n<g id=\"edge1\" class=\"edge\">\n<title>inputs&#45;&gt;fn</title>\n<path fill=\"none\" stroke=\"black\" d=\"M65.15,-18C73.44,-18 82.43,-18 90.93,-18\"/>\n<polygon fill=\"black\" stroke=\"black\" points=\"90.97,-21.5 100.97,-18 90.97,-14.5 90.97,-21.5\"/>\n</g>\n<!-- outputs -->\n<g id=\"node3\" class=\"node\">\n<title>outputs</title>\n<ellipse fill=\"none\" stroke=\"black\" cx=\"227.39\" cy=\"-18\" rx=\"36.29\" ry=\"18\"/>\n<text text-anchor=\"middle\" x=\"227.39\" y=\"-14.3\" font-family=\"Times,serif\" font-size=\"14.00\">outputs</text>\n</g>\n<!-- fn&#45;&gt;outputs -->\n<g id=\"edge2\" class=\"edge\">\n<title>fn&#45;&gt;outputs</title>\n<path fill=\"none\" stroke=\"black\" d=\"M155.09,-18C162.95,-18 171.82,-18 180.56,-18\"/>\n<polygon fill=\"black\" stroke=\"black\" points=\"180.7,-21.5 190.7,-18 180.7,-14.5 180.7,-21.5\"/>\n</g>\n</g>\n</svg>\n",
            "text/plain": [
              "<graphviz.sources.Source at 0x7a6c77f99b10>"
            ]
          },
          "metadata": {},
          "execution_count": 12
        }
      ],
      "source": [
        "from fastbook import *\n",
        "\n",
        "gv('''\n",
        "inputs -> fn -> outputs\n",
        "''')"
      ]
    },
    {
      "cell_type": "code",
      "execution_count": null,
      "metadata": {
        "id": "gp4_f74BKScM",
        "colab": {
          "base_uri": "https://localhost:8080/",
          "height": 620
        },
        "outputId": "6f659d2f-00df-4100-cd37-1b1e9635e348"
      },
      "outputs": [
        {
          "output_type": "stream",
          "name": "stdout",
          "text": [
            "Colab notebook detected. To show errors in colab notebook, set debug=True in launch()\n",
            "Note: opening Chrome Inspector may crash demo inside Colab notebooks.\n",
            "\n",
            "To create a public link, set `share=True` in `launch()`.\n"
          ]
        },
        {
          "output_type": "display_data",
          "data": {
            "text/plain": [
              "<IPython.core.display.Javascript object>"
            ],
            "application/javascript": [
              "(async (port, path, width, height, cache, element) => {\n",
              "                        if (!google.colab.kernel.accessAllowed && !cache) {\n",
              "                            return;\n",
              "                        }\n",
              "                        element.appendChild(document.createTextNode(''));\n",
              "                        const url = await google.colab.kernel.proxyPort(port, {cache});\n",
              "\n",
              "                        const external_link = document.createElement('div');\n",
              "                        external_link.innerHTML = `\n",
              "                            <div style=\"font-family: monospace; margin-bottom: 0.5rem\">\n",
              "                                Running on <a href=${new URL(path, url).toString()} target=\"_blank\">\n",
              "                                    https://localhost:${port}${path}\n",
              "                                </a>\n",
              "                            </div>\n",
              "                        `;\n",
              "                        element.appendChild(external_link);\n",
              "\n",
              "                        const iframe = document.createElement('iframe');\n",
              "                        iframe.src = new URL(path, url).toString();\n",
              "                        iframe.height = height;\n",
              "                        iframe.allow = \"autoplay; camera; microphone; clipboard-read; clipboard-write;\"\n",
              "                        iframe.width = width;\n",
              "                        iframe.style.border = 0;\n",
              "                        element.appendChild(iframe);\n",
              "                    })(7866, \"/\", \"100%\", 500, false, window.element)"
            ]
          },
          "metadata": {}
        },
        {
          "output_type": "execute_result",
          "data": {
            "text/plain": []
          },
          "metadata": {},
          "execution_count": 13
        }
      ],
      "source": [
        "import gradio as gr\n",
        "\n",
        "def upper_case(text):\n",
        "    return text.upper()\n",
        "\n",
        "iface = gr.Interface(fn=upper_case, inputs=\"text\", outputs=\"text\")\n",
        "iface.launch()"
      ]
    },
    {
      "cell_type": "markdown",
      "metadata": {
        "id": "cmeB0oVpKScM"
      },
      "source": [
        "### Examples _(optional)_\n",
        "\n",
        "To make our UI easier to understand, we can provide a sample of the input and output."
      ]
    },
    {
      "cell_type": "code",
      "execution_count": null,
      "metadata": {
        "id": "oA56eCcyKScM"
      },
      "outputs": [],
      "source": [
        "import gradio as gr\n",
        "\n",
        "def upper_case(text):\n",
        "    return text.upper()\n",
        "\n",
        "iface = gr.Interface(fn=upper_case, inputs=\"text\", outputs=\"text\", examples=[[\"hello world\"], [\"goodbye world\"]])\n",
        "iface.launch()"
      ]
    },
    {
      "cell_type": "markdown",
      "metadata": {
        "id": "AIQ4lndpKScM"
      },
      "source": [
        "The examples will be rendered in the UI and can be clicked to quickly test the function."
      ]
    },
    {
      "cell_type": "markdown",
      "metadata": {
        "id": "jntiSujwKScM"
      },
      "source": [
        "### Title and Description _(optional)_\n",
        "\n",
        "Let's add title and description to our interface so that users can understand what it does."
      ]
    },
    {
      "cell_type": "code",
      "execution_count": null,
      "metadata": {
        "id": "NJP_yl1TKScN"
      },
      "outputs": [],
      "source": [
        "import gradio as gr\n",
        "\n",
        "def upper_case(text):\n",
        "    return text.upper()\n",
        "\n",
        "iface = gr.Interface(fn=upper_case, inputs=\"text\", outputs=\"text\", title=\"Uppercase Text\", description=\"An interface for model that converts text to uppercase.\")\n",
        "iface.launch()"
      ]
    },
    {
      "cell_type": "markdown",
      "metadata": {
        "id": "ZbYKDpSgKScN"
      },
      "source": [
        "### Flag\n",
        "\n",
        "Notice that when the UI is rendered, there is a Flag button on the top right corner. This button allows users to record the input and output of the function and save it as a CSV file. Details can be seen here: <https://www.gradio.app/docs/flagging>"
      ]
    },
    {
      "cell_type": "markdown",
      "metadata": {
        "id": "jqRStP1LKScN"
      },
      "source": [
        "## Exercise:"
      ]
    },
    {
      "cell_type": "markdown",
      "metadata": {
        "id": "Dh329cM-KScN"
      },
      "source": [
        "### Student Identity"
      ]
    },
    {
      "cell_type": "code",
      "execution_count": null,
      "metadata": {
        "id": "wCkHKKUGKScN"
      },
      "outputs": [],
      "source": [
        "# @title #### Student Identity\n",
        "student_id = \"\" # @param {type:\"string\"}\n",
        "name = \"\" # @param {type:\"string\"}\n",
        "drive_link = \"\"  # @param {type:\"string\"}"
      ]
    },
    {
      "cell_type": "code",
      "execution_count": null,
      "metadata": {
        "id": "LdJTooNeKScN"
      },
      "outputs": [],
      "source": [
        "%pip install rggrader\n",
        "from rggrader import submit"
      ]
    },
    {
      "cell_type": "code",
      "execution_count": null,
      "metadata": {
        "id": "mfPsWsQmKScO"
      },
      "outputs": [],
      "source": [
        "# @title #### 00 Creating a \"Mood Interpreter\" with Gradio\n",
        "\n",
        "# In this exercise, let's create a fun and simple Gradio application - a mood interpreter.\n",
        "# The interface should take as input a user's mood (in text form) and return a fun interpretation of that mood.\n",
        "# For example, if a user enters \"happy\", the interpreter might return, \"Wow, you're shining brighter than the sun!\"\n",
        "\n",
        "# Here's a list of moods:\n",
        "        # \"happy\": \"Wow, you're shining brighter than the sun!\",\n",
        "        # \"sad\": \"Oh no, it's little gloomy today, isn't it?\",\n",
        "        # \"excited\": \"Seems like someone's energy is through the roof!\",\n",
        "        # \"tired\": \"Ah, a good rest will work wonders.\",\n",
        "        # \"angry\": \"Uh oh, someone's a bit hot-headed today!\"\n",
        "\n",
        "# Put your code here:\n",
        "import gradio as gr\n",
        "\n",
        "def mood_interpreter(mood):\n",
        "    return None\n",
        "\n",
        "iface = None\n",
        "\n",
        "\n",
        "\n",
        "# ---- End of your code ----\n",
        "\n",
        "# Submit Method\n",
        "assignment_id = \"00_gradio\"\n",
        "question_id = \"00_gradio_mood_interpreter\"\n",
        "submit(student_id, name, assignment_id, str(mood_interpreter(\"happy\")), question_id, drive_link)"
      ]
    },
    {
      "cell_type": "code",
      "execution_count": null,
      "metadata": {
        "id": "T4r3EnaAKScO"
      },
      "outputs": [],
      "source": [
        "# @title #### 01 Creating a Palindrome Checker with Gradio\n",
        "\n",
        "# A palindrome is a word, phrase, number, or other sequence of characters that reads the same backward as forward, ignoring spaces, punctuation, and capitalization.\n",
        "# In this exercise, you will create a simple Gradio interface for a palindrome checker.\n",
        "# The interface should take a word as input and return whether the input is a palindrome or not.\n",
        "\n",
        "# put your code here:\n",
        "import gradio as gr\n",
        "\n",
        "def palindrome_checker(word):\n",
        "    return None\n",
        "\n",
        "iface = None\n",
        "\n",
        "\n",
        "\n",
        "# ---- End of your code ----\n",
        "\n",
        "# Submit Method\n",
        "assignment_id = \"00_gradio\"\n",
        "question_id = \"01_gradio_palindrome_checker\"\n",
        "submit(student_id, name, assignment_id, str(palindrome_checker(\"aditira\")) question_id, drive_link)"
      ]
    },
    {
      "cell_type": "markdown",
      "metadata": {
        "id": "Xb3s3Sx5KScO"
      },
      "source": [
        "## Level Up with Gradio!"
      ]
    },
    {
      "cell_type": "markdown",
      "metadata": {
        "id": "qlyeE1ahKScO"
      },
      "source": [
        "Gradio comes with a variety of built-in components that you can leverage to customize your UI. The possibilities are endless, from sliders and dropdowns to checkboxes and radio buttons!"
      ]
    },
    {
      "cell_type": "markdown",
      "metadata": {
        "id": "JOxep18kKScO"
      },
      "source": [
        "![Gradio Component](https://www.gradio.app/_app/immutable/assets/dataflow.8265f523.svg)\n",
        "\n",
        "_Gradio Component (Source: ([www.gradio.app/docs/components](https://www.gradio.app/docs/components)))_"
      ]
    },
    {
      "cell_type": "markdown",
      "metadata": {
        "id": "xDNKfa2vKScP"
      },
      "source": [
        "Gradio includes pre-built components that can be used as inputs or outputs in your Interface with a single line of code."
      ]
    },
    {
      "cell_type": "markdown",
      "metadata": {
        "id": "yKMDSAigKScP"
      },
      "source": [
        "From the previous examples, we assign values to the `input` and `output` parameters by providing a string value representing `IOComponent`:"
      ]
    },
    {
      "cell_type": "code",
      "execution_count": null,
      "metadata": {
        "id": "Qn3d9zKNKScP",
        "colab": {
          "base_uri": "https://localhost:8080/",
          "height": 620
        },
        "outputId": "ec8ab225-4efa-4742-8026-d3e50ecb2b0c"
      },
      "outputs": [
        {
          "output_type": "stream",
          "name": "stdout",
          "text": [
            "Colab notebook detected. To show errors in colab notebook, set debug=True in launch()\n",
            "Note: opening Chrome Inspector may crash demo inside Colab notebooks.\n",
            "\n",
            "To create a public link, set `share=True` in `launch()`.\n"
          ]
        },
        {
          "output_type": "display_data",
          "data": {
            "text/plain": [
              "<IPython.core.display.Javascript object>"
            ],
            "application/javascript": [
              "(async (port, path, width, height, cache, element) => {\n",
              "                        if (!google.colab.kernel.accessAllowed && !cache) {\n",
              "                            return;\n",
              "                        }\n",
              "                        element.appendChild(document.createTextNode(''));\n",
              "                        const url = await google.colab.kernel.proxyPort(port, {cache});\n",
              "\n",
              "                        const external_link = document.createElement('div');\n",
              "                        external_link.innerHTML = `\n",
              "                            <div style=\"font-family: monospace; margin-bottom: 0.5rem\">\n",
              "                                Running on <a href=${new URL(path, url).toString()} target=\"_blank\">\n",
              "                                    https://localhost:${port}${path}\n",
              "                                </a>\n",
              "                            </div>\n",
              "                        `;\n",
              "                        element.appendChild(external_link);\n",
              "\n",
              "                        const iframe = document.createElement('iframe');\n",
              "                        iframe.src = new URL(path, url).toString();\n",
              "                        iframe.height = height;\n",
              "                        iframe.allow = \"autoplay; camera; microphone; clipboard-read; clipboard-write;\"\n",
              "                        iframe.width = width;\n",
              "                        iframe.style.border = 0;\n",
              "                        element.appendChild(iframe);\n",
              "                    })(7867, \"/\", \"100%\", 500, false, window.element)"
            ]
          },
          "metadata": {}
        },
        {
          "output_type": "execute_result",
          "data": {
            "text/plain": []
          },
          "metadata": {},
          "execution_count": 14
        }
      ],
      "source": [
        "import gradio as gr\n",
        "\n",
        "def calculate_area(length: int) -> str:\n",
        "    area = length * length\n",
        "    if area > 20:\n",
        "        return \"Large area\"\n",
        "    else:\n",
        "        return \"Small area\"\n",
        "\n",
        "iface = gr.Interface(calculate_area,\n",
        "    inputs=\"slider\", outputs=\"label\")\n",
        "iface.launch()"
      ]
    },
    {
      "cell_type": "markdown",
      "metadata": {
        "id": "mIqQa1L2KScP"
      },
      "source": [
        "But, what if we want to customize the minimum and maximum values of the slider? We can call `IOComponent` in this example `gr.inputs.Slider` and customize it there."
      ]
    },
    {
      "cell_type": "code",
      "execution_count": null,
      "metadata": {
        "id": "jiVTR8lqKScQ",
        "colab": {
          "base_uri": "https://localhost:8080/",
          "height": 714
        },
        "outputId": "00aea40e-0e4e-42d5-bcb5-4a81be1498fa"
      },
      "outputs": [
        {
          "output_type": "stream",
          "name": "stderr",
          "text": [
            "<ipython-input-16-49c54b56dc3f>:12: GradioDeprecationWarning: Usage of gradio.outputs is deprecated, and will not be supported in the future, please import your components from gradio.components\n",
            "  outputs = gr.outputs.Label())\n",
            "<ipython-input-16-49c54b56dc3f>:12: GradioUnusedKwargWarning: You have unused kwarg parameters in Label, please remove them: {'type': 'auto'}\n",
            "  outputs = gr.outputs.Label())\n"
          ]
        },
        {
          "output_type": "stream",
          "name": "stdout",
          "text": [
            "Colab notebook detected. To show errors in colab notebook, set debug=True in launch()\n",
            "Note: opening Chrome Inspector may crash demo inside Colab notebooks.\n",
            "\n",
            "To create a public link, set `share=True` in `launch()`.\n"
          ]
        },
        {
          "output_type": "display_data",
          "data": {
            "text/plain": [
              "<IPython.core.display.Javascript object>"
            ],
            "application/javascript": [
              "(async (port, path, width, height, cache, element) => {\n",
              "                        if (!google.colab.kernel.accessAllowed && !cache) {\n",
              "                            return;\n",
              "                        }\n",
              "                        element.appendChild(document.createTextNode(''));\n",
              "                        const url = await google.colab.kernel.proxyPort(port, {cache});\n",
              "\n",
              "                        const external_link = document.createElement('div');\n",
              "                        external_link.innerHTML = `\n",
              "                            <div style=\"font-family: monospace; margin-bottom: 0.5rem\">\n",
              "                                Running on <a href=${new URL(path, url).toString()} target=\"_blank\">\n",
              "                                    https://localhost:${port}${path}\n",
              "                                </a>\n",
              "                            </div>\n",
              "                        `;\n",
              "                        element.appendChild(external_link);\n",
              "\n",
              "                        const iframe = document.createElement('iframe');\n",
              "                        iframe.src = new URL(path, url).toString();\n",
              "                        iframe.height = height;\n",
              "                        iframe.allow = \"autoplay; camera; microphone; clipboard-read; clipboard-write;\"\n",
              "                        iframe.width = width;\n",
              "                        iframe.style.border = 0;\n",
              "                        element.appendChild(iframe);\n",
              "                    })(7869, \"/\", \"100%\", 500, false, window.element)"
            ]
          },
          "metadata": {}
        },
        {
          "output_type": "execute_result",
          "data": {
            "text/plain": []
          },
          "metadata": {},
          "execution_count": 16
        }
      ],
      "source": [
        "import gradio as gr\n",
        "\n",
        "def calculate_area(length: int) -> str:\n",
        "    area = length * length\n",
        "    if area > 20:\n",
        "        return \"Large area\"\n",
        "    else:\n",
        "        return \"Small area\"\n",
        "\n",
        "iface = gr.Interface(calculate_area,\n",
        "    inputs = gr.Slider(minimum=0, maximum=40),\n",
        "    outputs = gr.outputs.Label())\n",
        "iface.launch()"
      ]
    },
    {
      "cell_type": "markdown",
      "metadata": {
        "id": "hI7KTHT4KScQ"
      },
      "source": [
        "### Multiple Inputs\n",
        "\n",
        "What if we want to have multiple inputs? We can call several `IOComponent` in a `list` for the value of the input."
      ]
    },
    {
      "cell_type": "markdown",
      "metadata": {
        "id": "SO6NZTY8KScQ"
      },
      "source": [
        "The above function calculates the area of a rectangle, using two sliders to capture the length and width. Simple and interactive!"
      ]
    },
    {
      "cell_type": "code",
      "execution_count": null,
      "metadata": {
        "id": "-qCz7sEfKScQ",
        "colab": {
          "base_uri": "https://localhost:8080/",
          "height": 751
        },
        "outputId": "e1de5402-6615-45d3-bdce-39ff74ddbffe"
      },
      "outputs": [
        {
          "output_type": "stream",
          "name": "stderr",
          "text": [
            "<ipython-input-17-fcb944892705>:18: GradioDeprecationWarning: Usage of gradio.inputs is deprecated, and will not be supported in the future, please import your component from gradio.components\n",
            "  inputs = [gr.inputs.Slider(minimum=0, maximum=40), gr.inputs.Slider(minimum=0, maximum=100)], # Inputs with multiple values in a list\n",
            "<ipython-input-17-fcb944892705>:18: GradioDeprecationWarning: `optional` parameter is deprecated, and it has no effect\n",
            "  inputs = [gr.inputs.Slider(minimum=0, maximum=40), gr.inputs.Slider(minimum=0, maximum=100)], # Inputs with multiple values in a list\n",
            "<ipython-input-17-fcb944892705>:19: GradioDeprecationWarning: Usage of gradio.outputs is deprecated, and will not be supported in the future, please import your components from gradio.components\n",
            "  outputs = gr.outputs.JSON())\n"
          ]
        },
        {
          "output_type": "stream",
          "name": "stdout",
          "text": [
            "Colab notebook detected. To show errors in colab notebook, set debug=True in launch()\n",
            "Note: opening Chrome Inspector may crash demo inside Colab notebooks.\n",
            "\n",
            "To create a public link, set `share=True` in `launch()`.\n"
          ]
        },
        {
          "output_type": "display_data",
          "data": {
            "text/plain": [
              "<IPython.core.display.Javascript object>"
            ],
            "application/javascript": [
              "(async (port, path, width, height, cache, element) => {\n",
              "                        if (!google.colab.kernel.accessAllowed && !cache) {\n",
              "                            return;\n",
              "                        }\n",
              "                        element.appendChild(document.createTextNode(''));\n",
              "                        const url = await google.colab.kernel.proxyPort(port, {cache});\n",
              "\n",
              "                        const external_link = document.createElement('div');\n",
              "                        external_link.innerHTML = `\n",
              "                            <div style=\"font-family: monospace; margin-bottom: 0.5rem\">\n",
              "                                Running on <a href=${new URL(path, url).toString()} target=\"_blank\">\n",
              "                                    https://localhost:${port}${path}\n",
              "                                </a>\n",
              "                            </div>\n",
              "                        `;\n",
              "                        element.appendChild(external_link);\n",
              "\n",
              "                        const iframe = document.createElement('iframe');\n",
              "                        iframe.src = new URL(path, url).toString();\n",
              "                        iframe.height = height;\n",
              "                        iframe.allow = \"autoplay; camera; microphone; clipboard-read; clipboard-write;\"\n",
              "                        iframe.width = width;\n",
              "                        iframe.style.border = 0;\n",
              "                        element.appendChild(iframe);\n",
              "                    })(7870, \"/\", \"100%\", 500, false, window.element)"
            ]
          },
          "metadata": {}
        },
        {
          "output_type": "execute_result",
          "data": {
            "text/plain": []
          },
          "metadata": {},
          "execution_count": 17
        }
      ],
      "source": [
        "import json\n",
        "import gradio as gr\n",
        "\n",
        "def calculate_area(length: int, width: int) -> json:\n",
        "    area = length * width\n",
        "    if area > 20:\n",
        "        return {\n",
        "            \"area\": area,\n",
        "            \"size\": \"Large area\",\n",
        "        }\n",
        "    else:\n",
        "        return {\n",
        "            \"area\": area,\n",
        "            \"size\": \"Small area\",\n",
        "        }\n",
        "\n",
        "iface = gr.Interface(calculate_area,\n",
        "    inputs = [gr.inputs.Slider(minimum=0, maximum=40), gr.inputs.Slider(minimum=0, maximum=100)], # Inputs with multiple values in a list\n",
        "    outputs = gr.outputs.JSON())\n",
        "iface.launch()"
      ]
    },
    {
      "cell_type": "markdown",
      "metadata": {
        "id": "NqueShXQKScR"
      },
      "source": [
        "Note also that the value sent from the list in the input is read by the function that takes two parameters (adjusts to the list index) and we return the value in json form so that the output in Gradio using `IOComponent` is `gr.outputs.JSON()`"
      ]
    },
    {
      "cell_type": "markdown",
      "metadata": {
        "id": "mKIu2Q-4AWaB"
      },
      "source": [
        "What about multiple inputs with different components? Of course Gradio can also build this by adding radio buttons and drop-down menus in one `input` example:"
      ]
    },
    {
      "cell_type": "code",
      "execution_count": null,
      "metadata": {
        "id": "6cpBij6JKScR",
        "colab": {
          "base_uri": "https://localhost:8080/",
          "height": 788
        },
        "outputId": "18ed0ca3-ef28-4f1c-f034-8d3160fc82b1"
      },
      "outputs": [
        {
          "output_type": "stream",
          "name": "stderr",
          "text": [
            "<ipython-input-18-2251780f407c>:7: GradioDeprecationWarning: Usage of gradio.inputs is deprecated, and will not be supported in the future, please import your component from gradio.components\n",
            "  [gr.inputs.Textbox(), gr.inputs.Dropdown(choices=[\"Mr.\", \"Ms.\", \"Dr.\", \"Prof.\"])],\n",
            "<ipython-input-18-2251780f407c>:7: GradioDeprecationWarning: `optional` parameter is deprecated, and it has no effect\n",
            "  [gr.inputs.Textbox(), gr.inputs.Dropdown(choices=[\"Mr.\", \"Ms.\", \"Dr.\", \"Prof.\"])],\n",
            "<ipython-input-18-2251780f407c>:7: GradioDeprecationWarning: `numeric` parameter is deprecated, and it has no effect\n",
            "  [gr.inputs.Textbox(), gr.inputs.Dropdown(choices=[\"Mr.\", \"Ms.\", \"Dr.\", \"Prof.\"])],\n",
            "<ipython-input-18-2251780f407c>:8: GradioDeprecationWarning: Usage of gradio.outputs is deprecated, and will not be supported in the future, please import your components from gradio.components\n",
            "  gr.outputs.Textbox())\n"
          ]
        },
        {
          "output_type": "stream",
          "name": "stdout",
          "text": [
            "Colab notebook detected. To show errors in colab notebook, set debug=True in launch()\n",
            "Note: opening Chrome Inspector may crash demo inside Colab notebooks.\n",
            "\n",
            "To create a public link, set `share=True` in `launch()`.\n"
          ]
        },
        {
          "output_type": "display_data",
          "data": {
            "text/plain": [
              "<IPython.core.display.Javascript object>"
            ],
            "application/javascript": [
              "(async (port, path, width, height, cache, element) => {\n",
              "                        if (!google.colab.kernel.accessAllowed && !cache) {\n",
              "                            return;\n",
              "                        }\n",
              "                        element.appendChild(document.createTextNode(''));\n",
              "                        const url = await google.colab.kernel.proxyPort(port, {cache});\n",
              "\n",
              "                        const external_link = document.createElement('div');\n",
              "                        external_link.innerHTML = `\n",
              "                            <div style=\"font-family: monospace; margin-bottom: 0.5rem\">\n",
              "                                Running on <a href=${new URL(path, url).toString()} target=\"_blank\">\n",
              "                                    https://localhost:${port}${path}\n",
              "                                </a>\n",
              "                            </div>\n",
              "                        `;\n",
              "                        element.appendChild(external_link);\n",
              "\n",
              "                        const iframe = document.createElement('iframe');\n",
              "                        iframe.src = new URL(path, url).toString();\n",
              "                        iframe.height = height;\n",
              "                        iframe.allow = \"autoplay; camera; microphone; clipboard-read; clipboard-write;\"\n",
              "                        iframe.width = width;\n",
              "                        iframe.style.border = 0;\n",
              "                        element.appendChild(iframe);\n",
              "                    })(7871, \"/\", \"100%\", 500, false, window.element)"
            ]
          },
          "metadata": {}
        },
        {
          "output_type": "execute_result",
          "data": {
            "text/plain": []
          },
          "metadata": {},
          "execution_count": 18
        }
      ],
      "source": [
        "import gradio as gr\n",
        "\n",
        "def greet(name, title):\n",
        "    return f\"{title} {name}, nice to meet you!\"\n",
        "\n",
        "iface = gr.Interface(greet,\n",
        "    [gr.inputs.Textbox(), gr.inputs.Dropdown(choices=[\"Mr.\", \"Ms.\", \"Dr.\", \"Prof.\"])],\n",
        "    gr.outputs.Textbox())\n",
        "iface.launch()"
      ]
    },
    {
      "cell_type": "markdown",
      "metadata": {
        "id": "kbXuXyZ2KScR"
      },
      "source": [
        "Here we have a greeting function with a dropdown menu for users to select their title!"
      ]
    },
    {
      "cell_type": "markdown",
      "metadata": {
        "id": "VakoyrAmKScR"
      },
      "source": [
        "### Multiple Output"
      ]
    },
    {
      "cell_type": "markdown",
      "metadata": {
        "id": "uM-1-1rLKScR"
      },
      "source": [
        "What if you have a function that produces multiple outputs and you want to display all of them in the interface? Actually, Gradio can handle this perfectly. Let's look at an example where a function calculates the area and perimeter of a square given the length of its side:"
      ]
    },
    {
      "cell_type": "code",
      "execution_count": null,
      "metadata": {
        "id": "aGTH1tsTKScS",
        "colab": {
          "base_uri": "https://localhost:8080/",
          "height": 714
        },
        "outputId": "a3f8b461-9e93-48f2-f0f8-52514890ce25"
      },
      "outputs": [
        {
          "output_type": "stream",
          "name": "stderr",
          "text": [
            "<ipython-input-19-f42bdf4307e4>:11: GradioDeprecationWarning: Usage of gradio.inputs is deprecated, and will not be supported in the future, please import your component from gradio.components\n",
            "  inputs=gr.inputs.Slider(1, 10, 1, label=\"Length\"),\n",
            "<ipython-input-19-f42bdf4307e4>:11: GradioDeprecationWarning: `optional` parameter is deprecated, and it has no effect\n",
            "  inputs=gr.inputs.Slider(1, 10, 1, label=\"Length\"),\n"
          ]
        },
        {
          "output_type": "stream",
          "name": "stdout",
          "text": [
            "Colab notebook detected. To show errors in colab notebook, set debug=True in launch()\n",
            "Note: opening Chrome Inspector may crash demo inside Colab notebooks.\n",
            "\n",
            "To create a public link, set `share=True` in `launch()`.\n"
          ]
        },
        {
          "output_type": "display_data",
          "data": {
            "text/plain": [
              "<IPython.core.display.Javascript object>"
            ],
            "application/javascript": [
              "(async (port, path, width, height, cache, element) => {\n",
              "                        if (!google.colab.kernel.accessAllowed && !cache) {\n",
              "                            return;\n",
              "                        }\n",
              "                        element.appendChild(document.createTextNode(''));\n",
              "                        const url = await google.colab.kernel.proxyPort(port, {cache});\n",
              "\n",
              "                        const external_link = document.createElement('div');\n",
              "                        external_link.innerHTML = `\n",
              "                            <div style=\"font-family: monospace; margin-bottom: 0.5rem\">\n",
              "                                Running on <a href=${new URL(path, url).toString()} target=\"_blank\">\n",
              "                                    https://localhost:${port}${path}\n",
              "                                </a>\n",
              "                            </div>\n",
              "                        `;\n",
              "                        element.appendChild(external_link);\n",
              "\n",
              "                        const iframe = document.createElement('iframe');\n",
              "                        iframe.src = new URL(path, url).toString();\n",
              "                        iframe.height = height;\n",
              "                        iframe.allow = \"autoplay; camera; microphone; clipboard-read; clipboard-write;\"\n",
              "                        iframe.width = width;\n",
              "                        iframe.style.border = 0;\n",
              "                        element.appendChild(iframe);\n",
              "                    })(7872, \"/\", \"100%\", 500, false, window.element)"
            ]
          },
          "metadata": {}
        },
        {
          "output_type": "execute_result",
          "data": {
            "text/plain": []
          },
          "metadata": {},
          "execution_count": 19
        }
      ],
      "source": [
        "import gradio as gr\n",
        "\n",
        "def calculate_area_and_perimeter(length: int):\n",
        "    area = length * length\n",
        "    perimeter = 4 * length\n",
        "    return area, perimeter\n",
        "\n",
        "# To display multiple outputs, we use brackets `[...]` and list the types for each of the outputs. In this case, we have two numbers to display, so we have `outputs=[\"number\", \"number\"]`.\n",
        "\n",
        "iface = gr.Interface(calculate_area_and_perimeter,\n",
        "    inputs=gr.inputs.Slider(1, 10, 1, label=\"Length\"),\n",
        "    outputs=[\"number\", \"number\"])\n",
        "iface.launch()"
      ]
    },
    {
      "cell_type": "markdown",
      "metadata": {
        "id": "RTa-ajAcKScS"
      },
      "source": [
        "This will create a Gradio interface that allows the user to adjust the length of the square's side using a slider, and then it will display both the area and the perimeter of the square."
      ]
    },
    {
      "cell_type": "markdown",
      "metadata": {
        "id": "Ba9etMtCKScS"
      },
      "source": [
        "### Image Processing with Gradio"
      ]
    },
    {
      "cell_type": "markdown",
      "metadata": {
        "id": "AUw0cGaSKScS"
      },
      "source": [
        "Gradio is not just about numbers and text. It also supports a variety of other types, including images! Let's see an example where we create a Gradio interface that takes an image as input and outputs a grayscale version of the same image:"
      ]
    },
    {
      "cell_type": "code",
      "execution_count": null,
      "metadata": {
        "id": "m1dXg1ZyKScS",
        "colab": {
          "base_uri": "https://localhost:8080/",
          "height": 677
        },
        "outputId": "cabb66ce-7820-4734-b792-b93beab51b17"
      },
      "outputs": [
        {
          "output_type": "stream",
          "name": "stderr",
          "text": [
            "<ipython-input-20-2f71ae2ea404>:10: GradioDeprecationWarning: Usage of gradio.outputs is deprecated, and will not be supported in the future, please import your components from gradio.components\n",
            "  iface = gr.Interface(fn=to_grayscale, inputs=\"image\", outputs=gr.outputs.Image(type=\"numpy\"))\n"
          ]
        },
        {
          "output_type": "stream",
          "name": "stdout",
          "text": [
            "Colab notebook detected. To show errors in colab notebook, set debug=True in launch()\n",
            "Note: opening Chrome Inspector may crash demo inside Colab notebooks.\n",
            "\n",
            "To create a public link, set `share=True` in `launch()`.\n"
          ]
        },
        {
          "output_type": "display_data",
          "data": {
            "text/plain": [
              "<IPython.core.display.Javascript object>"
            ],
            "application/javascript": [
              "(async (port, path, width, height, cache, element) => {\n",
              "                        if (!google.colab.kernel.accessAllowed && !cache) {\n",
              "                            return;\n",
              "                        }\n",
              "                        element.appendChild(document.createTextNode(''));\n",
              "                        const url = await google.colab.kernel.proxyPort(port, {cache});\n",
              "\n",
              "                        const external_link = document.createElement('div');\n",
              "                        external_link.innerHTML = `\n",
              "                            <div style=\"font-family: monospace; margin-bottom: 0.5rem\">\n",
              "                                Running on <a href=${new URL(path, url).toString()} target=\"_blank\">\n",
              "                                    https://localhost:${port}${path}\n",
              "                                </a>\n",
              "                            </div>\n",
              "                        `;\n",
              "                        element.appendChild(external_link);\n",
              "\n",
              "                        const iframe = document.createElement('iframe');\n",
              "                        iframe.src = new URL(path, url).toString();\n",
              "                        iframe.height = height;\n",
              "                        iframe.allow = \"autoplay; camera; microphone; clipboard-read; clipboard-write;\"\n",
              "                        iframe.width = width;\n",
              "                        iframe.style.border = 0;\n",
              "                        element.appendChild(iframe);\n",
              "                    })(7873, \"/\", \"100%\", 500, false, window.element)"
            ]
          },
          "metadata": {}
        },
        {
          "output_type": "execute_result",
          "data": {
            "text/plain": []
          },
          "metadata": {},
          "execution_count": 20
        }
      ],
      "source": [
        "import gradio as gr\n",
        "from PIL import Image\n",
        "import numpy as np\n",
        "\n",
        "def to_grayscale(input_image: gr.inputs.Image) -> gr.outputs.Image:\n",
        "    pil_image = Image.fromarray(input_image)  # Convert the numpy array into a PIL Image object\n",
        "    grayscale_image = pil_image.convert('L')  # Convert the image to grayscale\n",
        "    return np.array(grayscale_image)  # Convert the PIL Image object back into a numpy array\n",
        "\n",
        "iface = gr.Interface(fn=to_grayscale, inputs=\"image\", outputs=gr.outputs.Image(type=\"numpy\"))\n",
        "iface.launch()"
      ]
    },
    {
      "cell_type": "markdown",
      "metadata": {
        "id": "JHG7tlJxKScT"
      },
      "source": [
        "This Gradio interface allows the user to upload an image, then it processes the image to create a grayscale version, and finally displays the grayscale image."
      ]
    },
    {
      "cell_type": "markdown",
      "metadata": {
        "id": "C81B3p6OKScT"
      },
      "source": [
        "As you can see, the sky's the limit for Gradio. It provides an end-to-end solution for rapid UI creation, allowing you to focus more on your models and less on user interface challenges."
      ]
    },
    {
      "cell_type": "markdown",
      "metadata": {
        "id": "RoLYOiQIKScT"
      },
      "source": [
        "## Understanding the Magic behind `launch()`"
      ]
    },
    {
      "cell_type": "markdown",
      "metadata": {
        "id": "d0tL2fUZKScT"
      },
      "source": [
        "To start the Gradio app and bring your Gradio interface to life, we use the `launch()` function. Here are some key parameters used with `launch()`:"
      ]
    },
    {
      "cell_type": "markdown",
      "metadata": {
        "id": "Y4O4HJuVKScT"
      },
      "source": [
        "### Share\n",
        "\n",
        "What if you created a great Gradio interface and now you want to share it with others? The `share` parameter is your friend here. By setting this parameter to `True`, you can make your interface accessible via a public link. However, remember that your model needs to be hosted on a server or cloud that's publicly accessible. You cannot share an interface running on your local machine. By default, `share` is set to `False`."
      ]
    },
    {
      "cell_type": "code",
      "execution_count": null,
      "metadata": {
        "id": "VyPLXZRfKScU",
        "colab": {
          "base_uri": "https://localhost:8080/",
          "height": 595
        },
        "outputId": "7b3e5444-7a16-4860-f38a-16ccedba3b3b"
      },
      "outputs": [
        {
          "output_type": "stream",
          "name": "stdout",
          "text": [
            "Colab notebook detected. To show errors in colab notebook, set debug=True in launch()\n",
            "Running on public URL: https://641ef0c7c44dcd7af2.gradio.live\n",
            "\n",
            "This share link expires in 72 hours. For free permanent hosting and GPU upgrades, run `gradio deploy` from Terminal to deploy to Spaces (https://huggingface.co/spaces)\n"
          ]
        },
        {
          "output_type": "display_data",
          "data": {
            "text/plain": [
              "<IPython.core.display.HTML object>"
            ],
            "text/html": [
              "<div><iframe src=\"https://641ef0c7c44dcd7af2.gradio.live\" width=\"100%\" height=\"500\" allow=\"autoplay; camera; microphone; clipboard-read; clipboard-write;\" frameborder=\"0\" allowfullscreen></iframe></div>"
            ]
          },
          "metadata": {}
        },
        {
          "output_type": "execute_result",
          "data": {
            "text/plain": []
          },
          "metadata": {},
          "execution_count": 21
        }
      ],
      "source": [
        "import gradio as gr\n",
        "\n",
        "def upper_case(text):\n",
        "    return text.upper()\n",
        "\n",
        "iface = gr.Interface(fn=upper_case, inputs=\"text\", outputs=\"text\")\n",
        "iface.launch(share=True)"
      ]
    },
    {
      "cell_type": "markdown",
      "metadata": {
        "id": "MSpRe3bZKScU"
      },
      "source": [
        "### Debug\n",
        "\n",
        "What if an error occurs in our Gradio application and we have to do debugging? Yes, Debugging can be a headache, especially when you are dealing with UIs. That's where the `debug` parameter comes into play. Setting this to `True` will give you detailed error messages if something goes wrong while running the UI. By default, `debug` is set to `False`."
      ]
    },
    {
      "cell_type": "markdown",
      "metadata": {
        "id": "j6j0NFPUKScU"
      },
      "source": [
        "Let's take a simple example where we unintentionally introduce an error into our function and see how to use the `debug` parameter to help us fix it."
      ]
    },
    {
      "cell_type": "markdown",
      "metadata": {
        "id": "ohqU-QhdKScX"
      },
      "source": [
        "Consider the following function that should return the length of the input string. However, we've written it incorrectly, as it tries to get the length of an integer, which will result in a TypeError."
      ]
    },
    {
      "cell_type": "code",
      "execution_count": null,
      "metadata": {
        "id": "_gT_d_XPKScX",
        "colab": {
          "base_uri": "https://localhost:8080/",
          "height": 620
        },
        "outputId": "d2d82930-4d1c-4a36-ca3c-ab05f5206091"
      },
      "outputs": [
        {
          "output_type": "stream",
          "name": "stdout",
          "text": [
            "Colab notebook detected. To show errors in colab notebook, set debug=True in launch()\n",
            "Note: opening Chrome Inspector may crash demo inside Colab notebooks.\n",
            "\n",
            "To create a public link, set `share=True` in `launch()`.\n"
          ]
        },
        {
          "output_type": "display_data",
          "data": {
            "text/plain": [
              "<IPython.core.display.Javascript object>"
            ],
            "application/javascript": [
              "(async (port, path, width, height, cache, element) => {\n",
              "                        if (!google.colab.kernel.accessAllowed && !cache) {\n",
              "                            return;\n",
              "                        }\n",
              "                        element.appendChild(document.createTextNode(''));\n",
              "                        const url = await google.colab.kernel.proxyPort(port, {cache});\n",
              "\n",
              "                        const external_link = document.createElement('div');\n",
              "                        external_link.innerHTML = `\n",
              "                            <div style=\"font-family: monospace; margin-bottom: 0.5rem\">\n",
              "                                Running on <a href=${new URL(path, url).toString()} target=\"_blank\">\n",
              "                                    https://localhost:${port}${path}\n",
              "                                </a>\n",
              "                            </div>\n",
              "                        `;\n",
              "                        element.appendChild(external_link);\n",
              "\n",
              "                        const iframe = document.createElement('iframe');\n",
              "                        iframe.src = new URL(path, url).toString();\n",
              "                        iframe.height = height;\n",
              "                        iframe.allow = \"autoplay; camera; microphone; clipboard-read; clipboard-write;\"\n",
              "                        iframe.width = width;\n",
              "                        iframe.style.border = 0;\n",
              "                        element.appendChild(iframe);\n",
              "                    })(7875, \"/\", \"100%\", 500, false, window.element)"
            ]
          },
          "metadata": {}
        },
        {
          "output_type": "execute_result",
          "data": {
            "text/plain": []
          },
          "metadata": {},
          "execution_count": 22
        }
      ],
      "source": [
        "import gradio as gr\n",
        "\n",
        "def string_length(text):\n",
        "    return len(5)  # This will cause a TypeError: object of type 'int' has no len()\n",
        "\n",
        "iface = gr.Interface(fn=string_length, inputs=\"text\", outputs=\"text\")\n",
        "iface.launch()"
      ]
    },
    {
      "cell_type": "markdown",
      "metadata": {
        "id": "XfhgFzcHKScX"
      },
      "source": [
        " This will fail silently because we haven't enabled debugging yet. Let's try it again, but this time with `debug=True`."
      ]
    },
    {
      "cell_type": "code",
      "execution_count": null,
      "metadata": {
        "id": "1815IkZkKScX",
        "colab": {
          "base_uri": "https://localhost:8080/",
          "height": 1000
        },
        "outputId": "48d1ebd0-3a6b-4358-aa65-76e0d35ac43f"
      },
      "outputs": [
        {
          "output_type": "stream",
          "name": "stdout",
          "text": [
            "Colab notebook detected. This cell will run indefinitely so that you can see errors and logs. To turn off, set debug=False in launch().\n",
            "Note: opening Chrome Inspector may crash demo inside Colab notebooks.\n",
            "\n",
            "To create a public link, set `share=True` in `launch()`.\n"
          ]
        },
        {
          "output_type": "display_data",
          "data": {
            "text/plain": [
              "<IPython.core.display.Javascript object>"
            ],
            "application/javascript": [
              "(async (port, path, width, height, cache, element) => {\n",
              "                        if (!google.colab.kernel.accessAllowed && !cache) {\n",
              "                            return;\n",
              "                        }\n",
              "                        element.appendChild(document.createTextNode(''));\n",
              "                        const url = await google.colab.kernel.proxyPort(port, {cache});\n",
              "\n",
              "                        const external_link = document.createElement('div');\n",
              "                        external_link.innerHTML = `\n",
              "                            <div style=\"font-family: monospace; margin-bottom: 0.5rem\">\n",
              "                                Running on <a href=${new URL(path, url).toString()} target=\"_blank\">\n",
              "                                    https://localhost:${port}${path}\n",
              "                                </a>\n",
              "                            </div>\n",
              "                        `;\n",
              "                        element.appendChild(external_link);\n",
              "\n",
              "                        const iframe = document.createElement('iframe');\n",
              "                        iframe.src = new URL(path, url).toString();\n",
              "                        iframe.height = height;\n",
              "                        iframe.allow = \"autoplay; camera; microphone; clipboard-read; clipboard-write;\"\n",
              "                        iframe.width = width;\n",
              "                        iframe.style.border = 0;\n",
              "                        element.appendChild(iframe);\n",
              "                    })(7876, \"/\", \"100%\", 500, false, window.element)"
            ]
          },
          "metadata": {}
        },
        {
          "output_type": "stream",
          "name": "stderr",
          "text": [
            "Traceback (most recent call last):\n",
            "  File \"/usr/local/lib/python3.10/dist-packages/gradio/routes.py\", line 507, in predict\n",
            "    output = await route_utils.call_process_api(\n",
            "  File \"/usr/local/lib/python3.10/dist-packages/gradio/route_utils.py\", line 219, in call_process_api\n",
            "    output = await app.get_blocks().process_api(\n",
            "  File \"/usr/local/lib/python3.10/dist-packages/gradio/blocks.py\", line 1437, in process_api\n",
            "    result = await self.call_function(\n",
            "  File \"/usr/local/lib/python3.10/dist-packages/gradio/blocks.py\", line 1109, in call_function\n",
            "    prediction = await anyio.to_thread.run_sync(\n",
            "  File \"/usr/local/lib/python3.10/dist-packages/anyio/to_thread.py\", line 33, in run_sync\n",
            "    return await get_asynclib().run_sync_in_worker_thread(\n",
            "  File \"/usr/local/lib/python3.10/dist-packages/anyio/_backends/_asyncio.py\", line 877, in run_sync_in_worker_thread\n",
            "    return await future\n",
            "  File \"/usr/local/lib/python3.10/dist-packages/anyio/_backends/_asyncio.py\", line 807, in run\n",
            "    result = context.run(func, *args)\n",
            "  File \"/usr/local/lib/python3.10/dist-packages/gradio/utils.py\", line 641, in wrapper\n",
            "    response = f(*args, **kwargs)\n",
            "  File \"<ipython-input-23-3456a3c5ad5f>\", line 4, in string_length\n",
            "    return len(5)  # This will cause a TypeError: object of type 'int' has no len()\n",
            "TypeError: object of type 'int' has no len()\n"
          ]
        },
        {
          "output_type": "stream",
          "name": "stdout",
          "text": [
            "Keyboard interruption in main thread... closing server.\n",
            "Killing tunnel 127.0.0.1:7874 <> https://641ef0c7c44dcd7af2.gradio.live\n"
          ]
        },
        {
          "output_type": "execute_result",
          "data": {
            "text/plain": []
          },
          "metadata": {},
          "execution_count": 23
        }
      ],
      "source": [
        "import gradio as gr\n",
        "\n",
        "def string_length(text):\n",
        "    return len(5)  # This will cause a TypeError: object of type 'int' has no len()\n",
        "\n",
        "iface = gr.Interface(fn=string_length, inputs=\"text\", outputs=\"text\")\n",
        "iface.launch(debug=True)"
      ]
    },
    {
      "cell_type": "markdown",
      "metadata": {
        "id": "6E5DyT4dKScX"
      },
      "source": [
        "Now you will see a detailed error trace in the console, which will help you debug the issue. Here's the error trace:\n",
        "\n",
        "```bash\n",
        "TypeError: object of type 'int' has no len()\n",
        "```\n",
        "\n",
        "This message suggests there's a TypeError because we're trying to get the length of an integer.\n",
        "To correct it, we need to replace the integer with the `text` parameter in the len function as below:"
      ]
    },
    {
      "cell_type": "code",
      "execution_count": null,
      "metadata": {
        "id": "xI8gtb_1KScX"
      },
      "outputs": [],
      "source": [
        "import gradio as gr\n",
        "\n",
        "def string_length(text):\n",
        "    return len(text)  # Correctly gets the length of the input string\n",
        "\n",
        "iface = gr.Interface(fn=string_length, inputs=\"text\", outputs=\"text\")\n",
        "iface.launch(debug=True)"
      ]
    },
    {
      "cell_type": "markdown",
      "metadata": {
        "id": "sz2Wwf5RKScY"
      },
      "source": [
        "Now, the interface should work as expected and return the length of the user's input string."
      ]
    },
    {
      "cell_type": "markdown",
      "metadata": {
        "id": "w-rnlFAMKScY"
      },
      "source": [
        "## Exercise"
      ]
    },
    {
      "cell_type": "code",
      "execution_count": null,
      "metadata": {
        "id": "O6Wr5oHKKScY"
      },
      "outputs": [],
      "source": [
        "# @title #### 02 Name and Age Greetings App\n",
        "\n",
        "# In this exercise, you are going to create a Gradio interface for an application that greets the user in a more personalized way.\n",
        "# Your Gradio interface should take two inputs: the user's name and their age. The interface should return two outputs: a greeting that includes the user's name and a message based on the user's age.\n",
        "\n",
        "# For example, if a user inputs \"John\" for the name and \"25\" for the age, the application might return, \"Hello, John!\" and \"You're in the prime of your youth!\"\n",
        "\n",
        "# These are the rules for age_message:\n",
        "# - If user is younger than 18   : \"Enjoy your youth, life is an adventure waiting!\"\n",
        "# - If user is between 18 and 29 : \"You're in the prime of your youth!\"\n",
        "# - If user is between 30 and 49 : \"You are old enough to know better and still young enough to do it.\"\n",
        "# - If user is 50 or older       : \"ge is just a state of mind!\"\n",
        "\n",
        "# Put your code here:\n",
        "import gradio as gr\n",
        "\n",
        "def personalized_greeting(name, age):\n",
        "    greetings = \"\"\n",
        "    age_message = \"\"\n",
        "    return greetings, age_message\n",
        "\n",
        "iface = None\n",
        "\n",
        "\n",
        "\n",
        "# ---- End of your code ----\n",
        "\n",
        "# Submit Method\n",
        "assignment_id = \"00_gradio\"\n",
        "question_id = \"02_gradio_personalized_greeting\"\n",
        "submit(student_id, name, assignment_id, str(personalized_greeting(\"John\", 25)), question_id, drive_link)"
      ]
    },
    {
      "cell_type": "markdown",
      "metadata": {
        "id": "6gM4gJpNKScY"
      },
      "source": [
        "## Now, the Fun Part - Building Mini Apps with Gradio!"
      ]
    },
    {
      "cell_type": "markdown",
      "metadata": {
        "id": "biE_kyUqKScY"
      },
      "source": [
        "### Case 1: Age Predictor Mini-App\n",
        "\n",
        "Suppose we have a machine learning model that predicts a person's age based on their name (for the sake of simplicity, let's define a dummy model here). We could build an intuitive user interface using Gradio:"
      ]
    },
    {
      "cell_type": "code",
      "execution_count": null,
      "metadata": {
        "id": "UPZkiDILKScY",
        "colab": {
          "base_uri": "https://localhost:8080/",
          "height": 620
        },
        "outputId": "ea4ad208-2ed7-40cc-8494-a34ad0841300"
      },
      "outputs": [
        {
          "output_type": "stream",
          "name": "stdout",
          "text": [
            "Colab notebook detected. To show errors in colab notebook, set debug=True in launch()\n",
            "Note: opening Chrome Inspector may crash demo inside Colab notebooks.\n",
            "\n",
            "To create a public link, set `share=True` in `launch()`.\n"
          ]
        },
        {
          "output_type": "display_data",
          "data": {
            "text/plain": [
              "<IPython.core.display.Javascript object>"
            ],
            "application/javascript": [
              "(async (port, path, width, height, cache, element) => {\n",
              "                        if (!google.colab.kernel.accessAllowed && !cache) {\n",
              "                            return;\n",
              "                        }\n",
              "                        element.appendChild(document.createTextNode(''));\n",
              "                        const url = await google.colab.kernel.proxyPort(port, {cache});\n",
              "\n",
              "                        const external_link = document.createElement('div');\n",
              "                        external_link.innerHTML = `\n",
              "                            <div style=\"font-family: monospace; margin-bottom: 0.5rem\">\n",
              "                                Running on <a href=${new URL(path, url).toString()} target=\"_blank\">\n",
              "                                    https://localhost:${port}${path}\n",
              "                                </a>\n",
              "                            </div>\n",
              "                        `;\n",
              "                        element.appendChild(external_link);\n",
              "\n",
              "                        const iframe = document.createElement('iframe');\n",
              "                        iframe.src = new URL(path, url).toString();\n",
              "                        iframe.height = height;\n",
              "                        iframe.allow = \"autoplay; camera; microphone; clipboard-read; clipboard-write;\"\n",
              "                        iframe.width = width;\n",
              "                        iframe.style.border = 0;\n",
              "                        element.appendChild(iframe);\n",
              "                    })(7876, \"/\", \"100%\", 500, false, window.element)"
            ]
          },
          "metadata": {}
        },
        {
          "output_type": "execute_result",
          "data": {
            "text/plain": []
          },
          "metadata": {},
          "execution_count": 24
        }
      ],
      "source": [
        "import gradio as gr\n",
        "\n",
        "def age_predictor(name):\n",
        "    # Let's pretend that our model predicts age 25 for every name\n",
        "    prediction = 25\n",
        "    return f\"The predicted age for {name} is: {prediction}\"\n",
        "\n",
        "iface = gr.Interface(age_predictor, \"text\", \"text\")\n",
        "iface.launch()"
      ]
    },
    {
      "cell_type": "markdown",
      "metadata": {
        "id": "PWMY8ACkKScZ"
      },
      "source": [
        "Voilà! Our app is ready to use. As usual, you just wrote a Python function, and Gradio transformed it into an interactive web-based app!"
      ]
    },
    {
      "cell_type": "markdown",
      "metadata": {
        "id": "rivrbAboKScZ"
      },
      "source": [
        "### Case 2: Image Classifier Mini-App"
      ]
    },
    {
      "cell_type": "markdown",
      "metadata": {
        "id": "T0UnSRjvKScZ"
      },
      "source": [
        "Let's tackle something a bit more complex now. Assume we have an image classification model to classify a given image into different categories. We want to expand our model's use to those who understand machine learning or programming. So, let's build a web-based app using Gradio:"
      ]
    },
    {
      "cell_type": "code",
      "execution_count": null,
      "metadata": {
        "id": "af3OUIvRKScZ",
        "colab": {
          "base_uri": "https://localhost:8080/",
          "height": 788
        },
        "outputId": "2e0444c8-473b-4a72-a44c-5d7e9b3e440a"
      },
      "outputs": [
        {
          "output_type": "stream",
          "name": "stderr",
          "text": [
            "<ipython-input-25-7b8f5a717b18>:5: GradioDeprecationWarning: Usage of gradio.inputs is deprecated, and will not be supported in the future, please import your component from gradio.components\n",
            "  image = gr.inputs.Image(shape=(224, 224))\n",
            "<ipython-input-25-7b8f5a717b18>:5: GradioDeprecationWarning: `optional` parameter is deprecated, and it has no effect\n",
            "  image = gr.inputs.Image(shape=(224, 224))\n",
            "<ipython-input-25-7b8f5a717b18>:6: GradioDeprecationWarning: Usage of gradio.outputs is deprecated, and will not be supported in the future, please import your components from gradio.components\n",
            "  label = gr.outputs.Label(num_top_classes=3)\n",
            "<ipython-input-25-7b8f5a717b18>:6: GradioUnusedKwargWarning: You have unused kwarg parameters in Label, please remove them: {'type': 'auto'}\n",
            "  label = gr.outputs.Label(num_top_classes=3)\n"
          ]
        },
        {
          "output_type": "stream",
          "name": "stdout",
          "text": [
            "Colab notebook detected. To show errors in colab notebook, set debug=True in launch()\n",
            "Note: opening Chrome Inspector may crash demo inside Colab notebooks.\n",
            "\n",
            "To create a public link, set `share=True` in `launch()`.\n"
          ]
        },
        {
          "output_type": "display_data",
          "data": {
            "text/plain": [
              "<IPython.core.display.Javascript object>"
            ],
            "application/javascript": [
              "(async (port, path, width, height, cache, element) => {\n",
              "                        if (!google.colab.kernel.accessAllowed && !cache) {\n",
              "                            return;\n",
              "                        }\n",
              "                        element.appendChild(document.createTextNode(''));\n",
              "                        const url = await google.colab.kernel.proxyPort(port, {cache});\n",
              "\n",
              "                        const external_link = document.createElement('div');\n",
              "                        external_link.innerHTML = `\n",
              "                            <div style=\"font-family: monospace; margin-bottom: 0.5rem\">\n",
              "                                Running on <a href=${new URL(path, url).toString()} target=\"_blank\">\n",
              "                                    https://localhost:${port}${path}\n",
              "                                </a>\n",
              "                            </div>\n",
              "                        `;\n",
              "                        element.appendChild(external_link);\n",
              "\n",
              "                        const iframe = document.createElement('iframe');\n",
              "                        iframe.src = new URL(path, url).toString();\n",
              "                        iframe.height = height;\n",
              "                        iframe.allow = \"autoplay; camera; microphone; clipboard-read; clipboard-write;\"\n",
              "                        iframe.width = width;\n",
              "                        iframe.style.border = 0;\n",
              "                        element.appendChild(iframe);\n",
              "                    })(7877, \"/\", \"100%\", 500, false, window.element)"
            ]
          },
          "metadata": {}
        },
        {
          "output_type": "execute_result",
          "data": {
            "text/plain": []
          },
          "metadata": {},
          "execution_count": 25
        }
      ],
      "source": [
        "def classify_image(inp):\n",
        "    # For the sake of simplicity, let's say our model always predicts 'cat'\n",
        "    return {'cat': 0.99, 'dog': 0.01, 'bird': 0.00}\n",
        "\n",
        "image = gr.inputs.Image(shape=(224, 224))\n",
        "label = gr.outputs.Label(num_top_classes=3)\n",
        "\n",
        "iface = gr.Interface(classify_image, image, label)\n",
        "iface.launch()"
      ]
    },
    {
      "cell_type": "markdown",
      "metadata": {
        "id": "PGdK574PKScZ"
      },
      "source": [
        "That's it! Any user can now upload an image and get an instant prediction from your image classification model without writing a single line of code!"
      ]
    },
    {
      "cell_type": "markdown",
      "metadata": {
        "id": "pE5mK19jKScZ"
      },
      "source": [
        "### Case 4: Text Translation Mini-App"
      ]
    },
    {
      "cell_type": "markdown",
      "metadata": {
        "id": "V7O1YsRhKScZ"
      },
      "source": [
        "Let's consider a more advanced use case: text translation. If you have a text translation model that can translate English text into French (for example), Gradio can help bring it to life:"
      ]
    },
    {
      "cell_type": "code",
      "execution_count": null,
      "metadata": {
        "id": "W5dxOhDoKScZ",
        "colab": {
          "base_uri": "https://localhost:8080/",
          "height": 620
        },
        "outputId": "3558eddb-2d69-47ab-ab62-a5e912a6eaa0"
      },
      "outputs": [
        {
          "output_type": "stream",
          "name": "stdout",
          "text": [
            "Colab notebook detected. To show errors in colab notebook, set debug=True in launch()\n",
            "Note: opening Chrome Inspector may crash demo inside Colab notebooks.\n",
            "\n",
            "To create a public link, set `share=True` in `launch()`.\n"
          ]
        },
        {
          "output_type": "display_data",
          "data": {
            "text/plain": [
              "<IPython.core.display.Javascript object>"
            ],
            "application/javascript": [
              "(async (port, path, width, height, cache, element) => {\n",
              "                        if (!google.colab.kernel.accessAllowed && !cache) {\n",
              "                            return;\n",
              "                        }\n",
              "                        element.appendChild(document.createTextNode(''));\n",
              "                        const url = await google.colab.kernel.proxyPort(port, {cache});\n",
              "\n",
              "                        const external_link = document.createElement('div');\n",
              "                        external_link.innerHTML = `\n",
              "                            <div style=\"font-family: monospace; margin-bottom: 0.5rem\">\n",
              "                                Running on <a href=${new URL(path, url).toString()} target=\"_blank\">\n",
              "                                    https://localhost:${port}${path}\n",
              "                                </a>\n",
              "                            </div>\n",
              "                        `;\n",
              "                        element.appendChild(external_link);\n",
              "\n",
              "                        const iframe = document.createElement('iframe');\n",
              "                        iframe.src = new URL(path, url).toString();\n",
              "                        iframe.height = height;\n",
              "                        iframe.allow = \"autoplay; camera; microphone; clipboard-read; clipboard-write;\"\n",
              "                        iframe.width = width;\n",
              "                        iframe.style.border = 0;\n",
              "                        element.appendChild(iframe);\n",
              "                    })(7878, \"/\", \"100%\", 500, false, window.element)"
            ]
          },
          "metadata": {}
        },
        {
          "output_type": "execute_result",
          "data": {
            "text/plain": []
          },
          "metadata": {},
          "execution_count": 26
        }
      ],
      "source": [
        "def translate_text(input):\n",
        "    # Here is a dummy translation function.\n",
        "    return \"C'est un bel exemple de texte français.\"\n",
        "\n",
        "iface = gr.Interface(translate_text, \"text\", \"text\")\n",
        "iface.launch()"
      ]
    },
    {
      "cell_type": "markdown",
      "metadata": {
        "id": "OGxccCwyKSca"
      },
      "source": [
        "With Gradio, users can now test your text translation model interactively, making your model more accessible than ever!"
      ]
    },
    {
      "cell_type": "markdown",
      "metadata": {
        "id": "w3tw7QagKSca"
      },
      "source": [
        "### Complex Gradio Interface: Recipe Finder Mini-App"
      ]
    },
    {
      "cell_type": "markdown",
      "metadata": {
        "id": "wyDmkzDoKSca"
      },
      "source": [
        "Suppose we have a model that can recommend a possible dish and its recipe given a set of ingredients. Let's build a web-based UI for our model using Gradio."
      ]
    },
    {
      "cell_type": "code",
      "execution_count": null,
      "metadata": {
        "id": "MKVoEjVHKSca",
        "colab": {
          "base_uri": "https://localhost:8080/",
          "height": 899
        },
        "outputId": "5de8834e-e8d2-48e5-b0b3-811ffaced901"
      },
      "outputs": [
        {
          "output_type": "stream",
          "name": "stderr",
          "text": [
            "<ipython-input-27-01654c740403>:9: GradioDeprecationWarning: Usage of gradio.inputs is deprecated, and will not be supported in the future, please import your component from gradio.components\n",
            "  ingredients_input = gr.inputs.Textbox(lines=5, label=\"Input Ingredients (comma-separated)\")\n",
            "<ipython-input-27-01654c740403>:9: GradioDeprecationWarning: `optional` parameter is deprecated, and it has no effect\n",
            "  ingredients_input = gr.inputs.Textbox(lines=5, label=\"Input Ingredients (comma-separated)\")\n",
            "<ipython-input-27-01654c740403>:9: GradioDeprecationWarning: `numeric` parameter is deprecated, and it has no effect\n",
            "  ingredients_input = gr.inputs.Textbox(lines=5, label=\"Input Ingredients (comma-separated)\")\n",
            "<ipython-input-27-01654c740403>:12: GradioDeprecationWarning: Usage of gradio.inputs is deprecated, and will not be supported in the future, please import your component from gradio.components\n",
            "  cuisine_input = gr.inputs.Dropdown(choices=[\"Italian\", \"Mexican\", \"Indian\", \"Chinese\", \"American\"], label=\"Cuisine Preference\")\n",
            "<ipython-input-27-01654c740403>:12: GradioDeprecationWarning: `optional` parameter is deprecated, and it has no effect\n",
            "  cuisine_input = gr.inputs.Dropdown(choices=[\"Italian\", \"Mexican\", \"Indian\", \"Chinese\", \"American\"], label=\"Cuisine Preference\")\n",
            "<ipython-input-27-01654c740403>:15: GradioDeprecationWarning: Usage of gradio.inputs is deprecated, and will not be supported in the future, please import your component from gradio.components\n",
            "  vegetarian_input = gr.inputs.Checkbox(label=\"Vegetarian\")\n",
            "<ipython-input-27-01654c740403>:15: GradioDeprecationWarning: `optional` parameter is deprecated, and it has no effect\n",
            "  vegetarian_input = gr.inputs.Checkbox(label=\"Vegetarian\")\n"
          ]
        },
        {
          "output_type": "stream",
          "name": "stdout",
          "text": [
            "Colab notebook detected. To show errors in colab notebook, set debug=True in launch()\n",
            "Note: opening Chrome Inspector may crash demo inside Colab notebooks.\n",
            "\n",
            "To create a public link, set `share=True` in `launch()`.\n"
          ]
        },
        {
          "output_type": "display_data",
          "data": {
            "text/plain": [
              "<IPython.core.display.Javascript object>"
            ],
            "application/javascript": [
              "(async (port, path, width, height, cache, element) => {\n",
              "                        if (!google.colab.kernel.accessAllowed && !cache) {\n",
              "                            return;\n",
              "                        }\n",
              "                        element.appendChild(document.createTextNode(''));\n",
              "                        const url = await google.colab.kernel.proxyPort(port, {cache});\n",
              "\n",
              "                        const external_link = document.createElement('div');\n",
              "                        external_link.innerHTML = `\n",
              "                            <div style=\"font-family: monospace; margin-bottom: 0.5rem\">\n",
              "                                Running on <a href=${new URL(path, url).toString()} target=\"_blank\">\n",
              "                                    https://localhost:${port}${path}\n",
              "                                </a>\n",
              "                            </div>\n",
              "                        `;\n",
              "                        element.appendChild(external_link);\n",
              "\n",
              "                        const iframe = document.createElement('iframe');\n",
              "                        iframe.src = new URL(path, url).toString();\n",
              "                        iframe.height = height;\n",
              "                        iframe.allow = \"autoplay; camera; microphone; clipboard-read; clipboard-write;\"\n",
              "                        iframe.width = width;\n",
              "                        iframe.style.border = 0;\n",
              "                        element.appendChild(iframe);\n",
              "                    })(7879, \"/\", \"100%\", 500, false, window.element)"
            ]
          },
          "metadata": {}
        },
        {
          "output_type": "execute_result",
          "data": {
            "text/plain": []
          },
          "metadata": {},
          "execution_count": 27
        }
      ],
      "source": [
        "import gradio as gr\n",
        "\n",
        "def suggest_recipe(ingredients, cuisine, vegetarian):\n",
        "    # Our function receives a list of ingredients, cuisine preference, and a vegetarian flag\n",
        "    # For simplicity, let's return a dummy recipe here\n",
        "    return \"Recipe: Dummy Recipe\"\n",
        "\n",
        "# Multi-option input for ingredients, with autocomplete feature\n",
        "ingredients_input = gr.inputs.Textbox(lines=5, label=\"Input Ingredients (comma-separated)\")\n",
        "\n",
        "# Dropdown for cuisine preference\n",
        "cuisine_input = gr.inputs.Dropdown(choices=[\"Italian\", \"Mexican\", \"Indian\", \"Chinese\", \"American\"], label=\"Cuisine Preference\")\n",
        "\n",
        "# Checkbox for vegetarian preference\n",
        "vegetarian_input = gr.inputs.Checkbox(label=\"Vegetarian\")\n",
        "\n",
        "iface = gr.Interface(suggest_recipe, [ingredients_input, cuisine_input, vegetarian_input], \"text\")\n",
        "iface.launch()"
      ]
    },
    {
      "cell_type": "markdown",
      "metadata": {
        "id": "zqcrYFRKKSca"
      },
      "source": [
        "Voila! We have created a more complex Gradio interface for our recipe-finding model. Users can input a list of ingredients, select their cuisine preference from a dropdown list, tick a checkbox if they want a vegetarian recipe, and our model will suggest a suitable recipe!"
      ]
    },
    {
      "cell_type": "markdown",
      "metadata": {
        "id": "GkAHVM6pKSca"
      },
      "source": [
        "Combining different Gradio components allows you to build incredibly rich and interactive UIs for your machine-learning models. Not only does Gradio make your models more accessible to a broader audience, but it also enhances the overall user experience, making your models easier to understand and interact with!"
      ]
    },
    {
      "cell_type": "markdown",
      "metadata": {
        "id": "4uuNgKNpAWaB"
      },
      "source": [
        "### Sentiment Analysis with Gradio & Hugging Face"
      ]
    },
    {
      "cell_type": "markdown",
      "metadata": {
        "id": "0f3Nz47lAWaB"
      },
      "source": [
        "Gradio allows easy creation of a web-based UI for our model. We'll use Hugging Face's pipeline to simplify loading the model and tokenizer."
      ]
    },
    {
      "cell_type": "code",
      "execution_count": null,
      "metadata": {
        "id": "V_y8SgCNAWaB",
        "colab": {
          "base_uri": "https://localhost:8080/",
          "height": 805,
          "referenced_widgets": [
            "3a18b7d39df64f00a04d89ab739efaa9",
            "76c8e811eb00494db9fb989797d26846",
            "6c41e9c7e3434a0a98ea8747bfb401d0",
            "11a6a5e6106b40f3bee385bf329245b5",
            "dc81d05d87434f8aa973a11545732bd0",
            "e91af4db8dd04c938b103c48d4ea10e3",
            "38483a530fb04f4ea792153503b6533b",
            "48ab571911494e8b84003337ab3090c2",
            "01b08384432f4717be4617d003340f1f",
            "787b239c3af54cdb95d1e7b2afef3ce5",
            "59a0683282eb4ce4ab84f12d48ebc9dd",
            "ca459ee757f2460d9a5800365e25986c",
            "cbd8eb1a058b4f279e582308c4c98f15",
            "80c43e1da0774869b04a3e9ff9b4c715",
            "8f20fc72009b4aa19f17afa9fce5b271",
            "d5e0a78b79384fda9f87d4f3a98f5225",
            "fe5dcfd88cd143eabf961ded86ef5e8d",
            "d3ec1669f79f4ae3a597fef2f7dcee39",
            "d77127dd378048f39fd803b257a52a21",
            "64924ca600144dadaef903ca88d7c358",
            "f571f22bbeb948b3b989ef4f5ed57d65",
            "0efbb2c7c7b24294bf37aa4bdc915995",
            "a2124030bf014934a036ae750b8a685f",
            "bbaf7223223f4d5896a5e44531c6b060",
            "b724104ea57443fd91223d4661d9ce9d",
            "3c18b626f7c045eab8359a97db638876",
            "9df78f72db6c4e59837dc24cccb4a083",
            "1ca119259f0b4736ae89188fc0ee45db",
            "77407fe2e110468b861d83a515462ccc",
            "041661ffdcce4374baac61974bc7a968",
            "15828ccc37574707a23f45185a9f771c",
            "70daef998c0a4837bf3f68672f2b16a8",
            "54b9d4be40cf4d6386429f5b639d4365",
            "848e5075c6a44563b1af5a6b2e3132ae",
            "e49e6952f3a145d28a8b6c2ec8fc4c20",
            "f14abb1257e4489388e25e2913f45e58",
            "f37b3b033a2948928d5f881112e09801",
            "095c303f828a474e863409bdcbc118ff",
            "aadd52cf729e4e9880213918bedf2019",
            "4d1aa6d172094fbda2bf2f914e956a53",
            "89a1e5b551e8473fa9fda249f0afe736",
            "dc1bd936783d41c5ac1f592b274a47ae",
            "09e71470c3f64b138273c4ca0422635f",
            "586bbfd00fc447879fd636cae6b4e164"
          ]
        },
        "outputId": "a173d668-3a7b-4a47-d515-e7e9a7357d42"
      },
      "outputs": [
        {
          "output_type": "stream",
          "name": "stderr",
          "text": [
            "No model was supplied, defaulted to distilbert-base-uncased-finetuned-sst-2-english and revision af0f99b (https://huggingface.co/distilbert-base-uncased-finetuned-sst-2-english).\n",
            "Using a pipeline without specifying a model name and revision in production is not recommended.\n"
          ]
        },
        {
          "output_type": "display_data",
          "data": {
            "text/plain": [
              "Downloading (…)lve/main/config.json:   0%|          | 0.00/629 [00:00<?, ?B/s]"
            ],
            "application/vnd.jupyter.widget-view+json": {
              "version_major": 2,
              "version_minor": 0,
              "model_id": "3a18b7d39df64f00a04d89ab739efaa9"
            }
          },
          "metadata": {}
        },
        {
          "output_type": "display_data",
          "data": {
            "text/plain": [
              "Downloading model.safetensors:   0%|          | 0.00/268M [00:00<?, ?B/s]"
            ],
            "application/vnd.jupyter.widget-view+json": {
              "version_major": 2,
              "version_minor": 0,
              "model_id": "ca459ee757f2460d9a5800365e25986c"
            }
          },
          "metadata": {}
        },
        {
          "output_type": "display_data",
          "data": {
            "text/plain": [
              "Downloading (…)okenizer_config.json:   0%|          | 0.00/48.0 [00:00<?, ?B/s]"
            ],
            "application/vnd.jupyter.widget-view+json": {
              "version_major": 2,
              "version_minor": 0,
              "model_id": "a2124030bf014934a036ae750b8a685f"
            }
          },
          "metadata": {}
        },
        {
          "output_type": "display_data",
          "data": {
            "text/plain": [
              "Downloading (…)solve/main/vocab.txt:   0%|          | 0.00/232k [00:00<?, ?B/s]"
            ],
            "application/vnd.jupyter.widget-view+json": {
              "version_major": 2,
              "version_minor": 0,
              "model_id": "848e5075c6a44563b1af5a6b2e3132ae"
            }
          },
          "metadata": {}
        },
        {
          "output_type": "stream",
          "name": "stdout",
          "text": [
            "Colab notebook detected. To show errors in colab notebook, set debug=True in launch()\n",
            "Note: opening Chrome Inspector may crash demo inside Colab notebooks.\n",
            "\n",
            "To create a public link, set `share=True` in `launch()`.\n"
          ]
        },
        {
          "output_type": "display_data",
          "data": {
            "text/plain": [
              "<IPython.core.display.Javascript object>"
            ],
            "application/javascript": [
              "(async (port, path, width, height, cache, element) => {\n",
              "                        if (!google.colab.kernel.accessAllowed && !cache) {\n",
              "                            return;\n",
              "                        }\n",
              "                        element.appendChild(document.createTextNode(''));\n",
              "                        const url = await google.colab.kernel.proxyPort(port, {cache});\n",
              "\n",
              "                        const external_link = document.createElement('div');\n",
              "                        external_link.innerHTML = `\n",
              "                            <div style=\"font-family: monospace; margin-bottom: 0.5rem\">\n",
              "                                Running on <a href=${new URL(path, url).toString()} target=\"_blank\">\n",
              "                                    https://localhost:${port}${path}\n",
              "                                </a>\n",
              "                            </div>\n",
              "                        `;\n",
              "                        element.appendChild(external_link);\n",
              "\n",
              "                        const iframe = document.createElement('iframe');\n",
              "                        iframe.src = new URL(path, url).toString();\n",
              "                        iframe.height = height;\n",
              "                        iframe.allow = \"autoplay; camera; microphone; clipboard-read; clipboard-write;\"\n",
              "                        iframe.width = width;\n",
              "                        iframe.style.border = 0;\n",
              "                        element.appendChild(iframe);\n",
              "                    })(7880, \"/\", \"100%\", 500, false, window.element)"
            ]
          },
          "metadata": {}
        },
        {
          "output_type": "execute_result",
          "data": {
            "text/plain": []
          },
          "metadata": {},
          "execution_count": 28
        }
      ],
      "source": [
        "# load the sentiment analysis pipeline\n",
        "from transformers import pipeline\n",
        "nlp_model = pipeline('sentiment-analysis')\n",
        "\n",
        "# function to be used in Gradio interface\n",
        "def predict_sentiment(text):\n",
        "    result = nlp_model(text)[0]\n",
        "    return f\"label: {result['label']}, with score: {round(result['score'], 4)}\"\n",
        "\n",
        "iface = gr.Interface(fn=predict_sentiment, inputs=\"textbox\", outputs=\"text\")\n",
        "iface.launch()"
      ]
    },
    {
      "cell_type": "markdown",
      "metadata": {
        "id": "PsqMbIz1AWaB"
      },
      "source": [
        "This cell loads the sentiment analysis model using Hugging Face's pipeline function and then sets up a Gradio interface for this model. The Gradio interface takes the text input, gets the model's predictions, and shows the sentiment label and the respective score as output."
      ]
    },
    {
      "cell_type": "markdown",
      "metadata": {
        "id": "6wg01cpiKScb"
      },
      "source": [
        "### Voice Conversion App - Combining Interfaces"
      ]
    },
    {
      "cell_type": "markdown",
      "metadata": {
        "id": "D56tBGQJKScb"
      },
      "source": [
        "Gradio shines in building mini apps for various models and functions. One powerful feature is the ability to combine multiple interfaces into a single app using the `TabbedInterface` function. This is especially useful when you want to showcase multiple related capabilities together. For instance, let's build a mini app that houses both a text-to-speech (TTS) and a speech-to-text (STT) model:"
      ]
    },
    {
      "cell_type": "code",
      "execution_count": null,
      "metadata": {
        "id": "wCedlHEvKScb"
      },
      "outputs": [],
      "source": [
        "import gradio as gr\n",
        "\n",
        "tts_examples = [\n",
        "    \"I love learning machine learning\",\n",
        "    \"How do you do?\",\n",
        "]\n",
        "\n",
        "# Load the TTS model and interface\n",
        "tts_demo = gr.load(\n",
        "    \"huggingface/facebook/fastspeech2-en-ljspeech\",\n",
        "    title=None,\n",
        "    examples=tts_examples,\n",
        "    description=\"Give me something to say!\",\n",
        ")\n",
        "\n",
        "# Load the STT model and interface\n",
        "stt_demo = gr.load(\n",
        "    \"huggingface/facebook/wav2vec2-large-960h\",\n",
        "    title=None,\n",
        "    inputs=\"mic\",\n",
        "    description=\"Let me try to guess what you're saying!\",\n",
        ")\n",
        "\n",
        "# Combine the two interfaces into a tabbed interface\n",
        "demo = gr.TabbedInterface([tts_demo, stt_demo], [\"Text-to-speech\", \"Speech-to-text\"])\n",
        "\n",
        "if __name__ == \"__main__\":\n",
        "    demo.launch(debug=True)  # Launch the mini app!"
      ]
    },
    {
      "cell_type": "markdown",
      "metadata": {
        "id": "joCsIfG-KScb"
      },
      "source": [
        "Now you have a mini app that capitalizes on Gradio's power to deliver interactive and user-friendly experiences for model exploration! Details can be seen here: [combining-interfaces](https://www.gradio.app/docs/combining-interfaces)"
      ]
    },
    {
      "cell_type": "markdown",
      "metadata": {
        "id": "J8iL0gq0KScc"
      },
      "source": [
        "### Personalized Welcome App - Blocks"
      ]
    },
    {
      "cell_type": "markdown",
      "metadata": {
        "id": "DRQAQC_uKScc"
      },
      "source": [
        "Gradio's `Blocks` is a powerful feature that allows you to compose more complex interfaces with a variety of layout options, including rows and columns. Blocks can also contain other interface elements like markdown, inputs, outputs, and even buttons.\n",
        "\n",
        "Let's create a simple mini-app where user can input their name and get a personalized welcome message:"
      ]
    },
    {
      "cell_type": "code",
      "execution_count": null,
      "metadata": {
        "id": "Skqb9D5mKScc",
        "colab": {
          "base_uri": "https://localhost:8080/",
          "height": 620
        },
        "outputId": "35028f03-9957-474c-c991-da7921ae46a7"
      },
      "outputs": [
        {
          "output_type": "stream",
          "name": "stdout",
          "text": [
            "Colab notebook detected. To show errors in colab notebook, set debug=True in launch()\n",
            "Note: opening Chrome Inspector may crash demo inside Colab notebooks.\n",
            "\n",
            "To create a public link, set `share=True` in `launch()`.\n"
          ]
        },
        {
          "output_type": "display_data",
          "data": {
            "text/plain": [
              "<IPython.core.display.Javascript object>"
            ],
            "application/javascript": [
              "(async (port, path, width, height, cache, element) => {\n",
              "                        if (!google.colab.kernel.accessAllowed && !cache) {\n",
              "                            return;\n",
              "                        }\n",
              "                        element.appendChild(document.createTextNode(''));\n",
              "                        const url = await google.colab.kernel.proxyPort(port, {cache});\n",
              "\n",
              "                        const external_link = document.createElement('div');\n",
              "                        external_link.innerHTML = `\n",
              "                            <div style=\"font-family: monospace; margin-bottom: 0.5rem\">\n",
              "                                Running on <a href=${new URL(path, url).toString()} target=\"_blank\">\n",
              "                                    https://localhost:${port}${path}\n",
              "                                </a>\n",
              "                            </div>\n",
              "                        `;\n",
              "                        element.appendChild(external_link);\n",
              "\n",
              "                        const iframe = document.createElement('iframe');\n",
              "                        iframe.src = new URL(path, url).toString();\n",
              "                        iframe.height = height;\n",
              "                        iframe.allow = \"autoplay; camera; microphone; clipboard-read; clipboard-write;\"\n",
              "                        iframe.width = width;\n",
              "                        iframe.style.border = 0;\n",
              "                        element.appendChild(iframe);\n",
              "                    })(7881, \"/\", \"100%\", 500, false, window.element)"
            ]
          },
          "metadata": {}
        },
        {
          "output_type": "execute_result",
          "data": {
            "text/plain": []
          },
          "metadata": {},
          "execution_count": 30
        }
      ],
      "source": [
        "import gradio as gr\n",
        "\n",
        "# This is the function that gets executed when the \"Run\" button is clicked.\n",
        "def update(name):\n",
        "    return f\"Welcome to Gradio, {name}!\"\n",
        "\n",
        "# With Blocks, we can create more complex Gradio interfaces.\n",
        "with gr.Blocks() as demo:\n",
        "    gr.Markdown(\"Start typing below and then click **Run** to see the output.\")\n",
        "    with gr.Row():  # Adds a row to the interface\n",
        "        inp = gr.Textbox(placeholder=\"What is your name?\")\n",
        "        out = gr.Textbox()\n",
        "    btn = gr.Button(\"Run\")  # Adds a button to the interface\n",
        "    btn.click(fn=update, inputs=inp, outputs=out)  # Attaches the 'update' function to the button\n",
        "\n",
        "demo.launch()  # Launches the mini app!"
      ]
    },
    {
      "cell_type": "markdown",
      "metadata": {
        "id": "jreNCYiwKScc"
      },
      "source": [
        " Let's build a mini app with multiple rows and columns. This app will capture two users' names and welcome message for them."
      ]
    },
    {
      "cell_type": "code",
      "execution_count": null,
      "metadata": {
        "id": "pFzwEnl9KScc",
        "colab": {
          "base_uri": "https://localhost:8080/",
          "height": 731
        },
        "outputId": "a19901f7-6e87-42a2-8d29-c02183da8263"
      },
      "outputs": [
        {
          "output_type": "stream",
          "name": "stderr",
          "text": [
            "/usr/local/lib/python3.10/dist-packages/gradio/utils.py:776: UserWarning: Expected 2 arguments for function <function update at 0x7a6b5b1d7880>, received 1.\n",
            "  warnings.warn(\n",
            "/usr/local/lib/python3.10/dist-packages/gradio/utils.py:780: UserWarning: Expected at least 2 arguments for function <function update at 0x7a6b5b1d7880>, received 1.\n",
            "  warnings.warn(\n"
          ]
        },
        {
          "output_type": "stream",
          "name": "stdout",
          "text": [
            "Colab notebook detected. This cell will run indefinitely so that you can see errors and logs. To turn off, set debug=False in launch().\n",
            "Note: opening Chrome Inspector may crash demo inside Colab notebooks.\n",
            "\n",
            "To create a public link, set `share=True` in `launch()`.\n"
          ]
        },
        {
          "output_type": "display_data",
          "data": {
            "text/plain": [
              "<IPython.core.display.Javascript object>"
            ],
            "application/javascript": [
              "(async (port, path, width, height, cache, element) => {\n",
              "                        if (!google.colab.kernel.accessAllowed && !cache) {\n",
              "                            return;\n",
              "                        }\n",
              "                        element.appendChild(document.createTextNode(''));\n",
              "                        const url = await google.colab.kernel.proxyPort(port, {cache});\n",
              "\n",
              "                        const external_link = document.createElement('div');\n",
              "                        external_link.innerHTML = `\n",
              "                            <div style=\"font-family: monospace; margin-bottom: 0.5rem\">\n",
              "                                Running on <a href=${new URL(path, url).toString()} target=\"_blank\">\n",
              "                                    https://localhost:${port}${path}\n",
              "                                </a>\n",
              "                            </div>\n",
              "                        `;\n",
              "                        element.appendChild(external_link);\n",
              "\n",
              "                        const iframe = document.createElement('iframe');\n",
              "                        iframe.src = new URL(path, url).toString();\n",
              "                        iframe.height = height;\n",
              "                        iframe.allow = \"autoplay; camera; microphone; clipboard-read; clipboard-write;\"\n",
              "                        iframe.width = width;\n",
              "                        iframe.style.border = 0;\n",
              "                        element.appendChild(iframe);\n",
              "                    })(7883, \"/\", \"100%\", 500, false, window.element)"
            ]
          },
          "metadata": {}
        },
        {
          "output_type": "stream",
          "name": "stderr",
          "text": [
            "/usr/local/lib/python3.10/dist-packages/gradio/helpers.py:779: UserWarning: Unexpected argument. Filling with None.\n",
            "  warnings.warn(\"Unexpected argument. Filling with None.\")\n"
          ]
        }
      ],
      "source": [
        "import gradio as gr\n",
        "\n",
        "# This is the function that gets executed when the \"Run\" button is clicked.\n",
        "def update(name1, name2):\n",
        "    return f\"Welcome to Gradio, {name1} and {name2}!\"\n",
        "\n",
        "# We can create more complex Gradio interfaces with multiple rows and columns.\n",
        "with gr.Blocks() as demo:\n",
        "    gr.Markdown(\"Start typing below and then click **Run** to see the output.\")\n",
        "    with gr.Row():  # Adds the first row to the interface\n",
        "        inp1 = gr.Textbox(placeholder=\"User 1, what is your name?\")\n",
        "        out1 = gr.Textbox()\n",
        "    with gr.Row():  # Adds the second row to the interface\n",
        "        inp2 = gr.Textbox(placeholder=\"User 2, what is your name?\")\n",
        "        out2 = gr.Textbox()\n",
        "    btn = gr.Button(\"Run\")  # Adds a button to the interface\n",
        "    btn.click(fn=update, inputs=[inp1], outputs=[out1])  # Attaches the 'update' function to the button\n",
        "    btn.click(fn=update, inputs=[inp2], outputs=[out2])\n",
        "\n",
        "demo.launch(debug=True)  # Launches the mini app!"
      ]
    },
    {
      "cell_type": "markdown",
      "metadata": {
        "id": "5-6WJ-JAKScc"
      },
      "source": [
        "This mini app takes two users' names as inputs in separate rows and provides personalized welcome messages for them. Details can be seen here:  [blocks](https://www.gradio.app/docs/blocks) and [block-layouts](https://www.gradio.app/docs/block-layouts)."
      ]
    },
    {
      "cell_type": "markdown",
      "metadata": {
        "id": "XJi0VQLBKScc"
      },
      "source": [
        "### Building Mini Apps with Gradio: Interactive Chatbot"
      ]
    },
    {
      "cell_type": "markdown",
      "metadata": {
        "id": "Sb6FhotAKScc"
      },
      "source": [
        "Do you know ChatGPT? In Gradio, there is something called `ChatInterface` and that is a powerful tool to create chatbox-style interfaces like ChatGPT."
      ]
    },
    {
      "cell_type": "markdown",
      "metadata": {
        "id": "fwwXX220KScd"
      },
      "source": [
        "Here, we're going to build a very simple chatbot using Gradio. This chatbot doesn't have any real understanding of the user's input. Instead, it will randomly respond with either \"Yes\" or \"No\" whenever a new message is submitted."
      ]
    },
    {
      "cell_type": "code",
      "execution_count": null,
      "metadata": {
        "id": "jKpo7PDfKScd"
      },
      "outputs": [],
      "source": [
        "import random\n",
        "import gradio as gr\n",
        "\n",
        "def random_response(message, history):\n",
        "    return random.choice([\"Yes\", \"No\"])\n",
        "\n",
        "demo = gr.ChatInterface(random_response)\n",
        "\n",
        "if __name__ == \"__main__\":\n",
        "    demo.launch()"
      ]
    },
    {
      "cell_type": "markdown",
      "metadata": {
        "id": "yEFUAU-uKScd"
      },
      "source": [
        "After launching this Gradio app, you'll see a textbox where you can type your message. When you hit \"submit\", the random_response function is called with your message, and the chatbot responds with either \"Yes\" or \"No\". Since the responses are randomly selected, you'll get different responses each time you send a message. It's a very simple example, but it shows how easy it is to get started with a chat interface in Gradio!"
      ]
    },
    {
      "cell_type": "markdown",
      "metadata": {
        "id": "6hsFmNblKScd"
      },
      "source": [
        "What about the original model, for example GPT2?"
      ]
    },
    {
      "cell_type": "markdown",
      "metadata": {
        "id": "cpsqceYpKScd"
      },
      "source": [
        "In this example, we're going to build a simple chatbot that uses the `text-generation` pipeline from the Hugging Face `transformers` library. This pipeline uses the GPT-2 model to generate text based on the user's input."
      ]
    },
    {
      "cell_type": "code",
      "execution_count": null,
      "metadata": {
        "id": "fGibHUGsKScd"
      },
      "outputs": [],
      "source": [
        "import gradio as gr\n",
        "from transformers import pipeline\n",
        "\n",
        "# Instantiate a gpt2 text-generation pipeline\n",
        "generator = pipeline('text-generation', model='gpt2')\n",
        "\n",
        "def gpt2_chatbot(message, history):\n",
        "    # Even though we're not using history in generating our response,\n",
        "    # it still needs to be a parameter in the function.\n",
        "\n",
        "    # Use the gpt2 model to generate a response. Let's limit it to 50 tokens.\n",
        "    generated_response = generator(message, max_length=50, temperature=0.7)[0]['generated_text']\n",
        "\n",
        "    # Extract the generated text and return it.\n",
        "    bot_message = generated_response.split('\\n')[-1]\n",
        "    return bot_message\n",
        "\n",
        "# We create a ChatInterface, using the gpt2_chatbot function as the logic for the chatbot.\n",
        "demo = gr.ChatInterface(fn=gpt2_chatbot, title=\"GPT-2 Chatbot\")\n",
        "demo.launch()"
      ]
    },
    {
      "cell_type": "markdown",
      "metadata": {
        "id": "pH9E_D3ZKScd"
      },
      "source": [
        "This code creates a chat interface using Gradio. The chat interface uses the GPT-2 model to generate responses to user input. When the user types a message and hits \"submit\", the message is sent to the gpt2_chatbot function. That function uses the GPT-2 model to generate a response, and that response is displayed on the screen."
      ]
    },
    {
      "cell_type": "markdown",
      "metadata": {
        "id": "E-SEMJ0bKSce"
      },
      "source": [
        "## Wrapping Up"
      ]
    },
    {
      "cell_type": "markdown",
      "metadata": {
        "id": "foKgKK40KSce"
      },
      "source": [
        "Gradio is a versatile tool that unlocks a sea of possibilities for your machine-learning models. It allows you to create user-friendly interfaces quickly, facilitating real-time interaction, sharing, and collaboration. The best part? It requires just a few lines of code. So, try Gradio and start building amazing apps for your models!"
      ]
    }
  ],
  "metadata": {
    "colab": {
      "provenance": [],
      "include_colab_link": true
    },
    "kernelspec": {
      "display_name": "Python 3",
      "language": "python",
      "name": "python3"
    },
    "language_info": {
      "codemirror_mode": {
        "name": "ipython",
        "version": 3
      },
      "file_extension": ".py",
      "mimetype": "text/x-python",
      "name": "python",
      "nbconvert_exporter": "python",
      "pygments_lexer": "ipython3",
      "version": "3.8.10"
    },
    "orig_nbformat": 4,
    "widgets": {
      "application/vnd.jupyter.widget-state+json": {
        "3a18b7d39df64f00a04d89ab739efaa9": {
          "model_module": "@jupyter-widgets/controls",
          "model_name": "HBoxModel",
          "model_module_version": "1.5.0",
          "state": {
            "_dom_classes": [],
            "_model_module": "@jupyter-widgets/controls",
            "_model_module_version": "1.5.0",
            "_model_name": "HBoxModel",
            "_view_count": null,
            "_view_module": "@jupyter-widgets/controls",
            "_view_module_version": "1.5.0",
            "_view_name": "HBoxView",
            "box_style": "",
            "children": [
              "IPY_MODEL_76c8e811eb00494db9fb989797d26846",
              "IPY_MODEL_6c41e9c7e3434a0a98ea8747bfb401d0",
              "IPY_MODEL_11a6a5e6106b40f3bee385bf329245b5"
            ],
            "layout": "IPY_MODEL_dc81d05d87434f8aa973a11545732bd0"
          }
        },
        "76c8e811eb00494db9fb989797d26846": {
          "model_module": "@jupyter-widgets/controls",
          "model_name": "HTMLModel",
          "model_module_version": "1.5.0",
          "state": {
            "_dom_classes": [],
            "_model_module": "@jupyter-widgets/controls",
            "_model_module_version": "1.5.0",
            "_model_name": "HTMLModel",
            "_view_count": null,
            "_view_module": "@jupyter-widgets/controls",
            "_view_module_version": "1.5.0",
            "_view_name": "HTMLView",
            "description": "",
            "description_tooltip": null,
            "layout": "IPY_MODEL_e91af4db8dd04c938b103c48d4ea10e3",
            "placeholder": "​",
            "style": "IPY_MODEL_38483a530fb04f4ea792153503b6533b",
            "value": "Downloading (…)lve/main/config.json: 100%"
          }
        },
        "6c41e9c7e3434a0a98ea8747bfb401d0": {
          "model_module": "@jupyter-widgets/controls",
          "model_name": "FloatProgressModel",
          "model_module_version": "1.5.0",
          "state": {
            "_dom_classes": [],
            "_model_module": "@jupyter-widgets/controls",
            "_model_module_version": "1.5.0",
            "_model_name": "FloatProgressModel",
            "_view_count": null,
            "_view_module": "@jupyter-widgets/controls",
            "_view_module_version": "1.5.0",
            "_view_name": "ProgressView",
            "bar_style": "success",
            "description": "",
            "description_tooltip": null,
            "layout": "IPY_MODEL_48ab571911494e8b84003337ab3090c2",
            "max": 629,
            "min": 0,
            "orientation": "horizontal",
            "style": "IPY_MODEL_01b08384432f4717be4617d003340f1f",
            "value": 629
          }
        },
        "11a6a5e6106b40f3bee385bf329245b5": {
          "model_module": "@jupyter-widgets/controls",
          "model_name": "HTMLModel",
          "model_module_version": "1.5.0",
          "state": {
            "_dom_classes": [],
            "_model_module": "@jupyter-widgets/controls",
            "_model_module_version": "1.5.0",
            "_model_name": "HTMLModel",
            "_view_count": null,
            "_view_module": "@jupyter-widgets/controls",
            "_view_module_version": "1.5.0",
            "_view_name": "HTMLView",
            "description": "",
            "description_tooltip": null,
            "layout": "IPY_MODEL_787b239c3af54cdb95d1e7b2afef3ce5",
            "placeholder": "​",
            "style": "IPY_MODEL_59a0683282eb4ce4ab84f12d48ebc9dd",
            "value": " 629/629 [00:00&lt;00:00, 20.7kB/s]"
          }
        },
        "dc81d05d87434f8aa973a11545732bd0": {
          "model_module": "@jupyter-widgets/base",
          "model_name": "LayoutModel",
          "model_module_version": "1.2.0",
          "state": {
            "_model_module": "@jupyter-widgets/base",
            "_model_module_version": "1.2.0",
            "_model_name": "LayoutModel",
            "_view_count": null,
            "_view_module": "@jupyter-widgets/base",
            "_view_module_version": "1.2.0",
            "_view_name": "LayoutView",
            "align_content": null,
            "align_items": null,
            "align_self": null,
            "border": null,
            "bottom": null,
            "display": null,
            "flex": null,
            "flex_flow": null,
            "grid_area": null,
            "grid_auto_columns": null,
            "grid_auto_flow": null,
            "grid_auto_rows": null,
            "grid_column": null,
            "grid_gap": null,
            "grid_row": null,
            "grid_template_areas": null,
            "grid_template_columns": null,
            "grid_template_rows": null,
            "height": null,
            "justify_content": null,
            "justify_items": null,
            "left": null,
            "margin": null,
            "max_height": null,
            "max_width": null,
            "min_height": null,
            "min_width": null,
            "object_fit": null,
            "object_position": null,
            "order": null,
            "overflow": null,
            "overflow_x": null,
            "overflow_y": null,
            "padding": null,
            "right": null,
            "top": null,
            "visibility": null,
            "width": null
          }
        },
        "e91af4db8dd04c938b103c48d4ea10e3": {
          "model_module": "@jupyter-widgets/base",
          "model_name": "LayoutModel",
          "model_module_version": "1.2.0",
          "state": {
            "_model_module": "@jupyter-widgets/base",
            "_model_module_version": "1.2.0",
            "_model_name": "LayoutModel",
            "_view_count": null,
            "_view_module": "@jupyter-widgets/base",
            "_view_module_version": "1.2.0",
            "_view_name": "LayoutView",
            "align_content": null,
            "align_items": null,
            "align_self": null,
            "border": null,
            "bottom": null,
            "display": null,
            "flex": null,
            "flex_flow": null,
            "grid_area": null,
            "grid_auto_columns": null,
            "grid_auto_flow": null,
            "grid_auto_rows": null,
            "grid_column": null,
            "grid_gap": null,
            "grid_row": null,
            "grid_template_areas": null,
            "grid_template_columns": null,
            "grid_template_rows": null,
            "height": null,
            "justify_content": null,
            "justify_items": null,
            "left": null,
            "margin": null,
            "max_height": null,
            "max_width": null,
            "min_height": null,
            "min_width": null,
            "object_fit": null,
            "object_position": null,
            "order": null,
            "overflow": null,
            "overflow_x": null,
            "overflow_y": null,
            "padding": null,
            "right": null,
            "top": null,
            "visibility": null,
            "width": null
          }
        },
        "38483a530fb04f4ea792153503b6533b": {
          "model_module": "@jupyter-widgets/controls",
          "model_name": "DescriptionStyleModel",
          "model_module_version": "1.5.0",
          "state": {
            "_model_module": "@jupyter-widgets/controls",
            "_model_module_version": "1.5.0",
            "_model_name": "DescriptionStyleModel",
            "_view_count": null,
            "_view_module": "@jupyter-widgets/base",
            "_view_module_version": "1.2.0",
            "_view_name": "StyleView",
            "description_width": ""
          }
        },
        "48ab571911494e8b84003337ab3090c2": {
          "model_module": "@jupyter-widgets/base",
          "model_name": "LayoutModel",
          "model_module_version": "1.2.0",
          "state": {
            "_model_module": "@jupyter-widgets/base",
            "_model_module_version": "1.2.0",
            "_model_name": "LayoutModel",
            "_view_count": null,
            "_view_module": "@jupyter-widgets/base",
            "_view_module_version": "1.2.0",
            "_view_name": "LayoutView",
            "align_content": null,
            "align_items": null,
            "align_self": null,
            "border": null,
            "bottom": null,
            "display": null,
            "flex": null,
            "flex_flow": null,
            "grid_area": null,
            "grid_auto_columns": null,
            "grid_auto_flow": null,
            "grid_auto_rows": null,
            "grid_column": null,
            "grid_gap": null,
            "grid_row": null,
            "grid_template_areas": null,
            "grid_template_columns": null,
            "grid_template_rows": null,
            "height": null,
            "justify_content": null,
            "justify_items": null,
            "left": null,
            "margin": null,
            "max_height": null,
            "max_width": null,
            "min_height": null,
            "min_width": null,
            "object_fit": null,
            "object_position": null,
            "order": null,
            "overflow": null,
            "overflow_x": null,
            "overflow_y": null,
            "padding": null,
            "right": null,
            "top": null,
            "visibility": null,
            "width": null
          }
        },
        "01b08384432f4717be4617d003340f1f": {
          "model_module": "@jupyter-widgets/controls",
          "model_name": "ProgressStyleModel",
          "model_module_version": "1.5.0",
          "state": {
            "_model_module": "@jupyter-widgets/controls",
            "_model_module_version": "1.5.0",
            "_model_name": "ProgressStyleModel",
            "_view_count": null,
            "_view_module": "@jupyter-widgets/base",
            "_view_module_version": "1.2.0",
            "_view_name": "StyleView",
            "bar_color": null,
            "description_width": ""
          }
        },
        "787b239c3af54cdb95d1e7b2afef3ce5": {
          "model_module": "@jupyter-widgets/base",
          "model_name": "LayoutModel",
          "model_module_version": "1.2.0",
          "state": {
            "_model_module": "@jupyter-widgets/base",
            "_model_module_version": "1.2.0",
            "_model_name": "LayoutModel",
            "_view_count": null,
            "_view_module": "@jupyter-widgets/base",
            "_view_module_version": "1.2.0",
            "_view_name": "LayoutView",
            "align_content": null,
            "align_items": null,
            "align_self": null,
            "border": null,
            "bottom": null,
            "display": null,
            "flex": null,
            "flex_flow": null,
            "grid_area": null,
            "grid_auto_columns": null,
            "grid_auto_flow": null,
            "grid_auto_rows": null,
            "grid_column": null,
            "grid_gap": null,
            "grid_row": null,
            "grid_template_areas": null,
            "grid_template_columns": null,
            "grid_template_rows": null,
            "height": null,
            "justify_content": null,
            "justify_items": null,
            "left": null,
            "margin": null,
            "max_height": null,
            "max_width": null,
            "min_height": null,
            "min_width": null,
            "object_fit": null,
            "object_position": null,
            "order": null,
            "overflow": null,
            "overflow_x": null,
            "overflow_y": null,
            "padding": null,
            "right": null,
            "top": null,
            "visibility": null,
            "width": null
          }
        },
        "59a0683282eb4ce4ab84f12d48ebc9dd": {
          "model_module": "@jupyter-widgets/controls",
          "model_name": "DescriptionStyleModel",
          "model_module_version": "1.5.0",
          "state": {
            "_model_module": "@jupyter-widgets/controls",
            "_model_module_version": "1.5.0",
            "_model_name": "DescriptionStyleModel",
            "_view_count": null,
            "_view_module": "@jupyter-widgets/base",
            "_view_module_version": "1.2.0",
            "_view_name": "StyleView",
            "description_width": ""
          }
        },
        "ca459ee757f2460d9a5800365e25986c": {
          "model_module": "@jupyter-widgets/controls",
          "model_name": "HBoxModel",
          "model_module_version": "1.5.0",
          "state": {
            "_dom_classes": [],
            "_model_module": "@jupyter-widgets/controls",
            "_model_module_version": "1.5.0",
            "_model_name": "HBoxModel",
            "_view_count": null,
            "_view_module": "@jupyter-widgets/controls",
            "_view_module_version": "1.5.0",
            "_view_name": "HBoxView",
            "box_style": "",
            "children": [
              "IPY_MODEL_cbd8eb1a058b4f279e582308c4c98f15",
              "IPY_MODEL_80c43e1da0774869b04a3e9ff9b4c715",
              "IPY_MODEL_8f20fc72009b4aa19f17afa9fce5b271"
            ],
            "layout": "IPY_MODEL_d5e0a78b79384fda9f87d4f3a98f5225"
          }
        },
        "cbd8eb1a058b4f279e582308c4c98f15": {
          "model_module": "@jupyter-widgets/controls",
          "model_name": "HTMLModel",
          "model_module_version": "1.5.0",
          "state": {
            "_dom_classes": [],
            "_model_module": "@jupyter-widgets/controls",
            "_model_module_version": "1.5.0",
            "_model_name": "HTMLModel",
            "_view_count": null,
            "_view_module": "@jupyter-widgets/controls",
            "_view_module_version": "1.5.0",
            "_view_name": "HTMLView",
            "description": "",
            "description_tooltip": null,
            "layout": "IPY_MODEL_fe5dcfd88cd143eabf961ded86ef5e8d",
            "placeholder": "​",
            "style": "IPY_MODEL_d3ec1669f79f4ae3a597fef2f7dcee39",
            "value": "Downloading model.safetensors: 100%"
          }
        },
        "80c43e1da0774869b04a3e9ff9b4c715": {
          "model_module": "@jupyter-widgets/controls",
          "model_name": "FloatProgressModel",
          "model_module_version": "1.5.0",
          "state": {
            "_dom_classes": [],
            "_model_module": "@jupyter-widgets/controls",
            "_model_module_version": "1.5.0",
            "_model_name": "FloatProgressModel",
            "_view_count": null,
            "_view_module": "@jupyter-widgets/controls",
            "_view_module_version": "1.5.0",
            "_view_name": "ProgressView",
            "bar_style": "success",
            "description": "",
            "description_tooltip": null,
            "layout": "IPY_MODEL_d77127dd378048f39fd803b257a52a21",
            "max": 267832558,
            "min": 0,
            "orientation": "horizontal",
            "style": "IPY_MODEL_64924ca600144dadaef903ca88d7c358",
            "value": 267832558
          }
        },
        "8f20fc72009b4aa19f17afa9fce5b271": {
          "model_module": "@jupyter-widgets/controls",
          "model_name": "HTMLModel",
          "model_module_version": "1.5.0",
          "state": {
            "_dom_classes": [],
            "_model_module": "@jupyter-widgets/controls",
            "_model_module_version": "1.5.0",
            "_model_name": "HTMLModel",
            "_view_count": null,
            "_view_module": "@jupyter-widgets/controls",
            "_view_module_version": "1.5.0",
            "_view_name": "HTMLView",
            "description": "",
            "description_tooltip": null,
            "layout": "IPY_MODEL_f571f22bbeb948b3b989ef4f5ed57d65",
            "placeholder": "​",
            "style": "IPY_MODEL_0efbb2c7c7b24294bf37aa4bdc915995",
            "value": " 268M/268M [00:01&lt;00:00, 183MB/s]"
          }
        },
        "d5e0a78b79384fda9f87d4f3a98f5225": {
          "model_module": "@jupyter-widgets/base",
          "model_name": "LayoutModel",
          "model_module_version": "1.2.0",
          "state": {
            "_model_module": "@jupyter-widgets/base",
            "_model_module_version": "1.2.0",
            "_model_name": "LayoutModel",
            "_view_count": null,
            "_view_module": "@jupyter-widgets/base",
            "_view_module_version": "1.2.0",
            "_view_name": "LayoutView",
            "align_content": null,
            "align_items": null,
            "align_self": null,
            "border": null,
            "bottom": null,
            "display": null,
            "flex": null,
            "flex_flow": null,
            "grid_area": null,
            "grid_auto_columns": null,
            "grid_auto_flow": null,
            "grid_auto_rows": null,
            "grid_column": null,
            "grid_gap": null,
            "grid_row": null,
            "grid_template_areas": null,
            "grid_template_columns": null,
            "grid_template_rows": null,
            "height": null,
            "justify_content": null,
            "justify_items": null,
            "left": null,
            "margin": null,
            "max_height": null,
            "max_width": null,
            "min_height": null,
            "min_width": null,
            "object_fit": null,
            "object_position": null,
            "order": null,
            "overflow": null,
            "overflow_x": null,
            "overflow_y": null,
            "padding": null,
            "right": null,
            "top": null,
            "visibility": null,
            "width": null
          }
        },
        "fe5dcfd88cd143eabf961ded86ef5e8d": {
          "model_module": "@jupyter-widgets/base",
          "model_name": "LayoutModel",
          "model_module_version": "1.2.0",
          "state": {
            "_model_module": "@jupyter-widgets/base",
            "_model_module_version": "1.2.0",
            "_model_name": "LayoutModel",
            "_view_count": null,
            "_view_module": "@jupyter-widgets/base",
            "_view_module_version": "1.2.0",
            "_view_name": "LayoutView",
            "align_content": null,
            "align_items": null,
            "align_self": null,
            "border": null,
            "bottom": null,
            "display": null,
            "flex": null,
            "flex_flow": null,
            "grid_area": null,
            "grid_auto_columns": null,
            "grid_auto_flow": null,
            "grid_auto_rows": null,
            "grid_column": null,
            "grid_gap": null,
            "grid_row": null,
            "grid_template_areas": null,
            "grid_template_columns": null,
            "grid_template_rows": null,
            "height": null,
            "justify_content": null,
            "justify_items": null,
            "left": null,
            "margin": null,
            "max_height": null,
            "max_width": null,
            "min_height": null,
            "min_width": null,
            "object_fit": null,
            "object_position": null,
            "order": null,
            "overflow": null,
            "overflow_x": null,
            "overflow_y": null,
            "padding": null,
            "right": null,
            "top": null,
            "visibility": null,
            "width": null
          }
        },
        "d3ec1669f79f4ae3a597fef2f7dcee39": {
          "model_module": "@jupyter-widgets/controls",
          "model_name": "DescriptionStyleModel",
          "model_module_version": "1.5.0",
          "state": {
            "_model_module": "@jupyter-widgets/controls",
            "_model_module_version": "1.5.0",
            "_model_name": "DescriptionStyleModel",
            "_view_count": null,
            "_view_module": "@jupyter-widgets/base",
            "_view_module_version": "1.2.0",
            "_view_name": "StyleView",
            "description_width": ""
          }
        },
        "d77127dd378048f39fd803b257a52a21": {
          "model_module": "@jupyter-widgets/base",
          "model_name": "LayoutModel",
          "model_module_version": "1.2.0",
          "state": {
            "_model_module": "@jupyter-widgets/base",
            "_model_module_version": "1.2.0",
            "_model_name": "LayoutModel",
            "_view_count": null,
            "_view_module": "@jupyter-widgets/base",
            "_view_module_version": "1.2.0",
            "_view_name": "LayoutView",
            "align_content": null,
            "align_items": null,
            "align_self": null,
            "border": null,
            "bottom": null,
            "display": null,
            "flex": null,
            "flex_flow": null,
            "grid_area": null,
            "grid_auto_columns": null,
            "grid_auto_flow": null,
            "grid_auto_rows": null,
            "grid_column": null,
            "grid_gap": null,
            "grid_row": null,
            "grid_template_areas": null,
            "grid_template_columns": null,
            "grid_template_rows": null,
            "height": null,
            "justify_content": null,
            "justify_items": null,
            "left": null,
            "margin": null,
            "max_height": null,
            "max_width": null,
            "min_height": null,
            "min_width": null,
            "object_fit": null,
            "object_position": null,
            "order": null,
            "overflow": null,
            "overflow_x": null,
            "overflow_y": null,
            "padding": null,
            "right": null,
            "top": null,
            "visibility": null,
            "width": null
          }
        },
        "64924ca600144dadaef903ca88d7c358": {
          "model_module": "@jupyter-widgets/controls",
          "model_name": "ProgressStyleModel",
          "model_module_version": "1.5.0",
          "state": {
            "_model_module": "@jupyter-widgets/controls",
            "_model_module_version": "1.5.0",
            "_model_name": "ProgressStyleModel",
            "_view_count": null,
            "_view_module": "@jupyter-widgets/base",
            "_view_module_version": "1.2.0",
            "_view_name": "StyleView",
            "bar_color": null,
            "description_width": ""
          }
        },
        "f571f22bbeb948b3b989ef4f5ed57d65": {
          "model_module": "@jupyter-widgets/base",
          "model_name": "LayoutModel",
          "model_module_version": "1.2.0",
          "state": {
            "_model_module": "@jupyter-widgets/base",
            "_model_module_version": "1.2.0",
            "_model_name": "LayoutModel",
            "_view_count": null,
            "_view_module": "@jupyter-widgets/base",
            "_view_module_version": "1.2.0",
            "_view_name": "LayoutView",
            "align_content": null,
            "align_items": null,
            "align_self": null,
            "border": null,
            "bottom": null,
            "display": null,
            "flex": null,
            "flex_flow": null,
            "grid_area": null,
            "grid_auto_columns": null,
            "grid_auto_flow": null,
            "grid_auto_rows": null,
            "grid_column": null,
            "grid_gap": null,
            "grid_row": null,
            "grid_template_areas": null,
            "grid_template_columns": null,
            "grid_template_rows": null,
            "height": null,
            "justify_content": null,
            "justify_items": null,
            "left": null,
            "margin": null,
            "max_height": null,
            "max_width": null,
            "min_height": null,
            "min_width": null,
            "object_fit": null,
            "object_position": null,
            "order": null,
            "overflow": null,
            "overflow_x": null,
            "overflow_y": null,
            "padding": null,
            "right": null,
            "top": null,
            "visibility": null,
            "width": null
          }
        },
        "0efbb2c7c7b24294bf37aa4bdc915995": {
          "model_module": "@jupyter-widgets/controls",
          "model_name": "DescriptionStyleModel",
          "model_module_version": "1.5.0",
          "state": {
            "_model_module": "@jupyter-widgets/controls",
            "_model_module_version": "1.5.0",
            "_model_name": "DescriptionStyleModel",
            "_view_count": null,
            "_view_module": "@jupyter-widgets/base",
            "_view_module_version": "1.2.0",
            "_view_name": "StyleView",
            "description_width": ""
          }
        },
        "a2124030bf014934a036ae750b8a685f": {
          "model_module": "@jupyter-widgets/controls",
          "model_name": "HBoxModel",
          "model_module_version": "1.5.0",
          "state": {
            "_dom_classes": [],
            "_model_module": "@jupyter-widgets/controls",
            "_model_module_version": "1.5.0",
            "_model_name": "HBoxModel",
            "_view_count": null,
            "_view_module": "@jupyter-widgets/controls",
            "_view_module_version": "1.5.0",
            "_view_name": "HBoxView",
            "box_style": "",
            "children": [
              "IPY_MODEL_bbaf7223223f4d5896a5e44531c6b060",
              "IPY_MODEL_b724104ea57443fd91223d4661d9ce9d",
              "IPY_MODEL_3c18b626f7c045eab8359a97db638876"
            ],
            "layout": "IPY_MODEL_9df78f72db6c4e59837dc24cccb4a083"
          }
        },
        "bbaf7223223f4d5896a5e44531c6b060": {
          "model_module": "@jupyter-widgets/controls",
          "model_name": "HTMLModel",
          "model_module_version": "1.5.0",
          "state": {
            "_dom_classes": [],
            "_model_module": "@jupyter-widgets/controls",
            "_model_module_version": "1.5.0",
            "_model_name": "HTMLModel",
            "_view_count": null,
            "_view_module": "@jupyter-widgets/controls",
            "_view_module_version": "1.5.0",
            "_view_name": "HTMLView",
            "description": "",
            "description_tooltip": null,
            "layout": "IPY_MODEL_1ca119259f0b4736ae89188fc0ee45db",
            "placeholder": "​",
            "style": "IPY_MODEL_77407fe2e110468b861d83a515462ccc",
            "value": "Downloading (…)okenizer_config.json: 100%"
          }
        },
        "b724104ea57443fd91223d4661d9ce9d": {
          "model_module": "@jupyter-widgets/controls",
          "model_name": "FloatProgressModel",
          "model_module_version": "1.5.0",
          "state": {
            "_dom_classes": [],
            "_model_module": "@jupyter-widgets/controls",
            "_model_module_version": "1.5.0",
            "_model_name": "FloatProgressModel",
            "_view_count": null,
            "_view_module": "@jupyter-widgets/controls",
            "_view_module_version": "1.5.0",
            "_view_name": "ProgressView",
            "bar_style": "success",
            "description": "",
            "description_tooltip": null,
            "layout": "IPY_MODEL_041661ffdcce4374baac61974bc7a968",
            "max": 48,
            "min": 0,
            "orientation": "horizontal",
            "style": "IPY_MODEL_15828ccc37574707a23f45185a9f771c",
            "value": 48
          }
        },
        "3c18b626f7c045eab8359a97db638876": {
          "model_module": "@jupyter-widgets/controls",
          "model_name": "HTMLModel",
          "model_module_version": "1.5.0",
          "state": {
            "_dom_classes": [],
            "_model_module": "@jupyter-widgets/controls",
            "_model_module_version": "1.5.0",
            "_model_name": "HTMLModel",
            "_view_count": null,
            "_view_module": "@jupyter-widgets/controls",
            "_view_module_version": "1.5.0",
            "_view_name": "HTMLView",
            "description": "",
            "description_tooltip": null,
            "layout": "IPY_MODEL_70daef998c0a4837bf3f68672f2b16a8",
            "placeholder": "​",
            "style": "IPY_MODEL_54b9d4be40cf4d6386429f5b639d4365",
            "value": " 48.0/48.0 [00:00&lt;00:00, 1.47kB/s]"
          }
        },
        "9df78f72db6c4e59837dc24cccb4a083": {
          "model_module": "@jupyter-widgets/base",
          "model_name": "LayoutModel",
          "model_module_version": "1.2.0",
          "state": {
            "_model_module": "@jupyter-widgets/base",
            "_model_module_version": "1.2.0",
            "_model_name": "LayoutModel",
            "_view_count": null,
            "_view_module": "@jupyter-widgets/base",
            "_view_module_version": "1.2.0",
            "_view_name": "LayoutView",
            "align_content": null,
            "align_items": null,
            "align_self": null,
            "border": null,
            "bottom": null,
            "display": null,
            "flex": null,
            "flex_flow": null,
            "grid_area": null,
            "grid_auto_columns": null,
            "grid_auto_flow": null,
            "grid_auto_rows": null,
            "grid_column": null,
            "grid_gap": null,
            "grid_row": null,
            "grid_template_areas": null,
            "grid_template_columns": null,
            "grid_template_rows": null,
            "height": null,
            "justify_content": null,
            "justify_items": null,
            "left": null,
            "margin": null,
            "max_height": null,
            "max_width": null,
            "min_height": null,
            "min_width": null,
            "object_fit": null,
            "object_position": null,
            "order": null,
            "overflow": null,
            "overflow_x": null,
            "overflow_y": null,
            "padding": null,
            "right": null,
            "top": null,
            "visibility": null,
            "width": null
          }
        },
        "1ca119259f0b4736ae89188fc0ee45db": {
          "model_module": "@jupyter-widgets/base",
          "model_name": "LayoutModel",
          "model_module_version": "1.2.0",
          "state": {
            "_model_module": "@jupyter-widgets/base",
            "_model_module_version": "1.2.0",
            "_model_name": "LayoutModel",
            "_view_count": null,
            "_view_module": "@jupyter-widgets/base",
            "_view_module_version": "1.2.0",
            "_view_name": "LayoutView",
            "align_content": null,
            "align_items": null,
            "align_self": null,
            "border": null,
            "bottom": null,
            "display": null,
            "flex": null,
            "flex_flow": null,
            "grid_area": null,
            "grid_auto_columns": null,
            "grid_auto_flow": null,
            "grid_auto_rows": null,
            "grid_column": null,
            "grid_gap": null,
            "grid_row": null,
            "grid_template_areas": null,
            "grid_template_columns": null,
            "grid_template_rows": null,
            "height": null,
            "justify_content": null,
            "justify_items": null,
            "left": null,
            "margin": null,
            "max_height": null,
            "max_width": null,
            "min_height": null,
            "min_width": null,
            "object_fit": null,
            "object_position": null,
            "order": null,
            "overflow": null,
            "overflow_x": null,
            "overflow_y": null,
            "padding": null,
            "right": null,
            "top": null,
            "visibility": null,
            "width": null
          }
        },
        "77407fe2e110468b861d83a515462ccc": {
          "model_module": "@jupyter-widgets/controls",
          "model_name": "DescriptionStyleModel",
          "model_module_version": "1.5.0",
          "state": {
            "_model_module": "@jupyter-widgets/controls",
            "_model_module_version": "1.5.0",
            "_model_name": "DescriptionStyleModel",
            "_view_count": null,
            "_view_module": "@jupyter-widgets/base",
            "_view_module_version": "1.2.0",
            "_view_name": "StyleView",
            "description_width": ""
          }
        },
        "041661ffdcce4374baac61974bc7a968": {
          "model_module": "@jupyter-widgets/base",
          "model_name": "LayoutModel",
          "model_module_version": "1.2.0",
          "state": {
            "_model_module": "@jupyter-widgets/base",
            "_model_module_version": "1.2.0",
            "_model_name": "LayoutModel",
            "_view_count": null,
            "_view_module": "@jupyter-widgets/base",
            "_view_module_version": "1.2.0",
            "_view_name": "LayoutView",
            "align_content": null,
            "align_items": null,
            "align_self": null,
            "border": null,
            "bottom": null,
            "display": null,
            "flex": null,
            "flex_flow": null,
            "grid_area": null,
            "grid_auto_columns": null,
            "grid_auto_flow": null,
            "grid_auto_rows": null,
            "grid_column": null,
            "grid_gap": null,
            "grid_row": null,
            "grid_template_areas": null,
            "grid_template_columns": null,
            "grid_template_rows": null,
            "height": null,
            "justify_content": null,
            "justify_items": null,
            "left": null,
            "margin": null,
            "max_height": null,
            "max_width": null,
            "min_height": null,
            "min_width": null,
            "object_fit": null,
            "object_position": null,
            "order": null,
            "overflow": null,
            "overflow_x": null,
            "overflow_y": null,
            "padding": null,
            "right": null,
            "top": null,
            "visibility": null,
            "width": null
          }
        },
        "15828ccc37574707a23f45185a9f771c": {
          "model_module": "@jupyter-widgets/controls",
          "model_name": "ProgressStyleModel",
          "model_module_version": "1.5.0",
          "state": {
            "_model_module": "@jupyter-widgets/controls",
            "_model_module_version": "1.5.0",
            "_model_name": "ProgressStyleModel",
            "_view_count": null,
            "_view_module": "@jupyter-widgets/base",
            "_view_module_version": "1.2.0",
            "_view_name": "StyleView",
            "bar_color": null,
            "description_width": ""
          }
        },
        "70daef998c0a4837bf3f68672f2b16a8": {
          "model_module": "@jupyter-widgets/base",
          "model_name": "LayoutModel",
          "model_module_version": "1.2.0",
          "state": {
            "_model_module": "@jupyter-widgets/base",
            "_model_module_version": "1.2.0",
            "_model_name": "LayoutModel",
            "_view_count": null,
            "_view_module": "@jupyter-widgets/base",
            "_view_module_version": "1.2.0",
            "_view_name": "LayoutView",
            "align_content": null,
            "align_items": null,
            "align_self": null,
            "border": null,
            "bottom": null,
            "display": null,
            "flex": null,
            "flex_flow": null,
            "grid_area": null,
            "grid_auto_columns": null,
            "grid_auto_flow": null,
            "grid_auto_rows": null,
            "grid_column": null,
            "grid_gap": null,
            "grid_row": null,
            "grid_template_areas": null,
            "grid_template_columns": null,
            "grid_template_rows": null,
            "height": null,
            "justify_content": null,
            "justify_items": null,
            "left": null,
            "margin": null,
            "max_height": null,
            "max_width": null,
            "min_height": null,
            "min_width": null,
            "object_fit": null,
            "object_position": null,
            "order": null,
            "overflow": null,
            "overflow_x": null,
            "overflow_y": null,
            "padding": null,
            "right": null,
            "top": null,
            "visibility": null,
            "width": null
          }
        },
        "54b9d4be40cf4d6386429f5b639d4365": {
          "model_module": "@jupyter-widgets/controls",
          "model_name": "DescriptionStyleModel",
          "model_module_version": "1.5.0",
          "state": {
            "_model_module": "@jupyter-widgets/controls",
            "_model_module_version": "1.5.0",
            "_model_name": "DescriptionStyleModel",
            "_view_count": null,
            "_view_module": "@jupyter-widgets/base",
            "_view_module_version": "1.2.0",
            "_view_name": "StyleView",
            "description_width": ""
          }
        },
        "848e5075c6a44563b1af5a6b2e3132ae": {
          "model_module": "@jupyter-widgets/controls",
          "model_name": "HBoxModel",
          "model_module_version": "1.5.0",
          "state": {
            "_dom_classes": [],
            "_model_module": "@jupyter-widgets/controls",
            "_model_module_version": "1.5.0",
            "_model_name": "HBoxModel",
            "_view_count": null,
            "_view_module": "@jupyter-widgets/controls",
            "_view_module_version": "1.5.0",
            "_view_name": "HBoxView",
            "box_style": "",
            "children": [
              "IPY_MODEL_e49e6952f3a145d28a8b6c2ec8fc4c20",
              "IPY_MODEL_f14abb1257e4489388e25e2913f45e58",
              "IPY_MODEL_f37b3b033a2948928d5f881112e09801"
            ],
            "layout": "IPY_MODEL_095c303f828a474e863409bdcbc118ff"
          }
        },
        "e49e6952f3a145d28a8b6c2ec8fc4c20": {
          "model_module": "@jupyter-widgets/controls",
          "model_name": "HTMLModel",
          "model_module_version": "1.5.0",
          "state": {
            "_dom_classes": [],
            "_model_module": "@jupyter-widgets/controls",
            "_model_module_version": "1.5.0",
            "_model_name": "HTMLModel",
            "_view_count": null,
            "_view_module": "@jupyter-widgets/controls",
            "_view_module_version": "1.5.0",
            "_view_name": "HTMLView",
            "description": "",
            "description_tooltip": null,
            "layout": "IPY_MODEL_aadd52cf729e4e9880213918bedf2019",
            "placeholder": "​",
            "style": "IPY_MODEL_4d1aa6d172094fbda2bf2f914e956a53",
            "value": "Downloading (…)solve/main/vocab.txt: 100%"
          }
        },
        "f14abb1257e4489388e25e2913f45e58": {
          "model_module": "@jupyter-widgets/controls",
          "model_name": "FloatProgressModel",
          "model_module_version": "1.5.0",
          "state": {
            "_dom_classes": [],
            "_model_module": "@jupyter-widgets/controls",
            "_model_module_version": "1.5.0",
            "_model_name": "FloatProgressModel",
            "_view_count": null,
            "_view_module": "@jupyter-widgets/controls",
            "_view_module_version": "1.5.0",
            "_view_name": "ProgressView",
            "bar_style": "success",
            "description": "",
            "description_tooltip": null,
            "layout": "IPY_MODEL_89a1e5b551e8473fa9fda249f0afe736",
            "max": 231508,
            "min": 0,
            "orientation": "horizontal",
            "style": "IPY_MODEL_dc1bd936783d41c5ac1f592b274a47ae",
            "value": 231508
          }
        },
        "f37b3b033a2948928d5f881112e09801": {
          "model_module": "@jupyter-widgets/controls",
          "model_name": "HTMLModel",
          "model_module_version": "1.5.0",
          "state": {
            "_dom_classes": [],
            "_model_module": "@jupyter-widgets/controls",
            "_model_module_version": "1.5.0",
            "_model_name": "HTMLModel",
            "_view_count": null,
            "_view_module": "@jupyter-widgets/controls",
            "_view_module_version": "1.5.0",
            "_view_name": "HTMLView",
            "description": "",
            "description_tooltip": null,
            "layout": "IPY_MODEL_09e71470c3f64b138273c4ca0422635f",
            "placeholder": "​",
            "style": "IPY_MODEL_586bbfd00fc447879fd636cae6b4e164",
            "value": " 232k/232k [00:00&lt;00:00, 2.93MB/s]"
          }
        },
        "095c303f828a474e863409bdcbc118ff": {
          "model_module": "@jupyter-widgets/base",
          "model_name": "LayoutModel",
          "model_module_version": "1.2.0",
          "state": {
            "_model_module": "@jupyter-widgets/base",
            "_model_module_version": "1.2.0",
            "_model_name": "LayoutModel",
            "_view_count": null,
            "_view_module": "@jupyter-widgets/base",
            "_view_module_version": "1.2.0",
            "_view_name": "LayoutView",
            "align_content": null,
            "align_items": null,
            "align_self": null,
            "border": null,
            "bottom": null,
            "display": null,
            "flex": null,
            "flex_flow": null,
            "grid_area": null,
            "grid_auto_columns": null,
            "grid_auto_flow": null,
            "grid_auto_rows": null,
            "grid_column": null,
            "grid_gap": null,
            "grid_row": null,
            "grid_template_areas": null,
            "grid_template_columns": null,
            "grid_template_rows": null,
            "height": null,
            "justify_content": null,
            "justify_items": null,
            "left": null,
            "margin": null,
            "max_height": null,
            "max_width": null,
            "min_height": null,
            "min_width": null,
            "object_fit": null,
            "object_position": null,
            "order": null,
            "overflow": null,
            "overflow_x": null,
            "overflow_y": null,
            "padding": null,
            "right": null,
            "top": null,
            "visibility": null,
            "width": null
          }
        },
        "aadd52cf729e4e9880213918bedf2019": {
          "model_module": "@jupyter-widgets/base",
          "model_name": "LayoutModel",
          "model_module_version": "1.2.0",
          "state": {
            "_model_module": "@jupyter-widgets/base",
            "_model_module_version": "1.2.0",
            "_model_name": "LayoutModel",
            "_view_count": null,
            "_view_module": "@jupyter-widgets/base",
            "_view_module_version": "1.2.0",
            "_view_name": "LayoutView",
            "align_content": null,
            "align_items": null,
            "align_self": null,
            "border": null,
            "bottom": null,
            "display": null,
            "flex": null,
            "flex_flow": null,
            "grid_area": null,
            "grid_auto_columns": null,
            "grid_auto_flow": null,
            "grid_auto_rows": null,
            "grid_column": null,
            "grid_gap": null,
            "grid_row": null,
            "grid_template_areas": null,
            "grid_template_columns": null,
            "grid_template_rows": null,
            "height": null,
            "justify_content": null,
            "justify_items": null,
            "left": null,
            "margin": null,
            "max_height": null,
            "max_width": null,
            "min_height": null,
            "min_width": null,
            "object_fit": null,
            "object_position": null,
            "order": null,
            "overflow": null,
            "overflow_x": null,
            "overflow_y": null,
            "padding": null,
            "right": null,
            "top": null,
            "visibility": null,
            "width": null
          }
        },
        "4d1aa6d172094fbda2bf2f914e956a53": {
          "model_module": "@jupyter-widgets/controls",
          "model_name": "DescriptionStyleModel",
          "model_module_version": "1.5.0",
          "state": {
            "_model_module": "@jupyter-widgets/controls",
            "_model_module_version": "1.5.0",
            "_model_name": "DescriptionStyleModel",
            "_view_count": null,
            "_view_module": "@jupyter-widgets/base",
            "_view_module_version": "1.2.0",
            "_view_name": "StyleView",
            "description_width": ""
          }
        },
        "89a1e5b551e8473fa9fda249f0afe736": {
          "model_module": "@jupyter-widgets/base",
          "model_name": "LayoutModel",
          "model_module_version": "1.2.0",
          "state": {
            "_model_module": "@jupyter-widgets/base",
            "_model_module_version": "1.2.0",
            "_model_name": "LayoutModel",
            "_view_count": null,
            "_view_module": "@jupyter-widgets/base",
            "_view_module_version": "1.2.0",
            "_view_name": "LayoutView",
            "align_content": null,
            "align_items": null,
            "align_self": null,
            "border": null,
            "bottom": null,
            "display": null,
            "flex": null,
            "flex_flow": null,
            "grid_area": null,
            "grid_auto_columns": null,
            "grid_auto_flow": null,
            "grid_auto_rows": null,
            "grid_column": null,
            "grid_gap": null,
            "grid_row": null,
            "grid_template_areas": null,
            "grid_template_columns": null,
            "grid_template_rows": null,
            "height": null,
            "justify_content": null,
            "justify_items": null,
            "left": null,
            "margin": null,
            "max_height": null,
            "max_width": null,
            "min_height": null,
            "min_width": null,
            "object_fit": null,
            "object_position": null,
            "order": null,
            "overflow": null,
            "overflow_x": null,
            "overflow_y": null,
            "padding": null,
            "right": null,
            "top": null,
            "visibility": null,
            "width": null
          }
        },
        "dc1bd936783d41c5ac1f592b274a47ae": {
          "model_module": "@jupyter-widgets/controls",
          "model_name": "ProgressStyleModel",
          "model_module_version": "1.5.0",
          "state": {
            "_model_module": "@jupyter-widgets/controls",
            "_model_module_version": "1.5.0",
            "_model_name": "ProgressStyleModel",
            "_view_count": null,
            "_view_module": "@jupyter-widgets/base",
            "_view_module_version": "1.2.0",
            "_view_name": "StyleView",
            "bar_color": null,
            "description_width": ""
          }
        },
        "09e71470c3f64b138273c4ca0422635f": {
          "model_module": "@jupyter-widgets/base",
          "model_name": "LayoutModel",
          "model_module_version": "1.2.0",
          "state": {
            "_model_module": "@jupyter-widgets/base",
            "_model_module_version": "1.2.0",
            "_model_name": "LayoutModel",
            "_view_count": null,
            "_view_module": "@jupyter-widgets/base",
            "_view_module_version": "1.2.0",
            "_view_name": "LayoutView",
            "align_content": null,
            "align_items": null,
            "align_self": null,
            "border": null,
            "bottom": null,
            "display": null,
            "flex": null,
            "flex_flow": null,
            "grid_area": null,
            "grid_auto_columns": null,
            "grid_auto_flow": null,
            "grid_auto_rows": null,
            "grid_column": null,
            "grid_gap": null,
            "grid_row": null,
            "grid_template_areas": null,
            "grid_template_columns": null,
            "grid_template_rows": null,
            "height": null,
            "justify_content": null,
            "justify_items": null,
            "left": null,
            "margin": null,
            "max_height": null,
            "max_width": null,
            "min_height": null,
            "min_width": null,
            "object_fit": null,
            "object_position": null,
            "order": null,
            "overflow": null,
            "overflow_x": null,
            "overflow_y": null,
            "padding": null,
            "right": null,
            "top": null,
            "visibility": null,
            "width": null
          }
        },
        "586bbfd00fc447879fd636cae6b4e164": {
          "model_module": "@jupyter-widgets/controls",
          "model_name": "DescriptionStyleModel",
          "model_module_version": "1.5.0",
          "state": {
            "_model_module": "@jupyter-widgets/controls",
            "_model_module_version": "1.5.0",
            "_model_name": "DescriptionStyleModel",
            "_view_count": null,
            "_view_module": "@jupyter-widgets/base",
            "_view_module_version": "1.2.0",
            "_view_name": "StyleView",
            "description_width": ""
          }
        }
      }
    }
  },
  "nbformat": 4,
  "nbformat_minor": 0
}