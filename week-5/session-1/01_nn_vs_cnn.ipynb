{
  "cells": [
    {
      "cell_type": "markdown",
      "metadata": {
        "id": "view-in-github",
        "colab_type": "text"
      },
      "source": [
        "<a href=\"https://colab.research.google.com/github/byrocuy/REA_AI_Bootcamp/blob/main/week-5/session-1/01_nn_vs_cnn.ipynb\" target=\"_parent\"><img src=\"https://colab.research.google.com/assets/colab-badge.svg\" alt=\"Open In Colab\"/></a>"
      ]
    },
    {
      "cell_type": "markdown",
      "id": "5d5b56f9-01bd-449a-8a8e-e37a8a854c83",
      "metadata": {
        "id": "5d5b56f9-01bd-449a-8a8e-e37a8a854c83"
      },
      "source": [
        "# Hello World in Image Classification"
      ]
    },
    {
      "cell_type": "markdown",
      "id": "26e490b3-37e7-4389-89b3-8c31d81fc625",
      "metadata": {
        "id": "26e490b3-37e7-4389-89b3-8c31d81fc625"
      },
      "source": [
        "The classic \"Hello World\" when discussing image classification is using CNN on the [MNIST dataset](https://huggingface.co/datasets/mnist). The dataset contains 60,000-item where each MNIST image is a crude 28 x 28 pixel grayscale handwritten digit from \"0\" to \"9.\""
      ]
    },
    {
      "cell_type": "markdown",
      "id": "e2434559-d6f9-4d80-8cd1-d274f9acec71",
      "metadata": {
        "id": "e2434559-d6f9-4d80-8cd1-d274f9acec71"
      },
      "source": [
        "## Regular NN on MNIST dataset\n",
        "\n",
        "Now, can we create an image classifier using a regular neural network (without CNN) ? Yes, we can, actually we already did it back when we are studying Machine Learning/Deep Learning. Here's the code:"
      ]
    },
    {
      "cell_type": "code",
      "execution_count": null,
      "id": "b1d45d00-57cc-4177-a751-0ce44ca2076d",
      "metadata": {
        "id": "b1d45d00-57cc-4177-a751-0ce44ca2076d",
        "outputId": "0c8aa72c-123d-44fe-e6aa-f27c30a25942"
      },
      "outputs": [
        {
          "name": "stdout",
          "output_type": "stream",
          "text": [
            "Epoch [1/5], Loss: 0.4527\n",
            "Epoch [2/5], Loss: 0.2594\n",
            "Epoch [3/5], Loss: 0.3485\n",
            "Epoch [4/5], Loss: 0.5416\n",
            "Epoch [5/5], Loss: 0.4624\n",
            "Test loss: 0.4252, Test accuracy: 0.9089\n"
          ]
        }
      ],
      "source": [
        "# MNIST solver\n",
        "\n",
        "import torch\n",
        "\n",
        "# Load MNIST data\n",
        "from torchvision import datasets, transforms\n",
        "from torch.utils.data import DataLoader\n",
        "\n",
        "# Define data transformations\n",
        "transform = transforms.Compose([transforms.ToTensor(), transforms.Normalize((0.5,), (0.5,))])\n",
        "\n",
        "# Load MNIST data\n",
        "mnist_train = datasets.MNIST(root='./data', train=True, transform=transform, download=True)\n",
        "mnist_test = datasets.MNIST(root='./data', train=False, transform=transform, download=True)\n",
        "\n",
        "# Use Data Loader\n",
        "train_loader = DataLoader(mnist_train, batch_size=100, shuffle=True)\n",
        "test_loader = DataLoader(mnist_test, batch_size=100, shuffle=False)\n",
        "\n",
        "# Train\n",
        "import torch.nn as nn\n",
        "\n",
        "# Define model\n",
        "class MnistModel(nn.Module):\n",
        "    def __init__(self):\n",
        "        super().__init__()\n",
        "        self.linear = nn.Linear(784, 100)\n",
        "        self.hidden = nn.Linear(100, 10)\n",
        "\n",
        "    def forward(self, xb):\n",
        "        # Flatten the image tensors using reshape\n",
        "        xb = xb.reshape(-1, 784)\n",
        "        out = self.linear(xb)\n",
        "        out = self.hidden(out)\n",
        "        return out\n",
        "\n",
        "# Instantiate the model\n",
        "model = MnistModel()\n",
        "\n",
        "# Define loss function\n",
        "loss_fn = nn.CrossEntropyLoss()\n",
        "\n",
        "# Define optimizer\n",
        "learning_rate = 1e-2\n",
        "optimizer = torch.optim.SGD(model.parameters(), lr=learning_rate)\n",
        "\n",
        "# Define accuracy function\n",
        "def accuracy(outputs, labels):\n",
        "    _, preds = torch.max(outputs, dim=1)\n",
        "    return torch.tensor(torch.sum(preds == labels).item() / len(preds))\n",
        "\n",
        "# Train\n",
        "total_epochs = 5\n",
        "for epoch in range(total_epochs):\n",
        "    for images, labels in train_loader:\n",
        "        # Generate predictions\n",
        "        outputs = model(images)\n",
        "        loss = loss_fn(outputs, labels)\n",
        "        # Perform gradient descent\n",
        "        optimizer.zero_grad()\n",
        "        loss.backward()\n",
        "        optimizer.step()\n",
        "    print('Epoch [{}/{}], Loss: {:.4f}'.format(epoch+1, total_epochs, loss.item()))\n",
        "\n",
        "# Evaluate\n",
        "with torch.no_grad():\n",
        "    accum_acc = 0\n",
        "    for images, labels in test_loader:\n",
        "        outputs = model(images)\n",
        "        loss = loss_fn(outputs, labels)\n",
        "        acc = accuracy(outputs, labels)\n",
        "        accum_acc += acc\n",
        "\n",
        "    print('Test loss: {:.4f}, Test accuracy: {:.4f}'.format(loss.item(), accum_acc/len(test_loader)))\n"
      ]
    },
    {
      "cell_type": "markdown",
      "id": "1dce18f5-cc2c-41f7-94ad-53e68be85001",
      "metadata": {
        "id": "1dce18f5-cc2c-41f7-94ad-53e68be85001"
      },
      "source": [
        "Hey, it works, it also have 91% accuracy. There is no problem right ?"
      ]
    },
    {
      "cell_type": "markdown",
      "id": "c1196f5e-e092-4907-9766-548ac1ddff01",
      "metadata": {
        "id": "c1196f5e-e092-4907-9766-548ac1ddff01"
      },
      "source": [
        "Well, on a simple image such as the MNIST dataset, which contains only black and white colors as well as simple shapes, that's true. However, the images we encounter in the real world are far more complex and diverse in terms of colors, textures, and objects.\n",
        "\n",
        "To tackle these challenges effectively, specialized neural network architectures like Convolutional Neural Networks (CNNs) have emerged as the preferred choice, as they are designed to capture spatial hierarchies, local features, and patterns, making them well-suited for the diverse and intricate nature of real-world images."
      ]
    },
    {
      "cell_type": "markdown",
      "id": "db2be9cd-00f3-441c-8531-abe2b699c0bf",
      "metadata": {
        "id": "db2be9cd-00f3-441c-8531-abe2b699c0bf"
      },
      "source": [
        "> Note:\n",
        "> - Spatial Hierarchies: The network can learn to recognize patterns, shapes, and structures in an image in a hierarchical manner. This involves identifying simple features (such as edges and corners) at lower levels and progressively combining them to recognize more complex and abstract objects or concepts at higher levels.\n",
        "> - Local Features: The network can identify and focus on specific regions or elements within an image that are relevant for recognition or classification. These local features can be small patterns, textures, or details within an image that contribute to the overall understanding of what the image represents."
      ]
    },
    {
      "cell_type": "markdown",
      "id": "ba7061af-cc78-49fc-aefa-934b49068aa9",
      "metadata": {
        "id": "ba7061af-cc78-49fc-aefa-934b49068aa9"
      },
      "source": [
        "## CNN on MNIST dataset\n",
        "Let's try converting the code above to it's CNN version"
      ]
    },
    {
      "cell_type": "code",
      "execution_count": null,
      "id": "dc8d11b6-530d-4109-afc8-58b45d0ad1e4",
      "metadata": {
        "id": "dc8d11b6-530d-4109-afc8-58b45d0ad1e4",
        "outputId": "dc940533-cffc-4292-8aa2-05e142258534"
      },
      "outputs": [
        {
          "name": "stdout",
          "output_type": "stream",
          "text": [
            "Epoch [1/5], Loss: 0.2483\n",
            "Epoch [2/5], Loss: 0.2432\n",
            "Epoch [3/5], Loss: 0.0879\n",
            "Epoch [4/5], Loss: 0.1307\n",
            "Epoch [5/5], Loss: 0.0887\n",
            "Test loss: 0.1283, Test accuracy: 0.9694\n"
          ]
        }
      ],
      "source": [
        "import torch\n",
        "import torch.nn as nn\n",
        "import torch.optim as optim\n",
        "from torchvision import datasets, transforms\n",
        "from torch.utils.data import DataLoader\n",
        "\n",
        "# Define a CNN model for MNIST\n",
        "class CNNModel(nn.Module):\n",
        "    def __init__(self):\n",
        "        super(CNNModel, self).__init__()\n",
        "        self.conv1 = nn.Conv2d(1, 32, kernel_size=3)\n",
        "        self.conv2 = nn.Conv2d(32, 64, kernel_size=3)\n",
        "        self.fc1 = nn.Linear(64 * 5 * 5, 128)\n",
        "        self.fc2 = nn.Linear(128, 10)\n",
        "\n",
        "    def forward(self, x):\n",
        "        x = torch.relu(self.conv1(x))\n",
        "        x = torch.max_pool2d(x, 2)\n",
        "        x = torch.relu(self.conv2(x))\n",
        "        x = torch.max_pool2d(x, 2)\n",
        "        x = x.view(x.size(0), -1)\n",
        "        x = torch.relu(self.fc1(x))\n",
        "        x = self.fc2(x)\n",
        "        return x\n",
        "\n",
        "# Define data transformations\n",
        "transform = transforms.Compose([transforms.ToTensor(), transforms.Normalize((0.5,), (0.5,))])\n",
        "\n",
        "# Load MNIST data\n",
        "mnist_train = datasets.MNIST(root='./data', train=True, transform=transform, download=True)\n",
        "mnist_test = datasets.MNIST(root='./data', train=False, transform=transform, download=True)\n",
        "\n",
        "# Use Data Loader\n",
        "train_loader = DataLoader(mnist_train, batch_size=100, shuffle=True)\n",
        "test_loader = DataLoader(mnist_test, batch_size=100, shuffle=False)\n",
        "\n",
        "# Instantiate the CNN model\n",
        "cnn_model = CNNModel()\n",
        "\n",
        "# Define loss function and optimizer\n",
        "loss_fn = nn.CrossEntropyLoss()\n",
        "learning_rate = 0.01\n",
        "optimizer = optim.SGD(cnn_model.parameters(), lr=learning_rate)\n",
        "\n",
        "# Define accuracy function\n",
        "def accuracy(outputs, labels):\n",
        "    _, preds = torch.max(outputs, dim=1)\n",
        "    return torch.tensor(torch.sum(preds == labels).item() / len(preds))\n",
        "\n",
        "# Training loop\n",
        "total_epochs = 5\n",
        "for epoch in range(total_epochs):\n",
        "    for images, labels in train_loader:\n",
        "        outputs = cnn_model(images)\n",
        "        loss = loss_fn(outputs, labels)\n",
        "\n",
        "        optimizer.zero_grad()\n",
        "        loss.backward()\n",
        "        optimizer.step()\n",
        "\n",
        "    print('Epoch [{}/{}], Loss: {:.4f}'.format(epoch+1, total_epochs, loss.item()))\n",
        "\n",
        "# Evaluation\n",
        "#cnn_model.eval()\n",
        "with torch.no_grad():\n",
        "    accum_acc = 0\n",
        "    for images, labels in test_loader:\n",
        "        outputs = cnn_model(images)\n",
        "\n",
        "        loss = loss_fn(outputs, labels)\n",
        "        acc = accuracy(outputs, labels)\n",
        "        accum_acc += acc\n",
        "\n",
        "    print('Test loss: {:.4f}, Test accuracy: {:.4f}'.format(loss.item(), accum_acc/len(test_loader)))"
      ]
    },
    {
      "cell_type": "markdown",
      "id": "0049f2a8-75c4-4375-be33-1f78ee1a1be4",
      "metadata": {
        "id": "0049f2a8-75c4-4375-be33-1f78ee1a1be4"
      },
      "source": [
        "Wow, 97% accuracy!"
      ]
    },
    {
      "cell_type": "markdown",
      "id": "70572c70-bc7f-4e3f-a536-b092311f9684",
      "metadata": {
        "id": "70572c70-bc7f-4e3f-a536-b092311f9684"
      },
      "source": [
        "Our new code defines a CNN model with two convolutional layers followed by fully connected layers. It also normalizes the data to have a mean of 0.5 and a standard deviation of 0.5. Normalizing the data ensures that the pixel values have a consistent scale, usually between 0 and 1 or -1 and 1. This helps stabilize training, as large input values can lead to unstable gradients during backpropagation."
      ]
    },
    {
      "cell_type": "markdown",
      "id": "daaf058e-e912-44a0-b976-f7098947643c",
      "metadata": {
        "id": "daaf058e-e912-44a0-b976-f7098947643c"
      },
      "source": [
        "Still not convinced, well you can try modifying the code above to use the CIFAR10 which you can find on [Huggingface](https://huggingface.co/datasets/cifar100). The CIFAR10 dataset presents a more complex challenge compared to MNIST due to its color images (32x32 pixels RGB) and diverse set of object categories (including animals, vehicles, and everyday objects).\n",
        "\n",
        "We'll skip the CIFAR10 notebook, but if you are interested in the result, you can visit this notebook: [NN vs CNN CIFAR10](http://localhost:8888/notebooks/03_cnn/02_nn-vs-cnn-cifar10.ipynb)\n",
        "\n",
        "Let's continue to how CNN works."
      ]
    }
  ],
  "metadata": {
    "kernelspec": {
      "display_name": "Python 3 (ipykernel)",
      "language": "python",
      "name": "python3"
    },
    "language_info": {
      "codemirror_mode": {
        "name": "ipython",
        "version": 3
      },
      "file_extension": ".py",
      "mimetype": "text/x-python",
      "name": "python",
      "nbconvert_exporter": "python",
      "pygments_lexer": "ipython3",
      "version": "3.11.1"
    },
    "colab": {
      "provenance": [],
      "include_colab_link": true
    }
  },
  "nbformat": 4,
  "nbformat_minor": 5
}