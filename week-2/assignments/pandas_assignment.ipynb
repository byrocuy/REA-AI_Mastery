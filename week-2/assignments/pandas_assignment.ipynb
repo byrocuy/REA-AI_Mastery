{
  "cells": [
    {
      "cell_type": "markdown",
      "metadata": {
        "id": "view-in-github",
        "colab_type": "text"
      },
      "source": [
        "<a href=\"https://colab.research.google.com/github/byrocuy/REA-AI_Mastery/blob/main/week-2/assignments/pandas_assignment.ipynb\" target=\"_parent\"><img src=\"https://colab.research.google.com/assets/colab-badge.svg\" alt=\"Open In Colab\"/></a>"
      ]
    },
    {
      "cell_type": "markdown",
      "metadata": {
        "id": "fkZpTXPJV53k"
      },
      "source": [
        "# Assignment: FIFA 21 Players Data Analysis and Visualization"
      ]
    },
    {
      "cell_type": "markdown",
      "metadata": {
        "id": "duQNbJWOV53m"
      },
      "source": [
        "**Instructions for Students:**\n",
        "\n",
        "Please carefully follow these steps to complete and submit your assignment:\n",
        "\n",
        "1. **Completing the Assignment**: You are required to work on and complete all tasks in the provided assignment. Be disciplined and ensure that you thoroughly engage with each task.\n",
        "   \n",
        "2. **Creating a Google Drive Folder**: Each of you must create a new folder on your Google Drive. This will be the repository for all your completed assignment files, aiding you in keeping your work organized and accessible.\n",
        "   \n",
        "3. **Uploading Completed Assignment**: Upon completion of your assignment, make sure to upload all necessary files, involving codes, reports, and related documents into the created Google Drive folder. Save this link in the 'Student Identity' section and also provide it as the last parameter in the `submit` function that has been provided.\n",
        "   \n",
        "4. **Sharing Folder Link**: You're required to share the link to your assignment Google Drive folder. This is crucial for the submission and evaluation of your assignment.\n",
        "   \n",
        "5. **Setting Permission toPublic**: Please make sure your Google Drive folder is set to public. This allows your instructor to access your solutions and assess your work correctly.\n",
        "\n",
        "Adhering to these procedures will facilitate a smooth assignment process for you and the reviewers."
      ]
    },
    {
      "cell_type": "markdown",
      "metadata": {
        "id": "0P1R6cfuV53n"
      },
      "source": [
        "**Description:**\n",
        "\n",
        "Welcome to this data analysis and visualization assignment! In this assignment, we will be exploring the 'FIFA 21 Players' dataset which comprises a rich variety of information about soccer players from around the world. The data extracted are in 'csv' file format.\n",
        "\n",
        "Your task is to clean and prepare the data for analysis, and then leverage your data visualization skills to uncovers insights about FIFA 21 players, teams, and overall value and wage dynamics.\n",
        "\n",
        "Here are your tasks outlined in detail:\n",
        "\n",
        "1. **Data Cleaning**: The initial dataset contains some unnecessary and redundant information. Your first task is to clean and prepare it for analysis. In doing so:\n",
        "    - Remove the 'Unnamed: 0' column from the dataset.\n",
        "    - Removing the Newline Characters.\n",
        "    - Look for columns which contain star ('★') characters. Remove these characters from all such columns.\n",
        "    - Fill in the missing values using an appropriate method.\n",
        "    - In the 'Value', 'Wage', and 'Release Clause' columns, remove the '€', 'K', and 'M' characters and convert the currency value to 'int'. For eg, \"M\" in value column is Million, so multiply the row values by 1,000,000, etc.\n",
        "\n",
        "2. **Data Visualization**: After the data has been cleaned and prepared, use appropriate data visualization methods to represent the data as follows:\n",
        "    - Create a Pie Chart to display the preferred foot ('Left' or 'Right') among the FIFA 21 players.\n",
        "    - Use a Bar Plot to represent the top 3 FIFA 21 players.\n",
        "    - Visualize the best FIFA teams from 100 players based on the 'OVA' score using a Bar Plot.\n",
        "    - Use a Bar Plot to display the top 10 most valuable FIFA teams.\n",
        "    - Create a Scatter Plot to show players who are highly valuable but still underpaid.\n",
        "\n",
        "Ensure all plots are fully labeled with titles, x and y variables, and a legend if necessary.\n",
        "\n",
        "Remember, the goal of this assignment is not just about getting the right answer but also about presenting your findings in a clear, logical, and visually appealing manner. Good luck and enjoy the analysis!"
      ]
    },
    {
      "cell_type": "markdown",
      "metadata": {
        "id": "aoDq9xydV53p"
      },
      "source": [
        "**Note for Students:**\n",
        "\n",
        "Please bear in mind that, although you may tackle most of the assignment problems in any order you prefer, **tasks 9 and 10 require that you complete task 5 first**. This is due to the dependencies these tasks have on the cleaned and prepared financial data ('Value' and 'Wage' columns) from task 5.\n",
        "\n",
        "**You will not be able to accurately complete tasks 9 and 10 without having concluded task 5**. Conversely, other tasks in this assignment do not have such interdependencies and can be completed independently.\n",
        "\n",
        "Happy analyzing!"
      ]
    },
    {
      "cell_type": "markdown",
      "metadata": {
        "id": "PhdF0D_HV53p"
      },
      "source": [
        "## Student Identity"
      ]
    },
    {
      "cell_type": "code",
      "execution_count": null,
      "metadata": {
        "id": "-lr1OudGV53p"
      },
      "outputs": [],
      "source": [
        "# @title #### Student Identity\n",
        "student_id = \"\" # @param {type:\"string\"}\n",
        "name = \"\" # @param {type:\"string\"}\n",
        "drive_link = \"\"  # @param {type:\"string\"}"
      ]
    },
    {
      "cell_type": "markdown",
      "metadata": {
        "id": "cONvHcsOV53q"
      },
      "source": [
        "## Import package"
      ]
    },
    {
      "cell_type": "code",
      "execution_count": null,
      "metadata": {
        "id": "z5K8AOlTV53r"
      },
      "outputs": [],
      "source": [
        "import pandas as pd\n",
        "import numpy as np\n",
        "import matplotlib.pyplot as plt\n",
        "\n",
        "!pip install rggrader\n",
        "from rggrader import submit\n",
        "from rggrader import submit_image"
      ]
    },
    {
      "cell_type": "markdown",
      "metadata": {
        "id": "RdQaZra7V53r"
      },
      "source": [
        "## Read file"
      ]
    },
    {
      "cell_type": "code",
      "execution_count": null,
      "metadata": {
        "scrolled": false,
        "id": "bYK_Ae7rV53r",
        "outputId": "5ae0f3fc-bdc3-488e-e19d-2a3ca28edc05"
      },
      "outputs": [
        {
          "data": {
            "text/html": [
              "<div>\n",
              "<style scoped>\n",
              "    .dataframe tbody tr th:only-of-type {\n",
              "        vertical-align: middle;\n",
              "    }\n",
              "\n",
              "    .dataframe tbody tr th {\n",
              "        vertical-align: top;\n",
              "    }\n",
              "\n",
              "    .dataframe thead th {\n",
              "        text-align: right;\n",
              "    }\n",
              "</style>\n",
              "<table border=\"1\" class=\"dataframe\">\n",
              "  <thead>\n",
              "    <tr style=\"text-align: right;\">\n",
              "      <th></th>\n",
              "      <th>Unnamed: 0</th>\n",
              "      <th>ID</th>\n",
              "      <th>Name</th>\n",
              "      <th>LongName</th>\n",
              "      <th>Nationality</th>\n",
              "      <th>Age</th>\n",
              "      <th>↓OVA</th>\n",
              "      <th>POT</th>\n",
              "      <th>Club</th>\n",
              "      <th>Contract</th>\n",
              "      <th>...</th>\n",
              "      <th>A/W</th>\n",
              "      <th>D/W</th>\n",
              "      <th>IR</th>\n",
              "      <th>PAC</th>\n",
              "      <th>SHO</th>\n",
              "      <th>PAS</th>\n",
              "      <th>DRI</th>\n",
              "      <th>DEF</th>\n",
              "      <th>PHY</th>\n",
              "      <th>Hits</th>\n",
              "    </tr>\n",
              "  </thead>\n",
              "  <tbody>\n",
              "    <tr>\n",
              "      <th>0</th>\n",
              "      <td>0</td>\n",
              "      <td>158023</td>\n",
              "      <td>L. Messi</td>\n",
              "      <td>Lionel Messi</td>\n",
              "      <td>Argentina</td>\n",
              "      <td>33</td>\n",
              "      <td>93</td>\n",
              "      <td>93</td>\n",
              "      <td>\\n\\n\\n\\nFC Barcelona</td>\n",
              "      <td>2004 ~ 2021</td>\n",
              "      <td>...</td>\n",
              "      <td>Medium</td>\n",
              "      <td>Low</td>\n",
              "      <td>5 ★</td>\n",
              "      <td>85</td>\n",
              "      <td>92</td>\n",
              "      <td>91</td>\n",
              "      <td>95</td>\n",
              "      <td>38</td>\n",
              "      <td>65</td>\n",
              "      <td>771</td>\n",
              "    </tr>\n",
              "    <tr>\n",
              "      <th>1</th>\n",
              "      <td>1</td>\n",
              "      <td>20801</td>\n",
              "      <td>Cristiano Ronaldo</td>\n",
              "      <td>C. Ronaldo dos Santos Aveiro</td>\n",
              "      <td>Portugal</td>\n",
              "      <td>35</td>\n",
              "      <td>92</td>\n",
              "      <td>92</td>\n",
              "      <td>\\n\\n\\n\\nJuventus</td>\n",
              "      <td>2018 ~ 2022</td>\n",
              "      <td>...</td>\n",
              "      <td>High</td>\n",
              "      <td>Low</td>\n",
              "      <td>5 ★</td>\n",
              "      <td>89</td>\n",
              "      <td>93</td>\n",
              "      <td>81</td>\n",
              "      <td>89</td>\n",
              "      <td>35</td>\n",
              "      <td>77</td>\n",
              "      <td>562</td>\n",
              "    </tr>\n",
              "    <tr>\n",
              "      <th>2</th>\n",
              "      <td>2</td>\n",
              "      <td>200389</td>\n",
              "      <td>J. Oblak</td>\n",
              "      <td>Jan Oblak</td>\n",
              "      <td>Slovenia</td>\n",
              "      <td>27</td>\n",
              "      <td>91</td>\n",
              "      <td>93</td>\n",
              "      <td>\\n\\n\\n\\nAtlético Madrid</td>\n",
              "      <td>2014 ~ 2023</td>\n",
              "      <td>...</td>\n",
              "      <td>Medium</td>\n",
              "      <td>Medium</td>\n",
              "      <td>3 ★</td>\n",
              "      <td>87</td>\n",
              "      <td>92</td>\n",
              "      <td>78</td>\n",
              "      <td>90</td>\n",
              "      <td>52</td>\n",
              "      <td>90</td>\n",
              "      <td>150</td>\n",
              "    </tr>\n",
              "    <tr>\n",
              "      <th>3</th>\n",
              "      <td>3</td>\n",
              "      <td>192985</td>\n",
              "      <td>K. De Bruyne</td>\n",
              "      <td>Kevin De Bruyne</td>\n",
              "      <td>Belgium</td>\n",
              "      <td>29</td>\n",
              "      <td>91</td>\n",
              "      <td>91</td>\n",
              "      <td>\\n\\n\\n\\nManchester City</td>\n",
              "      <td>2015 ~ 2023</td>\n",
              "      <td>...</td>\n",
              "      <td>High</td>\n",
              "      <td>High</td>\n",
              "      <td>4 ★</td>\n",
              "      <td>76</td>\n",
              "      <td>86</td>\n",
              "      <td>93</td>\n",
              "      <td>88</td>\n",
              "      <td>64</td>\n",
              "      <td>78</td>\n",
              "      <td>207</td>\n",
              "    </tr>\n",
              "    <tr>\n",
              "      <th>4</th>\n",
              "      <td>4</td>\n",
              "      <td>190871</td>\n",
              "      <td>Neymar Jr</td>\n",
              "      <td>Neymar da Silva Santos Jr.</td>\n",
              "      <td>Brazil</td>\n",
              "      <td>28</td>\n",
              "      <td>91</td>\n",
              "      <td>91</td>\n",
              "      <td>\\n\\n\\n\\nParis Saint-Germain</td>\n",
              "      <td>2017 ~ 2022</td>\n",
              "      <td>...</td>\n",
              "      <td>High</td>\n",
              "      <td>Medium</td>\n",
              "      <td>5 ★</td>\n",
              "      <td>91</td>\n",
              "      <td>85</td>\n",
              "      <td>86</td>\n",
              "      <td>94</td>\n",
              "      <td>36</td>\n",
              "      <td>59</td>\n",
              "      <td>595</td>\n",
              "    </tr>\n",
              "    <tr>\n",
              "      <th>...</th>\n",
              "      <td>...</td>\n",
              "      <td>...</td>\n",
              "      <td>...</td>\n",
              "      <td>...</td>\n",
              "      <td>...</td>\n",
              "      <td>...</td>\n",
              "      <td>...</td>\n",
              "      <td>...</td>\n",
              "      <td>...</td>\n",
              "      <td>...</td>\n",
              "      <td>...</td>\n",
              "      <td>...</td>\n",
              "      <td>...</td>\n",
              "      <td>...</td>\n",
              "      <td>...</td>\n",
              "      <td>...</td>\n",
              "      <td>...</td>\n",
              "      <td>...</td>\n",
              "      <td>...</td>\n",
              "      <td>...</td>\n",
              "      <td>...</td>\n",
              "    </tr>\n",
              "    <tr>\n",
              "      <th>18974</th>\n",
              "      <td>18974</td>\n",
              "      <td>247223</td>\n",
              "      <td>Xia Ao</td>\n",
              "      <td>Ao Xia</td>\n",
              "      <td>China PR</td>\n",
              "      <td>21</td>\n",
              "      <td>47</td>\n",
              "      <td>55</td>\n",
              "      <td>\\n\\n\\n\\nWuhan Zall</td>\n",
              "      <td>2018 ~ 2022</td>\n",
              "      <td>...</td>\n",
              "      <td>Medium</td>\n",
              "      <td>Medium</td>\n",
              "      <td>1 ★</td>\n",
              "      <td>64</td>\n",
              "      <td>28</td>\n",
              "      <td>26</td>\n",
              "      <td>38</td>\n",
              "      <td>48</td>\n",
              "      <td>51</td>\n",
              "      <td>NaN</td>\n",
              "    </tr>\n",
              "    <tr>\n",
              "      <th>18975</th>\n",
              "      <td>18975</td>\n",
              "      <td>258760</td>\n",
              "      <td>B. Hough</td>\n",
              "      <td>Ben Hough</td>\n",
              "      <td>England</td>\n",
              "      <td>17</td>\n",
              "      <td>47</td>\n",
              "      <td>67</td>\n",
              "      <td>\\n\\n\\n\\nOldham Athletic</td>\n",
              "      <td>2020 ~ 2021</td>\n",
              "      <td>...</td>\n",
              "      <td>Medium</td>\n",
              "      <td>Medium</td>\n",
              "      <td>1 ★</td>\n",
              "      <td>64</td>\n",
              "      <td>40</td>\n",
              "      <td>48</td>\n",
              "      <td>49</td>\n",
              "      <td>35</td>\n",
              "      <td>45</td>\n",
              "      <td>NaN</td>\n",
              "    </tr>\n",
              "    <tr>\n",
              "      <th>18976</th>\n",
              "      <td>18976</td>\n",
              "      <td>252757</td>\n",
              "      <td>R. McKinley</td>\n",
              "      <td>Ronan McKinley</td>\n",
              "      <td>England</td>\n",
              "      <td>18</td>\n",
              "      <td>47</td>\n",
              "      <td>65</td>\n",
              "      <td>\\n\\n\\n\\nDerry City</td>\n",
              "      <td>2019 ~ 2020</td>\n",
              "      <td>...</td>\n",
              "      <td>Medium</td>\n",
              "      <td>Medium</td>\n",
              "      <td>1 ★</td>\n",
              "      <td>63</td>\n",
              "      <td>39</td>\n",
              "      <td>44</td>\n",
              "      <td>46</td>\n",
              "      <td>40</td>\n",
              "      <td>53</td>\n",
              "      <td>NaN</td>\n",
              "    </tr>\n",
              "    <tr>\n",
              "      <th>18977</th>\n",
              "      <td>18977</td>\n",
              "      <td>243790</td>\n",
              "      <td>Wang Zhen'ao</td>\n",
              "      <td>Zhen'ao Wang</td>\n",
              "      <td>China PR</td>\n",
              "      <td>20</td>\n",
              "      <td>47</td>\n",
              "      <td>57</td>\n",
              "      <td>\\n\\n\\n\\nDalian YiFang FC</td>\n",
              "      <td>2020 ~ 2022</td>\n",
              "      <td>...</td>\n",
              "      <td>Medium</td>\n",
              "      <td>Medium</td>\n",
              "      <td>1 ★</td>\n",
              "      <td>58</td>\n",
              "      <td>49</td>\n",
              "      <td>41</td>\n",
              "      <td>49</td>\n",
              "      <td>30</td>\n",
              "      <td>44</td>\n",
              "      <td>NaN</td>\n",
              "    </tr>\n",
              "    <tr>\n",
              "      <th>18978</th>\n",
              "      <td>18978</td>\n",
              "      <td>252520</td>\n",
              "      <td>Zhou Xiao</td>\n",
              "      <td>Xiao Zhou</td>\n",
              "      <td>China PR</td>\n",
              "      <td>21</td>\n",
              "      <td>47</td>\n",
              "      <td>57</td>\n",
              "      <td>\\n\\n\\n\\nDalian YiFang FC</td>\n",
              "      <td>2019 ~ 2023</td>\n",
              "      <td>...</td>\n",
              "      <td>Medium</td>\n",
              "      <td>Medium</td>\n",
              "      <td>1 ★</td>\n",
              "      <td>62</td>\n",
              "      <td>22</td>\n",
              "      <td>39</td>\n",
              "      <td>42</td>\n",
              "      <td>45</td>\n",
              "      <td>55</td>\n",
              "      <td>NaN</td>\n",
              "    </tr>\n",
              "  </tbody>\n",
              "</table>\n",
              "<p>18979 rows × 35 columns</p>\n",
              "</div>"
            ],
            "text/plain": [
              "       Unnamed: 0      ID               Name                      LongName  \\\n",
              "0               0  158023           L. Messi                  Lionel Messi   \n",
              "1               1   20801  Cristiano Ronaldo  C. Ronaldo dos Santos Aveiro   \n",
              "2               2  200389           J. Oblak                     Jan Oblak   \n",
              "3               3  192985       K. De Bruyne               Kevin De Bruyne   \n",
              "4               4  190871          Neymar Jr    Neymar da Silva Santos Jr.   \n",
              "...           ...     ...                ...                           ...   \n",
              "18974       18974  247223             Xia Ao                        Ao Xia   \n",
              "18975       18975  258760           B. Hough                     Ben Hough   \n",
              "18976       18976  252757        R. McKinley                Ronan McKinley   \n",
              "18977       18977  243790       Wang Zhen'ao                  Zhen'ao Wang   \n",
              "18978       18978  252520          Zhou Xiao                     Xiao Zhou   \n",
              "\n",
              "      Nationality  Age  ↓OVA  POT                         Club     Contract  \\\n",
              "0       Argentina   33    93   93         \\n\\n\\n\\nFC Barcelona  2004 ~ 2021   \n",
              "1        Portugal   35    92   92             \\n\\n\\n\\nJuventus  2018 ~ 2022   \n",
              "2        Slovenia   27    91   93      \\n\\n\\n\\nAtlético Madrid  2014 ~ 2023   \n",
              "3         Belgium   29    91   91      \\n\\n\\n\\nManchester City  2015 ~ 2023   \n",
              "4          Brazil   28    91   91  \\n\\n\\n\\nParis Saint-Germain  2017 ~ 2022   \n",
              "...           ...  ...   ...  ...                          ...          ...   \n",
              "18974    China PR   21    47   55           \\n\\n\\n\\nWuhan Zall  2018 ~ 2022   \n",
              "18975     England   17    47   67      \\n\\n\\n\\nOldham Athletic  2020 ~ 2021   \n",
              "18976     England   18    47   65           \\n\\n\\n\\nDerry City  2019 ~ 2020   \n",
              "18977    China PR   20    47   57     \\n\\n\\n\\nDalian YiFang FC  2020 ~ 2022   \n",
              "18978    China PR   21    47   57     \\n\\n\\n\\nDalian YiFang FC  2019 ~ 2023   \n",
              "\n",
              "       ...     A/W     D/W   IR PAC  SHO PAS DRI DEF PHY Hits  \n",
              "0      ...  Medium     Low  5 ★  85   92  91  95  38  65  771  \n",
              "1      ...    High     Low  5 ★  89   93  81  89  35  77  562  \n",
              "2      ...  Medium  Medium  3 ★  87   92  78  90  52  90  150  \n",
              "3      ...    High    High  4 ★  76   86  93  88  64  78  207  \n",
              "4      ...    High  Medium  5 ★  91   85  86  94  36  59  595  \n",
              "...    ...     ...     ...  ...  ..  ...  ..  ..  ..  ..  ...  \n",
              "18974  ...  Medium  Medium  1 ★  64   28  26  38  48  51  NaN  \n",
              "18975  ...  Medium  Medium  1 ★  64   40  48  49  35  45  NaN  \n",
              "18976  ...  Medium  Medium  1 ★  63   39  44  46  40  53  NaN  \n",
              "18977  ...  Medium  Medium  1 ★  58   49  41  49  30  44  NaN  \n",
              "18978  ...  Medium  Medium  1 ★  62   22  39  42  45  55  NaN  \n",
              "\n",
              "[18979 rows x 35 columns]"
            ]
          },
          "execution_count": 3,
          "metadata": {},
          "output_type": "execute_result"
        }
      ],
      "source": [
        "url = 'https://storage.googleapis.com/rg-ai-bootcamp/assignment-1/fifa21_raw_data.csv'\n",
        "fifa_df = pd.read_csv(url, low_memory=False)\n",
        "fifa_df"
      ]
    },
    {
      "cell_type": "markdown",
      "metadata": {
        "id": "tGdm8-N3V53s"
      },
      "source": [
        "## Data Cleaning"
      ]
    },
    {
      "cell_type": "markdown",
      "metadata": {
        "id": "mBNOgEoXV53s"
      },
      "source": [
        "**Task 1: Removing the 'Unnamed: 0' Column**\n",
        "\n",
        "In this first task, you have to deal with unnecessary data in our data set. Specifically, the data set contains a column labeled `Unnamed: 0`, which does not make a significant contribution to our data analysis needs. Your goal is to effectively remove this column from the `FIFA 21 Players` data set. Remember that it is very important to manipulate only the unneeded parts of the data and keep the rest intact.\n",
        "\n",
        "Please make sure to:\n",
        "- Read the CSV file carefully to understand the structure of the data.\n",
        "- Identify a suitable method to remove the specified column from the DataFrame.\n",
        "- Validate that the column has been removed successfully by inspecting the resulting DataFrame."
      ]
    },
    {
      "cell_type": "code",
      "execution_count": null,
      "metadata": {
        "scrolled": false,
        "id": "EKmrwUwzV53t"
      },
      "outputs": [],
      "source": [
        "# @title #### 01. Removing the 'Unnamed: 0' Column\n",
        "\n",
        "# Put your code here:\n",
        "fifa_df = none\n",
        "\n",
        "\n",
        "\n",
        "# ---- End of your code ----\n",
        "\n",
        "# Submit Method\n",
        "assignment_id = \"00_fifa_21_players_data_analysis_and_visualization\"\n",
        "question_id = \"01_removing_the_unnamed_column\"\n",
        "submit(student_id, name, assignment_id, fifa_df.head(1).to_string(), question_id, drive_link)"
      ]
    },
    {
      "cell_type": "markdown",
      "metadata": {
        "id": "MBoq6sB6V53t"
      },
      "source": [
        "**Task 2: Removing the Newline Characters**\n",
        "\n",
        "In your second task, you will navigate into deeper waters of data cleaning by removing the newline characters (`\\n`) from the dataset. This nuisance feature could occur in various columns and can disrupt accurate data parsing. So, it's an important step to assure the integrity and consistency of our data.\n",
        "\n",
        "Here are a few tips to guide you on this task:\n",
        "- Start by detecting which columns in the 'FIFA 21 Players' dataset contain newline characters\n",
        "- Develop a strategy to effectively clean the data by replacing or removing these characters\n",
        "- As before, make sure your solution keeps all other aspects of the data untouched\n",
        "- Validate your solution by examining the cleaned dataset to ensure no more newline characters exist"
      ]
    },
    {
      "cell_type": "code",
      "execution_count": null,
      "metadata": {
        "scrolled": false,
        "id": "1dRtKp3_V53t"
      },
      "outputs": [],
      "source": [
        "# @title #### 02. Removing the Newline Characters\n",
        "\n",
        "# Put your code here:\n",
        "fifa_df = none\n",
        "\n",
        "\n",
        "\n",
        "# ---- End of your code ----\n",
        "\n",
        "# Submit Method\n",
        "assignment_id = \"00_fifa_21_players_data_analysis_and_visualization\"\n",
        "question_id = \"02_removing_the_newline_characters\"\n",
        "club_col = fifa_df['Club'].head()\n",
        "submit(student_id, name, assignment_id, club_col.to_string(), question_id, drive_link)"
      ]
    },
    {
      "cell_type": "markdown",
      "metadata": {
        "id": "mZvmjHUZV53t"
      },
      "source": [
        "**Task 3: Removing 'Star' Characters**\n",
        "\n",
        "In this third task, we will continue with the theme of data cleaning. Your job in this task is to identify and eliminate the 'star' (★) characters from all the columns in the 'FIFA 21 Players' dataset.\n",
        "\n",
        "As guidelines for you:\n",
        "- Begin with an overview of the dataset to identify the columns that contain the 'star' (\"*\") characters.\n",
        "- Formulate a strategy to remove these characters without distorting the remaining data in those columns.\n",
        "- Adopt a solution that maintains the integrity of the original data.\n",
        "- Finally, validate your solution by examining the cleaned dataset, ensuring that no 'star' characters remain in any columns."
      ]
    },
    {
      "cell_type": "code",
      "execution_count": null,
      "metadata": {
        "id": "9wqDiY9LV53t"
      },
      "outputs": [],
      "source": [
        "# @title #### 03. Removing 'Star' Characters\n",
        "\n",
        "# Put your code here:\n",
        "fifa_df = none\n",
        "\n",
        "\n",
        "\n",
        "# ---- End of your code ----\n",
        "\n",
        "# Submit Method\n",
        "assignment_id = \"00_fifa_21_players_data_analysis_and_visualization\"\n",
        "question_id = \"03_removing_star_characters\"\n",
        "star_col = fifa_df[['W/F', 'SM', 'IR']].head()\n",
        "submit(student_id, name, assignment_id, star_col.to_string(), question_id, drive_link)"
      ]
    },
    {
      "cell_type": "markdown",
      "metadata": {
        "id": "KFIqLDq7V53t"
      },
      "source": [
        "**Task 4: Filling Missing Values**\n",
        "\n",
        "In your fourth task, we turn our attention to missing values in our dataset. 'Loan End Date' and 'Hits' columns in the 'FIFA 21 Players' dataset contain some missing entries, which you are tasked with handling. Specifically, you are to fill the missing values in the 'Loan End Date' column with 'Not on Loan', and for the 'Hits' column, use the string 'Unknown'.\n",
        "\n",
        "Here are your pointers:\n",
        "- Start with identifying the missing values in the mentioned columns of 'FIFA 21 Players' dataset.\n",
        "- Apply appropriate methods to fill in the missing entries in 'Loan End Date' with 'Not on Loan' and 'Hits' column with 'Unknown', while maintaining the integrity of the existing data.\n",
        "- After filling the missing values, verify that these have been correctly filled by inspecting the final state of your DataFrame."
      ]
    },
    {
      "cell_type": "code",
      "execution_count": null,
      "metadata": {
        "id": "N8lRN25oV53u"
      },
      "outputs": [],
      "source": [
        "# @title #### 04. Filling Missing Values\n",
        "\n",
        "# Put your code here:\n",
        "fifa_df = none\n",
        "\n",
        "\n",
        "\n",
        "# ---- End of your code ----\n",
        "\n",
        "# Submit Method\n",
        "assignment_id = \"00_fifa_21_players_data_analysis_and_visualization\"\n",
        "question_id = \"04_filling_missing_values\"\n",
        "missing_vals_col = fifa_df[['Loan Date End', 'Hits']].tail()\n",
        "submit(student_id, name, assignment_id, missing_vals_col.to_string(), question_id, drive_link)"
      ]
    },
    {
      "cell_type": "markdown",
      "metadata": {
        "id": "UJTCxRObV53u"
      },
      "source": [
        "**Task 5: Cleaning and Converting Financial Data**\n",
        "\n",
        "In this fifth task, we will focus on improving the readability and workability of the financial data within our dataset. Here, you'll need to identify the 'Value', 'Wage', and 'Release Clause' columns in the 'FIFA 21 Players' dataset, which contain '€', 'K', and 'M' characters.\n",
        "\n",
        "Here's your course of action:\n",
        "- The first step involves eliminating the '€' character in these columns, leaving only numeric values and 'K' or 'M' characters.\n",
        "- After that, you're tasked with interpreting the 'K' and 'M' suffixes in these fields as 'x1000' and 'x1,000,000' respectively and subsequently changing the values in light of this new understanding.\n",
        "- This interpreted data should then be converted to an 'int' data type, considering that these are financial amounts.\n",
        "\n",
        "Confirmation of the successful completion of the task can be achieved by validating your dataset once the changes have been made. This task will refine not just your data cleaning capabilities, but also your proficiency in handling and comprehending numerical data."
      ]
    },
    {
      "cell_type": "code",
      "execution_count": null,
      "metadata": {
        "scrolled": false,
        "id": "j-d7KtAQV53u"
      },
      "outputs": [],
      "source": [
        "# @title #### 05. Cleaning and Converting Financial Data\n",
        "\n",
        "# Put your code here:\n",
        "fifa_df = none\n",
        "\n",
        "\n",
        "\n",
        "# ---- End of your code ----\n",
        "\n",
        "# Submit Method\n",
        "assignment_id = \"00_fifa_21_players_data_analysis_and_visualization\"\n",
        "question_id = \"05_cleaning_converting_financial_data\"\n",
        "converted_col = fifa_df[['Name', 'Value', 'Wage', 'Release Clause']].head()\n",
        "submit(student_id, name, assignment_id, converted_col.to_string(), question_id, drive_link)"
      ]
    },
    {
      "cell_type": "markdown",
      "metadata": {
        "id": "O_80M4KLV53u"
      },
      "source": [
        "## Data Visualization"
      ]
    },
    {
      "cell_type": "markdown",
      "metadata": {
        "id": "P2iPqMmXV53u"
      },
      "source": [
        "**Task 6: Pie Chart Creation - Preferred Foot**\n",
        "\n",
        "Moving on to the realm of data visualization, your sixth task is to create a Pie Chart that displays the preferred foot ('Left' or 'Right') among the 'FIFA 21 Players'. This visualization would allow us to quickly grasp the proportion of players who prefer using one foot over the other.\n",
        "\n",
        "Here are your key steps:\n",
        "- Identify the respective count of players who prefer 'Left' and 'Right' foot from the dataset.\n",
        "- Use this data to create a Pie Chart which accurately represents these proportions.\n",
        "- Your Pie Chart should include appropriate labels and title for better readability."
      ]
    },
    {
      "cell_type": "code",
      "execution_count": null,
      "metadata": {
        "id": "FeHTF4SWV53v"
      },
      "outputs": [],
      "source": [
        "# @title #### 06. Pie Chart Creation - Preferred Foot\n",
        "\n",
        "# Put your code here:\n",
        "\n",
        "\n",
        "plt.savefig('preferred-foot.jpg', format='jpeg') # save image\n",
        "plt.show()\n",
        "# ---- End of your code ----\n",
        "\n",
        "submit_image(student_id, '06. Pie Chart Creation - Preferred Foot', './preferred-foot.jpg')"
      ]
    },
    {
      "cell_type": "markdown",
      "metadata": {
        "id": "rT15TdeUV53v"
      },
      "source": [
        "**Task 7: Bar Plot Creation - Top 3 FIFA 21 Players**\n",
        "\n",
        "In your seventh task of this assignment, you are to create a bar plot displaying the top 3 FIFA 21 players according to their 'OVA' scores. This graphical representation would help us quickly identify and compare goal averages between the players who have the most influence on the field.\n",
        "\n",
        "Here's your task outline:\n",
        "- From the dataset, extract the top 3 players based on their OVA scores.\n",
        "- Now, plot this data using a bar plot with the player names on the x-axis and their respective 'OVA' scores on the y-axis.\n",
        "- Make sure your bar plot is correctly labeled with title, x and y variable details, and provides a clear indication of the players and their corresponding scores."
      ]
    },
    {
      "cell_type": "code",
      "execution_count": null,
      "metadata": {
        "id": "YAsBQtKjV53v"
      },
      "outputs": [],
      "source": [
        "# @title #### 07. Bar Plot Creation - Top 3 FIFA 21 Players\n",
        "\n",
        "# Put your code here:\n",
        "\n",
        "\n",
        "plt.savefig('top-3-players.jpg', format='jpeg') # save image\n",
        "plt.show()\n",
        "# ---- End of your code ----\n",
        "\n",
        "submit_image(student_id, '07. Bar Plot Creation - Top 3 FIFA 21 Players', './top-3-players.jpg')"
      ]
    },
    {
      "cell_type": "markdown",
      "metadata": {
        "id": "zqm-TMWQV53v"
      },
      "source": [
        "**Task 8: Bar Plot Creation - Best FIFA 21 Teams**\n",
        "\n",
        "For your eighth task, your goal is to identify and display the best top 10 FIFA teams, as determined by the sum of the 'OVA' scores of their top 100 players. This exercise provides an opportunity to transform raw data into meaningful insights, which can assist in comparing and ranking teams based on cumulative player performance.\n",
        "\n",
        "Here's your plan of action:\n",
        "\n",
        "- Start by sorting the dataset in descending order according to the OVA scores. This way, you'll have the players with the highest OVA at the top.\n",
        "- After sorting, create a subset of the top 100 players from this sorted DataFrame.\n",
        "- Now, you'll need to find out how many of these top 100 players belong to each club. To do this, count the frequency of each club's appearance within those top 100 players and retain the top 10 clubs that have the highest number of top-performing players.\n",
        "- Ensure appropriate labelling on your bar plot, including the title as 'The top 100 players based on the overall score play in 10 teams', the x-axis as 'Club', and the y-axis as 'Number of Players' for easy comprehension and interpretation of the data.\n"
      ]
    },
    {
      "cell_type": "code",
      "execution_count": null,
      "metadata": {
        "id": "LHW5xCYPV53v"
      },
      "outputs": [],
      "source": [
        "# @title #### 08. Bar Plot Creation - Best FIFA 21 Teams\n",
        "\n",
        "# Put your code here:\n",
        "\n",
        "\n",
        "plt.savefig('best-fifa-teams.jpg', format='jpeg') # save image\n",
        "plt.show()\n",
        "# ---- End of your code ----\n",
        "\n",
        "submit_image(student_id, '08. Bar Plot Creation - Best FIFA 21 Teams', './best-fifa-teams.jpg')"
      ]
    },
    {
      "cell_type": "markdown",
      "metadata": {
        "id": "lwRrRGicV53v"
      },
      "source": [
        "**Task 9: Bar Plot Creation - Top 10 Most Valuable FIFA 21 Teams**\n",
        "\n",
        "In the ninth task, your focus shift towards identifying and displaying the 10 most valuable FIFA teams, determined according to the player with the highest 'Value' among their top 100 players. This gives an indication of the teams that possess high-value players and are thus crucial in the game.\n",
        "\n",
        "Here's your roadmap to complete the task:\n",
        "- Group the data by teams and identify the player with the highest 'Value' for each team among their top 100 players.\n",
        "- From this processed data, further identify the top 10 teams with the most valuable players.\n",
        "- Now create a bar plot to visualize these top 10 teams and the highest player value for each. Ensure the team names are on the x-axis and player values on the y-axis.\n",
        "- Don't forget to appropriately label the plot in terms of title, x and y axis labels, for easy understanding."
      ]
    },
    {
      "cell_type": "code",
      "execution_count": null,
      "metadata": {
        "id": "1sMAJOJdV53w"
      },
      "outputs": [],
      "source": [
        "# @title #### 09. Bar Plot Creation - Top 10 Most Valuable FIFA 21 Teams\n",
        "\n",
        "# Put your code here:\n",
        "\n",
        "\n",
        "plt.savefig('top-10-valuable-teams.jpg', format='jpeg') # save image\n",
        "plt.show()\n",
        "# ---- End of your code ----\n",
        "\n",
        "submit_image(student_id, '09. Bar Plot Creation - Top 10 Most Valuable FIFA 21 Teams', './top-10-valuable-teams.jpg')"
      ]
    },
    {
      "cell_type": "markdown",
      "metadata": {
        "id": "ZnoK5riiV53w"
      },
      "source": [
        "**Task 10: Scatter Plot Creation - High Value, Underpaid Players**\n",
        "\n",
        "In the tenth and final task of this assignment, your challenge is to create a scatter plot to visualize high value but low paid players. This visualization will help us understand the difference that exists between player values and wages and identify any outliers in the 'Value' and 'Wage' columns.\n",
        "\n",
        "Here's your guide to tackle this task:\n",
        "- Identify the players who have high 'Value' but relatively low 'Wage' in the 'FIFA 21 Players' dataset.\n",
        "- Use this filtered data to create a scatter plot, where one axis represents the 'Value' and the other represents the 'Wage' of these players.\n",
        "- Remember to correctly label your scatter plot including an appropriate title, x and y axis details, for an accurate understanding of what your plot represents."
      ]
    },
    {
      "cell_type": "code",
      "execution_count": null,
      "metadata": {
        "id": "iIxmt47ZV53w"
      },
      "outputs": [],
      "source": [
        "# @title #### 10. Scatter Plot Creation - High Value, Underpaid Players\n",
        "\n",
        "# Put your code here:\n",
        "\n",
        "\n",
        "plt.savefig('high-value-underpaid-players.jpg', format='jpeg') # save image\n",
        "plt.show()\n",
        "# ---- End of your code ----\n",
        "\n",
        "submit_image(student_id, '10. Scatter Plot Creation - High Value, Underpaid Players', './high-value-underpaid-players.jpg')"
      ]
    }
  ],
  "metadata": {
    "kernelspec": {
      "display_name": "Python 3 (ipykernel)",
      "language": "python",
      "name": "python3"
    },
    "language_info": {
      "codemirror_mode": {
        "name": "ipython",
        "version": 3
      },
      "file_extension": ".py",
      "mimetype": "text/x-python",
      "name": "python",
      "nbconvert_exporter": "python",
      "pygments_lexer": "ipython3",
      "version": "3.10.9"
    },
    "colab": {
      "provenance": [],
      "include_colab_link": true
    }
  },
  "nbformat": 4,
  "nbformat_minor": 0
}