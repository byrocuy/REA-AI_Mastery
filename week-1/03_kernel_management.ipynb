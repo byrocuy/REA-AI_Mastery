{
  "cells": [
    {
      "cell_type": "markdown",
      "metadata": {
        "id": "KN_CIMAuVWdK"
      },
      "source": [
        "# Kernel Management"
      ]
    },
    {
      "cell_type": "markdown",
      "metadata": {
        "id": "9nwY4WMWVWdh"
      },
      "source": [
        "## What is a kernel?\n",
        "\n",
        "A 'kernel' in Jupyter parlance is the computational engine that executes the code written in the notebook. The kernel also handles tasks such as computations for widgets and tab completion.\n",
        "\n",
        "When you open a notebook, the associated kernel is automatically launched for you. The kernel’s language corresponds to the language of the notebook. For instance, if you're working in a Python notebook, the kernel is responsible for executing Python code.\n"
      ]
    },
    {
      "cell_type": "markdown",
      "metadata": {
        "id": "oV_MsjqqVWdk"
      },
      "source": [
        "## Selecting and switching kernels\n",
        "\n",
        "The ability to select and switch kernels is an integral part of kernel management. This functionality allows users to run different code cells within the same notebook using different programming languages.\n"
      ]
    },
    {
      "cell_type": "markdown",
      "metadata": {
        "id": "O0rTBmCKVWdm"
      },
      "source": [
        "### How to Select a Kernel\n",
        "When you create a new notebook, you need to specify which kernel to use. The kernel you choose is dependent on the programming language you intend to use. Here are the steps:\n",
        "\n",
        "1. Click on the \"File\" tab on the Jupyter notebook interface.\n",
        "2. Scroll down and click \"New Notebook.\"\n",
        "3. A side menu will pop up with a list of available kernels.\n",
        "4. Select the kernel that corresponds to the programming language you wish to use."
      ]
    },
    {
      "cell_type": "markdown",
      "metadata": {
        "id": "MTzK0Z3BVWdq"
      },
      "source": [
        "### How to Switch Kernels\n",
        "If you want to change the kernel in an existing notebook, follow these steps:\n",
        "\n",
        "1. Open the notebook you want to switch kernels in.\n",
        "2. Click on the \"Kernel\" tab on the notebook interface.\n",
        "3. Scroll down and click \"Change Kernel.\"\n",
        "4. A side menu will pop up with a list of available kernels.\n",
        "5. Select the kernel that you wish to switch to."
      ]
    },
    {
      "cell_type": "markdown",
      "metadata": {
        "id": "XgBNLDjOVWdw"
      },
      "source": [
        "### Example\n",
        "\n",
        "Let's say you're working on a Python notebook but you want to switch to an R kernel to leverage some of the exclusive statistical packages that R provides.\n",
        "\n",
        "Here's how you'd do it:\n",
        "\n",
        "1. Write your Python code as you normally would. Execute all the cells you need.\n",
        "2. Go to the `Kernel` menu, then `Change kernel`, and select `R`.\n",
        "3. Now your notebook is in R mode. You can write and execute R code."
      ]
    },
    {
      "cell_type": "markdown",
      "metadata": {
        "id": "ETmfsIdzVWdy"
      },
      "source": [
        "Please note that the Python and R variables are not shared. That means an R kernel is oblivious to what happens in a Python kernel and vice versa."
      ]
    },
    {
      "cell_type": "markdown",
      "metadata": {
        "id": "aRo5_pWQVWd2"
      },
      "source": [
        "### Important\n",
        "\n",
        "Keep in mind that for you to switch to a given kernel, you **must have that kernel installed in your machine**. If it's not installed, Jupyter will not list it as an option in the `Change kernel` dropdown menu."
      ]
    },
    {
      "cell_type": "markdown",
      "metadata": {
        "id": "lsLdQr0ZVWd3"
      },
      "source": [
        "##   Restarting, interrupting, and shutting down kernels"
      ]
    },
    {
      "cell_type": "markdown",
      "metadata": {
        "id": "EqV3HbdgVWd6"
      },
      "source": [
        "### Restarting kernels\n",
        "\n",
        "There are situations where you might want to restart the kernel— for example, if your **code is stuck in an infinite loop** or if **the kernel is consuming too much memory**.\n",
        "\n",
        "Another example, if you're debugging your code and you want to ensure that your results are not due to variables from previous cells, you might choose to restart your kernel to clear all loaded variables."
      ]
    },
    {
      "cell_type": "markdown",
      "metadata": {
        "id": "D7DonxmfVWd9"
      },
      "source": [
        "To restart the kernel:\n",
        "\n",
        "1. Go to the `Kernel` menu.\n",
        "2. Click `Restart`.\n",
        "\n",
        "This will restart the kernel, meaning the kernel process is shut down and started anew. This is a pretty \"**hard**\" operation, but sometimes necessary. Any variables or functions defined will be lost."
      ]
    },
    {
      "cell_type": "markdown",
      "metadata": {
        "id": "J-mXCqdKVWd-"
      },
      "source": [
        "### Interrupting Kernels\n",
        "\n",
        "If you want to stop the execution of a code cell, you can interrupt the kernel. This is useful if a computation is taking longer than expected and you want to stop it to modify and rerun the code.\n",
        "\n",
        "Let's say you're running a machine learning model with a large dataset, but you realize you've made a mistake in your code that will affect the output. Rather than waiting for the lengthy process to finish, you can interrupt the kernel, fix your code, and rerun the cell."
      ]
    },
    {
      "cell_type": "markdown",
      "metadata": {
        "id": "j_7--kx3VWeI"
      },
      "source": [
        "To interrupt the kernel:\n",
        "\n",
        "1. Go to the `Kernel` menu.\n",
        "2. Click `Interrupt`.\n",
        "\n",
        "This sends a signal to the kernel to stop execution as soon as possible. If the kernel is currently executing a system call or similar that cannot be interrupted, you'll have to wait for it to return."
      ]
    },
    {
      "cell_type": "markdown",
      "metadata": {
        "id": "TKLqsUbzVWeN"
      },
      "source": [
        "### Shutting Down Kernels\n",
        "\n",
        "Shutting down a kernel removes it from the kernel menu and **frees up the resources** it was using. If you're done with your analysis and no longer need the notebook, you can shut down the kernel to free up system resources.\n",
        "\n",
        "To shut down the kernel:\n",
        "\n",
        "1. Go to the `File` menu.\n",
        "2. Click `Close and Halt`."
      ]
    },
    {
      "cell_type": "markdown",
      "metadata": {
        "id": "nTdl2VWZVWeO"
      },
      "source": [
        "Note: Restarting, interrupting, and shutting down kernels are actions that **cannot be undone**. Hence, use these options wisely and save your work frequently."
      ]
    },
    {
      "cell_type": "markdown",
      "metadata": {
        "id": "k5p34ZAMVWeO"
      },
      "source": [
        "## Clearing cell outputs\n",
        "\n",
        "Let's say you have a notebook with a lot of cells that generate long outputs, like computation results or visualizations. Over time, the notebook can get quite cluttered, making it difficult to navigate and causing it to load slowly."
      ]
    },
    {
      "cell_type": "markdown",
      "metadata": {
        "id": "kma5V3frVWeP"
      },
      "source": [
        "For instance, you might be working with a cell that generates a large DataFrame output:"
      ]
    },
    {
      "cell_type": "code",
      "execution_count": null,
      "metadata": {
        "scrolled": true,
        "id": "KNU6PmZUVWeP"
      },
      "outputs": [],
      "source": [
        "import pandas as pd\n",
        "import numpy as np\n",
        "\n",
        "# generate a DataFrame with 100 rows and 50 columns\n",
        "df = pd.DataFrame(data=np.random.randint(0, 100, (100, 50)))\n",
        "\n",
        "df"
      ]
    },
    {
      "cell_type": "markdown",
      "metadata": {
        "id": "01e9UWHgVWeU"
      },
      "source": [
        "The output of this cell would be a large DataFrame that takes up a lot of space in your notebook.\n",
        "\n",
        "To make your notebook more manageable, you can clear the output of this cell. After running the cell, you would go to the `Cell` menu, select `Current Outputs`, and then `Clear`. The large DataFrame output will now be removed from your view, making your notebook cleaner and more concise."
      ]
    }
  ],
  "metadata": {
    "celltoolbar": "Slideshow",
    "kernelspec": {
      "display_name": "Python 3 (ipykernel)",
      "language": "python",
      "name": "python3"
    },
    "language_info": {
      "codemirror_mode": {
        "name": "ipython",
        "version": 3
      },
      "file_extension": ".py",
      "mimetype": "text/x-python",
      "name": "python",
      "nbconvert_exporter": "python",
      "pygments_lexer": "ipython3",
      "version": "3.11.3"
    },
    "colab": {
      "provenance": []
    }
  },
  "nbformat": 4,
  "nbformat_minor": 0
}