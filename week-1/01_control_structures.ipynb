{
  "cells": [
    {
      "cell_type": "markdown",
      "metadata": {
        "id": "view-in-github",
        "colab_type": "text"
      },
      "source": [
        "<a href=\"https://colab.research.google.com/github/byrocuy/REA-AI_Mastery/blob/main/week-1/01_control_structures.ipynb\" target=\"_parent\"><img src=\"https://colab.research.google.com/assets/colab-badge.svg\" alt=\"Open In Colab\"/></a>"
      ]
    },
    {
      "cell_type": "markdown",
      "metadata": {
        "id": "xeAmqbQt1H6R"
      },
      "source": [
        "# Control Structures"
      ]
    },
    {
      "cell_type": "markdown",
      "metadata": {
        "id": "j5K7BXrM1H6Z"
      },
      "source": [
        "## Conditional Branching"
      ]
    },
    {
      "cell_type": "markdown",
      "metadata": {
        "id": "b9Nx2H9s1H6a"
      },
      "source": [
        "### `if` statement\n",
        "\n",
        "The `if` statement checks if a specific condition or expression evaluates to `True`. If the condition is satisfied (`True`), the block of code associated with the `if` statement will be executed."
      ]
    },
    {
      "cell_type": "code",
      "execution_count": null,
      "metadata": {
        "id": "Z0rhqCnB1H6c"
      },
      "outputs": [],
      "source": [
        "x = 10\n",
        "\n",
        "if x > 0:\n",
        "    print(\"x is positive.\")\n",
        "    print(\"The value of x is\", x)"
      ]
    },
    {
      "cell_type": "markdown",
      "metadata": {
        "id": "TECXQW6Q1H6i"
      },
      "source": [
        "In this example, the condition `x > 0` evaluates to `True`, so the indented block of code following the `if` statement is executed."
      ]
    },
    {
      "cell_type": "markdown",
      "metadata": {
        "id": "UaycaBhv1H6j"
      },
      "source": [
        "### `if-else` statement\n",
        "\n",
        "The `else` statement is used whenever you want to execute a different block of code if the condition in the `if` statement is `False`."
      ]
    },
    {
      "cell_type": "code",
      "execution_count": null,
      "metadata": {
        "id": "zQKhb7s21H6j"
      },
      "outputs": [],
      "source": [
        "x = -5\n",
        "\n",
        "if x > 0:\n",
        "    print(\"x is positive.\")\n",
        "else:\n",
        "    print(\"x is not positive.\")"
      ]
    },
    {
      "cell_type": "markdown",
      "metadata": {
        "id": "l1uBFoDf1H6k"
      },
      "source": [
        "In this example, the condition `x > 0` evaluates to `False`, so the block of code following the `else` statement is executed."
      ]
    },
    {
      "cell_type": "markdown",
      "metadata": {
        "id": "2wP8SoXv1H6l"
      },
      "source": [
        "### `if-elif-else` statement\n",
        "\n",
        "Use the `elif` statement to check multiple conditions. `elif` (short for \"else if\") is used in conjunction with `if` and `else` to create a series of conditions. The block of code associated with the first `if/elif` condition that evaluates to `True` will be executed. If no condition is satisfied, the code associated with the `else` statement (if present) will be executed.\n"
      ]
    },
    {
      "cell_type": "code",
      "execution_count": null,
      "metadata": {
        "id": "fwOkLaMp1H6m"
      },
      "outputs": [],
      "source": [
        "temperature = 15\n",
        "\n",
        "if temperature < 0:\n",
        "    print(\"It's freezing outside.\")\n",
        "elif temperature < 10:\n",
        "    print(\"It's cold outside.\")\n",
        "elif temperature < 20:\n",
        "    print(\"It's chilly outside.\")\n",
        "elif temperature < 30:\n",
        "    print(\"It's warm outside.\")\n",
        "else:\n",
        "    print(\"It's hot outside.\")"
      ]
    },
    {
      "cell_type": "markdown",
      "metadata": {
        "id": "DysY1UPT1H6n"
      },
      "source": [
        "In this example, the first two conditions (`temperature < 0` and `temperature < 10`) evaluate to `False`,\n",
        "while the third condition (`temperature < 20`) evaluates to `True`. Thus, the block of code associated with this condition is executed, and \"It's chilly outside.\" is printed as output."
      ]
    },
    {
      "cell_type": "markdown",
      "metadata": {
        "id": "_mb4CG9I1H6n"
      },
      "source": [
        "### Nested `if` statements\n",
        "\n",
        "Nested `if` statements allow you to make more complex condition checks by placing an `if` statement inside another `if` statement."
      ]
    },
    {
      "cell_type": "code",
      "execution_count": null,
      "metadata": {
        "id": "399WXAYC1H6o"
      },
      "outputs": [],
      "source": [
        "x = 5\n",
        "y = -2\n",
        "\n",
        "if x > 0:\n",
        "    if y > 0:\n",
        "        print(\"Both x and y are positive.\")\n",
        "    else:\n",
        "        print(\"x is positive, but y is not.\")\n",
        "else:\n",
        "    if y > 0:\n",
        "        print(\"y is positive, but x is not.\")\n",
        "    else:\n",
        "        print(\"Neither x nor y is positive.\")"
      ]
    },
    {
      "cell_type": "markdown",
      "metadata": {
        "id": "LnIlDmh91H6o"
      },
      "source": [
        "In this example, the condition `x > 0` evaluates to `True`, so the first nested `if` statement is executed. Within the nested statement, the condition `y > 0` evaluates to `False`, executing the code associated with the `else` statement. Thus, \"x is positive, but y is not.\" is the output."
      ]
    },
    {
      "cell_type": "markdown",
      "metadata": {
        "id": "H1PGS7Ht1H6o"
      },
      "source": [
        "### One-liner `if-else` expression\n",
        "\n",
        "You can use a single line of code to execute simple `if-else` statements. This is called the ternary conditional operator."
      ]
    },
    {
      "cell_type": "code",
      "execution_count": null,
      "metadata": {
        "scrolled": true,
        "id": "L9-ybDMF1H6p"
      },
      "outputs": [],
      "source": [
        "x = 5\n",
        "str_result = \"x is positive\" if x > 0 else \"x is not positive\"\n",
        "print(str_result)"
      ]
    },
    {
      "cell_type": "markdown",
      "metadata": {
        "id": "bX9smq491H6p"
      },
      "source": [
        "In this example, the condition `x > 0` is `True`, so the variable `str_result` will be assigned the value \"x is positive\""
      ]
    },
    {
      "cell_type": "markdown",
      "metadata": {
        "id": "s_5R1Z7F1H6p"
      },
      "source": [
        "## Loops"
      ]
    },
    {
      "cell_type": "markdown",
      "metadata": {
        "id": "3GAOsKBl1H6p"
      },
      "source": [
        "### `for` loop\n",
        "\n",
        "The `for` loop in Python is used to iterate over a sequence, such as a list, tuple, or string. `for` loops iterate over each element in the sequence, executing the associated block of code for each element."
      ]
    },
    {
      "cell_type": "code",
      "execution_count": null,
      "metadata": {
        "id": "7qP86EFH1H6q"
      },
      "outputs": [],
      "source": [
        "# Example using a list\n",
        "numbers = [1, 2, 3, 4, 5]\n",
        "for num in numbers:\n",
        "    print(num)"
      ]
    },
    {
      "cell_type": "markdown",
      "metadata": {
        "id": "_RNZ4Z1S1H6q"
      },
      "source": [
        "In this example, the `for` loop iterates over each element in the `numbers` list. The loop variable `num` takes on the value of each element in the list, and the `print(num)` statement is executed."
      ]
    },
    {
      "cell_type": "code",
      "execution_count": null,
      "metadata": {
        "id": "yK_j-vib1H6q"
      },
      "outputs": [],
      "source": [
        "# Example using a string\n",
        "name = \"Python\"\n",
        "for letter in name:\n",
        "    print(letter)"
      ]
    },
    {
      "cell_type": "markdown",
      "metadata": {
        "id": "ALNOR_Lo1H6q"
      },
      "source": [
        "In this example, the `for` loop iterates over each character in the name string."
      ]
    },
    {
      "cell_type": "markdown",
      "metadata": {
        "id": "KatqqM_K1H6r"
      },
      "source": [
        "### `for` loop with `range()`\n",
        "\n",
        "The `range()` function generates a sequence of numbers. It is commonly used in `for` loops when you want to repeat a block of code a specific number of times."
      ]
    },
    {
      "cell_type": "code",
      "execution_count": null,
      "metadata": {
        "id": "vGJAOFoz1H6r"
      },
      "outputs": [],
      "source": [
        "# range(stop): Generates a sequence of numbers from 0 to stop - 1\n",
        "for i in range(5):\n",
        "    print(i)"
      ]
    },
    {
      "cell_type": "markdown",
      "metadata": {
        "id": "_5vn_rL51H6r"
      },
      "source": [
        "In this example, the `range(5)` function generates the sequence `[0, 1, 2, 3, 4]`, and the `for` loop iterates over that sequence."
      ]
    },
    {
      "cell_type": "markdown",
      "metadata": {
        "id": "B4X9F7tN1H6s"
      },
      "source": [
        "### `while` loop\n",
        "\n",
        "The `while` loop is used to repeatedly execute a block of code while a specified condition is `True`. When the condition becomes `False`, the loop terminates, and the program continues with the code following the `while` loop."
      ]
    },
    {
      "cell_type": "code",
      "execution_count": null,
      "metadata": {
        "id": "c4HSWDOh1H6t"
      },
      "outputs": [],
      "source": [
        "# Example\n",
        "counter = 0\n",
        "while counter < 5:\n",
        "    print(\"counter:\", counter)\n",
        "    counter = counter + 1"
      ]
    },
    {
      "cell_type": "markdown",
      "metadata": {
        "id": "IRybre9_1H6u"
      },
      "source": [
        "In this example, the `while` loop will continue to execute its block of code as long as the `counter` variable is less than 5. After each iteration, the value of `counter` is incremented by 1. When `counter` reaches 5, the loop condition becomes `False`, and the loop terminates."
      ]
    },
    {
      "cell_type": "markdown",
      "metadata": {
        "id": "fRKF98Mv1H6v"
      },
      "source": [
        "## List Comprehensions\n",
        "\n",
        "List comprehensions are a concise and readable way to create lists in Python. They provide an alternative to creating lists using `for` loops, offering more compact and readable code for specific scenarios. List comprehensions are especially useful when working with transformations or filters for lists.\n",
        "\n",
        "The syntax for list comprehensions is as follows:\n",
        "```py\n",
        "[expression for item in iterable if condition]\n",
        "```\n",
        "\n",
        "notes: `if condition` is optional. This is the filter that will only include `item` in the resulting list if the given condition is `True`."
      ]
    },
    {
      "cell_type": "code",
      "execution_count": null,
      "metadata": {
        "id": "suApL1331H6v"
      },
      "outputs": [],
      "source": [
        "# Create a list of the squares of the numbers from 1 to 10:\n",
        "squares = [x**2 for x in range(1, 11)]\n",
        "\n",
        "# Create a list of even numbers between 1 and 20:\n",
        "even_numbers = [x for x in range(1, 21) if x % 2 == 0]"
      ]
    }
  ],
  "metadata": {
    "celltoolbar": "Slideshow",
    "kernelspec": {
      "display_name": "Python 3 (ipykernel)",
      "language": "python",
      "name": "python3"
    },
    "language_info": {
      "codemirror_mode": {
        "name": "ipython",
        "version": 3
      },
      "file_extension": ".py",
      "mimetype": "text/x-python",
      "name": "python",
      "nbconvert_exporter": "python",
      "pygments_lexer": "ipython3",
      "version": "3.11.3"
    },
    "colab": {
      "provenance": [],
      "include_colab_link": true
    }
  },
  "nbformat": 4,
  "nbformat_minor": 0
}