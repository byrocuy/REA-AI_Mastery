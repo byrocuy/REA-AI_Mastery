{
  "cells": [
    {
      "cell_type": "markdown",
      "metadata": {
        "id": "beyi5wETVrFt"
      },
      "source": [
        "# Modules and Packages"
      ]
    },
    {
      "cell_type": "markdown",
      "metadata": {
        "id": "k-_fLAa9VrGB"
      },
      "source": [
        "Modules and packages are useful for organization of Python code making our code clean, modular and easy to maintain."
      ]
    },
    {
      "cell_type": "markdown",
      "metadata": {
        "id": "xCZd0rpwVrGD"
      },
      "source": [
        "## Python Modules\n",
        "\n",
        "In Python, a module is a file containing Python code, which can include functions, classes, or variables. Modules help us to organize and reuse our code effectively."
      ]
    },
    {
      "cell_type": "markdown",
      "metadata": {
        "id": "_PEgfUcOVrGJ"
      },
      "source": [
        ">Note: For the following examples, you need to create manually `mod.py` and the new file using your own code editor, simply copy and paste the code into two separate files."
      ]
    },
    {
      "cell_type": "markdown",
      "metadata": {
        "id": "TgF5D_IXVrGK"
      },
      "source": [
        "## Create a Module\n",
        "\n",
        "To create a module we simply write our Python code into a file and give it a name with `.py` extension, in this case we shall name it `mod.py`."
      ]
    },
    {
      "cell_type": "markdown",
      "metadata": {
        "id": "j8tzMlJmVrGO"
      },
      "source": [
        "```python\n",
        "#mod.py\n",
        "s = \"I'm learning Python in order to become an AI engineer.\"\n",
        "a = [100, 200, 300]\n",
        "\n",
        "def foo(arg):\n",
        "    print(f'arg = {arg}')\n",
        "```"
      ]
    },
    {
      "cell_type": "markdown",
      "metadata": {
        "id": "TXVtLaDOVrGS"
      },
      "source": [
        "## Using Modules\n",
        "\n",
        "To use a module, we use the keyword `import`. After importing a module, you can use its functions and classes by using the module name followed by a dot, and then the function or class you want to use."
      ]
    },
    {
      "cell_type": "markdown",
      "metadata": {
        "id": "mOxf8D6XVrGc"
      },
      "source": [
        "```python\n",
        "import mod\n",
        "print(mod.s)\n",
        "\n",
        "mod.a\n",
        "\n",
        "mod.foo(['quux', 'corge', 'grault'])\n",
        "```"
      ]
    },
    {
      "cell_type": "markdown",
      "metadata": {
        "id": "I7JDxXShVrHT"
      },
      "source": [
        "## Package Management with pip\n",
        "\n",
        "\n",
        "`pip` is the package manager for Python, and it allows you to easily install, update, and remove packages. Packages are collections of modules that provide additional functionality. You can download packages from the Python Package Index (PyPI)."
      ]
    },
    {
      "cell_type": "markdown",
      "metadata": {
        "id": "uMUg-Fi0VrHd"
      },
      "source": [
        "### Basic commands\n",
        "\n",
        "Here is a list of basic commands for package management with pip:\n",
        "\n",
        "- To install a package: `pip install package_name`\n",
        "- To update a package: `pip install --upgrade package_name`\n",
        "- To remove a package: `pip uninstall package_name`\n",
        "- To list installed packages: `pip list`"
      ]
    },
    {
      "cell_type": "markdown",
      "metadata": {
        "id": "9PcojlwFVrHy"
      },
      "source": [
        "### Requirements file\n",
        "\n",
        "A `requirements.txt` file helps you to manage package dependencies for your project. It lists the package names with their version numbers that your project depends on.\n",
        "\n",
        "You can create this file manually or generate it using `pip freeze > requirements.txt`."
      ]
    },
    {
      "cell_type": "markdown",
      "metadata": {
        "id": "WO8B7zmAVrIB"
      },
      "source": [
        "The file should list one package per line\n",
        "\n",
        "```txt\n",
        "numpy==1.21.2\n",
        "pandas==1.3.3\n",
        "matplotlib==3.4.3\n",
        "```\n",
        "\n",
        "Use the `pip install -r requirements.txt` command to update the installed packages according to the new `requirements.txt` file."
      ]
    },
    {
      "cell_type": "markdown",
      "metadata": {
        "id": "aqZk3FWbVrIb"
      },
      "source": [
        "## Using Modules from Packages\n",
        "\n",
        "First, we need to install the packages using `pip`:\n",
        "\n",
        "```shell\n",
        "pip install pandas numpy\n",
        "```\n",
        "\n",
        "Then, you can import a module in your Python script using the `import` statement."
      ]
    },
    {
      "cell_type": "code",
      "execution_count": null,
      "metadata": {
        "id": "WC23ncKWVrIy"
      },
      "outputs": [],
      "source": [
        "import pandas as pd\n",
        "import numpy as np\n",
        "\n",
        "# Create a simple dataset\n",
        "data = {\n",
        "    'Name': ['Alice', 'Bob', 'Charlie', 'David'],\n",
        "    'Age': [25, 30, 35, 40],\n",
        "    'Salary': [50000, 55000, 60000, 65000]\n",
        "}\n",
        "\n",
        "# Convert the dataset to a pandas DataFrame\n",
        "df = pd.DataFrame(data)\n",
        "\n",
        "# Calculate the mean of the Age column using numpy\n",
        "mean_age = np.mean(df['Age'])\n",
        "print(f'Mean Age: {mean_age}')\n",
        "\n",
        "# Calculate the sum of the Salary column using pandas\n",
        "total_salary = df['Salary'].sum()\n",
        "print(f'Total Salary: {total_salary}')\n",
        "\n",
        "# Add a new column named 'Salary_with_bonus' to the DataFrame\n",
        "df['Salary_with_bonus'] = df['Salary'] * 1.1\n",
        "print(df)"
      ]
    },
    {
      "cell_type": "markdown",
      "metadata": {
        "id": "n3ew3sUHVrKh"
      },
      "source": [
        "## Exercise Modules and Packages"
      ]
    },
    {
      "cell_type": "code",
      "execution_count": null,
      "metadata": {
        "id": "SZqn2ylgVrKj"
      },
      "outputs": [],
      "source": [
        "!pip install rggrader"
      ]
    },
    {
      "cell_type": "code",
      "execution_count": null,
      "metadata": {
        "id": "KmlKVXmkVrKk"
      },
      "outputs": [],
      "source": [
        "# @title #### Student Identity\n",
        "student_id = \"your student id\" # @param {type:\"string\"}\n",
        "name = \"your name\" # @param {type:\"string\"}"
      ]
    },
    {
      "cell_type": "code",
      "execution_count": null,
      "metadata": {
        "id": "mjQ3y6HxVrKm"
      },
      "outputs": [],
      "source": [
        "# @title #### 03. Install and Use a Package\n",
        "from rggrader import submit\n",
        "\n",
        "# TODO:\n",
        "# 3. Install the 'numpy' package using pip and import it in your Python script. Use numpy's 'mean' function to calculate the average of a list of numbers [1, 2, 3, 4, 5] and assign it to a variable 'average'.\n",
        "\n",
        "# !pip install numpy\n",
        "# import numpy as np\n",
        "\n",
        "# your code here\n",
        "average = 0\n",
        "\n",
        "# Submit Method\n",
        "assignment_id = \"05-modules-and-packages\"\n",
        "question_id = \"00_install_use_package\"\n",
        "submit(student_id, name, assignment_id, str(average), question_id)"
      ]
    }
  ],
  "metadata": {
    "celltoolbar": "Slideshow",
    "kernelspec": {
      "display_name": "Python 3 (ipykernel)",
      "language": "python",
      "name": "python3"
    },
    "language_info": {
      "codemirror_mode": {
        "name": "ipython",
        "version": 3
      },
      "file_extension": ".py",
      "mimetype": "text/x-python",
      "name": "python",
      "nbconvert_exporter": "python",
      "pygments_lexer": "ipython3",
      "version": "3.11.3"
    },
    "colab": {
      "provenance": []
    }
  },
  "nbformat": 4,
  "nbformat_minor": 0
}