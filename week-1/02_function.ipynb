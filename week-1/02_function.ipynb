{
  "cells": [
    {
      "cell_type": "markdown",
      "metadata": {
        "id": "wQ6ldEMUkaQA"
      },
      "source": [
        "# Function"
      ]
    },
    {
      "cell_type": "markdown",
      "metadata": {
        "id": "Y5j8ymkAkaQJ"
      },
      "source": [
        "## Defining and calling functions\n",
        "\n",
        "To define a function in Python, use the `def` statement, followed by a function name, parentheses `()`, and a colon `:`. The function body is indented, usually by 4 spaces. Functions can return values using the `return` statement. And to call a function, simply use the function's name followed by parentheses `()`."
      ]
    },
    {
      "cell_type": "code",
      "execution_count": null,
      "metadata": {
        "id": "LKGaPvsRkaQK"
      },
      "outputs": [],
      "source": [
        "def greet():\n",
        "    print(\"Hello, World!\")\n",
        "\n",
        "greet()"
      ]
    },
    {
      "cell_type": "markdown",
      "metadata": {
        "id": "ypubRhSQkaQO"
      },
      "source": [
        "## Arguments and Parameters\n",
        "\n",
        "Functions can have input values, called arguments, which are passed to the function when it is called. Within the function, these input values are known as parameters. Parameters are defined within the parentheses `()` in the function definition, and arguments are passed to the function within the parentheses when calling the function."
      ]
    },
    {
      "cell_type": "code",
      "execution_count": null,
      "metadata": {
        "id": "KaE_WjHKkaQQ"
      },
      "outputs": [],
      "source": [
        "# Defining a function with a parameter 'name'\n",
        "def greet(name):\n",
        "    print(\"Hello,\", name)\n",
        "\n",
        "# Calling the function with an argument 'Alice'\n",
        "greet(\"Alice\")"
      ]
    },
    {
      "cell_type": "markdown",
      "metadata": {
        "id": "n2B5LhdskaQR"
      },
      "source": [
        "## Lambda functions\n",
        "\n",
        "Lambda functions, also known as anonymous functions, are small, single-expression functions in Python that you can define using the `lambda` keyword. They are useful for short, simple operations and can be defined in one line. Lambda functions are useful when working with functions like `map()`, `filter()` or `sorted()`, where a small function needs to be passed.\n",
        "\n",
        "```py\n",
        "lambda arguments: expression\n",
        "```\n",
        "\n",
        "Remember: Use lambda functions for simple operations, and regular `def` functions for more complex tasks to keep your code readable."
      ]
    },
    {
      "cell_type": "code",
      "execution_count": null,
      "metadata": {
        "id": "l26E06jDkaQT"
      },
      "outputs": [],
      "source": [
        "# A lambda function to add two numbers:\n",
        "add = lambda x, y: x + y\n",
        "result1 = add(5, 3)\n",
        "print(result1)\n",
        "\n",
        "# A lambda function to find the square of a number:\n",
        "square = lambda x: x**2\n",
        "result2 = square(4)\n",
        "print(result2)\n",
        "\n",
        "# sorting a list of strings by length:\n",
        "text_list = [\"apple\", \"banana\", \"cherry\", \"kiwi\"]\n",
        "sorted_list = sorted(text_list, key=lambda x: len(x))\n",
        "print(sorted_list)"
      ]
    },
    {
      "cell_type": "markdown",
      "metadata": {
        "id": "6hnDWj6hkaQX"
      },
      "source": [
        "## Built-in functions\n",
        "\n",
        "Python comes with numerous built-in functions that are readily available for use. These are just a few examples of the built-in functions available in Python that are commonly used. There are many other built-in functions that can save time and simplify code when working with data. Refer to the official Python documentation for the complete list: [Python Built-in Functions](https://docs.python.org/3/library/functions.html)"
      ]
    },
    {
      "cell_type": "markdown",
      "metadata": {
        "id": "t9q6aDgCkaQY"
      },
      "source": [
        "### `sorted()`\n",
        "\n",
        "`sorted(iterable, *, key=None, reverse=False)`: Returns a new sorted list from the specified iterable."
      ]
    },
    {
      "cell_type": "code",
      "execution_count": null,
      "metadata": {
        "id": "pUYyx4TykaQZ"
      },
      "outputs": [],
      "source": [
        "my_list = [3, 2, 5, 1, 4]\n",
        "sorted_list = sorted(my_list)\n",
        "print(sorted_list)"
      ]
    },
    {
      "cell_type": "markdown",
      "metadata": {
        "id": "gUpB5_wFkaQa"
      },
      "source": [
        "### `map()`\n",
        "\n",
        "`map(function, iterable)`: Applies a given function to all items in the input iterable, such as lists or tuples, and returns an iterable of the results."
      ]
    },
    {
      "cell_type": "code",
      "execution_count": null,
      "metadata": {
        "id": "HQflB7bOkaQa"
      },
      "outputs": [],
      "source": [
        "numbers = [1, 2, 3, 4, 5]\n",
        "squares = list(map(lambda x: x**2, numbers))\n",
        "print(squares)"
      ]
    },
    {
      "cell_type": "markdown",
      "metadata": {
        "id": "QgG_C_aBkaQb"
      },
      "source": [
        "### `filter()`\n",
        "\n",
        "`filter(function, iterable)`: Filters the elements from an iterable, passing only those elements for which the input function returns `True`."
      ]
    },
    {
      "cell_type": "code",
      "execution_count": null,
      "metadata": {
        "id": "WNIaCHR0kaQb"
      },
      "outputs": [],
      "source": [
        "numbers = [1, 2, 3, 4, 5]\n",
        "even_numbers = list(filter(lambda x: x % 2 == 0, numbers))\n",
        "print(even_numbers)"
      ]
    },
    {
      "cell_type": "markdown",
      "metadata": {
        "id": "dES8TaVikaQc"
      },
      "source": [
        "### `zip()`\n",
        "\n",
        "`zip(*iterables)`: Combines multiple iterables, like lists or tuples, into a single iterable, pairing elements at the same index in each input iterable."
      ]
    },
    {
      "cell_type": "code",
      "execution_count": null,
      "metadata": {
        "id": "ko5s_rQ6kaQd"
      },
      "outputs": [],
      "source": [
        "names = [\"Alice\", \"Bob\", \"Carol\"]\n",
        "ages = [30, 25, 28]\n",
        "combined = list(zip(names, ages))\n",
        "print(combined)"
      ]
    },
    {
      "cell_type": "markdown",
      "metadata": {
        "id": "JZaPpKLzkaQe"
      },
      "source": [
        "## Exercise Function"
      ]
    },
    {
      "cell_type": "code",
      "execution_count": null,
      "metadata": {
        "id": "0JT_7Ex5kaQf"
      },
      "outputs": [],
      "source": [
        "!pip install rggrader"
      ]
    },
    {
      "cell_type": "code",
      "execution_count": null,
      "metadata": {
        "id": "uS3_LIKakaQf"
      },
      "outputs": [],
      "source": [
        "# @title #### Student Identity\n",
        "student_id = \"TESTRK123\" # @param {type:\"string\"}\n",
        "name = \"Ricky\" # @param {type:\"string\"}"
      ]
    },
    {
      "cell_type": "code",
      "execution_count": null,
      "metadata": {
        "id": "5wgvdllSkaQg"
      },
      "outputs": [],
      "source": [
        "# @title #### 00. Circle Area Function\n",
        "from rggrader import submit\n",
        "import math\n",
        "\n",
        "rad = 5\n",
        "\n",
        "# TODO: Define a function 'calculate_area' that takes a radius as a parameter and returns the area of a circle with that radius.\n",
        "def calculate_circle_area(radius):\n",
        "    # your code here\n",
        "    return 0\n",
        "\n",
        "# Submit Method\n",
        "assignment_id = \"02-function\"\n",
        "question_id = \"00_circle-area-function\"\n",
        "submit(student_id, name, assignment_id, str(calculate_circle_area(rad)), question_id)"
      ]
    },
    {
      "cell_type": "code",
      "execution_count": null,
      "metadata": {
        "id": "Of3w6-10kaQh"
      },
      "outputs": [],
      "source": [
        "# @title #### 02. Fun with Lambda and Filter\n",
        "from rggrader import submit\n",
        "\n",
        "# Given a list of positive integers\n",
        "numbers = [1, 2, 3, 4, 5, 6, 7, 8, 9, 10]\n",
        "\n",
        "# TODO: Use a lambda function and the 'filter' function to keep numbers less than 6.\n",
        "# Result should be a list of numbers less than 6.\n",
        "filtered_numbers = None\n",
        "\n",
        "# Submit Method\n",
        "assignment_id = \"02-functions\"\n",
        "question_id = \"01_fun-with-lambda-and-filter\"\n",
        "submit(student_id, name, assignment_id, str(filtered_numbers), question_id)"
      ]
    },
    {
      "cell_type": "code",
      "execution_count": null,
      "metadata": {
        "id": "6AO7B4DekaQh"
      },
      "outputs": [],
      "source": [
        "# @title #### 03. Adventures with Map and Filter\n",
        "from rggrader import submit\n",
        "\n",
        "# Given a list of positive integers\n",
        "numbers = [1, 2, 3, 4, 5, 6, 7, 8, 9, 10]\n",
        "\n",
        "# TODO: Use the 'map' function to double the numbers and the 'filter' function to keep numbers less than 15.\n",
        "# Hint: You can use 'map' and 'filter' together.\n",
        "modified_numbers = None\n",
        "\n",
        "# Submit Method\n",
        "assignment_id = \"02-functions\"\n",
        "question_id = \"02_adventures-with-map-and-filter\"\n",
        "submit(student_id, name, assignment_id, str(modified_numbers), question_id)"
      ]
    }
  ],
  "metadata": {
    "celltoolbar": "Slideshow",
    "kernelspec": {
      "display_name": "Python 3 (ipykernel)",
      "language": "python",
      "name": "python3"
    },
    "language_info": {
      "codemirror_mode": {
        "name": "ipython",
        "version": 3
      },
      "file_extension": ".py",
      "mimetype": "text/x-python",
      "name": "python",
      "nbconvert_exporter": "python",
      "pygments_lexer": "ipython3",
      "version": "3.11.3"
    },
    "colab": {
      "provenance": []
    }
  },
  "nbformat": 4,
  "nbformat_minor": 0
}