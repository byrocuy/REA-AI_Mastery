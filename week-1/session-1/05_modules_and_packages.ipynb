{
  "cells": [
    {
      "cell_type": "markdown",
      "metadata": {
        "colab_type": "text",
        "id": "view-in-github"
      },
      "source": [
        "<a href=\"https://colab.research.google.com/github/byrocuy/REA-AI_Mastery/blob/main/week-1/session-1/05_modules_and_packages.ipynb\" target=\"_parent\"><img src=\"https://colab.research.google.com/assets/colab-badge.svg\" alt=\"Open In Colab\"/></a>"
      ]
    },
    {
      "cell_type": "markdown",
      "metadata": {
        "id": "YSNyjs3e59sL"
      },
      "source": [
        "# Modules and Packages"
      ]
    },
    {
      "cell_type": "markdown",
      "metadata": {
        "id": "XgOQKRRJ59sW"
      },
      "source": [
        "Modules and packages are useful for organization of Python code making our code clean, modular and easy to maintain."
      ]
    },
    {
      "cell_type": "markdown",
      "metadata": {
        "id": "V694QOup59sX"
      },
      "source": [
        "## Python Modules\n",
        "\n",
        "In Python, a module is a file containing Python code, which can include functions, classes, or variables. Modules help us to organize and reuse our code effectively."
      ]
    },
    {
      "cell_type": "markdown",
      "metadata": {
        "id": "0Ux3b7nD59sZ"
      },
      "source": [
        ">Note: For the following examples, you need to create manually `mod.py` and the new file using your own code editor, simply copy and paste the code into two separate files."
      ]
    },
    {
      "cell_type": "markdown",
      "metadata": {
        "id": "qnWa3O-K59sb"
      },
      "source": [
        "## Create a Module\n",
        "\n",
        "To create a module we simply write our Python code into a file and give it a name with `.py` extension, in this case we shall name it `mod.py`."
      ]
    },
    {
      "cell_type": "markdown",
      "metadata": {
        "id": "dUTwuflM59sd"
      },
      "source": [
        "```python\n",
        "#mod.py\n",
        "s = \"I'm learning Python in order to become an AI engineer.\"\n",
        "a = [100, 200, 300]\n",
        "\n",
        "def foo(arg):\n",
        "    print(f'arg = {arg}')\n",
        "```"
      ]
    },
    {
      "cell_type": "markdown",
      "metadata": {
        "id": "W-1GeJgK59sf"
      },
      "source": [
        "## Using Modules\n",
        "\n",
        "To use a module, we use the keyword `import`. After importing a module, you can use its functions and classes by using the module name followed by a dot, and then the function or class you want to use."
      ]
    },
    {
      "cell_type": "markdown",
      "metadata": {
        "id": "x1iLFUwN59sh"
      },
      "source": [
        "```python\n",
        "import mod\n",
        "print(mod.s)\n",
        "\n",
        "mod.a\n",
        "\n",
        "mod.foo(['quux', 'corge', 'grault'])\n",
        "```"
      ]
    },
    {
      "cell_type": "markdown",
      "metadata": {
        "id": "6JlKzDgE59sj"
      },
      "source": [
        "## Package Management with pip\n",
        "\n",
        "\n",
        "`pip` is the package manager for Python, and it allows you to easily install, update, and remove packages. Packages are collections of modules that provide additional functionality. You can download packages from the Python Package Index (PyPI)."
      ]
    },
    {
      "cell_type": "markdown",
      "metadata": {
        "id": "C4-xoU8T59sk"
      },
      "source": [
        "### Basic commands\n",
        "\n",
        "Here is a list of basic commands for package management with pip:\n",
        "\n",
        "- To install a package: `pip install package_name`\n",
        "- To update a package: `pip install --upgrade package_name`\n",
        "- To remove a package: `pip uninstall package_name`\n",
        "- To list installed packages: `pip list`"
      ]
    },
    {
      "cell_type": "markdown",
      "metadata": {
        "id": "Yc8iWa5j59sl"
      },
      "source": [
        "### Requirements file\n",
        "\n",
        "A `requirements.txt` file helps you to manage package dependencies for your project. It lists the package names with their version numbers that your project depends on.\n",
        "\n",
        "You can create this file manually or generate it using `pip freeze > requirements.txt`."
      ]
    },
    {
      "cell_type": "markdown",
      "metadata": {
        "id": "OAIY2PHc59sm"
      },
      "source": [
        "The file should list one package per line\n",
        "\n",
        "```txt\n",
        "numpy==1.21.2\n",
        "pandas==1.3.3\n",
        "matplotlib==3.4.3\n",
        "```\n",
        "\n",
        "Use the `pip install -r requirements.txt` command to update the installed packages according to the new `requirements.txt` file."
      ]
    },
    {
      "cell_type": "markdown",
      "metadata": {
        "id": "F0o_yCqm59sm"
      },
      "source": [
        "## Using Modules from Packages\n",
        "\n",
        "First, we need to install the packages using `pip`:\n",
        "\n",
        "```shell\n",
        "pip install pandas numpy\n",
        "```\n",
        "\n",
        "Then, you can import a module in your Python script using the `import` statement."
      ]
    },
    {
      "cell_type": "code",
      "execution_count": null,
      "metadata": {
        "id": "VPpcoQtR59sn"
      },
      "outputs": [],
      "source": [
        "import pandas as pd\n",
        "import numpy as np\n",
        "\n",
        "# Create a simple dataset\n",
        "data = {\n",
        "    'Name': ['Alice', 'Bob', 'Charlie', 'David'],\n",
        "    'Age': [25, 30, 35, 40],\n",
        "    'Salary': [50000, 55000, 60000, 65000]\n",
        "}\n",
        "\n",
        "# Convert the dataset to a pandas DataFrame\n",
        "df = pd.DataFrame(data)\n",
        "\n",
        "# Calculate the mean of the Age column using numpy\n",
        "mean_age = np.mean(df['Age'])\n",
        "print(f'Mean Age: {mean_age}')\n",
        "\n",
        "# Calculate the sum of the Salary column using pandas\n",
        "total_salary = df['Salary'].sum()\n",
        "print(f'Total Salary: {total_salary}')\n",
        "\n",
        "# Add a new column named 'Salary_with_bonus' to the DataFrame\n",
        "df['Salary_with_bonus'] = df['Salary'] * 1.1\n",
        "print(df)"
      ]
    },
    {
      "cell_type": "markdown",
      "metadata": {
        "id": "2GPEQCd559sq"
      },
      "source": [
        "## Exercise Modules and Packages"
      ]
    },
    {
      "cell_type": "code",
      "execution_count": null,
      "metadata": {
        "id": "8Hju6pwr59sr"
      },
      "outputs": [],
      "source": [
        "!pip install rggrader"
      ]
    },
    {
      "cell_type": "code",
      "execution_count": 1,
      "metadata": {
        "id": "ZeHTlzsp59ss"
      },
      "outputs": [],
      "source": [
        "# @title #### Student Identity\n",
        "student_id = \"REA3X33Z\" # @param {type:\"string\"}\n",
        "name = \"Roby Attoillah\" # @param {type:\"string\"}"
      ]
    },
    {
      "cell_type": "code",
      "execution_count": 3,
      "metadata": {
        "id": "w12FmrYc59st"
      },
      "outputs": [
        {
          "name": "stdout",
          "output_type": "stream",
          "text": [
            "3.0\n"
          ]
        },
        {
          "data": {
            "text/plain": [
              "'Assignment successfully submitted'"
            ]
          },
          "execution_count": 3,
          "metadata": {},
          "output_type": "execute_result"
        }
      ],
      "source": [
        "# @title #### 00. Install and Use a Package\n",
        "from rggrader import submit\n",
        "\n",
        "# TODO:\n",
        "# 1. Import the numpy package with alias \"np\". Note: you do not need to install numpy using pip in this context, assume it is already installed.\n",
        "# 2. Use numpy's function that can calculate the average of the list [1, 2, 3, 4, 5] and assign the output to a variable named 'average'.\n",
        "\n",
        "\n",
        "# Put your code here:\n",
        "import numpy as np\n",
        "average = np.average([1, 2, 3, 4, 5])\n",
        "print(average)\n",
        "\n",
        "# ---- End of your code ----\n",
        "\n",
        "# Do not modify the code below. It is used to submit your solution.\n",
        "assignment_id = \"05-modules-and-packages\"\n",
        "question_id = \"00_install_use_package\"\n",
        "submit(student_id, name, assignment_id, str(average), question_id)\n",
        "\n",
        "# Example:\n",
        "# Package: numpy with alias \"np\"\n",
        "# Function: Calculate the sum of the list [10, 20, 30, 40, 50]\n",
        "# Output: 150"
      ]
    },
    {
      "cell_type": "code",
      "execution_count": 5,
      "metadata": {
        "id": "aE-xS8iO59su"
      },
      "outputs": [
        {
          "name": "stdout",
          "output_type": "stream",
          "text": [
            "1.4142135623730951\n"
          ]
        },
        {
          "data": {
            "text/plain": [
              "'Assignment successfully submitted'"
            ]
          },
          "execution_count": 5,
          "metadata": {},
          "output_type": "execute_result"
        }
      ],
      "source": [
        "# @title #### 01. Standard Deviation of list elements\n",
        "from rggrader import submit\n",
        "\n",
        "# TODO:\n",
        "# 1. Import numpy package with alias \"np\".\n",
        "# 2. Use numpy's function that can calculate the standard deviation of elements in the list [1, 2, 3, 4, 5] and assign the output to a variable named 'std_dev'.\n",
        "\n",
        "\n",
        "# Put your code here:\n",
        "std_dev = np.std([1, 2, 3, 4, 5])\n",
        "print(std_dev)\n",
        "\n",
        "# ---- End of your code ----\n",
        "\n",
        "# Do not modify the code below. It is used to submit your solution.\n",
        "assignment_id = \"05-modules-and-packages\"\n",
        "question_id = \"02_std_dev_of_list\"\n",
        "submit(student_id, name, assignment_id, str(std_dev), question_id)\n",
        "\n",
        "# Example:\n",
        "# Package: numpy with alias \"np\"\n",
        "# Function: Calculate the standard deviation of the list [10, 20, 30, 40, 50]\n",
        "# Output: 14.142136"
      ]
    },
    {
      "cell_type": "code",
      "execution_count": 8,
      "metadata": {
        "id": "vP0sVfhe59sw"
      },
      "outputs": [
        {
          "name": "stdout",
          "output_type": "stream",
          "text": [
            "      Name  Age\n",
            "0     Anna   21\n",
            "1      Bob   25\n",
            "2  Charlie   30\n"
          ]
        }
      ],
      "source": [
        "# @title #### 02. Create a DataFrame using pandas\n",
        "from rggrader import submit\n",
        "\n",
        "# TODO:\n",
        "# 1. Import pandas package with alias \"pd\".\n",
        "# 2. Use pandas DataFrame constructor to create a DataFrame from the dictionary: {\"Name\": [\"Anna\", \"Bob\", \"Charlie\"], \"Age\": [21, 25, 30]}.\n",
        "#    Assign the output to a variable named 'df'.\n",
        "\n",
        "\n",
        "# Put your code here:\n",
        "import pandas as pd\n",
        "\n",
        "dict = {\"Name\": [\"Anna\", \"Bob\", \"Charlie\"], \"Age\": [21, 25, 30]}\n",
        "df = pd.DataFrame(dict)\n",
        "print(df.to_string())\n",
        "\n",
        "# ---- End of your code ----\n",
        "\n",
        "# Do not modify the code below. It is used to submit your solution.\n",
        "assignment_id = \"05-modules-and-packages\"\n",
        "question_id = \"03_create_dataframe\"\n",
        "# submit(student_id, name, assignment_id, df.to_string(), question_id)\n",
        "\n",
        "# Example:\n",
        "# Package: pandas with alias \"pd\"\n",
        "# Function: Create a DataFrame from the dictionary: {\"Country\": [\"Finland\", \"Sweden\", \"Norway\"], \"Population\": [5.5, 10.4, 5.4]}\n",
        "# Output:\n",
        "#    Country  |  Population\n",
        "#    Finland  |  5.5\n",
        "#    Sweden   |  10.4\n",
        "#    Norway   |  5.4"
      ]
    },
    {
      "cell_type": "code",
      "execution_count": null,
      "metadata": {},
      "outputs": [],
      "source": []
    }
  ],
  "metadata": {
    "celltoolbar": "Slideshow",
    "colab": {
      "include_colab_link": true,
      "provenance": []
    },
    "kernelspec": {
      "display_name": "Python 3 (ipykernel)",
      "language": "python",
      "name": "python3"
    },
    "language_info": {
      "codemirror_mode": {
        "name": "ipython",
        "version": 3
      },
      "file_extension": ".py",
      "mimetype": "text/x-python",
      "name": "python",
      "nbconvert_exporter": "python",
      "pygments_lexer": "ipython3",
      "version": "3.8.5"
    }
  },
  "nbformat": 4,
  "nbformat_minor": 0
}
