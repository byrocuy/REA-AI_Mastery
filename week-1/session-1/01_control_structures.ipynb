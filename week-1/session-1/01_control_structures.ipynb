{
  "cells": [
    {
      "cell_type": "markdown",
      "metadata": {
        "colab_type": "text",
        "id": "view-in-github"
      },
      "source": [
        "<a href=\"https://colab.research.google.com/github/byrocuy/REA-AI_Mastery/blob/main/week-1/01_control_structures.ipynb\" target=\"_parent\"><img src=\"https://colab.research.google.com/assets/colab-badge.svg\" alt=\"Open In Colab\"/></a>"
      ]
    },
    {
      "cell_type": "markdown",
      "metadata": {
        "id": "2LPej2NmEctX"
      },
      "source": [
        "# Control Structures"
      ]
    },
    {
      "cell_type": "markdown",
      "metadata": {
        "id": "ktAiWfmKEcta"
      },
      "source": [
        "## Conditional Branching"
      ]
    },
    {
      "cell_type": "markdown",
      "metadata": {
        "id": "Rktn_8zyEctb"
      },
      "source": [
        "### `if` statement\n",
        "\n",
        "The `if` statement checks if a specific condition or expression evaluates to `True`. If the condition is satisfied (`True`), the block of code associated with the `if` statement will be executed."
      ]
    },
    {
      "cell_type": "code",
      "execution_count": null,
      "metadata": {
        "id": "4SpVAUuQEctb"
      },
      "outputs": [],
      "source": [
        "x = 10\n",
        "\n",
        "if x > 0:\n",
        "    print(\"x is positive.\")\n",
        "    print(\"The value of x is\", x)"
      ]
    },
    {
      "cell_type": "markdown",
      "metadata": {
        "id": "9prd0J8xEctc"
      },
      "source": [
        "In this example, the condition `x > 0` evaluates to `True`, so the indented block of code following the `if` statement is executed."
      ]
    },
    {
      "cell_type": "markdown",
      "metadata": {
        "id": "DWS6AKuYEctd"
      },
      "source": [
        "### `if-else` statement\n",
        "\n",
        "The `else` statement is used whenever you want to execute a different block of code if the condition in the `if` statement is `False`."
      ]
    },
    {
      "cell_type": "code",
      "execution_count": null,
      "metadata": {
        "id": "cjt0TzdQEctd"
      },
      "outputs": [],
      "source": [
        "x = -5\n",
        "\n",
        "if x > 0:\n",
        "    print(\"x is positive.\")\n",
        "else:\n",
        "    print(\"x is not positive.\")"
      ]
    },
    {
      "cell_type": "markdown",
      "metadata": {
        "id": "GmYEGB24Ecte"
      },
      "source": [
        "In this example, the condition `x > 0` evaluates to `False`, so the block of code following the `else` statement is executed."
      ]
    },
    {
      "cell_type": "markdown",
      "metadata": {
        "id": "aPAG2VjaEcte"
      },
      "source": [
        "### `if-elif-else` statement\n",
        "\n",
        "Use the `elif` statement to check multiple conditions. `elif` (short for \"else if\") is used in conjunction with `if` and `else` to create a series of conditions. The block of code associated with the first `if/elif` condition that evaluates to `True` will be executed. If no condition is satisfied, the code associated with the `else` statement (if present) will be executed.\n"
      ]
    },
    {
      "cell_type": "code",
      "execution_count": null,
      "metadata": {
        "id": "nOsg8lgHEctf"
      },
      "outputs": [],
      "source": [
        "temperature = 15\n",
        "\n",
        "if temperature < 0:\n",
        "    print(\"It's freezing outside.\")\n",
        "elif temperature < 10:\n",
        "    print(\"It's cold outside.\")\n",
        "elif temperature < 20:\n",
        "    print(\"It's chilly outside.\")\n",
        "elif temperature < 30:\n",
        "    print(\"It's warm outside.\")\n",
        "else:\n",
        "    print(\"It's hot outside.\")"
      ]
    },
    {
      "cell_type": "markdown",
      "metadata": {
        "id": "4_63Z36dEctf"
      },
      "source": [
        "In this example, the first two conditions (`temperature < 0` and `temperature < 10`) evaluate to `False`,\n",
        "while the third condition (`temperature < 20`) evaluates to `True`. Thus, the block of code associated with this condition is executed, and \"It's chilly outside.\" is printed as output."
      ]
    },
    {
      "cell_type": "markdown",
      "metadata": {
        "id": "em1N38NBEctg"
      },
      "source": [
        "### Nested `if` statements\n",
        "\n",
        "Nested `if` statements allow you to make more complex condition checks by placing an `if` statement inside another `if` statement."
      ]
    },
    {
      "cell_type": "code",
      "execution_count": null,
      "metadata": {
        "id": "efNLroeKEctg"
      },
      "outputs": [],
      "source": [
        "x = 5\n",
        "y = -2\n",
        "\n",
        "if x > 0:\n",
        "    if y > 0:\n",
        "        print(\"Both x and y are positive.\")\n",
        "    else:\n",
        "        print(\"x is positive, but y is not.\")\n",
        "else:\n",
        "    if y > 0:\n",
        "        print(\"y is positive, but x is not.\")\n",
        "    else:\n",
        "        print(\"Neither x nor y is positive.\")"
      ]
    },
    {
      "cell_type": "markdown",
      "metadata": {
        "id": "BRM_F8xBEctg"
      },
      "source": [
        "In this example, the condition `x > 0` evaluates to `True`, so the first nested `if` statement is executed. Within the nested statement, the condition `y > 0` evaluates to `False`, executing the code associated with the `else` statement. Thus, \"x is positive, but y is not.\" is the output."
      ]
    },
    {
      "cell_type": "markdown",
      "metadata": {
        "id": "caMUtAcfEctg"
      },
      "source": [
        "### One-liner `if-else` expression\n",
        "\n",
        "You can use a single line of code to execute simple `if-else` statements. This is called the ternary conditional operator."
      ]
    },
    {
      "cell_type": "code",
      "execution_count": null,
      "metadata": {
        "id": "v71oLdzGEctg",
        "scrolled": true
      },
      "outputs": [],
      "source": [
        "x = 5\n",
        "str_result = \"x is positive\" if x > 0 else \"x is not positive\"\n",
        "print(str_result)"
      ]
    },
    {
      "cell_type": "markdown",
      "metadata": {
        "id": "dLbo37O2Ecth"
      },
      "source": [
        "In this example, the condition `x > 0` is `True`, so the variable `str_result` will be assigned the value \"x is positive\""
      ]
    },
    {
      "cell_type": "markdown",
      "metadata": {
        "id": "UGK784c2Ecth"
      },
      "source": [
        "## Loops"
      ]
    },
    {
      "cell_type": "markdown",
      "metadata": {
        "id": "0VWy48O5Ecth"
      },
      "source": [
        "### `for` loop\n",
        "\n",
        "The `for` loop in Python is used to iterate over a sequence, such as a list, tuple, or string. `for` loops iterate over each element in the sequence, executing the associated block of code for each element."
      ]
    },
    {
      "cell_type": "code",
      "execution_count": null,
      "metadata": {
        "id": "q7kJafKCEcth"
      },
      "outputs": [],
      "source": [
        "# Example using a list\n",
        "numbers = [1, 2, 3, 4, 5]\n",
        "for num in numbers:\n",
        "    print(num)"
      ]
    },
    {
      "cell_type": "markdown",
      "metadata": {
        "id": "vWlxNdHNEcth"
      },
      "source": [
        "In this example, the `for` loop iterates over each element in the `numbers` list. The loop variable `num` takes on the value of each element in the list, and the `print(num)` statement is executed."
      ]
    },
    {
      "cell_type": "code",
      "execution_count": null,
      "metadata": {
        "id": "AWFNyTFJEcth"
      },
      "outputs": [],
      "source": [
        "# Example using a string\n",
        "name = \"Python\"\n",
        "for letter in name:\n",
        "    print(letter)"
      ]
    },
    {
      "cell_type": "markdown",
      "metadata": {
        "id": "VrpZYu4_Ecti"
      },
      "source": [
        "In this example, the `for` loop iterates over each character in the name string."
      ]
    },
    {
      "cell_type": "markdown",
      "metadata": {
        "id": "Bht_jPbWEcti"
      },
      "source": [
        "### `for` loop with `range()`\n",
        "\n",
        "The `range()` function generates a sequence of numbers. It is commonly used in `for` loops when you want to repeat a block of code a specific number of times."
      ]
    },
    {
      "cell_type": "code",
      "execution_count": null,
      "metadata": {
        "id": "K5vM9uO2Ecti"
      },
      "outputs": [],
      "source": [
        "# range(stop): Generates a sequence of numbers from 0 to stop - 1\n",
        "for i in range(5):\n",
        "    print(i)"
      ]
    },
    {
      "cell_type": "markdown",
      "metadata": {
        "id": "pJkP4qZgEcti"
      },
      "source": [
        "In this example, the `range(5)` function generates the sequence `[0, 1, 2, 3, 4]`, and the `for` loop iterates over that sequence."
      ]
    },
    {
      "cell_type": "markdown",
      "metadata": {
        "id": "c4u-M3VtEcti"
      },
      "source": [
        "### `while` loop\n",
        "\n",
        "The `while` loop is used to repeatedly execute a block of code while a specified condition is `True`. When the condition becomes `False`, the loop terminates, and the program continues with the code following the `while` loop."
      ]
    },
    {
      "cell_type": "code",
      "execution_count": null,
      "metadata": {
        "id": "bqN4PVVSEcti"
      },
      "outputs": [],
      "source": [
        "# Example\n",
        "counter = 0\n",
        "while counter < 5:\n",
        "    print(\"counter:\", counter)\n",
        "    counter = counter + 1"
      ]
    },
    {
      "cell_type": "markdown",
      "metadata": {
        "id": "qmbvtdxEEctj"
      },
      "source": [
        "In this example, the `while` loop will continue to execute its block of code as long as the `counter` variable is less than 5. After each iteration, the value of `counter` is incremented by 1. When `counter` reaches 5, the loop condition becomes `False`, and the loop terminates."
      ]
    },
    {
      "cell_type": "markdown",
      "metadata": {
        "id": "NTXeFK16Ectj"
      },
      "source": [
        "## List Comprehensions\n",
        "\n",
        "List comprehensions are a concise and readable way to create lists in Python. They provide an alternative to creating lists using `for` loops, offering more compact and readable code for specific scenarios. List comprehensions are especially useful when working with transformations or filters for lists.\n",
        "\n",
        "The syntax for list comprehensions is as follows:\n",
        "```py\n",
        "[expression for item in iterable if condition]\n",
        "```\n",
        "\n",
        "notes: `if condition` is optional. This is the filter that will only include `item` in the resulting list if the given condition is `True`."
      ]
    },
    {
      "cell_type": "code",
      "execution_count": null,
      "metadata": {
        "id": "O0ZzxSXnEctj"
      },
      "outputs": [],
      "source": [
        "# Create a list of the squares of the numbers from 1 to 10:\n",
        "squares = [x**2 for x in range(1, 11)]\n",
        "\n",
        "# Create a list of even numbers between 1 and 20:\n",
        "even_numbers = [x for x in range(1, 21) if x % 2 == 0]"
      ]
    },
    {
      "cell_type": "markdown",
      "metadata": {
        "id": "HoFZO9N2Ectj"
      },
      "source": [
        "## Exercise Control Structures"
      ]
    },
    {
      "cell_type": "code",
      "execution_count": 1,
      "metadata": {
        "id": "dgjvijUiEctk"
      },
      "outputs": [
        {
          "name": "stdout",
          "output_type": "stream",
          "text": [
            "Collecting rggrader\n",
            "  Downloading rggrader-0.1.1-py3-none-any.whl (1.7 kB)\n",
            "Requirement already satisfied: requests in c:\\users\\byrocuy\\appdata\\local\\programs\\python\\python38\\lib\\site-packages (from rggrader) (2.26.0)\n",
            "Requirement already satisfied: idna<4,>=2.5 in c:\\users\\byrocuy\\appdata\\local\\programs\\python\\python38\\lib\\site-packages (from requests->rggrader) (3.3)\n",
            "Requirement already satisfied: certifi>=2017.4.17 in c:\\users\\byrocuy\\appdata\\local\\programs\\python\\python38\\lib\\site-packages (from requests->rggrader) (2021.10.8)\n",
            "Requirement already satisfied: urllib3<1.27,>=1.21.1 in c:\\users\\byrocuy\\appdata\\local\\programs\\python\\python38\\lib\\site-packages (from requests->rggrader) (1.26.7)\n",
            "Requirement already satisfied: charset-normalizer~=2.0.0 in c:\\users\\byrocuy\\appdata\\local\\programs\\python\\python38\\lib\\site-packages (from requests->rggrader) (2.0.8)\n",
            "Installing collected packages: rggrader\n",
            "Successfully installed rggrader-0.1.1\n"
          ]
        },
        {
          "name": "stderr",
          "output_type": "stream",
          "text": [
            "\n",
            "[notice] A new release of pip is available: 23.0.1 -> 23.2.1\n",
            "[notice] To update, run: python.exe -m pip install --upgrade pip\n"
          ]
        }
      ],
      "source": [
        "%pip install rggrader"
      ]
    },
    {
      "cell_type": "code",
      "execution_count": 1,
      "metadata": {
        "id": "olILY8cjEctk"
      },
      "outputs": [],
      "source": [
        "# @title #### Student Identity\n",
        "student_id = \"REA3X33Z\" # @param {type:\"string\"}\n",
        "name = \"Roby Attoillah\" # @param {type:\"string\"}"
      ]
    },
    {
      "cell_type": "code",
      "execution_count": 8,
      "metadata": {
        "id": "yqqB1QDHEctk"
      },
      "outputs": [
        {
          "name": "stdout",
          "output_type": "stream",
          "text": [
            "2\n",
            "4\n",
            "6\n",
            "8\n",
            "10\n",
            "12\n",
            "14\n",
            "16\n",
            "18\n",
            "20\n",
            "22\n",
            "24\n",
            "26\n",
            "28\n",
            "30\n",
            "32\n",
            "34\n",
            "36\n",
            "38\n",
            "40\n",
            "42\n",
            "44\n",
            "46\n",
            "48\n",
            "50\n",
            "650\n"
          ]
        },
        {
          "data": {
            "text/plain": [
              "'Assignment successfully submitted'"
            ]
          },
          "execution_count": 8,
          "metadata": {},
          "output_type": "execute_result"
        }
      ],
      "source": [
        "# @title #### 00. Sum of Even Numbers\n",
        "from rggrader import submit\n",
        "\n",
        "# sum = 2 + 4 + ... + n\n",
        "\n",
        "n = 50\n",
        "# TODO: compute the sum\n",
        "# The sum of all even numbers from 1 to n:\n",
        "sum = 0\n",
        "for i in range(1, n+1):\n",
        "    if i%2 == 0:\n",
        "        print(i)\n",
        "        sum += i\n",
        "print(sum)\n",
        "\n",
        "# Submit Method\n",
        "assignment_id = \"01-control-structures\"\n",
        "question_id = \"00_sum-of-even-numbers\"\n",
        "submit(student_id, name, assignment_id, str(sum), question_id)"
      ]
    },
    {
      "cell_type": "code",
      "execution_count": 6,
      "metadata": {
        "id": "GZmkds7YEctk"
      },
      "outputs": [
        {
          "data": {
            "text/plain": [
              "'Assignment successfully submitted'"
            ]
          },
          "execution_count": 6,
          "metadata": {},
          "output_type": "execute_result"
        }
      ],
      "source": [
        "# @title #### 01. Alternating Sum Even Odd\n",
        "from rggrader import submit\n",
        "\n",
        "# sum = -1 + 2 - 3 + 4 + ... + n\n",
        "\n",
        "n = 50\n",
        "# TODO: compute the sum\n",
        "# Sum all even numbers and subtract all odd numbers from 1 to n:\n",
        "sum = 0\n",
        "for i in range(1, n+1):\n",
        "    if i % 2 == 0:\n",
        "        sum += i\n",
        "    else:\n",
        "        sum -= i\n",
        "# print(sum)\n",
        "# Submit Method\n",
        "assignment_id = \"01-control-structures\"\n",
        "question_id = \"01_alternating-sum-even-odd\"\n",
        "submit(student_id, name, assignment_id, str(sum), question_id)"
      ]
    },
    {
      "cell_type": "code",
      "execution_count": null,
      "metadata": {},
      "outputs": [],
      "source": []
    }
  ],
  "metadata": {
    "celltoolbar": "Slideshow",
    "colab": {
      "include_colab_link": true,
      "provenance": []
    },
    "kernelspec": {
      "display_name": "Python 3 (ipykernel)",
      "language": "python",
      "name": "python3"
    },
    "language_info": {
      "codemirror_mode": {
        "name": "ipython",
        "version": 3
      },
      "file_extension": ".py",
      "mimetype": "text/x-python",
      "name": "python",
      "nbconvert_exporter": "python",
      "pygments_lexer": "ipython3",
      "version": "3.11.4"
    }
  },
  "nbformat": 4,
  "nbformat_minor": 0
}
