{
  "cells": [
    {
      "cell_type": "markdown",
      "metadata": {
        "id": "view-in-github",
        "colab_type": "text"
      },
      "source": [
        "<a href=\"https://colab.research.google.com/github/byrocuy/REA-AI_Mastery/blob/main/week-1/session-1/04_oop.ipynb\" target=\"_parent\"><img src=\"https://colab.research.google.com/assets/colab-badge.svg\" alt=\"Open In Colab\"/></a>"
      ]
    },
    {
      "cell_type": "markdown",
      "metadata": {
        "id": "c8mVoq8nzIXp"
      },
      "source": [
        "# Object-Oriented Programming (OOP)"
      ]
    },
    {
      "cell_type": "markdown",
      "metadata": {
        "id": "5gVb8GB0zIX7"
      },
      "source": [
        "In Python, Object-Oriented Programming (OOP) is a programming paradigm that focuses on the use of objects and their interactions. Objects are instances of classes, which are templates for creating objects. Classes and objects are essential components of OOP in Python."
      ]
    },
    {
      "cell_type": "markdown",
      "metadata": {
        "id": "-LdLNNnCzIX9"
      },
      "source": [
        "## Classes\n",
        "\n",
        "A class is a blueprint or template for creating objects. It defines a set of attributes and methods that will be used by the objects created from it. In Python, classes are created using the `class` keyword, followed by the class name and a colon `:`. The attributes and methods are defined inside the class using indentation."
      ]
    },
    {
      "cell_type": "code",
      "execution_count": null,
      "metadata": {
        "id": "tXgQxhV0zIX_"
      },
      "outputs": [],
      "source": [
        "class DataLake:\n",
        "    def __init__(self, name):\n",
        "        self.name = name\n",
        "        self.data = {}\n",
        "\n",
        "    def add_data(self, data_id, data):\n",
        "        self.data[data_id] = data\n",
        "\n",
        "    def retrieve_data(self, data_id):\n",
        "        return self.data.get(data_id)\n",
        "\n",
        "    def delete_data(self, data_id):\n",
        "        if data_id in self.data:\n",
        "            del self.data[data_id]"
      ]
    },
    {
      "cell_type": "markdown",
      "metadata": {
        "id": "kXRyOzORzIYD"
      },
      "source": [
        "In the above example, the `DataLake` class represents a simple data storage system. It has methods to add, retrieve, and delete data"
      ]
    },
    {
      "cell_type": "markdown",
      "metadata": {
        "id": "pNMJOhyizIYF"
      },
      "source": [
        "## Objects\n",
        "\n",
        "An object is an instance of a class. When a class is defined, it only specifies the structure for the objects, but no memory or storage is allocated for it. Objects are created from the class using the class name followed by parentheses `()` and can have their attributes assigned. The objects have access to the methods defined in the class."
      ]
    },
    {
      "cell_type": "code",
      "execution_count": null,
      "metadata": {
        "id": "MWqp6fLgzIYI"
      },
      "outputs": [],
      "source": [
        "data_lake1 = DataLake(\"DataLake1\")\n",
        "data_lake2 = DataLake(\"DataLake2\")\n",
        "\n",
        "data_lake1.add_data(\"data1\", \"Sample data\")\n",
        "print(data_lake1.retrieve_data(\"data1\"))"
      ]
    },
    {
      "cell_type": "markdown",
      "metadata": {
        "id": "puHbdVrRzIYK"
      },
      "source": [
        "In the above example, two `DataLake` objects (`data_lake1` and `data_lake2`) are created with their respective attributes. They can access the `add_data()` method defined in the `DataLake` class."
      ]
    },
    {
      "cell_type": "markdown",
      "metadata": {
        "id": "AXSQFWH6zIYN"
      },
      "source": [
        "## Exercise OOP"
      ]
    },
    {
      "cell_type": "code",
      "execution_count": null,
      "metadata": {
        "id": "V0dDNG9ezIYO"
      },
      "outputs": [],
      "source": [
        "!pip install rggrader"
      ]
    },
    {
      "cell_type": "code",
      "execution_count": null,
      "metadata": {
        "id": "SKWdWP-vzIYQ"
      },
      "outputs": [],
      "source": [
        "# @title #### Student Identity\n",
        "student_id = \"your student id\" # @param {type:\"string\"}\n",
        "name = \"your name\" # @param {type:\"string\"}"
      ]
    },
    {
      "cell_type": "code",
      "execution_count": null,
      "metadata": {
        "id": "BteMiG35zIYR"
      },
      "outputs": [],
      "source": [
        "# @title #### 00. Create a Class, Instantiate an Object, and Use a Method\n",
        "from rggrader import submit\n",
        "\n",
        "# TODO:\n",
        "# 1. Create a class 'Car' that has an attribute 'color', which is assigned in the constructor (__init__ method).\n",
        "# 2. The 'Car' class should also have a method 'honk' that returns the string \"Beep beep!\".\n",
        "# 3. Create an object 'my_car' from the 'Car' class with the color attribute as \"red\".\n",
        "# 4. Use the 'honk' method of the 'my_car' object and save the returned string into a variable 'sound'.\n",
        "\n",
        "# Put your code here:\n",
        "sound = \"\"\n",
        "\n",
        "\n",
        "# ---- End of your code ----\n",
        "\n",
        "print(f\"The sound of the car is {sound}\")\n",
        "\n",
        "# Submit Method\n",
        "assignment_id = \"04-oop\"\n",
        "question_id = \"00_create_class_instantiate_object_use_method\"\n",
        "submit(student_id, name, assignment_id, str(sound), question_id)\n",
        "\n",
        "# Example:\n",
        "# Class: Bike\n",
        "# Attribute: 'color'\n",
        "# Method: 'ring' that returns \"Ring ring!\"\n",
        "# Object: 'my_bike' with the color attribute as \"blue\"\n",
        "# Output: The sound of the bike is Ring ring!"
      ]
    },
    {
      "cell_type": "code",
      "execution_count": null,
      "metadata": {
        "id": "tgTLRDSczIYR"
      },
      "outputs": [],
      "source": [
        "# @title #### 02. Simple Mathematical Operations Class\n",
        "from rggrader import submit\n",
        "\n",
        "# TODO:\n",
        "# 1. Create a class 'Calculator' with two attributes 'num1' and 'num2', which are assigned in the constructor (__init__ method).\n",
        "# 2. The 'Calculator' class should have a method 'add' that returns the sum of 'num1' and 'num2'.\n",
        "# 3. The 'Calculator' class should also have a method 'subtract' that returns the difference between 'num1' and 'num2'.\n",
        "# 4. Create an object 'my_calculator' from the 'Calculator' class with 'num1' as 10 and 'num2' as 5.\n",
        "# 5. Use the 'add' method of the 'my_calculator' object and save the returned sum into a variable 'result1'.\n",
        "# 6. Use the 'subtract' method of the 'my_calculator' object and save the returned difference into a variable 'result2'.\n",
        "\n",
        "# Put your code here:\n",
        "result1 = 0\n",
        "result2 = 0\n",
        "\n",
        "\n",
        "# ---- End of your code ----\n",
        "\n",
        "print(f\"The results of the operations are {result1} and {result2}\")\n",
        "\n",
        "# Submit Method\n",
        "assignment_id = \"04-oop\"\n",
        "question_id = \"02_simple_mathematical_operations_class\"\n",
        "submit(student_id, name, assignment_id, str(result1) + ' ' + str(result2), question_id)\n",
        "\n",
        "# Example:\n",
        "# Class: SimpleCalculator\n",
        "# Attributes: 'num1' = 20, 'num2' = 10\n",
        "# Method1: 'multiply'\n",
        "# Method2: 'divide'\n",
        "# Output: After operations, the multiplication result should be 200 and the division result should be 2."
      ]
    }
  ],
  "metadata": {
    "celltoolbar": "Slideshow",
    "kernelspec": {
      "display_name": "Python 3 (ipykernel)",
      "language": "python",
      "name": "python3"
    },
    "language_info": {
      "codemirror_mode": {
        "name": "ipython",
        "version": 3
      },
      "file_extension": ".py",
      "mimetype": "text/x-python",
      "name": "python",
      "nbconvert_exporter": "python",
      "pygments_lexer": "ipython3",
      "version": "3.11.3"
    },
    "colab": {
      "provenance": [],
      "include_colab_link": true
    }
  },
  "nbformat": 4,
  "nbformat_minor": 0
}