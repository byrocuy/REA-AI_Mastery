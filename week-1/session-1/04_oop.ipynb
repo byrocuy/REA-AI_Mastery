{
  "cells": [
    {
      "cell_type": "markdown",
      "metadata": {
        "id": "vCDoi8NhVrhG"
      },
      "source": [
        "# Object-Oriented Programming (OOP)"
      ]
    },
    {
      "cell_type": "markdown",
      "metadata": {
        "id": "QICmlGfsVrhX"
      },
      "source": [
        "In Python, Object-Oriented Programming (OOP) is a programming paradigm that focuses on the use of objects and their interactions. Objects are instances of classes, which are templates for creating objects. Classes and objects are essential components of OOP in Python."
      ]
    },
    {
      "cell_type": "markdown",
      "metadata": {
        "id": "WrcQsVrCVrhY"
      },
      "source": [
        "## Classes\n",
        "\n",
        "A class is a blueprint or template for creating objects. It defines a set of attributes and methods that will be used by the objects created from it. In Python, classes are created using the `class` keyword, followed by the class name and a colon `:`. The attributes and methods are defined inside the class using indentation."
      ]
    },
    {
      "cell_type": "code",
      "execution_count": null,
      "metadata": {
        "id": "PKuJxFjiVrhb"
      },
      "outputs": [],
      "source": [
        "class DataLake:\n",
        "    def __init__(self, name):\n",
        "        self.name = name\n",
        "        self.data = {}\n",
        "\n",
        "    def add_data(self, data_id, data):\n",
        "        self.data[data_id] = data\n",
        "\n",
        "    def retrieve_data(self, data_id):\n",
        "        return self.data.get(data_id)\n",
        "\n",
        "    def delete_data(self, data_id):\n",
        "        if data_id in self.data:\n",
        "            del self.data[data_id]"
      ]
    },
    {
      "cell_type": "markdown",
      "metadata": {
        "id": "iukQCYMeVrhf"
      },
      "source": [
        "In the above example, the `DataLake` class represents a simple data storage system. It has methods to add, retrieve, and delete data"
      ]
    },
    {
      "cell_type": "markdown",
      "metadata": {
        "id": "jPMbOyPWVrhh"
      },
      "source": [
        "## Objects\n",
        "\n",
        "An object is an instance of a class. When a class is defined, it only specifies the structure for the objects, but no memory or storage is allocated for it. Objects are created from the class using the class name followed by parentheses `()` and can have their attributes assigned. The objects have access to the methods defined in the class."
      ]
    },
    {
      "cell_type": "code",
      "execution_count": null,
      "metadata": {
        "id": "_XwQx6OrVrhi"
      },
      "outputs": [],
      "source": [
        "data_lake1 = DataLake(\"DataLake1\")\n",
        "data_lake2 = DataLake(\"DataLake2\")\n",
        "\n",
        "data_lake1.add_data(\"data1\", \"Sample data\")\n",
        "print(data_lake1.retrieve_data(\"data1\"))"
      ]
    },
    {
      "cell_type": "markdown",
      "metadata": {
        "id": "457Ke2n0Vrhk"
      },
      "source": [
        "In the above example, two `DataLake` objects (`data_lake1` and `data_lake2`) are created with their respective attributes. They can access the `add_data()` method defined in the `DataLake` class."
      ]
    },
    {
      "cell_type": "markdown",
      "metadata": {
        "id": "lXlnBTvtVrhl"
      },
      "source": [
        "## Exercise OOP"
      ]
    },
    {
      "cell_type": "code",
      "execution_count": null,
      "metadata": {
        "id": "OwwKhPcHVrhn"
      },
      "outputs": [],
      "source": [
        "!pip install rggrader"
      ]
    },
    {
      "cell_type": "code",
      "execution_count": null,
      "metadata": {
        "id": "U2a5jJPcVrhp"
      },
      "outputs": [],
      "source": [
        "# @title #### Student Identity\n",
        "student_id = \"your student id\" # @param {type:\"string\"}\n",
        "name = \"your name\" # @param {type:\"string\"}"
      ]
    },
    {
      "cell_type": "code",
      "execution_count": null,
      "metadata": {
        "id": "d0b-hPvUVrhq"
      },
      "outputs": [],
      "source": [
        "# @title #### 00. Create a Class, Instantiate an Object, and Use a Method\n",
        "from rggrader import submit\n",
        "\n",
        "# TODO:\n",
        "# 1. Create a class 'Car' that has an attribute 'color', which is assigned in the constructor (__init__ method).\n",
        "# 2. The 'Car' class should also have a method 'honk' that returns the string \"Beep beep!\".\n",
        "# 3. Create an object 'my_car' from the 'Car' class with the color attribute as \"red\".\n",
        "# 4. Use the 'honk' method of the 'my_car' object and save the returned string into a variable 'sound'.\n",
        "\n",
        "# your code here\n",
        "sound = \"\"\n",
        "\n",
        "# Submit Method\n",
        "assignment_id = \"04-oop\"\n",
        "question_id = \"00_create_class_instantiate_object_use_method\"\n",
        "submit(student_id, name, assignment_id, str(sound), question_id)"
      ]
    }
  ],
  "metadata": {
    "celltoolbar": "Slideshow",
    "kernelspec": {
      "display_name": "Python 3 (ipykernel)",
      "language": "python",
      "name": "python3"
    },
    "language_info": {
      "codemirror_mode": {
        "name": "ipython",
        "version": 3
      },
      "file_extension": ".py",
      "mimetype": "text/x-python",
      "name": "python",
      "nbconvert_exporter": "python",
      "pygments_lexer": "ipython3",
      "version": "3.11.3"
    },
    "colab": {
      "provenance": []
    }
  },
  "nbformat": 4,
  "nbformat_minor": 0
}