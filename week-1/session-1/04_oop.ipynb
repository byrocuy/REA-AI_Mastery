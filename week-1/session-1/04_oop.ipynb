{
  "cells": [
    {
      "cell_type": "markdown",
      "metadata": {
        "colab_type": "text",
        "id": "view-in-github"
      },
      "source": [
        "<a href=\"https://colab.research.google.com/github/byrocuy/REA-AI_Mastery/blob/main/week-1/session-1/04_oop.ipynb\" target=\"_parent\"><img src=\"https://colab.research.google.com/assets/colab-badge.svg\" alt=\"Open In Colab\"/></a>"
      ]
    },
    {
      "cell_type": "markdown",
      "metadata": {
        "id": "y7m2u2Fcy6gd"
      },
      "source": [
        "# Object-Oriented Programming (OOP)"
      ]
    },
    {
      "cell_type": "markdown",
      "metadata": {
        "id": "6z2WzK1Hy6gp"
      },
      "source": [
        "In Python, Object-Oriented Programming (OOP) is a programming paradigm that focuses on the use of objects and their interactions. Objects are instances of classes, which are templates for creating objects. Classes and objects are essential components of OOP in Python."
      ]
    },
    {
      "cell_type": "markdown",
      "metadata": {
        "id": "byMF3xufy6gr"
      },
      "source": [
        "## Classes\n",
        "\n",
        "A class is a blueprint or template for creating objects. It defines a set of attributes and methods that will be used by the objects created from it. In Python, classes are created using the `class` keyword, followed by the class name and a colon `:`. The attributes and methods are defined inside the class using indentation."
      ]
    },
    {
      "cell_type": "code",
      "execution_count": 1,
      "metadata": {
        "id": "D4zeGqvfy6gt"
      },
      "outputs": [],
      "source": [
        "class DataLake:\n",
        "    def __init__(self, name):\n",
        "        self.name = name\n",
        "        self.data = {}\n",
        "\n",
        "    def add_data(self, data_id, data):\n",
        "        self.data[data_id] = data\n",
        "\n",
        "    def retrieve_data(self, data_id):\n",
        "        return self.data.get(data_id)\n",
        "\n",
        "    def delete_data(self, data_id):\n",
        "        if data_id in self.data:\n",
        "            del self.data[data_id]"
      ]
    },
    {
      "cell_type": "markdown",
      "metadata": {
        "id": "AvEUZU13y6gx"
      },
      "source": [
        "In the above example, the `DataLake` class represents a simple data storage system. It has methods to add, retrieve, and delete data"
      ]
    },
    {
      "cell_type": "markdown",
      "metadata": {
        "id": "-QXm037vy6gy"
      },
      "source": [
        "## Objects\n",
        "\n",
        "An object is an instance of a class. When a class is defined, it only specifies the structure for the objects, but no memory or storage is allocated for it. Objects are created from the class using the class name followed by parentheses `()` and can have their attributes assigned. The objects have access to the methods defined in the class."
      ]
    },
    {
      "cell_type": "code",
      "execution_count": 2,
      "metadata": {
        "id": "nCW-yaPhy6gz"
      },
      "outputs": [
        {
          "name": "stdout",
          "output_type": "stream",
          "text": [
            "Sample data\n"
          ]
        }
      ],
      "source": [
        "data_lake1 = DataLake(\"DataLake1\")\n",
        "data_lake2 = DataLake(\"DataLake2\")\n",
        "\n",
        "data_lake1.add_data(\"data1\", \"Sample data\")\n",
        "print(data_lake1.retrieve_data(\"data1\"))"
      ]
    },
    {
      "cell_type": "markdown",
      "metadata": {
        "id": "66Y4Zuq_y6g2"
      },
      "source": [
        "In the above example, two `DataLake` objects (`data_lake1` and `data_lake2`) are created with their respective attributes. They can access the `add_data()` method defined in the `DataLake` class."
      ]
    },
    {
      "cell_type": "markdown",
      "metadata": {
        "id": "3qG93D5By6g3"
      },
      "source": [
        "## Exercise OOP"
      ]
    },
    {
      "cell_type": "code",
      "execution_count": null,
      "metadata": {
        "id": "-o90lE3zy6g4"
      },
      "outputs": [],
      "source": [
        "!pip install rggrader"
      ]
    },
    {
      "cell_type": "code",
      "execution_count": null,
      "metadata": {
        "id": "MSkT-6gwy6g6"
      },
      "outputs": [],
      "source": [
        "# @title #### Student Identity\n",
        "student_id = \"your student id\" # @param {type:\"string\"}\n",
        "name = \"your name\" # @param {type:\"string\"}"
      ]
    },
    {
      "cell_type": "code",
      "execution_count": 4,
      "metadata": {
        "id": "zlTaTRi9y6g6"
      },
      "outputs": [
        {
          "name": "stdout",
          "output_type": "stream",
          "text": [
            "Beep beep!\n"
          ]
        }
      ],
      "source": [
        "# @title #### 00. Create a Class, Instantiate an Object, and Use a Method\n",
        "from rggrader import submit\n",
        "\n",
        "# TODO:\n",
        "# 1. Create a class 'Car' that has an attribute 'color', which is assigned in the constructor (__init__ method).\n",
        "# 2. The 'Car' class should also have a method 'honk' that returns the string \"Beep beep!\".\n",
        "# 3. Create an object 'my_car' from the 'Car' class with the color attribute as \"red\".\n",
        "# 4. Use the 'honk' method of the 'my_car' object and save the returned string into a variable 'sound'.\n",
        "\n",
        "# your code here\n",
        "class Car:\n",
        "    def __init__(self, color):\n",
        "        self.color = color\n",
        "    def honk(self):\n",
        "        return \"Beep beep!\"\n",
        "\n",
        "my_car = Car(\"red\")\n",
        "sound = my_car.honk()\n",
        "print(sound)\n",
        "\n",
        "# Submit Method\n",
        "assignment_id = \"04-oop\"\n",
        "question_id = \"00_create_class_instantiate_object_use_method\"\n",
        "# submit(student_id, name, assignment_id, str(sound), question_id)"
      ]
    },
    {
      "cell_type": "code",
      "execution_count": null,
      "metadata": {},
      "outputs": [],
      "source": []
    }
  ],
  "metadata": {
    "celltoolbar": "Slideshow",
    "colab": {
      "include_colab_link": true,
      "provenance": []
    },
    "kernelspec": {
      "display_name": "Python 3 (ipykernel)",
      "language": "python",
      "name": "python3"
    },
    "language_info": {
      "codemirror_mode": {
        "name": "ipython",
        "version": 3
      },
      "file_extension": ".py",
      "mimetype": "text/x-python",
      "name": "python",
      "nbconvert_exporter": "python",
      "pygments_lexer": "ipython3",
      "version": "3.8.5"
    }
  },
  "nbformat": 4,
  "nbformat_minor": 0
}
