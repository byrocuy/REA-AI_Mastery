{
  "cells": [
    {
      "cell_type": "markdown",
      "metadata": {
        "id": "tjJC--P3Vqte"
      },
      "source": [
        "# Working with Files"
      ]
    },
    {
      "cell_type": "markdown",
      "metadata": {
        "id": "6FDxivDAVqtt"
      },
      "source": [
        "Python provides built-in function to handle file manipulation from creating, reading to writing."
      ]
    },
    {
      "cell_type": "markdown",
      "metadata": {
        "id": "lt014Y20Vqtu"
      },
      "source": [
        "## Reading Text Files\n",
        "\n",
        "To read a text file in Python, you can use the built-in `open()` function with the desired file path and mode. The most common modes are:\n",
        "\n",
        "- `'r'`: read (default mode)\n",
        "- `'w'`: write\n",
        "- `'a'`: append\n",
        "- `'x'`: create (and write)"
      ]
    },
    {
      "cell_type": "markdown",
      "metadata": {
        "id": "hoe8UvEIVqtx"
      },
      "source": [
        "Here's an example of reading a text file:"
      ]
    },
    {
      "cell_type": "code",
      "execution_count": null,
      "metadata": {
        "id": "xOg0YpnUVqtz"
      },
      "outputs": [],
      "source": [
        "with open('file.txt', 'r') as file:\n",
        "    data = file.read()\n",
        "    print(data)"
      ]
    },
    {
      "cell_type": "markdown",
      "metadata": {
        "id": "clKw-FjzVqt8"
      },
      "source": [
        "## Writing Text Files\n",
        "\n",
        "To write data to a text file, you can use the `open()` function with the `'w'` (write) or `'a'`(append) mode."
      ]
    },
    {
      "cell_type": "markdown",
      "metadata": {
        "id": "CDIzMOjPVqt9"
      },
      "source": [
        "In this example, we write data to a file:"
      ]
    },
    {
      "cell_type": "code",
      "execution_count": null,
      "metadata": {
        "id": "VxEG-P6sVqt-"
      },
      "outputs": [],
      "source": [
        "data = \"This is a text file.\"\n",
        "\n",
        "with open('file.txt', 'w') as file:\n",
        "    file.write(data)"
      ]
    },
    {
      "cell_type": "markdown",
      "metadata": {
        "id": "a-x051PGVquA"
      },
      "source": [
        "## Example"
      ]
    },
    {
      "cell_type": "markdown",
      "metadata": {
        "id": "lYk-qfNIVquG"
      },
      "source": [
        "Suppose you have a CSV file with user data that needs to be cleaned and transformed before being saved into a new file. The CSV file has the following columns: user_id, name, email, and age."
      ]
    },
    {
      "cell_type": "markdown",
      "metadata": {
        "id": "oKKxiKfxVquI"
      },
      "source": [
        "```csv\n",
        "user_id,name,email,age\n",
        "1,John Doe,johndoe@example.com,32\n",
        "2,Jane Smith,janesmith@example.com,28\n",
        "3,James Brown,jamesbrown@example.com,55\n",
        "```"
      ]
    },
    {
      "cell_type": "markdown",
      "metadata": {
        "id": "tCIihf9GVquJ"
      },
      "source": [
        "The following Python script reads the CSV file, removes all users aged below 30, and saves the new data into another file. We'll use the build-in module `csv`."
      ]
    },
    {
      "cell_type": "code",
      "execution_count": 1,
      "metadata": {
        "id": "658y5Ie5VquK"
      },
      "outputs": [],
      "source": [
        "import csv\n",
        "\n",
        "input_file = 'users.csv'\n",
        "output_file = 'filtered_users.csv'\n",
        "\n",
        "with open(input_file, 'r') as infile, open(output_file, 'w', newline='') as outfile:\n",
        "    csv_reader = csv.DictReader(infile)\n",
        "    fieldnames = csv_reader.fieldnames\n",
        "\n",
        "    csv_writer = csv.DictWriter(outfile, fieldnames=fieldnames)\n",
        "    csv_writer.writeheader()\n",
        "\n",
        "    for row in csv_reader:\n",
        "        if int(row['age']) >= 30:\n",
        "            csv_writer.writerow(row)"
      ]
    },
    {
      "cell_type": "code",
      "execution_count": 9,
      "metadata": {},
      "outputs": [
        {
          "name": "stdout",
          "output_type": "stream",
          "text": [
            "John Doe 32\n",
            "James Brown 55\n"
          ]
        }
      ],
      "source": [
        "with open(input_file, 'r') as f:\n",
        "    csv_reader = csv.DictReader(f)\n",
        "    fieldnames = csv_reader.fieldnames\n",
        "\n",
        "    for row in csv_reader:\n",
        "        if int(row['age']) > 30:\n",
        "            print(row['name'], row['age'])"
      ]
    },
    {
      "cell_type": "markdown",
      "metadata": {
        "id": "lx6V3UyxVquM"
      },
      "source": [
        "## Exercise Working with Files"
      ]
    },
    {
      "cell_type": "code",
      "execution_count": null,
      "metadata": {
        "id": "85QgrS4pVquM"
      },
      "outputs": [],
      "source": [
        "!pip install rggrader"
      ]
    },
    {
      "cell_type": "code",
      "execution_count": 1,
      "metadata": {
        "id": "Xa-bLQlFVquO"
      },
      "outputs": [],
      "source": [
        "# @title #### Student Identity\n",
        "student_id = \"REA3X33Z\" # @param {type:\"string\"}\n",
        "name = \"Roby Attoillah\" # @param {type:\"string\"}"
      ]
    },
    {
      "cell_type": "code",
      "execution_count": 2,
      "metadata": {},
      "outputs": [],
      "source": [
        "# !echo \"Learn AI with OpenAI\" > file.txt"
      ]
    },
    {
      "cell_type": "code",
      "execution_count": 6,
      "metadata": {
        "id": "98nS0t7VVquP"
      },
      "outputs": [
        {
          "name": "stdout",
          "output_type": "stream",
          "text": [
            "\"Learn AI with OpenAI\"\n",
            "\n"
          ]
        },
        {
          "data": {
            "text/plain": [
              "'Assignment successfully submitted'"
            ]
          },
          "execution_count": 6,
          "metadata": {},
          "output_type": "execute_result"
        }
      ],
      "source": [
        "# @title #### 00. Read File\n",
        "from rggrader import submit\n",
        "\n",
        "# TODO:\n",
        "# 1. Assume you have a text file 'file.txt' with content: \"Learn AI with OpenAI\". Read the content of the file and assign it to a variable 'file_content'.\n",
        "# Note: In this exercise, you just need to write the Python code to read a file here as if 'file.txt' exists in the same directory.\n",
        "\n",
        "# your code here\n",
        "with open('file.txt', 'r') as f:\n",
        "    file_content = f.read()\n",
        "    print(file_content)\n",
        "# Submit Method\n",
        "assignment_id = \"06-working-with-files\"\n",
        "question_id = \"00_read_file\"\n",
        "submit(student_id, name, assignment_id, file_content, question_id)"
      ]
    },
    {
      "cell_type": "code",
      "execution_count": null,
      "metadata": {},
      "outputs": [],
      "source": []
    }
  ],
  "metadata": {
    "celltoolbar": "Slideshow",
    "colab": {
      "provenance": []
    },
    "kernelspec": {
      "display_name": "Python 3 (ipykernel)",
      "language": "python",
      "name": "python3"
    },
    "language_info": {
      "codemirror_mode": {
        "name": "ipython",
        "version": 3
      },
      "file_extension": ".py",
      "mimetype": "text/x-python",
      "name": "python",
      "nbconvert_exporter": "python",
      "pygments_lexer": "ipython3",
      "version": "3.8.5"
    }
  },
  "nbformat": 4,
  "nbformat_minor": 0
}
