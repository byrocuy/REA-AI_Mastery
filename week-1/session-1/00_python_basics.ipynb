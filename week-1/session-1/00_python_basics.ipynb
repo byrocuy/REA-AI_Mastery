{
  "cells": [
    {
      "cell_type": "markdown",
      "metadata": {
        "id": "view-in-github",
        "colab_type": "text"
      },
      "source": [
        "<a href=\"https://colab.research.google.com/github/byrocuy/REA-AI_Mastery/blob/main/week-1/00_python_basics.ipynb\" target=\"_parent\"><img src=\"https://colab.research.google.com/assets/colab-badge.svg\" alt=\"Open In Colab\"/></a>"
      ]
    },
    {
      "cell_type": "markdown",
      "metadata": {
        "id": "fSViO1NH57as"
      },
      "source": [
        "# Python Basics"
      ]
    },
    {
      "cell_type": "markdown",
      "metadata": {
        "id": "vsk1lmAl57a1"
      },
      "source": [
        "## Basic syntax"
      ]
    },
    {
      "cell_type": "markdown",
      "metadata": {
        "id": "hLEZi0f_57a3"
      },
      "source": [
        "### Comment\n",
        "\n",
        "Comments are completely ignored by the interpreter. They are meant for fellow programmers. In Python, there are two types of comments:\n",
        "- Single-line comment\n",
        "- Multi-line comment\n",
        "\n",
        "We use the `#` symbol to write a single-line comment and triple quotes, either `'''` or `\"\"\"` to write multi-line comment."
      ]
    },
    {
      "cell_type": "code",
      "execution_count": 18,
      "metadata": {
        "colab": {
          "base_uri": "https://localhost:8080/",
          "height": 35
        },
        "id": "o3shA4_m57a5",
        "outputId": "c73fe608-7ec0-4780-eb4e-7d6c8fff55e7"
      },
      "outputs": [
        {
          "output_type": "execute_result",
          "data": {
            "text/plain": [
              "'\\n  This is a\\n  multi-line\\n  comment in Python\\n'"
            ],
            "application/vnd.google.colaboratory.intrinsic+json": {
              "type": "string"
            }
          },
          "metadata": {},
          "execution_count": 18
        }
      ],
      "source": [
        "# This is a single-line comment in Python\n",
        "\n",
        "\"\"\"\n",
        "  This is a\n",
        "  multi-line\n",
        "  comment in Python\n",
        "\"\"\""
      ]
    },
    {
      "cell_type": "markdown",
      "metadata": {
        "id": "W9pXZVxX57a7"
      },
      "source": [
        "### Indentation\n",
        "\n",
        "Python uses indentation to define blocks of code, instead of curly braces. Both tabs and spaces are supported, but the standard indentation requires standard Python code to use four spaces"
      ]
    },
    {
      "cell_type": "code",
      "execution_count": 19,
      "metadata": {
        "colab": {
          "base_uri": "https://localhost:8080/"
        },
        "id": "ZmfmEUjE57a9",
        "outputId": "7243d632-2229-4f35-eb6f-cffc44e93157"
      },
      "outputs": [
        {
          "output_type": "stream",
          "name": "stdout",
          "text": [
            "5 is greater than 2\n",
            "10 is greater than 5\n"
          ]
        }
      ],
      "source": [
        "if 5 > 2:\n",
        "    # Indented four spaces\n",
        "    # This block has one level of indentation\n",
        "    print(\"5 is greater than 2\")\n",
        "\n",
        "    if 10 > 5:\n",
        "        # This block has two levels of indentation\n",
        "        print(\"10 is greater than 5\")"
      ]
    },
    {
      "cell_type": "markdown",
      "metadata": {
        "id": "vqxK-g1h57a-"
      },
      "source": [
        "### Lines\n",
        "\n",
        "You can use a backslash if you need to place a long statement on multiple lines or put multiple short statements on the same line using a semicolon."
      ]
    },
    {
      "cell_type": "code",
      "execution_count": 20,
      "metadata": {
        "colab": {
          "base_uri": "https://localhost:8080/"
        },
        "id": "c8lIIsri57a_",
        "outputId": "ba61b1c5-c7c4-4ae5-bc7d-28aac153a794"
      },
      "outputs": [
        {
          "output_type": "stream",
          "name": "stdout",
          "text": [
            "36\n"
          ]
        }
      ],
      "source": [
        "# This is a long statement broken into two lines by using a backslash\n",
        "result = 1 + 2 + 3 + 4 + \\\n",
        "         5 + 6 + 7 + 8\n",
        "print(result)\n",
        "\n",
        "# These are two short statements placed on the same line using a semicolon\n",
        "x = 5; y = 10"
      ]
    },
    {
      "cell_type": "markdown",
      "metadata": {
        "id": "XYEd9v1z57bA"
      },
      "source": [
        "## Data types"
      ]
    },
    {
      "cell_type": "markdown",
      "metadata": {
        "id": "49to_nGn57bB"
      },
      "source": [
        "### Numbers\n",
        "\n",
        "Python supports two types of numbers - integers(whole numbers) and floating point numbers(decimals).\n",
        "\n",
        "Integers are whole numbers, both positive and negative, without decimals. Floats represent real numbers, both positive and negative, with decimal points."
      ]
    },
    {
      "cell_type": "code",
      "execution_count": 21,
      "metadata": {
        "id": "KEF0VFQ657bC"
      },
      "outputs": [],
      "source": [
        "myint1 = 5  # An integer\n",
        "myint2 = -42 # Another integer\n",
        "\n",
        "myfloat1 = 3.14   # A float\n",
        "myfloat2 = -0.007 # Another float"
      ]
    },
    {
      "cell_type": "markdown",
      "metadata": {
        "id": "z2DxasQw57bC"
      },
      "source": [
        "### String\n",
        "\n",
        "Strings are sequences of characters, enclosed in single or double quotes."
      ]
    },
    {
      "cell_type": "code",
      "execution_count": 22,
      "metadata": {
        "id": "9D1qNzQV57bC"
      },
      "outputs": [],
      "source": [
        "mystring1 = 'Hello, World!' # A string using single quotes\n",
        "mystring2 = \"Hello, World!\" # A string using double quotes"
      ]
    },
    {
      "cell_type": "markdown",
      "metadata": {
        "id": "yOi31o7o57bD"
      },
      "source": [
        "### Boolean\n",
        "\n",
        "A binary variable, having two possible values called `True` and `False`.\n"
      ]
    },
    {
      "cell_type": "code",
      "execution_count": 23,
      "metadata": {
        "id": "EbUEvszf57bD"
      },
      "outputs": [],
      "source": [
        "x = True  # A boolean with the value True\n",
        "y = False # A boolean with the value False"
      ]
    },
    {
      "cell_type": "markdown",
      "metadata": {
        "id": "LriMkUiL57bD"
      },
      "source": [
        "## Variables and value assignment"
      ]
    },
    {
      "cell_type": "markdown",
      "metadata": {
        "id": "NeiUp57k57bD"
      },
      "source": [
        "Variable names in Python should start with a letter or an underscore (_) and can be followed by any combination of letters, numbers, or underscores. They are case-sensitive, so `var1` and `Var1` are different variables. Assigning a value to a variable is done using the assignment operator (`=`)."
      ]
    },
    {
      "cell_type": "code",
      "execution_count": 24,
      "metadata": {
        "id": "CBEzV4Nj57bE"
      },
      "outputs": [],
      "source": [
        "# Assigning an integer value to a variable\n",
        "x = 10\n",
        "\n",
        "# Assigning a float value to a variable\n",
        "y = 5.5\n",
        "\n",
        "# Assigning a string value to a variable\n",
        "name = \"John Doe\"\n",
        "\n",
        "# Assigning a boolean value to a variable\n",
        "is_active = True"
      ]
    },
    {
      "cell_type": "markdown",
      "metadata": {
        "id": "C6gFuNEV57bE"
      },
      "source": [
        "Assignments can be done on more than one variable \"simultaneously\" on the same line, and you can assign the same value to multiple variables"
      ]
    },
    {
      "cell_type": "code",
      "execution_count": 25,
      "metadata": {
        "id": "TEaXk2vg57bE"
      },
      "outputs": [],
      "source": [
        "# assign values to multiple variables\n",
        "a, b, c = 1, 2, 3\n",
        "\n",
        "# assign the same value to multiple variables\n",
        "x = y = z = 8"
      ]
    },
    {
      "cell_type": "markdown",
      "metadata": {
        "id": "jxijsCb757bF"
      },
      "source": [
        "## Mathematical and comparison operations"
      ]
    },
    {
      "cell_type": "markdown",
      "metadata": {
        "id": "ntZ9HDb357bF"
      },
      "source": [
        "### Mathematical Operations"
      ]
    },
    {
      "cell_type": "code",
      "execution_count": 26,
      "metadata": {
        "id": "-giTN0-p57bF"
      },
      "outputs": [],
      "source": [
        "# Addition (+)\n",
        "a = 5 + 3 # a will be 8\n",
        "\n",
        "# Subtraction (-)\n",
        "b = 5 - 3 # b will be 2\n",
        "\n",
        "# Multiplication (*)\n",
        "c = 5 * 3 # c will be 15\n",
        "\n",
        "# Division (/)\n",
        "d = 15 / 3 # d will be 5.0\n",
        "\n",
        "# Modulus (%)\n",
        "e = 7 % 3 # e will be 1\n",
        "\n",
        "# Exponentiation (**)\n",
        "f = 2 ** 3 # f will be 8\n",
        "\n",
        "# Floor Division (//)\n",
        "g = 7 // 3 # g will be 2"
      ]
    },
    {
      "cell_type": "markdown",
      "metadata": {
        "id": "hs9CiNC957bF"
      },
      "source": [
        "### Comparison Operations"
      ]
    },
    {
      "cell_type": "code",
      "execution_count": 27,
      "metadata": {
        "id": "SlTo3Rss57bG"
      },
      "outputs": [],
      "source": [
        "# Equal to (==)\n",
        "result = (5 == 3) # result will be False\n",
        "\n",
        "# Not equal to (!=)\n",
        "result = (5 != 3) # result will be True\n",
        "\n",
        "# Greater than (>)\n",
        "result = (5 > 3) # result will be True\n",
        "\n",
        "# Less than (<)\n",
        "result = (5 < 3) # result will be False\n",
        "\n",
        "# Greater than or equal to (>=)\n",
        "result = (5 >= 3) # result will be True\n",
        "\n",
        "# Less than or equal to (<=)\n",
        "result = (5 <= 3) # result will be False"
      ]
    },
    {
      "cell_type": "markdown",
      "metadata": {
        "id": "Rf99-SNv57bG"
      },
      "source": [
        "## Logical operations\n",
        "\n",
        "In Python, you can perform logical operations using the following logical operators: `and`, `or`, and `not`. They are used to combine or modify boolean values (`True` and `False`)."
      ]
    },
    {
      "cell_type": "markdown",
      "metadata": {
        "id": "OYlmx5pN57bG"
      },
      "source": [
        "### `and`\n",
        "\n",
        "Returns `True` if **both** operands are `True`, otherwise returns `False`."
      ]
    },
    {
      "cell_type": "code",
      "execution_count": 28,
      "metadata": {
        "id": "gfZyuhew57bG"
      },
      "outputs": [],
      "source": [
        "x = True and False # x will be False\n",
        "y = True and True  # y will be True"
      ]
    },
    {
      "cell_type": "markdown",
      "metadata": {
        "id": "l9aaHpTt57bH"
      },
      "source": [
        "### `or`\n",
        "\n",
        "Returns `True` if **at least one** operand is `True`, otherwise returns `False`."
      ]
    },
    {
      "cell_type": "code",
      "execution_count": 29,
      "metadata": {
        "id": "YPJKwN_z57bH"
      },
      "outputs": [],
      "source": [
        "x = True or False # x will be True\n",
        "y = False or False # y will be False"
      ]
    },
    {
      "cell_type": "markdown",
      "metadata": {
        "id": "-U6gI2N657bI"
      },
      "source": [
        "### `not`\n",
        "\n",
        "Returns `True` if the operand is `False`, and `False` if the operand is `True`."
      ]
    },
    {
      "cell_type": "code",
      "execution_count": 30,
      "metadata": {
        "id": "isCXRg8G57bI"
      },
      "outputs": [],
      "source": [
        "x = not True  # x will be False\n",
        "y = not False # y will be True"
      ]
    },
    {
      "cell_type": "markdown",
      "metadata": {
        "id": "bpaqs-bB57bJ"
      },
      "source": [
        "You can combine multiple logical operators and use parentheses to group conditions and control the order of evaluation."
      ]
    },
    {
      "cell_type": "code",
      "execution_count": 31,
      "metadata": {
        "id": "1kZcxBUp57bJ"
      },
      "outputs": [],
      "source": [
        "a = 5\n",
        "b = 3\n",
        "c = 2\n",
        "\n",
        "result = (a > b) and (c < b) # result will be True"
      ]
    },
    {
      "cell_type": "markdown",
      "metadata": {
        "id": "mPAXkViB57bK"
      },
      "source": [
        "In this example, (a > b) is True, (c < b) is True, and as both conditions are True, the logical and operation returns True."
      ]
    },
    {
      "cell_type": "markdown",
      "metadata": {
        "id": "k3hAFd8a57bK"
      },
      "source": [
        "## Exercise Python Basics"
      ]
    },
    {
      "cell_type": "code",
      "execution_count": 32,
      "metadata": {
        "colab": {
          "base_uri": "https://localhost:8080/"
        },
        "id": "FwHtWBJ857bK",
        "outputId": "99e44f10-3324-440d-ce3e-bd4916513350"
      },
      "outputs": [
        {
          "output_type": "stream",
          "name": "stdout",
          "text": [
            "Collecting rggrader\n",
            "  Downloading rggrader-0.1.1-py3-none-any.whl (1.7 kB)\n",
            "Requirement already satisfied: requests in /usr/local/lib/python3.10/dist-packages (from rggrader) (2.31.0)\n",
            "Requirement already satisfied: charset-normalizer<4,>=2 in /usr/local/lib/python3.10/dist-packages (from requests->rggrader) (3.2.0)\n",
            "Requirement already satisfied: idna<4,>=2.5 in /usr/local/lib/python3.10/dist-packages (from requests->rggrader) (3.4)\n",
            "Requirement already satisfied: urllib3<3,>=1.21.1 in /usr/local/lib/python3.10/dist-packages (from requests->rggrader) (2.0.4)\n",
            "Requirement already satisfied: certifi>=2017.4.17 in /usr/local/lib/python3.10/dist-packages (from requests->rggrader) (2023.7.22)\n",
            "Installing collected packages: rggrader\n",
            "Successfully installed rggrader-0.1.1\n"
          ]
        }
      ],
      "source": [
        "!pip install rggrader"
      ]
    },
    {
      "cell_type": "code",
      "execution_count": 33,
      "metadata": {
        "id": "7SS0ThBL57bL"
      },
      "outputs": [],
      "source": [
        "# @title #### Student Identity\n",
        "student_id = \"REA3X33Z\" # @param {type:\"string\"}\n",
        "name = \"Roby Attoillah\" # @param {type:\"string\"}"
      ]
    },
    {
      "cell_type": "code",
      "execution_count": 38,
      "metadata": {
        "id": "CHJLgXiP57bL",
        "outputId": "caf178a1-e21c-446c-cb0a-0e45675e1cbe",
        "colab": {
          "base_uri": "https://localhost:8080/",
          "height": 53
        }
      },
      "outputs": [
        {
          "output_type": "stream",
          "name": "stdout",
          "text": [
            "78.53981633974483\n"
          ]
        },
        {
          "output_type": "execute_result",
          "data": {
            "text/plain": [
              "'Assignment successfully submitted'"
            ],
            "application/vnd.google.colaboratory.intrinsic+json": {
              "type": "string"
            }
          },
          "metadata": {},
          "execution_count": 38
        }
      ],
      "source": [
        "# @title #### 00. Area of a circle\n",
        "from rggrader import submit\n",
        "import math\n",
        "\n",
        "r = 5\n",
        "\n",
        "# TODO:\n",
        "# Compute the area of a circle with radius r.\n",
        "# Store the result in the 'area' variable.\n",
        "area = math.pi * r ** 2\n",
        "print(area)\n",
        "\n",
        "# Submit Method\n",
        "assignment_id = \"00_python-basics\"\n",
        "question_id = \"00_area-of-circle\"\n",
        "submit(student_id, name, assignment_id, str(area), question_id)"
      ]
    },
    {
      "cell_type": "code",
      "source": [],
      "metadata": {
        "id": "Qh3XD9kJb_Ab"
      },
      "execution_count": null,
      "outputs": []
    }
  ],
  "metadata": {
    "celltoolbar": "Slideshow",
    "kernelspec": {
      "display_name": "Python 3 (ipykernel)",
      "language": "python",
      "name": "python3"
    },
    "language_info": {
      "codemirror_mode": {
        "name": "ipython",
        "version": 3
      },
      "file_extension": ".py",
      "mimetype": "text/x-python",
      "name": "python",
      "nbconvert_exporter": "python",
      "pygments_lexer": "ipython3",
      "version": "3.11.3"
    },
    "colab": {
      "provenance": [],
      "include_colab_link": true
    }
  },
  "nbformat": 4,
  "nbformat_minor": 0
}