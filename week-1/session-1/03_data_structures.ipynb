{
  "cells": [
    {
      "cell_type": "markdown",
      "metadata": {
        "colab_type": "text",
        "id": "view-in-github"
      },
      "source": [
        "<a href=\"https://colab.research.google.com/github/byrocuy/REA-AI_Mastery/blob/main/week-1/session-1/03_data_structures.ipynb\" target=\"_parent\"><img src=\"https://colab.research.google.com/assets/colab-badge.svg\" alt=\"Open In Colab\"/></a>"
      ]
    },
    {
      "cell_type": "markdown",
      "metadata": {
        "id": "cBoFdncXwUDt"
      },
      "source": [
        "# Data Structures\n",
        "\n",
        "Data structures are essential for organizing, managing, and storing data in a program. Python provides built-in data structures like Lists, Tuples, Sets, and Dictionaries that offer different functionalities and use cases. For more information on Python data structures and their methods, you can visit [learnpython](www.learnpython.org)."
      ]
    },
    {
      "cell_type": "markdown",
      "metadata": {
        "id": "oV2wilrwwUD1"
      },
      "source": [
        "## List\n",
        "\n",
        "- Ordering: Lists are ordered collections.\n",
        "- Mutability: Lists are mutable; they can be modified after creation.\n",
        "- Duplicates: Lists allow duplicate elements.\n",
        "- Syntax: Lists are created using square brackets `[]`.\n",
        "\n",
        "A common use case for lists is storing and accessing a collection of items in a specific order."
      ]
    },
    {
      "cell_type": "code",
      "execution_count": null,
      "metadata": {
        "id": "tpk3Dg5IwUD3"
      },
      "outputs": [],
      "source": [
        "# Creating a list of student names\n",
        "student_names = [\"Alice\", \"Bob\", \"Charlie\", \"David\", \"Charlie\"]\n",
        "\n",
        "# Adding a student to the list\n",
        "student_names.append(\"Eve\")\n",
        "\n",
        "# Removing a student from the list\n",
        "student_names.remove(\"Bob\")\n",
        "\n",
        "# Iterating through the list of student names\n",
        "for name in student_names:\n",
        "    print(name)"
      ]
    },
    {
      "cell_type": "markdown",
      "metadata": {
        "id": "I64f1Z-GwUD6"
      },
      "source": [
        "Operations on lists:\n",
        "\n",
        "- Accessing elements: `student_names[1]` returns `\"Bob\"`.\n",
        "- Modifying elements: `student_names[0] = \"Bryan\"` changes the first element to `Bryan`.\n",
        "- Adding elements: `student_names.append(\"Eric\")` adds `\"Eric\"` to the end of the list.\n",
        "- Removing elements: `student_names.remove(\"Charlie\")` removes the first occurrence of `\"Charlie\"` from the list."
      ]
    },
    {
      "cell_type": "markdown",
      "metadata": {
        "id": "oN5r9BxjwUD8"
      },
      "source": [
        "## Tuples\n",
        "\n",
        "- Ordering: Tuples are ordered collections.\n",
        "- Mutability: Tuples are immutable; they cannot be modified after creation.\n",
        "- Duplicates: Tuples allow duplicate elements.\n",
        "- Syntax: Tuples are created using round brackets `()`.\n",
        "\n",
        "Tuples are useful when you have a fixed collection of items that should not change throughout the program's execution."
      ]
    },
    {
      "cell_type": "code",
      "execution_count": null,
      "metadata": {
        "id": "ITNpwKIGwUD-"
      },
      "outputs": [],
      "source": [
        "# Defining coordinates as a tuple\n",
        "coordinates = (12.34, 56.78)\n",
        "\n",
        "# Accessing the longitude and latitude\n",
        "longitude, latitude = coordinates\n",
        "\n",
        "# Tuples can be used as keys in dictionaries\n",
        "capital_cities = {(\"United States\", \"California\"): \"Sacramento\", (\"France\", \"Île-de-France\"): \"Paris\"}\n",
        "\n",
        "# Accessing the capital city of California, United States\n",
        "capital = capital_cities[(\"United States\", \"California\")]\n",
        "print(capital)"
      ]
    },
    {
      "cell_type": "markdown",
      "metadata": {
        "id": "6jp4Zo-9wUD_"
      },
      "source": [
        "## Sets\n",
        "\n",
        "- Ordering: Sets are unordered collections.\n",
        "- Mutability: Sets are mutable; they can be modified after creation.\n",
        "- Duplicates: Sets do not allow duplicate elements.\n",
        "- Syntax: Sets are created using curly brackets `{}`.\n",
        "\n",
        "Sets are useful for efficiently storing unique values and performing set operations."
      ]
    },
    {
      "cell_type": "code",
      "execution_count": null,
      "metadata": {
        "id": "Zvb0h8nEwUEA"
      },
      "outputs": [],
      "source": [
        "# Creating sets of unique hobbies for two people\n",
        "hobbies_alice = {\"reading\", \"hiking\", \"cooking\"}\n",
        "hobbies_bob = {\"cooking\", \"painting\", \"cycling\"}\n",
        "\n",
        "# Finding common hobbies\n",
        "common_hobbies = hobbies_alice.intersection(hobbies_bob)\n",
        "print(\"Common hobbies:\", common_hobbies)\n",
        "\n",
        "# Finding the union of hobbies\n",
        "all_hobbies = hobbies_alice.union(hobbies_bob)\n",
        "print(\"All hobbies:\", all_hobbies)"
      ]
    },
    {
      "cell_type": "markdown",
      "metadata": {
        "id": "3imoCxWhwUEC"
      },
      "source": [
        "Operations on sets:\n",
        "\n",
        "- Adding elements: `hobbies_alice.add(\"riding\")` adds `\"riding\"` to the set.\n",
        "- Removing elements: `hobbies_alice.remove(\"hiking\")` removes `\"hiking\"` from the set.\n",
        "- Unions and intersections: `hobbies_alice.union(another_set)` returns a new set containing elements from both sets, while `hobbies_alice.intersection(another_set)` returns a new set containing common elements."
      ]
    },
    {
      "cell_type": "markdown",
      "metadata": {
        "id": "0XMD5fOywUEE"
      },
      "source": [
        "## Dictionaries\n",
        "\n",
        "- Ordering: Dictionaries are unordered collections.\n",
        "- Mutability: Dictionaries are mutable; they can be modified after creation.\n",
        "- Duplicates: Dictionaries do not allow duplicate keys, but values can be duplicated.\n",
        "- Structure: Dictionaries consist of key-value pairs.\n",
        "- Syntax: Dictionaries are created using curly brackets {} with key-value pairs separated by colons.\n",
        "\n",
        "Dictionaries are useful for storing key-value pairs and efficiently accessing values using their keys."
      ]
    },
    {
      "cell_type": "code",
      "execution_count": null,
      "metadata": {
        "id": "Ly27u9ZewUEF"
      },
      "outputs": [],
      "source": [
        "# Creating a dictionary that maps student names to their ages\n",
        "student_ages = {\"Alice\": 20, \"Bob\": 22, \"Charlie\": 21}\n",
        "\n",
        "# Adding a new student to the dictionary\n",
        "student_ages[\"David\"] = 23\n",
        "\n",
        "# Updating a student's age\n",
        "student_ages[\"Alice\"] = 21\n",
        "\n",
        "# Iterating through the dictionary and printing student names and ages\n",
        "for name, age in student_ages.items():\n",
        "    print(name, \"is\", age, \"years old\")"
      ]
    },
    {
      "cell_type": "markdown",
      "metadata": {
        "id": "7Qf-zgTYwUEG"
      },
      "source": [
        "Operations on dictionaries:\n",
        "\n",
        "- Accessing values: `student_ages[\"Alice\"]` returns `20`.\n",
        "- Modifying values: `student_ages[\"Alice\"] = 21` changes the value of `\"Alice\"` to `21`.\n",
        "- Adding key-value pairs: `student_ages[\"Fulan\"] = 20` adds a new key-value pair to the dictionary.\n",
        "- Removing key-value pairs: `student_ages.pop(\"Fulan\")` removes the key-value pair with the key `\"Fulan\"`."
      ]
    },
    {
      "cell_type": "markdown",
      "metadata": {
        "id": "7KpuOglfwUEH"
      },
      "source": [
        "## Exercise Data Structures"
      ]
    },
    {
      "cell_type": "code",
      "execution_count": null,
      "metadata": {
        "id": "K39upMGAwUEJ"
      },
      "outputs": [],
      "source": [
        "!pip install rggrader"
      ]
    },
    {
      "cell_type": "code",
      "execution_count": 1,
      "metadata": {
        "id": "N78M3snvwUEK"
      },
      "outputs": [],
      "source": [
        "# @title #### Student Identity\n",
        "student_id = \"REA3X33Z\" # @param {type:\"string\"}\n",
        "name = \"Roby Attoillah\" # @param {type:\"string\"}"
      ]
    },
    {
      "cell_type": "code",
      "execution_count": 3,
      "metadata": {
        "id": "GLpIqJYOwUEL"
      },
      "outputs": [
        {
          "name": "stdout",
          "output_type": "stream",
          "text": [
            "The final fruits list is ['Apple', 'Cherry', 'Dragonfruit', 'Elderberry']\n"
          ]
        },
        {
          "data": {
            "text/plain": [
              "'Assignment successfully submitted'"
            ]
          },
          "execution_count": 3,
          "metadata": {},
          "output_type": "execute_result"
        }
      ],
      "source": [
        "# @title #### 00. Fun with Fruits\n",
        "from rggrader import submit\n",
        "\n",
        "# TODO: Create a list 'fruits' that contains \"Apple\", \"Banana\", and \"Cherry\".\n",
        "# Then remove \"Banana\" from the 'fruits' list and append \"Dragonfruit\" and \"Elderberry\".\n",
        "fruits = [\"Apple\", \"Banana\", \"Cherry\"]\n",
        "fruits.remove(\"Banana\")\n",
        "fruits.extend([\"Dragonfruit\", \"Elderberry\"])\n",
        "\n",
        "# Put your code here:\n",
        "\n",
        "\n",
        "# ---- End of your code ----\n",
        "\n",
        "print(f\"The final fruits list is {fruits}\")\n",
        "\n",
        "# Submit Method\n",
        "assignment_id = \"03-data-structures\"\n",
        "question_id = \"00_fun_with_fruits\"\n",
        "submit(student_id, name, assignment_id, \", \".join(fruits), question_id)\n",
        "\n",
        "# Example:\n",
        "# List: [\"Peach\", \"Pear\", \"Plum\"]\n",
        "# Remove: \"Pear\"\n",
        "# Append: [\"Grape\", \"Guava\"]\n",
        "# Output: ['Peach', 'Plum', 'Grape', 'Guava']"
      ]
    },
    {
      "cell_type": "code",
      "execution_count": 6,
      "metadata": {
        "id": "utgjOEmXwUEN"
      },
      "outputs": [
        {
          "name": "stdout",
          "output_type": "stream",
          "text": [
            "50.854.35\n",
            "The coordinates for Brussels are (50.85, 4.35)\n"
          ]
        },
        {
          "data": {
            "text/plain": [
              "'Assignment successfully submitted'"
            ]
          },
          "execution_count": 6,
          "metadata": {},
          "output_type": "execute_result"
        }
      ],
      "source": [
        "# @title #### 01. Trip to Brussels\n",
        "from rggrader import submit\n",
        "\n",
        "# TODO: You're planning a trip to Brussels! Create a tuple 'coordinates' that represents a longitude\n",
        "#       of 50.85 and a latitude of 4.35 (which is the coordinates of Brussels).\n",
        "\n",
        "\n",
        "# Put your code here:\n",
        "coordinates = (50.85, 4.35)\n",
        "print(\"\".join(map(str, coordinates)))\n",
        "\n",
        "# ---- End of your code ----\n",
        "\n",
        "print(f\"The coordinates for Brussels are {coordinates}\")\n",
        "\n",
        "# Submit Method\n",
        "assignment_id = \"03-data-structures\"\n",
        "question_id = \"01_trip_to_brussels\"\n",
        "submit(student_id, name, assignment_id, \", \".join(map(str, coordinates)), question_id)\n",
        "\n",
        "# Example:\n",
        "# Longitude: 60.17\n",
        "# Latitude: 24.94\n",
        "# Output: (60.17, 24.94)"
      ]
    },
    {
      "cell_type": "code",
      "execution_count": 8,
      "metadata": {
        "id": "YMjkY1YfwUEO"
      },
      "outputs": [
        {
          "name": "stdout",
          "output_type": "stream",
          "text": [
            "The final ages dictionary is {'Alice': 26, 'Bob': 30, 'Charlie': 35, 'David': 40}\n"
          ]
        },
        {
          "data": {
            "text/plain": [
              "'Assignment successfully submitted'"
            ]
          },
          "execution_count": 8,
          "metadata": {},
          "output_type": "execute_result"
        }
      ],
      "source": [
        "# @title #### 02. Birthday Party\n",
        "from rggrader import submit\n",
        "\n",
        "# TODO: You're throwing a birthday party! Create a dictionary 'ages' that contains key-value pairs of your friends' names\n",
        "#       and their ages: \"Alice\": 25, \"Bob\": 30, \"Charlie\": 35.\n",
        "# Alice just had her birthday! So, change the age of \"Alice\" to 26. Then, add your friend \"David\" who is 40 to the party.\n",
        "\n",
        "\n",
        "# Put your code here:\n",
        "ages = {\"Alice\": 25, \"Bob\": 30, \"Charlie\": 35}\n",
        "ages[\"Alice\"] = 26\n",
        "ages[\"David\"] = 40\n",
        "\n",
        "\n",
        "# ---- End of your code ----\n",
        "\n",
        "print(f\"The final ages dictionary is {ages}\")\n",
        "\n",
        "# Submit Method\n",
        "assignment_id = \"03-data-structures\"\n",
        "question_id = \"02_birthday_party\"\n",
        "submit(student_id, name, assignment_id, str(ages), question_id)\n",
        "\n",
        "# Example:\n",
        "# Dictionary: {\"John\": 28, \"Linda\": 25, \"Peter\": 30}\n",
        "# Change Age: John turns 29\n",
        "# Add New Friend: {\"Mary\": 32}\n",
        "# Output: {\"John\": 29, \"Linda\": 25, \"Peter\": 30, \"Mary\": 32}"
      ]
    },
    {
      "cell_type": "code",
      "execution_count": 10,
      "metadata": {
        "id": "IEhFyx12wUEP"
      },
      "outputs": [
        {
          "name": "stdout",
          "output_type": "stream",
          "text": [
            "The count of odd numbers is 5 and the count of even numbers is 4\n"
          ]
        },
        {
          "data": {
            "text/plain": [
              "'Assignment successfully submitted'"
            ]
          },
          "execution_count": 10,
          "metadata": {},
          "output_type": "execute_result"
        }
      ],
      "source": [
        "# @title #### 03. Count Odd and Even\n",
        "from rggrader import submit\n",
        "\n",
        "# TODO: Create a list 'series' that contains the numbers 1, 2, 3, 4, 5, 6, 7, 8, 9.\n",
        "# Write a program to count the number of odd and even numbers from a series of numbers.\n",
        "\n",
        "series = [1, 2, 3, 4, 5, 6, 7, 8, 9]\n",
        "odd_count = 0\n",
        "even_count = 0\n",
        "\n",
        "# Put your code here:\n",
        "for i in series:\n",
        "    if i % 2 == 0:\n",
        "        even_count += 1\n",
        "    else:\n",
        "        odd_count += 1\n",
        "\n",
        "# ---- End of your code ----\n",
        "\n",
        "print(f\"The count of odd numbers is {odd_count} and the count of even numbers is {even_count}\")\n",
        "\n",
        "# Submit Method\n",
        "assignment_id = \"01-control-structures\"\n",
        "question_id = \"03_count-odd-even\"\n",
        "submit(student_id, name, assignment_id, str(odd_count) + ' ' + str(even_count), question_id)\n",
        "\n",
        "# Example:\n",
        "# Series: [2, 4, 6, 7, 9, 11, 13, 15]\n",
        "# Output: The count of odd numbers is 5 and the count of even numbers is 3"
      ]
    },
    {
      "cell_type": "code",
      "execution_count": 13,
      "metadata": {
        "id": "mAp-l-YCwUEQ"
      },
      "outputs": [
        {
          "name": "stdout",
          "output_type": "stream",
          "text": [
            "The final fruits set is {'Elderberry', 'Dragonfruit', 'Cherry', 'Apple'}\n"
          ]
        },
        {
          "data": {
            "text/plain": [
              "'Assignment successfully submitted'"
            ]
          },
          "execution_count": 13,
          "metadata": {},
          "output_type": "execute_result"
        }
      ],
      "source": [
        "# @title #### 04. Fun with Sets\n",
        "from rggrader import submit\n",
        "\n",
        "# TODO: Create a set 'fruits' that contains \"Apple\", \"Banana\", and \"Cherry\".\n",
        "# Then remove \"Banana\" from the 'fruits' set and add \"Dragonfruit\" and \"Elderberry\".\n",
        "\n",
        "\n",
        "# Put your code here:\n",
        "fruits = set([\"Apple\", \"Banana\", \"Cherry\"])\n",
        "fruits.remove(\"Banana\")\n",
        "fruits.add(\"Dragonfruit\")\n",
        "fruits.add(\"Elderberry\")\n",
        "\n",
        "# ---- End of your code ----\n",
        "\n",
        "print(f\"The final fruits set is {fruits}\")\n",
        "\n",
        "# Submit Method\n",
        "assignment_id = \"03-data-structures\"\n",
        "question_id = \"04_fun_with_sets\"\n",
        "submit(student_id, name, assignment_id, \", \".join(fruits), question_id)\n",
        "\n",
        "# Note: set is an unordered collection of items, so the output can be in any order.\n",
        "\n",
        "# Example:\n",
        "# Set: {\"Peach\", \"Pear\", \"Plum\"}\n",
        "# Remove: \"Pear\"\n",
        "# Add: {\"Grape\", \"Guava\"}\n",
        "# Output: {\"Peach\", \"Plum\", \"Grape\", \"Guava\"}"
      ]
    },
    {
      "cell_type": "code",
      "execution_count": 18,
      "metadata": {
        "id": "nLoVfq-FwUEQ"
      },
      "outputs": [
        {
          "name": "stdout",
          "output_type": "stream",
          "text": [
            "The final city_coordinates dictionary is {'CityA': (10.0, 20.0), 'CityB': (30.0, 40.0), 'CityC': (50.0, 60.0)}\n"
          ]
        },
        {
          "data": {
            "text/plain": [
              "'Assignment successfully submitted'"
            ]
          },
          "execution_count": 18,
          "metadata": {},
          "output_type": "execute_result"
        }
      ],
      "source": [
        "# @title #### 05. Pair Coordinates\n",
        "from rggrader import submit\n",
        "\n",
        "# TODO: You're given two lists of cities and their coordinates.\n",
        "# cities = ['CityA', 'CityB', 'CityC']\n",
        "# coordinates = [(10.00, 20.00), (30.00, 40.00), (50.00, 60.00)]\n",
        "# Create a dictionary 'city_coordinates' that contains cities as keys and their coordinates as values.\n",
        "\n",
        "cities = ['CityA', 'CityB', 'CityC']\n",
        "coordinates = [(10.00, 20.00), (30.00, 40.00), (50.00, 60.00)]\n",
        "city_coordinates = {}\n",
        "\n",
        "# Put your code here:\n",
        "city_coordinates = dict(zip(cities, coordinates))\n",
        "\n",
        "\n",
        "\n",
        "# ---- End of your code ----\n",
        "\n",
        "print(f\"The final city_coordinates dictionary is {city_coordinates}\")\n",
        "\n",
        "# Submit Method\n",
        "assignment_id = \"03-data-structures\"\n",
        "question_id = \"05_pair_coordinates\"\n",
        "submit(student_id, name, assignment_id, str(city_coordinates), question_id)\n",
        "\n",
        "# Example:\n",
        "# Cities: ['Helsinki', 'Oslo', 'Copenhagen']\n",
        "# Coordinates: [(60.17, 24.94), (59.91, 10.75), (55.67, 12.57)]\n",
        "# Output: {'Helsinki': (60.17, 24.94), 'Oslo': (59.91, 10.75), 'Copenhagen': (55.67, 12.57)}"
      ]
    },
    {
      "cell_type": "code",
      "execution_count": 5,
      "metadata": {},
      "outputs": [
        {
          "data": {
            "text/plain": [
              "{1: 'A', 2: 'B', 3: 'C'}"
            ]
          },
          "execution_count": 5,
          "metadata": {},
          "output_type": "execute_result"
        }
      ],
      "source": [
        "a = [1, 2, 3]\n",
        "b = ['A', 'B', 'C']\n",
        "dict(zip(a, b))"
      ]
    },
    {
      "cell_type": "code",
      "execution_count": null,
      "metadata": {},
      "outputs": [],
      "source": []
    }
  ],
  "metadata": {
    "colab": {
      "include_colab_link": true,
      "provenance": []
    },
    "kernelspec": {
      "display_name": "Python 3 (ipykernel)",
      "language": "python",
      "name": "python3"
    },
    "language_info": {
      "codemirror_mode": {
        "name": "ipython",
        "version": 3
      },
      "file_extension": ".py",
      "mimetype": "text/x-python",
      "name": "python",
      "nbconvert_exporter": "python",
      "pygments_lexer": "ipython3",
      "version": "3.8.5"
    }
  },
  "nbformat": 4,
  "nbformat_minor": 0
}
