{
  "cells": [
    {
      "cell_type": "markdown",
      "metadata": {
        "id": "EfJxlPtrVVsC"
      },
      "source": [
        "# Data Structures\n",
        "\n",
        "Data structures are essential for organizing, managing, and storing data in a program. Python provides built-in data structures like Lists, Tuples, Sets, and Dictionaries that offer different functionalities and use cases. For more information on Python data structures and their methods, you can visit [learnpython](www.learnpython.org)."
      ]
    },
    {
      "cell_type": "markdown",
      "metadata": {
        "id": "CpxTCrH0VVsw"
      },
      "source": [
        "## List\n",
        "\n",
        "- Ordering: Lists are ordered collections.\n",
        "- Mutability: Lists are mutable; they can be modified after creation.\n",
        "- Duplicates: Lists allow duplicate elements.\n",
        "- Syntax: Lists are created using square brackets `[]`.\n",
        "\n",
        "A common use case for lists is storing and accessing a collection of items in a specific order."
      ]
    },
    {
      "cell_type": "code",
      "execution_count": null,
      "metadata": {
        "id": "G0Y7HUOmVVs0"
      },
      "outputs": [],
      "source": [
        "# Creating a list of student names\n",
        "student_names = [\"Alice\", \"Bob\", \"Charlie\", \"David\", \"Charlie\"]\n",
        "\n",
        "# Adding a student to the list\n",
        "student_names.append(\"Eve\")\n",
        "\n",
        "# Removing a student from the list\n",
        "student_names.remove(\"Bob\")\n",
        "\n",
        "# Iterating through the list of student names\n",
        "for name in student_names:\n",
        "    print(name)"
      ]
    },
    {
      "cell_type": "markdown",
      "metadata": {
        "id": "kzi3oEv9VVs5"
      },
      "source": [
        "Operations on lists:\n",
        "\n",
        "- Accessing elements: `student_names[1]` returns `\"Bob\"`.\n",
        "- Modifying elements: `student_names[0] = \"Bryan\"` changes the first element to `Bryan`.\n",
        "- Adding elements: `student_names.append(\"Eric\")` adds `\"Eric\"` to the end of the list.\n",
        "- Removing elements: `student_names.remove(\"Charlie\")` removes the first occurrence of `\"Charlie\"` from the list."
      ]
    },
    {
      "cell_type": "markdown",
      "metadata": {
        "id": "uPhp3gHHVVs_"
      },
      "source": [
        "## Tuples\n",
        "\n",
        "- Ordering: Tuples are ordered collections.\n",
        "- Mutability: Tuples are immutable; they cannot be modified after creation.\n",
        "- Duplicates: Tuples allow duplicate elements.\n",
        "- Syntax: Tuples are created using round brackets `()`.\n",
        "\n",
        "Tuples are useful when you have a fixed collection of items that should not change throughout the program's execution."
      ]
    },
    {
      "cell_type": "code",
      "execution_count": null,
      "metadata": {
        "id": "pxL4yrelVVtB"
      },
      "outputs": [],
      "source": [
        "# Defining coordinates as a tuple\n",
        "coordinates = (12.34, 56.78)\n",
        "\n",
        "# Accessing the longitude and latitude\n",
        "longitude, latitude = coordinates\n",
        "\n",
        "# Tuples can be used as keys in dictionaries\n",
        "capital_cities = {(\"United States\", \"California\"): \"Sacramento\", (\"France\", \"Île-de-France\"): \"Paris\"}\n",
        "\n",
        "# Accessing the capital city of California, United States\n",
        "capital = capital_cities[(\"United States\", \"California\")]\n",
        "print(capital)"
      ]
    },
    {
      "cell_type": "markdown",
      "metadata": {
        "id": "hjzLvEm7VVtH"
      },
      "source": [
        "## Sets\n",
        "\n",
        "- Ordering: Sets are unordered collections.\n",
        "- Mutability: Sets are mutable; they can be modified after creation.\n",
        "- Duplicates: Sets do not allow duplicate elements.\n",
        "- Syntax: Sets are created using curly brackets `{}`.\n",
        "\n",
        "Sets are useful for efficiently storing unique values and performing set operations."
      ]
    },
    {
      "cell_type": "code",
      "execution_count": null,
      "metadata": {
        "id": "0u2LDHThVVtI"
      },
      "outputs": [],
      "source": [
        "# Creating sets of unique hobbies for two people\n",
        "hobbies_alice = {\"reading\", \"hiking\", \"cooking\"}\n",
        "hobbies_bob = {\"cooking\", \"painting\", \"cycling\"}\n",
        "\n",
        "# Finding common hobbies\n",
        "common_hobbies = hobbies_alice.intersection(hobbies_bob)\n",
        "print(\"Common hobbies:\", common_hobbies)\n",
        "\n",
        "# Finding the union of hobbies\n",
        "all_hobbies = hobbies_alice.union(hobbies_bob)\n",
        "print(\"All hobbies:\", all_hobbies)"
      ]
    },
    {
      "cell_type": "markdown",
      "metadata": {
        "id": "1RUMInn0VVtL"
      },
      "source": [
        "Operations on sets:\n",
        "\n",
        "- Adding elements: `hobbies_alice.add(\"riding\")` adds `\"riding\"` to the set.\n",
        "- Removing elements: `hobbies_alice.remove(\"hiking\")` removes `\"hiking\"` from the set.\n",
        "- Unions and intersections: `hobbies_alice.union(another_set)` returns a new set containing elements from both sets, while `hobbies_alice.intersection(another_set)` returns a new set containing common elements."
      ]
    },
    {
      "cell_type": "markdown",
      "metadata": {
        "id": "CXp5f1yhVVtQ"
      },
      "source": [
        "## Dictionaries\n",
        "\n",
        "- Ordering: Dictionaries are unordered collections.\n",
        "- Mutability: Dictionaries are mutable; they can be modified after creation.\n",
        "- Duplicates: Dictionaries do not allow duplicate keys, but values can be duplicated.\n",
        "- Structure: Dictionaries consist of key-value pairs.\n",
        "- Syntax: Dictionaries are created using curly brackets {} with key-value pairs separated by colons.\n",
        "\n",
        "Dictionaries are useful for storing key-value pairs and efficiently accessing values using their keys."
      ]
    },
    {
      "cell_type": "code",
      "execution_count": null,
      "metadata": {
        "id": "c4biQogqVVtS"
      },
      "outputs": [],
      "source": [
        "# Creating a dictionary that maps student names to their ages\n",
        "student_ages = {\"Alice\": 20, \"Bob\": 22, \"Charlie\": 21}\n",
        "\n",
        "# Adding a new student to the dictionary\n",
        "student_ages[\"David\"] = 23\n",
        "\n",
        "# Updating a student's age\n",
        "student_ages[\"Alice\"] = 21\n",
        "\n",
        "# Iterating through the dictionary and printing student names and ages\n",
        "for name, age in student_ages.items():\n",
        "    print(name, \"is\", age, \"years old\")"
      ]
    },
    {
      "cell_type": "markdown",
      "metadata": {
        "id": "yMV40UyqVVtT"
      },
      "source": [
        "Operations on dictionaries:\n",
        "\n",
        "- Accessing values: `student_ages[\"Alice\"]` returns `20`.\n",
        "- Modifying values: `student_ages[\"Alice\"] = 21` changes the value of `\"Alice\"` to `21`.\n",
        "- Adding key-value pairs: `student_ages[\"Fulan\"] = 20` adds a new key-value pair to the dictionary.\n",
        "- Removing key-value pairs: `student_ages.pop(\"Fulan\")` removes the key-value pair with the key `\"Fulan\"`."
      ]
    },
    {
      "cell_type": "markdown",
      "metadata": {
        "id": "ODd0K8q4VVtU"
      },
      "source": [
        "## Exercise Data Structures"
      ]
    },
    {
      "cell_type": "code",
      "execution_count": null,
      "metadata": {
        "id": "shzROfV0VVtW"
      },
      "outputs": [],
      "source": [
        "!pip install rggrader"
      ]
    },
    {
      "cell_type": "code",
      "execution_count": null,
      "metadata": {
        "id": "XCvChoY_VVtY"
      },
      "outputs": [],
      "source": [
        "# @title #### Student Identity\n",
        "student_id = \"your student id\" # @param {type:\"string\"}\n",
        "name = \"your name\" # @param {type:\"string\"}"
      ]
    },
    {
      "cell_type": "code",
      "execution_count": 5,
      "metadata": {
        "id": "rUj6VlaiVVtb"
      },
      "outputs": [
        {
          "name": "stdout",
          "output_type": "stream",
          "text": [
            "['Apple', 'Cherry', 'Dragonfruit', 'Elderberry']\n"
          ]
        }
      ],
      "source": [
        "# @title #### 00. Fun with Fruits\n",
        "from rggrader import submit\n",
        "\n",
        "# TODO: Create a list 'fruits' that contains \"Apple\", \"Banana\", and \"Cherry\".\n",
        "# Then remove \"Banana\" from the 'fruits' list and append \"Dragonfruit\" and \"Elderberry\".\n",
        "fruits = ['Apple', 'Banana', 'Cherry']\n",
        "fruits.remove('Banana')\n",
        "fruits.append('Dragonfruit')\n",
        "fruits.append('Elderberry')\n",
        "print(fruits)\n",
        "\n",
        "# Submit Method\n",
        "assignment_id = \"03-data-structures\"\n",
        "question_id = \"00_fun_with_fruits\"\n",
        "# submit(student_id, name, assignment_id, \", \".join(fruits), question_id)"
      ]
    },
    {
      "cell_type": "code",
      "execution_count": 6,
      "metadata": {
        "id": "Zzwx_Ox3VVtb"
      },
      "outputs": [
        {
          "name": "stdout",
          "output_type": "stream",
          "text": [
            "50.85, 4.35\n"
          ]
        }
      ],
      "source": [
        "# @title #### 02. Trip to Brussels\n",
        "from rggrader import submit\n",
        "\n",
        "# TODO: You're planning a trip to Brussels! Create a tuple 'coordinates' that represents a longitude\n",
        "#       of 50.85 and a latitude of 4.35 (which is the coordinates of Brussels).\n",
        "coordinates = (50.85, 4.35)\n",
        "print(\", \".join(map(str, coordinates)))\n",
        "\n",
        "# Submit Method\n",
        "assignment_id = \"03-data-structures\"\n",
        "question_id = \"01_trip_to_brussels\"\n",
        "# submit(student_id, name, assignment_id, \", \".join(map(str, coordinates)), question_id)"
      ]
    },
    {
      "cell_type": "code",
      "execution_count": 7,
      "metadata": {
        "id": "DqlxIHMEVVtc"
      },
      "outputs": [
        {
          "name": "stdout",
          "output_type": "stream",
          "text": [
            "{'Alice': 26, 'Bob': 30, 'Charlie': 35, 'David': 40}\n"
          ]
        }
      ],
      "source": [
        "# @title #### 03. Birthday Party\n",
        "from rggrader import submit\n",
        "\n",
        "# TODO: You're throwing a birthday party! Create a dictionary 'ages' that contains key-value pairs of your friends' names\n",
        "#       and their ages: \"Alice\": 25, \"Bob\": 30, \"Charlie\": 35.\n",
        "# Alice just had her birthday! So, change the age of \"Alice\" to 26. Then, add your friend \"David\" who is 40 to the party.\n",
        "ages = {\"Alice\": 25, \"Bob\": 30, \"Charlie\": 35}\n",
        "ages[\"Alice\"] = 26\n",
        "ages[\"David\"] = 40\n",
        "print(ages)\n",
        "\n",
        "# Submit Method\n",
        "assignment_id = \"03-data-structures\"\n",
        "question_id = \"02_birthday_party\"\n",
        "# submit(student_id, name, assignment_id, str(ages), question_id)"
      ]
    },
    {
      "cell_type": "code",
      "execution_count": null,
      "metadata": {},
      "outputs": [],
      "source": []
    }
  ],
  "metadata": {
    "colab": {
      "provenance": []
    },
    "kernelspec": {
      "display_name": "Python 3 (ipykernel)",
      "language": "python",
      "name": "python3"
    },
    "language_info": {
      "codemirror_mode": {
        "name": "ipython",
        "version": 3
      },
      "file_extension": ".py",
      "mimetype": "text/x-python",
      "name": "python",
      "nbconvert_exporter": "python",
      "pygments_lexer": "ipython3",
      "version": "3.8.5"
    }
  },
  "nbformat": 4,
  "nbformat_minor": 0
}
